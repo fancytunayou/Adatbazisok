{
    "metadata": {
        "kernelspec": {
            "name": "SQL",
            "display_name": "SQL",
            "language": "sql"
        },
        "language_info": {
            "name": "sql",
            "version": ""
        }
    },
    "nbformat_minor": 2,
    "nbformat": 4,
    "cells": [
        {
            "cell_type": "markdown",
            "source": [
                "1\\. Listázzuk az adatbázisban lévőDVD-k minden adatát!"
            ],
            "metadata": {
                "azdata_cell_guid": "6aaf66e9-7444-4984-8713-089fff7d52dd"
            },
            "attachments": {}
        },
        {
            "cell_type": "code",
            "source": [
                "SELECT *\r\n",
                "FROM dvd"
            ],
            "metadata": {
                "azdata_cell_guid": "98aa548f-4241-42a5-9482-c922336e7c88",
                "language": "sql"
            },
            "outputs": [
                {
                    "output_type": "display_data",
                    "data": {
                        "text/html": "(318 rows affected)"
                    },
                    "metadata": {}
                },
                {
                    "output_type": "display_data",
                    "data": {
                        "text/html": "Total execution time: 00:00:00.192"
                    },
                    "metadata": {}
                },
                {
                    "output_type": "execute_result",
                    "metadata": {},
                    "execution_count": 5,
                    "data": {
                        "application/vnd.dataresource+json": {
                            "schema": {
                                "fields": [
                                    {
                                        "name": "ID"
                                    },
                                    {
                                        "name": "cim"
                                    },
                                    {
                                        "name": "stilus"
                                    },
                                    {
                                        "name": "szam"
                                    },
                                    {
                                        "name": "nettoar"
                                    },
                                    {
                                        "name": "lang"
                                    },
                                    {
                                        "name": "raktár készlet"
                                    }
                                ]
                            },
                            "data": [
                                {
                                    "ID": "1",
                                    "cim": "NULL",
                                    "stilus": "történelem",
                                    "szam": "12342",
                                    "nettoar": "3859",
                                    "lang": "1",
                                    "raktár készlet": "10"
                                },
                                {
                                    "ID": "2",
                                    "cim": "A II. világháború története (1999)",
                                    "stilus": "történelem",
                                    "szam": "7224",
                                    "nettoar": "4244",
                                    "lang": "1",
                                    "raktár készlet": "10"
                                },
                                {
                                    "ID": "3",
                                    "cim": "3D Dinosaur - adventure",
                                    "stilus": "történelem",
                                    "szam": "576",
                                    "nettoar": "5041",
                                    "lang": "2",
                                    "raktár készlet": "10"
                                },
                                {
                                    "ID": "4",
                                    "cim": "3D virtuális origami (2000)",
                                    "stilus": "játék",
                                    "szam": "14235-236",
                                    "nettoar": "5355",
                                    "lang": "1",
                                    "raktár készlet": "10"
                                },
                                {
                                    "ID": "5",
                                    "cim": "Az 1848-1849-iki szabadságharc története (2002)",
                                    "stilus": "történelem",
                                    "szam": "13962-963",
                                    "nettoar": "5700",
                                    "lang": "1",
                                    "raktár készlet": "8"
                                },
                                {
                                    "ID": "6",
                                    "cim": "Ablak zsiráf (1999)",
                                    "stilus": "ismeretterjesztő",
                                    "szam": "6405",
                                    "nettoar": "3540",
                                    "lang": "1",
                                    "raktár készlet": "10"
                                },
                                {
                                    "ID": "7",
                                    "cim": "Ady Endre összes művei (1999)",
                                    "stilus": "irodalom",
                                    "szam": "6334",
                                    "nettoar": "4241",
                                    "lang": "1",
                                    "raktár készlet": "10"
                                },
                                {
                                    "ID": "8",
                                    "cim": "Afrika",
                                    "stilus": "földrajz",
                                    "szam": "4248",
                                    "nettoar": "5318",
                                    "lang": "1",
                                    "raktár készlet": "10"
                                },
                                {
                                    "ID": "9",
                                    "cim": "Age of Empires (2000)",
                                    "stilus": "játék",
                                    "szam": "14242-244",
                                    "nettoar": "4482",
                                    "lang": "2",
                                    "raktár készlet": "10"
                                },
                                {
                                    "ID": "10",
                                    "cim": "Airport Inc.",
                                    "stilus": "játék (repülős)",
                                    "szam": "11026",
                                    "nettoar": "4311",
                                    "lang": "2",
                                    "raktár készlet": "10"
                                },
                                {
                                    "ID": "11",
                                    "cim": "American Rodeo : BullRider 2000 (2001)",
                                    "stilus": "játék (rodeó)",
                                    "szam": "10067",
                                    "nettoar": "5591",
                                    "lang": "2",
                                    "raktár készlet": "10"
                                },
                                {
                                    "ID": "12",
                                    "cim": "Angol : 8-10 éveseknek (2002)",
                                    "stilus": "nyelvtanító",
                                    "szam": "13293",
                                    "nettoar": "4853",
                                    "lang": "2",
                                    "raktár készlet": "10"
                                },
                                {
                                    "ID": "13",
                                    "cim": "Angol és német nyelvtani gyakorlatok (2002)",
                                    "stilus": "nyelvtanító",
                                    "szam": "13794",
                                    "nettoar": "4906",
                                    "lang": "6",
                                    "raktár készlet": "10"
                                },
                                {
                                    "ID": "14",
                                    "cim": "Angol szótanító CD-ROM",
                                    "stilus": "nyelvtanító",
                                    "szam": "1722",
                                    "nettoar": "4449",
                                    "lang": "2",
                                    "raktár készlet": "10"
                                },
                                {
                                    "ID": "15",
                                    "cim": "Angol szótanító CD-ROM",
                                    "stilus": "nyelvtanító",
                                    "szam": "4202",
                                    "nettoar": "4444",
                                    "lang": "2",
                                    "raktár készlet": "10"
                                },
                                {
                                    "ID": "16",
                                    "cim": "Angol szótár (1996)",
                                    "stilus": "szótár",
                                    "szam": "1993",
                                    "nettoar": "3509",
                                    "lang": "2",
                                    "raktár készlet": "10"
                                },
                                {
                                    "ID": "17",
                                    "cim": "Angol-magyar, Magyar-angol hangosszótár",
                                    "stilus": "szótár",
                                    "szam": "4724",
                                    "nettoar": "5151",
                                    "lang": "2",
                                    "raktár készlet": "10"
                                },
                                {
                                    "ID": "18",
                                    "cim": "Angol-magyar nagyszótár (Halász Előd)",
                                    "stilus": "szótár",
                                    "szam": "7284",
                                    "nettoar": "5638",
                                    "lang": "2",
                                    "raktár készlet": "10"
                                },
                                {
                                    "ID": "19",
                                    "cim": "Az áramvonalas fakanál",
                                    "stilus": "gasztronómia",
                                    "szam": "8500",
                                    "nettoar": "5706",
                                    "lang": "1",
                                    "raktár készlet": "10"
                                },
                                {
                                    "ID": "20",
                                    "cim": "Arany János: A bajusz (2002)",
                                    "stilus": "irodalom",
                                    "szam": "13424",
                                    "nettoar": "3391",
                                    "lang": "1",
                                    "raktár készlet": "10"
                                },
                                {
                                    "ID": "21",
                                    "cim": "Az Árpád-ház története",
                                    "stilus": "történelem",
                                    "szam": "10124",
                                    "nettoar": "5022",
                                    "lang": "1",
                                    "raktár készlet": "10"
                                },
                                {
                                    "ID": "22",
                                    "cim": "Art Attack (1998)",
                                    "stilus": "játék",
                                    "szam": "9074",
                                    "nettoar": "3914",
                                    "lang": "2",
                                    "raktár készlet": "10"
                                },
                                {
                                    "ID": "23",
                                    "cim": "Art puzzle (1998)",
                                    "stilus": "ismeretterjesztő",
                                    "szam": "2951",
                                    "nettoar": "5786",
                                    "lang": "2",
                                    "raktár készlet": "10"
                                },
                                {
                                    "ID": "24",
                                    "cim": "Az ásványok világa",
                                    "stilus": "ásványtan",
                                    "szam": "8473",
                                    "nettoar": "5624",
                                    "lang": "1",
                                    "raktár készlet": "10"
                                },
                                {
                                    "ID": "25",
                                    "cim": "Ausztrália",
                                    "stilus": "földrajz",
                                    "szam": "9554",
                                    "nettoar": "5326",
                                    "lang": "1",
                                    "raktár készlet": "10"
                                },
                                {
                                    "ID": "26",
                                    "cim": "Auto 2000 - Kerékvilág",
                                    "stilus": "ismeretterjesztő",
                                    "szam": "7873",
                                    "nettoar": "4463",
                                    "lang": "1",
                                    "raktár készlet": "10"
                                },
                                {
                                    "ID": "27",
                                    "cim": "Ázsia (2000)",
                                    "stilus": "földrajz",
                                    "szam": "8974",
                                    "nettoar": "3123",
                                    "lang": "1",
                                    "raktár készlet": "10"
                                },
                                {
                                    "ID": "28",
                                    "cim": "Biblia (1995)",
                                    "stilus": "ismeretterjesztő",
                                    "szam": "805",
                                    "nettoar": "4440",
                                    "lang": "1",
                                    "raktár készlet": "10"
                                },
                                {
                                    "ID": "29",
                                    "cim": "Biológia '97",
                                    "stilus": "biológia",
                                    "szam": "1161",
                                    "nettoar": "5543",
                                    "lang": "1",
                                    "raktár készlet": "10"
                                },
                                {
                                    "ID": "30",
                                    "cim": "Biológia (2000)",
                                    "stilus": "biológia",
                                    "szam": "8982",
                                    "nettoar": "3819",
                                    "lang": "1",
                                    "raktár készlet": "10"
                                },
                                {
                                    "ID": "31",
                                    "cim": "Biológia (2001)",
                                    "stilus": "biológia",
                                    "szam": "10318",
                                    "nettoar": "3792",
                                    "lang": "1",
                                    "raktár készlet": "10"
                                },
                                {
                                    "ID": "32",
                                    "cim": "Biológia : 12-14 éveseknek (2003)",
                                    "stilus": "biológia",
                                    "szam": "14665",
                                    "nettoar": "3482",
                                    "lang": "1",
                                    "raktár készlet": "10"
                                },
                                {
                                    "ID": "33",
                                    "cim": "Blinky Bill : A fantasztikus léggömbkaland",
                                    "stilus": "játék",
                                    "szam": "10195",
                                    "nettoar": "4076",
                                    "lang": "1",
                                    "raktár készlet": "10"
                                },
                                {
                                    "ID": "34",
                                    "cim": "Broken Sword II. (cop. 1997)",
                                    "stilus": "játék",
                                    "szam": "1735-1736",
                                    "nettoar": "4502",
                                    "lang": "2",
                                    "raktár készlet": "10"
                                },
                                {
                                    "ID": "35",
                                    "cim": "Budapest kalauz",
                                    "stilus": "földrajz",
                                    "szam": "7759",
                                    "nettoar": "4054",
                                    "lang": "1",
                                    "raktár készlet": "10"
                                },
                                {
                                    "ID": "36",
                                    "cim": "Budapest Museum",
                                    "stilus": "művészet",
                                    "szam": "7777",
                                    "nettoar": "5292",
                                    "lang": "1",
                                    "raktár készlet": "10"
                                },
                                {
                                    "ID": "37",
                                    "cim": "Buggy",
                                    "stilus": "játék",
                                    "szam": "12313",
                                    "nettoar": "5830",
                                    "lang": "2",
                                    "raktár készlet": "10"
                                },
                                {
                                    "ID": "38",
                                    "cim": "Byte Magyarország (2002)",
                                    "stilus": "számítástechnika",
                                    "szam": "13993",
                                    "nettoar": "3277",
                                    "lang": "1",
                                    "raktár készlet": "10"
                                },
                                {
                                    "ID": "39",
                                    "cim": "Caesar III.",
                                    "stilus": "játék",
                                    "szam": "12322",
                                    "nettoar": "4136",
                                    "lang": "2",
                                    "raktár készlet": "10"
                                },
                                {
                                    "ID": "40",
                                    "cim": "Capitalism II. (2001)",
                                    "stilus": "játék",
                                    "szam": "14252",
                                    "nettoar": "6062",
                                    "lang": "2",
                                    "raktár készlet": "10"
                                },
                                {
                                    "ID": "41",
                                    "cim": "Capitalism Plus",
                                    "stilus": "játék",
                                    "szam": "1739",
                                    "nettoar": "5030",
                                    "lang": "2",
                                    "raktár készlet": "10"
                                },
                                {
                                    "ID": "42",
                                    "cim": "Castle Explorer",
                                    "stilus": "játék (történelmi)",
                                    "szam": "560",
                                    "nettoar": "3707",
                                    "lang": "2",
                                    "raktár készlet": "10"
                                },
                                {
                                    "ID": "43",
                                    "cim": "CD Panoráma 1-4. (1998)",
                                    "stilus": "ismeretterjesztő",
                                    "szam": "4294-4374-75-76",
                                    "nettoar": "5422",
                                    "lang": "1",
                                    "raktár készlet": "10"
                                },
                                {
                                    "ID": "44",
                                    "cim": "Computer iskola (1998)",
                                    "stilus": "számítástechnika",
                                    "szam": "3742",
                                    "nettoar": "5260",
                                    "lang": "1",
                                    "raktár készlet": "10"
                                },
                                {
                                    "ID": "45",
                                    "cim": "Csizmás kandúr (1998)",
                                    "stilus": "játék",
                                    "szam": "5285",
                                    "nettoar": "5932",
                                    "lang": "1",
                                    "raktár készlet": "10"
                                },
                                {
                                    "ID": "46",
                                    "cim": "Csodálatos univerzum (1997)",
                                    "stilus": "csillagászat",
                                    "szam": "2128",
                                    "nettoar": "4087",
                                    "lang": "1",
                                    "raktár készlet": "10"
                                },
                                {
                                    "ID": "47",
                                    "cim": "Dél-Amerika (1999)",
                                    "stilus": "földrajz",
                                    "szam": "7049",
                                    "nettoar": "3999",
                                    "lang": "1",
                                    "raktár készlet": "10"
                                },
                                {
                                    "ID": "48",
                                    "cim": "Dementia 1-5. (1997)",
                                    "stilus": "játék",
                                    "szam": "2675-2679",
                                    "nettoar": "5919",
                                    "lang": "2",
                                    "raktár készlet": "10"
                                },
                                {
                                    "ID": "49",
                                    "cim": "Deutsch: Anfanger (kezdő) + Telepítő ",
                                    "stilus": "nyelvtanító",
                                    "szam": "8121-8122",
                                    "nettoar": "5633",
                                    "lang": "3",
                                    "raktár készlet": "10"
                                },
                                {
                                    "ID": "50",
                                    "cim": "Deutsch: Fortgeschrittene (haladó) + Installation",
                                    "stilus": "nyelvtanító",
                                    "szam": "6976-6977",
                                    "nettoar": "5784",
                                    "lang": "3",
                                    "raktár készlet": "10"
                                },
                                {
                                    "ID": "51",
                                    "cim": "Deutsch: Mittelstufe (középhaladó)+ Telepítő",
                                    "stilus": "nyelvtanító",
                                    "szam": "8123-8124",
                                    "nettoar": "4377",
                                    "lang": "3",
                                    "raktár készlet": "10"
                                },
                                {
                                    "ID": "52",
                                    "cim": "Diablo",
                                    "stilus": "játék",
                                    "szam": "12321",
                                    "nettoar": "5969",
                                    "lang": "NULL",
                                    "raktár készlet": "10"
                                },
                                {
                                    "ID": "53",
                                    "cim": "Diablo II. (2000)",
                                    "stilus": "játék",
                                    "szam": "10039-40-41-42",
                                    "nettoar": "4900",
                                    "lang": "2",
                                    "raktár készlet": "10"
                                },
                                {
                                    "ID": "54",
                                    "cim": "Dicső napok és hétköznapok 1848 - Digitális forrásgyűjtemény 1.",
                                    "stilus": "történelem",
                                    "szam": "7793",
                                    "nettoar": "5611",
                                    "lang": "1",
                                    "raktár készlet": "10"
                                },
                                {
                                    "ID": "55",
                                    "cim": "Dreams to Reality 1-2. (1997)",
                                    "stilus": "játék",
                                    "szam": "3958-3959",
                                    "nettoar": "4699",
                                    "lang": "2",
                                    "raktár készlet": "10"
                                },
                                {
                                    "ID": "56",
                                    "cim": "Duke Nukem 3D",
                                    "stilus": "játék",
                                    "szam": "100",
                                    "nettoar": "5474",
                                    "lang": "2",
                                    "raktár készlet": "10"
                                },
                                {
                                    "ID": "57",
                                    "cim": "Dungeon Keeper 2. (1999)",
                                    "stilus": "játék",
                                    "szam": "6831",
                                    "nettoar": "3369",
                                    "lang": "2",
                                    "raktár készlet": "10"
                                },
                                {
                                    "ID": "58",
                                    "cim": "E-Games : Collector's Edition (2001)",
                                    "stilus": "játék",
                                    "szam": "9988",
                                    "nettoar": "5583",
                                    "lang": "2",
                                    "raktár készlet": "10"
                                },
                                {
                                    "ID": "59",
                                    "cim": "Éléstár (1998)",
                                    "stilus": "gasztronómia",
                                    "szam": "3014",
                                    "nettoar": "3258",
                                    "lang": "1",
                                    "raktár készlet": "10"
                                },
                                {
                                    "ID": "60",
                                    "cim": "Élet a polgárosodó Magyarországon (2001)",
                                    "stilus": "történelem",
                                    "szam": "13357",
                                    "nettoar": "5572",
                                    "lang": "1",
                                    "raktár készlet": "10"
                                },
                                {
                                    "ID": "61",
                                    "cim": "Életképek 1848 (1998)",
                                    "stilus": "történelem",
                                    "szam": "3874",
                                    "nettoar": "4211",
                                    "lang": "1",
                                    "raktár készlet": "10"
                                },
                                {
                                    "ID": "62",
                                    "cim": "Az ember tragédiája",
                                    "stilus": "irodalom",
                                    "szam": "7107",
                                    "nettoar": "4295",
                                    "lang": "1",
                                    "raktár készlet": "10"
                                },
                                {
                                    "ID": "63",
                                    "cim": "Encarta World Atlas '99 1-2. (1998)",
                                    "stilus": "ismeretterjesztő",
                                    "szam": "4786-4787",
                                    "nettoar": "5334",
                                    "lang": "2",
                                    "raktár készlet": "10"
                                },
                                {
                                    "ID": "64",
                                    "cim": "Enemy Engaged RAH-66",
                                    "stilus": "játék",
                                    "szam": "11010",
                                    "nettoar": "5217",
                                    "lang": "2",
                                    "raktár készlet": "10"
                                },
                                {
                                    "ID": "65",
                                    "cim": "English 1-2. + Telepítő",
                                    "stilus": "nyelvtanító",
                                    "szam": "8118-8119-8120",
                                    "nettoar": "5215",
                                    "lang": "2",
                                    "raktár készlet": "10"
                                },
                                {
                                    "ID": "67",
                                    "cim": "English: Intermediate (haladó)",
                                    "stilus": "nyelvtanító",
                                    "szam": "8116-8117",
                                    "nettoar": "3627",
                                    "lang": "2",
                                    "raktár készlet": "10"
                                },
                                {
                                    "ID": "68",
                                    "cim": "English by Stealth  lásd: Lopva angolul",
                                    "stilus": "NULL",
                                    "szam": "NULL",
                                    "nettoar": "4478",
                                    "lang": "NULL",
                                    "raktár készlet": "10"
                                },
                                {
                                    "ID": "69",
                                    "cim": "Erdély (1996)",
                                    "stilus": "földrajz",
                                    "szam": "2768",
                                    "nettoar": "4999",
                                    "lang": "1",
                                    "raktár készlet": "10"
                                },
                                {
                                    "ID": "70",
                                    "cim": "Espanol: Intermedio + Telepítő",
                                    "stilus": "nyelvtanító",
                                    "szam": "8132-8133",
                                    "nettoar": "3914",
                                    "lang": "6",
                                    "raktár készlet": "10"
                                },
                                {
                                    "ID": "71",
                                    "cim": "Espanol: Principiante + Telepítő",
                                    "stilus": "nyelvtanító",
                                    "szam": "8130-8131",
                                    "nettoar": "5882",
                                    "lang": "6",
                                    "raktár készlet": "10"
                                },
                                {
                                    "ID": "72",
                                    "cim": "Észak-Amerika",
                                    "stilus": "földrajz",
                                    "szam": "6470",
                                    "nettoar": "3994",
                                    "lang": "1",
                                    "raktár készlet": "10"
                                },
                                {
                                    "ID": "73",
                                    "cim": "Európa",
                                    "stilus": "földrajz",
                                    "szam": "7825",
                                    "nettoar": "5270",
                                    "lang": "1",
                                    "raktár készlet": "10"
                                },
                                {
                                    "ID": "74",
                                    "cim": "The F.A. Premier League Stars 2001",
                                    "stilus": "játék (labdarúgás)",
                                    "szam": "10184",
                                    "nettoar": "3871",
                                    "lang": "2",
                                    "raktár készlet": "10"
                                },
                                {
                                    "ID": "75",
                                    "cim": "Felvételi példatár : Angol",
                                    "stilus": "felvételi",
                                    "szam": "11772",
                                    "nettoar": "3876",
                                    "lang": "2",
                                    "raktár készlet": "10"
                                },
                                {
                                    "ID": "76",
                                    "cim": "Felvételi példatár : Biológia, földrajz",
                                    "stilus": "felvételi",
                                    "szam": "11794",
                                    "nettoar": "3215",
                                    "lang": "1",
                                    "raktár készlet": "10"
                                },
                                {
                                    "ID": "77",
                                    "cim": "Felvételi példatár : Kémia, fizika",
                                    "stilus": "felvételi",
                                    "szam": "11826",
                                    "nettoar": "5851",
                                    "lang": "1",
                                    "raktár készlet": "10"
                                },
                                {
                                    "ID": "78",
                                    "cim": "Felvételi példatár : Magyar nyelv és irodalom",
                                    "stilus": "felvételi",
                                    "szam": "11845",
                                    "nettoar": "5955",
                                    "lang": "1",
                                    "raktár készlet": "10"
                                },
                                {
                                    "ID": "79",
                                    "cim": "Felvételi példatár : Matematika",
                                    "stilus": "felvételi",
                                    "szam": "11867",
                                    "nettoar": "5009",
                                    "lang": "1",
                                    "raktár készlet": "10"
                                },
                                {
                                    "ID": "80",
                                    "cim": "Felvételi példatár : Német",
                                    "stilus": "felvételi",
                                    "szam": "11894",
                                    "nettoar": "3102",
                                    "lang": "3",
                                    "raktár készlet": "10"
                                },
                                {
                                    "ID": "81",
                                    "cim": "FIFA, 2000 (1999)",
                                    "stilus": "játék (labdarúgás)",
                                    "szam": "14254",
                                    "nettoar": "5059",
                                    "lang": "2",
                                    "raktár készlet": "10"
                                },
                                {
                                    "ID": "82",
                                    "cim": "Fighting Force (1998)",
                                    "stilus": "játék",
                                    "szam": "3982",
                                    "nettoar": "4800",
                                    "lang": "2",
                                    "raktár készlet": "10"
                                },
                                {
                                    "ID": "83",
                                    "cim": "Final Liberation (1997)",
                                    "stilus": "játék",
                                    "szam": "2604",
                                    "nettoar": "4632",
                                    "lang": "2",
                                    "raktár készlet": "10"
                                },
                                {
                                    "ID": "84",
                                    "cim": "Fitness mesterfokon / Béres Alexandra (2001)",
                                    "stilus": "sport",
                                    "szam": "13053",
                                    "nettoar": "4607",
                                    "lang": "1",
                                    "raktár készlet": "10"
                                },
                                {
                                    "ID": "85",
                                    "cim": "Fizika : 12-14 éveseknek (2002)",
                                    "stilus": "fizika",
                                    "szam": "13465",
                                    "nettoar": "3734",
                                    "lang": "1",
                                    "raktár készlet": "10"
                                },
                                {
                                    "ID": "86",
                                    "cim": "Fizika felkészítő az érettségi és felvételi vizsgára",
                                    "stilus": "fizika",
                                    "szam": "2328",
                                    "nettoar": "4810",
                                    "lang": "1",
                                    "raktár készlet": "10"
                                },
                                {
                                    "ID": "87",
                                    "cim": "Fizika világa (2001)",
                                    "stilus": "fizika",
                                    "szam": "13778",
                                    "nettoar": "5763",
                                    "lang": "1",
                                    "raktár készlet": "10"
                                },
                                {
                                    "ID": "88",
                                    "cim": "A Föld élővilága",
                                    "stilus": "ismeretterjesztő",
                                    "szam": "11081",
                                    "nettoar": "5900",
                                    "lang": "1",
                                    "raktár készlet": "10"
                                },
                                {
                                    "ID": "89",
                                    "cim": "Földrajz: 10-14 éveseknek (2002)",
                                    "stilus": "földrajz",
                                    "szam": "13484",
                                    "nettoar": "3930",
                                    "lang": "1",
                                    "raktár készlet": "10"
                                },
                                {
                                    "ID": "90",
                                    "cim": "Földrajz: érettségi előkészítő (2002)",
                                    "stilus": "földrajz",
                                    "szam": "13707",
                                    "nettoar": "3173",
                                    "lang": "1",
                                    "raktár készlet": "10"
                                },
                                {
                                    "ID": "91",
                                    "cim": "Francais 1-2. + Telepítő",
                                    "stilus": "nyelvtanító",
                                    "szam": "8127-8128-8129",
                                    "nettoar": "4038",
                                    "lang": "7",
                                    "raktár készlet": "10"
                                },
                                {
                                    "ID": "92",
                                    "cim": "Francais: Débutan (kezdő) + Telepítő",
                                    "stilus": "nyelvtanító",
                                    "szam": "8125-8126",
                                    "nettoar": "3770",
                                    "lang": "7",
                                    "raktár készlet": "10"
                                },
                                {
                                    "ID": "93",
                                    "cim": "Francais: Moyen + Telepítő",
                                    "stilus": "nyelvtanító",
                                    "szam": "6587-6588",
                                    "nettoar": "5619",
                                    "lang": "7",
                                    "raktár készlet": "10"
                                },
                                {
                                    "ID": "94",
                                    "cim": "Francia-magyar szótár",
                                    "stilus": "szótár",
                                    "szam": "8323",
                                    "nettoar": "3566",
                                    "lang": "7",
                                    "raktár készlet": "10"
                                },
                                {
                                    "ID": "95",
                                    "cim": "Funschool in Dreamland (1995)",
                                    "stilus": "játék",
                                    "szam": "4078",
                                    "nettoar": "4766",
                                    "lang": "2",
                                    "raktár készlet": "10"
                                },
                                {
                                    "ID": "96",
                                    "cim": "Geolexikon 4.2 : földtani adatbázis (2002)",
                                    "stilus": "ismeretterjesztő",
                                    "szam": "13232",
                                    "nettoar": "4602",
                                    "lang": "1",
                                    "raktár készlet": "10"
                                },
                                {
                                    "ID": "97",
                                    "cim": "Gépírás 2000",
                                    "stilus": "gépírás",
                                    "szam": "9803",
                                    "nettoar": "3936",
                                    "lang": "1",
                                    "raktár készlet": "10"
                                },
                                {
                                    "ID": "98",
                                    "cim": "Gondolattár: aforizmák, szállóigék",
                                    "stilus": "ismeretterjesztő",
                                    "szam": "9160",
                                    "nettoar": "5346",
                                    "lang": "1",
                                    "raktár készlet": "10"
                                },
                                {
                                    "ID": "99",
                                    "cim": "GTA 2",
                                    "stilus": "játék (autóverseny)",
                                    "szam": "11028",
                                    "nettoar": "5005",
                                    "lang": "2",
                                    "raktár készlet": "10"
                                },
                                {
                                    "ID": "100",
                                    "cim": "Hadiflották I. (2002)",
                                    "stilus": "történelem",
                                    "szam": "14849",
                                    "nettoar": "5124",
                                    "lang": "1",
                                    "raktár készlet": "10"
                                },
                                {
                                    "ID": "101",
                                    "cim": "Hadtudományi lexikon (1998)",
                                    "stilus": "hadtudomány",
                                    "szam": "4742",
                                    "nettoar": "3515",
                                    "lang": "1",
                                    "raktár készlet": "10"
                                },
                                {
                                    "ID": "102",
                                    "cim": "Hajdúböszörmény",
                                    "stilus": "ismeretterjesztő",
                                    "szam": "12844",
                                    "nettoar": "3781",
                                    "lang": "1",
                                    "raktár készlet": "10"
                                },
                                {
                                    "ID": "103",
                                    "cim": "Halak, kétéltűek, hüllők",
                                    "stilus": "állattan",
                                    "szam": "3024",
                                    "nettoar": "4153",
                                    "lang": "1",
                                    "raktár készlet": "10"
                                },
                                {
                                    "ID": "104",
                                    "cim": "Half-Life (1996)",
                                    "stilus": "játék",
                                    "szam": "4492",
                                    "nettoar": "5405",
                                    "lang": "2",
                                    "raktár készlet": "10"
                                },
                                {
                                    "ID": "105",
                                    "cim": "Half-Life Generation: Game of the Year Edition (2002)",
                                    "stilus": "játék",
                                    "szam": "14238-39",
                                    "nettoar": "3705",
                                    "lang": "2",
                                    "raktár készlet": "10"
                                },
                                {
                                    "ID": "106",
                                    "cim": "Half-Life Generation: Counter Strike (2002)",
                                    "stilus": "játék",
                                    "szam": "14240",
                                    "nettoar": "5744",
                                    "lang": "2",
                                    "raktár készlet": "10"
                                },
                                {
                                    "ID": "107",
                                    "cim": "Half-Life Generation: Blue Shift (2002)",
                                    "stilus": "játék",
                                    "szam": "14241",
                                    "nettoar": "5728",
                                    "lang": "2",
                                    "raktár készlet": "10"
                                },
                                {
                                    "ID": "108",
                                    "cim": "Harry Potter és a bölcsek köve (2001)",
                                    "stilus": "játék",
                                    "szam": "14245",
                                    "nettoar": "4472",
                                    "lang": "2",
                                    "raktár készlet": "10"
                                },
                                {
                                    "ID": "109",
                                    "cim": "Haza és haladás",
                                    "stilus": "történelem",
                                    "szam": "9599",
                                    "nettoar": "3481",
                                    "lang": "1",
                                    "raktár készlet": "10"
                                },
                                {
                                    "ID": "110",
                                    "cim": "A hét világcsoda (2001)",
                                    "stilus": "történelem",
                                    "szam": "14028",
                                    "nettoar": "3162",
                                    "lang": "1",
                                    "raktár készlet": "10"
                                },
                                {
                                    "ID": "111",
                                    "cim": "Home Desing 3D (1998)",
                                    "stilus": "lakástervező",
                                    "szam": "3356",
                                    "nettoar": "4287",
                                    "lang": "2",
                                    "raktár készlet": "10"
                                },
                                {
                                    "ID": "112",
                                    "cim": "Hupikék törpikék: teletransportörp (1999)",
                                    "stilus": "játék",
                                    "szam": "14233",
                                    "nettoar": "3110",
                                    "lang": "1",
                                    "raktár készlet": "10"
                                },
                                {
                                    "ID": "113",
                                    "cim": "Informatika - Internet - Iskola",
                                    "stilus": "ismeretterjesztő",
                                    "szam": "2007",
                                    "nettoar": "3733",
                                    "lang": "1",
                                    "raktár készlet": "10"
                                },
                                {
                                    "ID": "114",
                                    "cim": "Interaktív angol nyelvész kurzus haladó szint 1-5.",
                                    "stilus": "nyelvtanító",
                                    "szam": "1811-1815",
                                    "nettoar": "4592",
                                    "lang": "2",
                                    "raktár készlet": "10"
                                },
                                {
                                    "ID": "115",
                                    "cim": "Interaktív angol nyelvész kurzus kezdő szint",
                                    "stilus": "nyelvtanító",
                                    "szam": "1836-1840",
                                    "nettoar": "4183",
                                    "lang": "2",
                                    "raktár készlet": "10"
                                },
                                {
                                    "ID": "116",
                                    "cim": "Interaktív angol nyelvész kurzus középhaladó szint",
                                    "stilus": "nyelvtanító",
                                    "szam": "1841-1845",
                                    "nettoar": "3115",
                                    "lang": "2",
                                    "raktár készlet": "10"
                                },
                                {
                                    "ID": "117",
                                    "cim": "Interaktív magyar nyelvtan",
                                    "stilus": "nyelvtan",
                                    "szam": "1719",
                                    "nettoar": "4779",
                                    "lang": "1",
                                    "raktár készlet": "10"
                                },
                                {
                                    "ID": "118",
                                    "cim": "International Rally Championship",
                                    "stilus": "játék (autóverseny)",
                                    "szam": "9957",
                                    "nettoar": "3890",
                                    "lang": "2",
                                    "raktár készlet": "10"
                                },
                                {
                                    "ID": "119",
                                    "cim": "Internet (1996)",
                                    "stilus": "számítástechnika",
                                    "szam": "1046",
                                    "nettoar": "4934",
                                    "lang": "1",
                                    "raktár készlet": "10"
                                },
                                {
                                    "ID": "120",
                                    "cim": "Introduction to Archeology",
                                    "stilus": "régészet",
                                    "szam": "1160",
                                    "nettoar": "3773",
                                    "lang": "2",
                                    "raktár készlet": "10"
                                },
                                {
                                    "ID": "121",
                                    "cim": "Investigating 20th Century Art (1994)",
                                    "stilus": "festészet",
                                    "szam": "444",
                                    "nettoar": "4394",
                                    "lang": "2",
                                    "raktár készlet": "10"
                                },
                                {
                                    "ID": "122",
                                    "cim": "Az ipari forradalom kora (2000)",
                                    "stilus": "történelem",
                                    "szam": "8951",
                                    "nettoar": "5082",
                                    "lang": "1",
                                    "raktár készlet": "10"
                                },
                                {
                                    "ID": "123",
                                    "cim": "Irodalmi arcképcsarnok",
                                    "stilus": "irodalom",
                                    "szam": "9171",
                                    "nettoar": "3866",
                                    "lang": "1",
                                    "raktár készlet": "10"
                                },
                                {
                                    "ID": "124",
                                    "cim": "Irodalom  felkészítő az érettségi és felvételi vizsgára",
                                    "stilus": "irodalom",
                                    "szam": "2414",
                                    "nettoar": "5654",
                                    "lang": "1",
                                    "raktár készlet": "10"
                                },
                                {
                                    "ID": "125",
                                    "cim": "Irodalom (1998)",
                                    "stilus": "irodalom",
                                    "szam": "3904",
                                    "nettoar": "5625",
                                    "lang": "1",
                                    "raktár készlet": "10"
                                },
                                {
                                    "ID": "126",
                                    "cim": "Italiano (1998) + Installation",
                                    "stilus": "nyelvtanító",
                                    "szam": "5549, 5594",
                                    "nettoar": "5436",
                                    "lang": "4",
                                    "raktár készlet": "10"
                                },
                                {
                                    "ID": "127",
                                    "cim": "Italiano 1-2. (1998) + Installation",
                                    "stilus": "nyelvtanító",
                                    "szam": "5592-5593, 5550",
                                    "nettoar": "6082",
                                    "lang": "4",
                                    "raktár készlet": "10"
                                },
                                {
                                    "ID": "128",
                                    "cim": "Italiano 1-2. (1998) + Installation",
                                    "stilus": "nyelvtanító",
                                    "szam": "5607-5608, 5609",
                                    "nettoar": "3419",
                                    "lang": "4",
                                    "raktár készlet": "10"
                                },
                                {
                                    "ID": "129",
                                    "cim": "Jancsó",
                                    "stilus": "filmtörténet",
                                    "szam": "8310",
                                    "nettoar": "4204",
                                    "lang": "1",
                                    "raktár készlet": "10"
                                },
                                {
                                    "ID": "130",
                                    "cim": "Japán : képes kulturális atlasz (2001)",
                                    "stilus": "ismeretterjesztő",
                                    "szam": "12810",
                                    "nettoar": "4459",
                                    "lang": "1",
                                    "raktár készlet": "10"
                                },
                                {
                                    "ID": "131",
                                    "cim": "Játékfilmek 1963-tól napjainkig",
                                    "stilus": "filmtörténet",
                                    "szam": "7625",
                                    "nettoar": "3138",
                                    "lang": "1",
                                    "raktár készlet": "10"
                                },
                                {
                                    "ID": "132",
                                    "cim": "Játszóház (1998)",
                                    "stilus": "játék",
                                    "szam": "3779",
                                    "nettoar": "5299",
                                    "lang": "1",
                                    "raktár készlet": "10"
                                },
                                {
                                    "ID": "133",
                                    "cim": "Jókai összes művei (2001)",
                                    "stilus": "irodalom",
                                    "szam": "12119",
                                    "nettoar": "4768",
                                    "lang": "1",
                                    "raktár készlet": "10"
                                },
                                {
                                    "ID": "134",
                                    "cim": "József Attila (1998)",
                                    "stilus": "irodalom",
                                    "szam": "3036",
                                    "nettoar": "3870",
                                    "lang": "1",
                                    "raktár készlet": "10"
                                },
                                {
                                    "ID": "135",
                                    "cim": "A jövő titkai - Interaktív horoszkóp (1998)",
                                    "stilus": "ismeretterjesztő",
                                    "szam": "8990",
                                    "nettoar": "6072",
                                    "lang": "1",
                                    "raktár készlet": "10"
                                },
                                {
                                    "ID": "136",
                                    "cim": "Kártyaváros",
                                    "stilus": "ismeretterjesztő + játék",
                                    "szam": "11239",
                                    "nettoar": "3107",
                                    "lang": "1",
                                    "raktár készlet": "10"
                                },
                                {
                                    "ID": "137",
                                    "cim": "Kémia Kalauz 2.",
                                    "stilus": "kémia",
                                    "szam": "7735",
                                    "nettoar": "5094",
                                    "lang": "1",
                                    "raktár készlet": "10"
                                },
                                {
                                    "ID": "138",
                                    "cim": "A kémkedés és a hírszerzés története (2002)",
                                    "stilus": "történelem",
                                    "szam": "13230",
                                    "nettoar": "5845",
                                    "lang": "1",
                                    "raktár készlet": "10"
                                },
                                {
                                    "ID": "139",
                                    "cim": "Képes krónika (1996)",
                                    "stilus": "történelem",
                                    "szam": "327",
                                    "nettoar": "3931",
                                    "lang": "1",
                                    "raktár készlet": "10"
                                },
                                {
                                    "ID": "140",
                                    "cim": "Képtárak (1995)",
                                    "stilus": "festészet",
                                    "szam": "580",
                                    "nettoar": "5408",
                                    "lang": "1",
                                    "raktár készlet": "10"
                                },
                                {
                                    "ID": "141",
                                    "cim": "Kereszt és félhold",
                                    "stilus": "történelem",
                                    "szam": "7489",
                                    "nettoar": "4302",
                                    "lang": "1",
                                    "raktár készlet": "10"
                                },
                                {
                                    "ID": "142",
                                    "cim": "Kétfejű sas: A Habsburg-uralom Magyarországon (1699-1790)",
                                    "stilus": "történelem",
                                    "szam": "8573",
                                    "nettoar": "5459",
                                    "lang": "1",
                                    "raktár készlet": "10"
                                },
                                {
                                    "ID": "143",
                                    "cim": "Kettős kötődés: Az Osztrák-Magyar Monarchia (1867-1918)",
                                    "stilus": "történelem",
                                    "szam": "10665",
                                    "nettoar": "4829",
                                    "lang": "1",
                                    "raktár készlet": "10"
                                },
                                {
                                    "ID": "144",
                                    "cim": "Kínai falatok",
                                    "stilus": "gasztronómia",
                                    "szam": "7932",
                                    "nettoar": "4550",
                                    "lang": "1",
                                    "raktár készlet": "10"
                                },
                                {
                                    "ID": "145",
                                    "cim": "Királyi könyvek 1-9. kötet",
                                    "stilus": "ismeretterjesztő",
                                    "szam": "9175",
                                    "nettoar": "3256",
                                    "lang": "1",
                                    "raktár készlet": "10"
                                },
                                {
                                    "ID": "146",
                                    "cim": "Királyi könyvek 18-26. kötet",
                                    "stilus": "ismeretterjesztő",
                                    "szam": "11759",
                                    "nettoar": "5507",
                                    "lang": "1",
                                    "raktár készlet": "10"
                                },
                                {
                                    "ID": "147",
                                    "cim": "Királyi könyvek 27-38. kötet : 1703-1740 (2002)",
                                    "stilus": "ismeretterjesztő",
                                    "szam": "14003",
                                    "nettoar": "5476",
                                    "lang": "1",
                                    "raktár készlet": "10"
                                },
                                {
                                    "ID": "148",
                                    "cim": "Kispál és a borz (1998)",
                                    "stilus": "zene",
                                    "szam": "4624",
                                    "nettoar": "5730",
                                    "lang": "1",
                                    "raktár készlet": "10"
                                },
                                {
                                    "ID": "149",
                                    "cim": "Kossuth Lajos összes munkái (2002)",
                                    "stilus": "ismeretterjesztő",
                                    "szam": "14760",
                                    "nettoar": "4589",
                                    "lang": "1",
                                    "raktár készlet": "10"
                                },
                                {
                                    "ID": "150",
                                    "cim": "Környezetvédelmi kalauz (1999)",
                                    "stilus": "környezetvédelem",
                                    "szam": "8951",
                                    "nettoar": "5508",
                                    "lang": "1",
                                    "raktár készlet": "10"
                                },
                                {
                                    "ID": "151",
                                    "cim": "Kötelező olvasmányok könyvtára 1. (2002)",
                                    "stilus": "irodalom",
                                    "szam": "13746",
                                    "nettoar": "3594",
                                    "lang": "1",
                                    "raktár készlet": "10"
                                },
                                {
                                    "ID": "152",
                                    "cim": "A kőszívű ember fiai - Egri csillagok",
                                    "stilus": "irodalom",
                                    "szam": "6693",
                                    "nettoar": "5538",
                                    "lang": "1",
                                    "raktár készlet": "10"
                                },
                                {
                                    "ID": "153",
                                    "cim": "A kutyák: A család kedvencei",
                                    "stilus": "állattan",
                                    "szam": "7060",
                                    "nettoar": "4963",
                                    "lang": "1",
                                    "raktár készlet": "10"
                                },
                                {
                                    "ID": "154",
                                    "cim": "Kutyatár",
                                    "stilus": "állattan",
                                    "szam": "2963",
                                    "nettoar": "5235",
                                    "lang": "1",
                                    "raktár készlet": "10"
                                },
                                {
                                    "ID": "155",
                                    "cim": "KvízIQ : A hét világcsoda (2001)",
                                    "stilus": "játék",
                                    "szam": "14028",
                                    "nettoar": "3451",
                                    "lang": "1",
                                    "raktár készlet": "10"
                                },
                                {
                                    "ID": "156",
                                    "cim": "Lakáskultúra 2000 (2000)",
                                    "stilus": "ismeretterjesztő",
                                    "szam": "9791",
                                    "nettoar": "5847",
                                    "lang": "1",
                                    "raktár készlet": "10"
                                },
                                {
                                    "ID": "157",
                                    "cim": "Lakáskultúra 1999 (1999)",
                                    "stilus": "ismeretterjesztő",
                                    "szam": "9790",
                                    "nettoar": "5414",
                                    "lang": "1",
                                    "raktár készlet": "10"
                                },
                                {
                                    "ID": "158",
                                    "cim": "Lakáskultúra 1998 (1998)",
                                    "stilus": "ismeretterjesztő",
                                    "szam": "9789",
                                    "nettoar": "5491",
                                    "lang": "1",
                                    "raktár készlet": "10"
                                },
                                {
                                    "ID": "159",
                                    "cim": "Lakáskultúra 1997 (1997)",
                                    "stilus": "ismeretterjesztő",
                                    "szam": "9788",
                                    "nettoar": "3419",
                                    "lang": "1",
                                    "raktár készlet": "10"
                                },
                                {
                                    "ID": "160",
                                    "cim": "Lakáskultúra 1996 (1996)",
                                    "stilus": "ismeretterjesztő",
                                    "szam": "9787",
                                    "nettoar": "4209",
                                    "lang": "1",
                                    "raktár készlet": "10"
                                },
                                {
                                    "ID": "161",
                                    "cim": "Lands of Lore II. 1-4. (1997)",
                                    "stilus": "játék",
                                    "szam": "3929-3932",
                                    "nettoar": "4312",
                                    "lang": "2",
                                    "raktár készlet": "10"
                                },
                                {
                                    "ID": "162",
                                    "cim": "Landscape Design 3D (1998)",
                                    "stilus": "kerttervező",
                                    "szam": "3352",
                                    "nettoar": "4951",
                                    "lang": "2",
                                    "raktár készlet": "10"
                                },
                                {
                                    "ID": "163",
                                    "cim": "Legféltettebb természeti értékeink",
                                    "stilus": "ismeretterjesztő",
                                    "szam": "8821",
                                    "nettoar": "5083",
                                    "lang": "1",
                                    "raktár készlet": "10"
                                },
                                {
                                    "ID": "164",
                                    "cim": "Legszebb vadnövényeink",
                                    "stilus": "növénytan",
                                    "szam": "1193",
                                    "nettoar": "4438",
                                    "lang": "1",
                                    "raktár készlet": "10"
                                },
                                {
                                    "ID": "165",
                                    "cim": "Leonardo da Vinci",
                                    "stilus": "múvészet",
                                    "szam": "907",
                                    "nettoar": "5118",
                                    "lang": "2",
                                    "raktár készlet": "10"
                                },
                                {
                                    "ID": "166",
                                    "cim": "Lilenthal Andor sakkjátszmái",
                                    "stilus": "játék, sakk",
                                    "szam": "11479",
                                    "nettoar": "3644",
                                    "lang": "1",
                                    "raktár készlet": "10"
                                },
                                {
                                    "ID": "167",
                                    "cim": "Lopva angolul /English by Stealth 1.",
                                    "stilus": "nyelvtanító",
                                    "szam": "7011",
                                    "nettoar": "5431",
                                    "lang": "2",
                                    "raktár készlet": "10"
                                },
                                {
                                    "ID": "168",
                                    "cim": "Lopva angolul /English by Stealth 2.",
                                    "stilus": "nyelvtanító",
                                    "szam": "7012",
                                    "nettoar": "4597",
                                    "lang": "2",
                                    "raktár készlet": "10"
                                },
                                {
                                    "ID": "169",
                                    "cim": "Lopva angolul /English by Stealth 3.",
                                    "stilus": "nyelvtanító",
                                    "szam": "7013",
                                    "nettoar": "4851",
                                    "lang": "2",
                                    "raktár készlet": "10"
                                },
                                {
                                    "ID": "170",
                                    "cim": "Lovagkirályok (1301-1437) (1997)",
                                    "stilus": "történelem",
                                    "szam": "1563",
                                    "nettoar": "4368",
                                    "lang": "1",
                                    "raktár készlet": "10"
                                },
                                {
                                    "ID": "171",
                                    "cim": "LoveQ, SexQ : szerelmi intelligencia (2001)",
                                    "stilus": "ismeretterjesztő",
                                    "szam": "14231",
                                    "nettoar": "3626",
                                    "lang": "1",
                                    "raktár készlet": "10"
                                },
                                {
                                    "ID": "172",
                                    "cim": "M1 Tank (1998)",
                                    "stilus": "játék",
                                    "szam": "3974",
                                    "nettoar": "5981",
                                    "lang": "2",
                                    "raktár készlet": "10"
                                },
                                {
                                    "ID": "173",
                                    "cim": "Mackó úr (2002)",
                                    "stilus": "játék",
                                    "szam": "13819",
                                    "nettoar": "4632",
                                    "lang": "1",
                                    "raktár készlet": "10"
                                },
                                {
                                    "ID": "174",
                                    "cim": "Madárdalos kirándulások - Madártani oktató CD-ROM (1999)",
                                    "stilus": "ismeretterjesztő",
                                    "szam": "9036",
                                    "nettoar": "3408",
                                    "lang": "1",
                                    "raktár készlet": "10"
                                },
                                {
                                    "ID": "175",
                                    "cim": "Magyar bélyegek katalógusa",
                                    "stilus": "ismeretterjesztő",
                                    "szam": "8854",
                                    "nettoar": "4035",
                                    "lang": "1",
                                    "raktár készlet": "10"
                                },
                                {
                                    "ID": "176",
                                    "cim": "Magyar fontok '97",
                                    "stilus": "betűtípusok",
                                    "szam": "3729",
                                    "nettoar": "3845",
                                    "lang": "1",
                                    "raktár készlet": "10"
                                },
                                {
                                    "ID": "177",
                                    "cim": "A Magyar Koronázási Jelvények",
                                    "stilus": "történelem",
                                    "szam": "4699",
                                    "nettoar": "4122",
                                    "lang": "1",
                                    "raktár készlet": "10"
                                },
                                {
                                    "ID": "178",
                                    "cim": "Magyar nyelv és irodalom",
                                    "stilus": "irodalom, nyelv",
                                    "szam": "9199",
                                    "nettoar": "4704",
                                    "lang": "1",
                                    "raktár készlet": "10"
                                },
                                {
                                    "ID": "179",
                                    "cim": "Magyar színházművészet a világban",
                                    "stilus": "színház",
                                    "szam": "9583",
                                    "nettoar": "5158",
                                    "lang": "1",
                                    "raktár készlet": "10"
                                },
                                {
                                    "ID": "180",
                                    "cim": "Magyarország, 1944-1956 (2001)",
                                    "stilus": "történelem",
                                    "szam": "13162",
                                    "nettoar": "4921",
                                    "lang": "1",
                                    "raktár készlet": "10"
                                },
                                {
                                    "ID": "181",
                                    "cim": "Magyarország, 1944-1956 (2001)",
                                    "stilus": "történelem",
                                    "szam": "15134",
                                    "nettoar": "3673",
                                    "lang": "1",
                                    "raktár készlet": "10"
                                },
                                {
                                    "ID": "182",
                                    "cim": "Magyarország Nemzeti Parkjai I.",
                                    "stilus": "ismeretterjesztő",
                                    "szam": "8531",
                                    "nettoar": "3348",
                                    "lang": "1",
                                    "raktár készlet": "10"
                                },
                                {
                                    "ID": "183",
                                    "cim": "Magyarország Nemzeti Parkjai II.",
                                    "stilus": "ismeretterjesztő",
                                    "szam": "10973",
                                    "nettoar": "3377",
                                    "lang": "1",
                                    "raktár készlet": "10"
                                },
                                {
                                    "ID": "184",
                                    "cim": "Magyarországi várak (1998)",
                                    "stilus": "történelem",
                                    "szam": "4625",
                                    "nettoar": "5459",
                                    "lang": "1",
                                    "raktár készlet": "10"
                                },
                                {
                                    "ID": "185",
                                    "cim": "Mahjongg Master (1998)",
                                    "stilus": "játék",
                                    "szam": "4509",
                                    "nettoar": "5423",
                                    "lang": "2",
                                    "raktár készlet": "10"
                                },
                                {
                                    "ID": "186",
                                    "cim": "Manó Angol 1.",
                                    "stilus": "nyelvtanító",
                                    "szam": "8162",
                                    "nettoar": "5852",
                                    "lang": "2",
                                    "raktár készlet": "10"
                                },
                                {
                                    "ID": "187",
                                    "cim": "Manó Angol 1. (2002)",
                                    "stilus": "nyelvtanító",
                                    "szam": "13876",
                                    "nettoar": "6051",
                                    "lang": "2",
                                    "raktár készlet": "10"
                                },
                                {
                                    "ID": "188",
                                    "cim": "Manó Angol 2.",
                                    "stilus": "nyelvtanító",
                                    "szam": "7643",
                                    "nettoar": "5353",
                                    "lang": "2",
                                    "raktár készlet": "10"
                                },
                                {
                                    "ID": "189",
                                    "cim": "Manó Angol 2. (2000)",
                                    "stilus": "nyelvtanító",
                                    "szam": "13885",
                                    "nettoar": "6068",
                                    "lang": "2",
                                    "raktár készlet": "10"
                                },
                                {
                                    "ID": "190",
                                    "cim": "Manó Élővilág",
                                    "stilus": "ismeretterjesztő",
                                    "szam": "7025",
                                    "nettoar": "3474",
                                    "lang": "1",
                                    "raktár készlet": "10"
                                },
                                {
                                    "ID": "191",
                                    "cim": "Manó Élővilág (2002)",
                                    "stilus": "ismeretterjesztő",
                                    "szam": "13877",
                                    "nettoar": "4881",
                                    "lang": "1",
                                    "raktár készlet": "10"
                                },
                                {
                                    "ID": "192",
                                    "cim": "Manó IQ (2001)",
                                    "stilus": "ismeretterjesztő",
                                    "szam": "10842",
                                    "nettoar": "5383",
                                    "lang": "1",
                                    "raktár készlet": "10"
                                },
                                {
                                    "ID": "193",
                                    "cim": "Manó Kaland (2002)",
                                    "stilus": "ismeretterjesztő",
                                    "szam": "13875",
                                    "nettoar": "5967",
                                    "lang": "1",
                                    "raktár készlet": "10"
                                },
                                {
                                    "ID": "194",
                                    "cim": "Manó Magyarország (2002)",
                                    "stilus": "földrajz",
                                    "szam": "13935",
                                    "nettoar": "4150",
                                    "lang": "1",
                                    "raktár készlet": "10"
                                },
                                {
                                    "ID": "195",
                                    "cim": "Manó Matek 1.",
                                    "stilus": "matematika",
                                    "szam": "7020",
                                    "nettoar": "5995",
                                    "lang": "1",
                                    "raktár készlet": "10"
                                },
                                {
                                    "ID": "196",
                                    "cim": "Manó Matek 1. (2002)",
                                    "stilus": "matematika",
                                    "szam": "13880",
                                    "nettoar": "5396",
                                    "lang": "1",
                                    "raktár készlet": "10"
                                },
                                {
                                    "ID": "197",
                                    "cim": "Manó Matek 2. (1999)",
                                    "stilus": "matematika",
                                    "szam": "7022",
                                    "nettoar": "5568",
                                    "lang": "1",
                                    "raktár készlet": "10"
                                },
                                {
                                    "ID": "198",
                                    "cim": "Manó Matek 2. (1999)",
                                    "stilus": "matematika",
                                    "szam": "13878",
                                    "nettoar": "3536",
                                    "lang": "1",
                                    "raktár készlet": "10"
                                },
                                {
                                    "ID": "199",
                                    "cim": "Manó Matek 3.",
                                    "stilus": "matematika",
                                    "szam": "9818",
                                    "nettoar": "4803",
                                    "lang": "1",
                                    "raktár készlet": "10"
                                },
                                {
                                    "ID": "200",
                                    "cim": "Manó Muzsika",
                                    "stilus": "zene",
                                    "szam": "6143",
                                    "nettoar": "4996",
                                    "lang": "1",
                                    "raktár készlet": "10"
                                },
                                {
                                    "ID": "201",
                                    "cim": "Manó Muzsika",
                                    "stilus": "zene",
                                    "szam": "8164",
                                    "nettoar": "3391",
                                    "lang": "1",
                                    "raktár készlet": "10"
                                },
                                {
                                    "ID": "202",
                                    "cim": "Manó Német 2.",
                                    "stilus": "nyelvtanító",
                                    "szam": "9834",
                                    "nettoar": "4642",
                                    "lang": "3",
                                    "raktár készlet": "10"
                                },
                                {
                                    "ID": "203",
                                    "cim": "Manó Olvasás 1.",
                                    "stilus": "nyelvtan",
                                    "szam": "8170",
                                    "nettoar": "5845",
                                    "lang": "1",
                                    "raktár készlet": "10"
                                },
                                {
                                    "ID": "204",
                                    "cim": "Manó Puzzle (2002)",
                                    "stilus": "játék",
                                    "szam": "13899",
                                    "nettoar": "6078",
                                    "lang": "1",
                                    "raktár készlet": "10"
                                },
                                {
                                    "ID": "205",
                                    "cim": "Matematika (1998)",
                                    "stilus": "matematika",
                                    "szam": "5051",
                                    "nettoar": "3105",
                                    "lang": "1",
                                    "raktár készlet": "10"
                                },
                                {
                                    "ID": "206",
                                    "cim": "Matematika felkészítő az érettségi és felvételi vizsgára",
                                    "stilus": "matematika",
                                    "szam": "2307",
                                    "nettoar": "4616",
                                    "lang": "1",
                                    "raktár készlet": "10"
                                },
                                {
                                    "ID": "207",
                                    "cim": "Matematika kalauz (1997)",
                                    "stilus": "matematika",
                                    "szam": "1856",
                                    "nettoar": "3315",
                                    "lang": "1",
                                    "raktár készlet": "10"
                                },
                                {
                                    "ID": "208",
                                    "cim": "Mig-29 (1998)",
                                    "stilus": "játék",
                                    "szam": "4463",
                                    "nettoar": "5040",
                                    "lang": "2",
                                    "raktár készlet": "10"
                                },
                                {
                                    "ID": "209",
                                    "cim": "Mikszáth Kálmán összes művei",
                                    "stilus": "irodalom",
                                    "szam": "4981",
                                    "nettoar": "4786",
                                    "lang": "1",
                                    "raktár készlet": "10"
                                },
                                {
                                    "ID": "210",
                                    "cim": "Mini Manó Tavasz",
                                    "stilus": "ismeretterjesztő",
                                    "szam": "11149",
                                    "nettoar": "4727",
                                    "lang": "1",
                                    "raktár készlet": "10"
                                },
                                {
                                    "ID": "211",
                                    "cim": "MoBi Mouse: A fordító egér",
                                    "stilus": "fordító program",
                                    "szam": "8135",
                                    "nettoar": "5036",
                                    "lang": "8",
                                    "raktár készlet": "10"
                                },
                                {
                                    "ID": "212",
                                    "cim": "Monopoly Junior",
                                    "stilus": "játék",
                                    "szam": "12317",
                                    "nettoar": "3974",
                                    "lang": "2",
                                    "raktár készlet": "10"
                                },
                                {
                                    "ID": "213",
                                    "cim": "Mons Sacer Pannoniae (2001)",
                                    "stilus": "ismeretterjesztő",
                                    "szam": "13896",
                                    "nettoar": "4410",
                                    "lang": "1",
                                    "raktár készlet": "10"
                                },
                                {
                                    "ID": "214",
                                    "cim": "Moving Puzzle Action Flight (2000)",
                                    "stilus": "játék",
                                    "szam": "10158",
                                    "nettoar": "5477",
                                    "lang": "2",
                                    "raktár készlet": "10"
                                },
                                {
                                    "ID": "215",
                                    "cim": "Multimédiás Menedzsment Könyvtár 1. - Változásmenedzsment",
                                    "stilus": "ismeretterjesztő",
                                    "szam": "8726",
                                    "nettoar": "6057",
                                    "lang": "1",
                                    "raktár készlet": "10"
                                },
                                {
                                    "ID": "216",
                                    "cim": "Multimédiás Menedzsment Könyvtár 2. - Önszervezés",
                                    "stilus": "ismeretterjesztő",
                                    "szam": "8727",
                                    "nettoar": "3279",
                                    "lang": "1",
                                    "raktár készlet": "10"
                                },
                                {
                                    "ID": "217",
                                    "cim": "Musique! (1997)",
                                    "stilus": "zene",
                                    "szam": "4842",
                                    "nettoar": "5336",
                                    "lang": "2",
                                    "raktár készlet": "10"
                                },
                                {
                                    "ID": "218",
                                    "cim": "Művészet és mesterség",
                                    "stilus": "művészet",
                                    "szam": "8435",
                                    "nettoar": "6098",
                                    "lang": "1",
                                    "raktár készlet": "10"
                                },
                                {
                                    "ID": "219",
                                    "cim": "Művészet és művészek (2002)",
                                    "stilus": "művészet",
                                    "szam": "13302",
                                    "nettoar": "3490",
                                    "lang": "1",
                                    "raktár készlet": "10"
                                },
                                {
                                    "ID": "220",
                                    "cim": "Nagy képes világtörténet (Matczáli Henrik) (1998)",
                                    "stilus": "történelem",
                                    "szam": "13971",
                                    "nettoar": "4387",
                                    "lang": "1",
                                    "raktár készlet": "10"
                                },
                                {
                                    "ID": "221",
                                    "cim": "Nagy vicc tár",
                                    "stilus": "humor",
                                    "szam": "3862",
                                    "nettoar": "5573",
                                    "lang": "1",
                                    "raktár készlet": "10"
                                },
                                {
                                    "ID": "222",
                                    "cim": "A Nagybányai Festőiskola (1998)",
                                    "stilus": "művészet",
                                    "szam": "3769",
                                    "nettoar": "4877",
                                    "lang": "1",
                                    "raktár készlet": "10"
                                },
                                {
                                    "ID": "223",
                                    "cim": "NASA 1.",
                                    "stilus": "csillagászat",
                                    "szam": "3824",
                                    "nettoar": "5968",
                                    "lang": "1",
                                    "raktár készlet": "10"
                                },
                                {
                                    "ID": "224",
                                    "cim": "NASA 2.",
                                    "stilus": "csillagászat",
                                    "szam": "3825",
                                    "nettoar": "4147",
                                    "lang": "1",
                                    "raktár készlet": "10"
                                },
                                {
                                    "ID": "225",
                                    "cim": "Na, So Was? - Minden helyzetben otthonosan",
                                    "stilus": "nyelvtanító",
                                    "szam": "7864",
                                    "nettoar": "3600",
                                    "lang": "3",
                                    "raktár készlet": "10"
                                },
                                {
                                    "ID": "226",
                                    "cim": "Német : 8-10 éveseknek (2002)",
                                    "stilus": "nyelvtanító",
                                    "szam": "13318",
                                    "nettoar": "3754",
                                    "lang": "3",
                                    "raktár készlet": "10"
                                },
                                {
                                    "ID": "227",
                                    "cim": "Német szótanító CD-ROM",
                                    "stilus": "nyelvtanító",
                                    "szam": "4226",
                                    "nettoar": "3313",
                                    "lang": "3",
                                    "raktár készlet": "10"
                                },
                                {
                                    "ID": "228",
                                    "cim": "Németh László összes műve",
                                    "stilus": "irodalom",
                                    "szam": "11682",
                                    "nettoar": "4497",
                                    "lang": "1",
                                    "raktár készlet": "10"
                                },
                                {
                                    "ID": "229",
                                    "cim": "New York : a tragédiák városa (2001)",
                                    "stilus": "ismeretterjesztő",
                                    "szam": "13032",
                                    "nettoar": "3723",
                                    "lang": "1",
                                    "raktár készlet": "10"
                                },
                                {
                                    "ID": "230",
                                    "cim": "NHL 2001",
                                    "stilus": "játék (jégkorong)",
                                    "szam": "10904",
                                    "nettoar": "5242",
                                    "lang": "2",
                                    "raktár készlet": "10"
                                },
                                {
                                    "ID": "231",
                                    "cim": "Nincs királyi út - A matematika kultúrtörténete",
                                    "stilus": "matematika",
                                    "szam": "7605",
                                    "nettoar": "4353",
                                    "lang": "1",
                                    "raktár készlet": "10"
                                },
                                {
                                    "ID": "232",
                                    "cim": "Nyelvész : Angol és német haladóknak (1997)",
                                    "stilus": "nyelvtanító",
                                    "szam": "1415",
                                    "nettoar": "3522",
                                    "lang": "2",
                                    "raktár készlet": "10"
                                },
                                {
                                    "ID": "233",
                                    "cim": "Nyelvtan összefoglaló : érettségi előkészítő (2002)",
                                    "stilus": "nyelvtan",
                                    "szam": "13715",
                                    "nettoar": "3688",
                                    "lang": "1",
                                    "raktár készlet": "10"
                                },
                                {
                                    "ID": "234",
                                    "cim": "Az óceán világa - Maldiv szigetek (2000)",
                                    "stilus": "földrajz",
                                    "szam": "10212",
                                    "nettoar": "5833",
                                    "lang": "1",
                                    "raktár készlet": "10"
                                },
                                {
                                    "ID": "235",
                                    "cim": "Ókori lexikon",
                                    "stilus": "történelem",
                                    "szam": "11670",
                                    "nettoar": "3122",
                                    "lang": "1",
                                    "raktár készlet": "10"
                                },
                                {
                                    "ID": "236",
                                    "cim": "Olasz-magyar, magyar-olasz digitális szótár",
                                    "stilus": "szótár",
                                    "szam": "12331",
                                    "nettoar": "4107",
                                    "lang": "4",
                                    "raktár készlet": "10"
                                },
                                {
                                    "ID": "237",
                                    "cim": "Olasz szótanító CD-ROM",
                                    "stilus": "nyelvtanító",
                                    "szam": "4070",
                                    "nettoar": "5108",
                                    "lang": "4",
                                    "raktár készlet": "10"
                                },
                                {
                                    "ID": "238",
                                    "cim": "Orosz (1998)",
                                    "stilus": "nyelvtanító",
                                    "szam": "4891",
                                    "nettoar": "6009",
                                    "lang": "5",
                                    "raktár készlet": "10"
                                },
                                {
                                    "ID": "239",
                                    "cim": "Orosz-magyar nagyszótár",
                                    "stilus": "szótár",
                                    "szam": "8322",
                                    "nettoar": "4666",
                                    "lang": "5",
                                    "raktár készlet": "10"
                                },
                                {
                                    "ID": "240",
                                    "cim": "Az Országos Széchényi Könyvtár corvinái, 2002 (2002)",
                                    "stilus": "történelem",
                                    "szam": "13847",
                                    "nettoar": "4753",
                                    "lang": "1",
                                    "raktár készlet": "10"
                                },
                                {
                                    "ID": "241",
                                    "cim": "Az Osztrák-Magyar Monarchia írásban és képekben (2001)",
                                    "stilus": "történelem",
                                    "szam": "13957",
                                    "nettoar": "4359",
                                    "lang": "1",
                                    "raktár készlet": "10"
                                },
                                {
                                    "ID": "242",
                                    "cim": "Paddle Bash (2001)",
                                    "stilus": "játék",
                                    "szam": "10900",
                                    "nettoar": "3937",
                                    "lang": "2",
                                    "raktár készlet": "10"
                                },
                                {
                                    "ID": "243",
                                    "cim": "Pannon Enciklopédia (1998)",
                                    "stilus": "történelem",
                                    "szam": "4004",
                                    "nettoar": "4606",
                                    "lang": "1",
                                    "raktár készlet": "10"
                                },
                                {
                                    "ID": "244",
                                    "cim": "Pannonhalmi Főapátság (2001)",
                                    "stilus": "történelem",
                                    "szam": "13896",
                                    "nettoar": "5817",
                                    "lang": "1",
                                    "raktár készlet": "10"
                                },
                                {
                                    "ID": "245",
                                    "cim": "Panzer General III: Scorched Earth (2000)",
                                    "stilus": "játék",
                                    "szam": "14253",
                                    "nettoar": "6058",
                                    "lang": "2",
                                    "raktár készlet": "10"
                                },
                                {
                                    "ID": "246",
                                    "cim": "People's General (1998)",
                                    "stilus": "játék",
                                    "szam": "3946",
                                    "nettoar": "5623",
                                    "lang": "2",
                                    "raktár készlet": "10"
                                },
                                {
                                    "ID": "247",
                                    "cim": "Petőfi Sándor: Arany Lacinak (2002)",
                                    "stilus": "irodalom",
                                    "szam": "13435",
                                    "nettoar": "5488",
                                    "lang": "1",
                                    "raktár készlet": "10"
                                },
                                {
                                    "ID": "248",
                                    "cim": "Petőfi Sándor összes költeményei",
                                    "stilus": "irodalom",
                                    "szam": "8543",
                                    "nettoar": "3782",
                                    "lang": "1",
                                    "raktár készlet": "10"
                                },
                                {
                                    "ID": "249",
                                    "cim": "Plane Crazy",
                                    "stilus": "játék",
                                    "szam": "10205",
                                    "nettoar": "5011",
                                    "lang": "2",
                                    "raktár készlet": "10"
                                },
                                {
                                    "ID": "250",
                                    "cim": "Quake III. (2001)",
                                    "stilus": "játék",
                                    "szam": "14248-249",
                                    "nettoar": "3144",
                                    "lang": "2",
                                    "raktár készlet": "10"
                                },
                                {
                                    "ID": "251",
                                    "cim": "Rákóczi-szabadságharc",
                                    "stilus": "történelem",
                                    "szam": "8552",
                                    "nettoar": "4778",
                                    "lang": "1",
                                    "raktár készlet": "10"
                                },
                                {
                                    "ID": "252",
                                    "cim": "Rally Championship",
                                    "stilus": "játék (autóverseny)",
                                    "szam": "10190",
                                    "nettoar": "3106",
                                    "lang": "2",
                                    "raktár készlet": "10"
                                },
                                {
                                    "ID": "253",
                                    "cim": "Rayman: Matek és olvasás",
                                    "stilus": "matematika, nyelvtan",
                                    "szam": "7969",
                                    "nettoar": "4484",
                                    "lang": "1",
                                    "raktár készlet": "10"
                                },
                                {
                                    "ID": "254",
                                    "cim": "Re-Volt (1999)",
                                    "stilus": "játék - autós",
                                    "szam": "6828",
                                    "nettoar": "3989",
                                    "lang": "2",
                                    "raktár készlet": "10"
                                },
                                {
                                    "ID": "255",
                                    "cim": "The Settlers III. 1-2. (1998)",
                                    "stilus": "játék",
                                    "szam": "3968-3968",
                                    "nettoar": "4267",
                                    "lang": "2",
                                    "raktár készlet": "10"
                                },
                                {
                                    "ID": "256",
                                    "cim": "The Settlers IV. (2001)",
                                    "stilus": "játék",
                                    "szam": "14237",
                                    "nettoar": "4143",
                                    "lang": "1",
                                    "raktár készlet": "10"
                                },
                                {
                                    "ID": "257",
                                    "cim": "Shanghai (1997)",
                                    "stilus": "ismeretterjesztő",
                                    "szam": "3924",
                                    "nettoar": "5900",
                                    "lang": "2",
                                    "raktár készlet": "10"
                                },
                                {
                                    "ID": "258",
                                    "cim": "The Sims",
                                    "stilus": "játék",
                                    "szam": "12358",
                                    "nettoar": "4043",
                                    "lang": "2",
                                    "raktár készlet": "10"
                                },
                                {
                                    "ID": "259",
                                    "cim": "Sonic Racer",
                                    "stilus": "játék (autóverseny)",
                                    "szam": "11009",
                                    "nettoar": "3450",
                                    "lang": "2",
                                    "raktár készlet": "10"
                                },
                                {
                                    "ID": "260",
                                    "cim": "Spanyol (1997)",
                                    "stilus": "nyelvtanító",
                                    "szam": "4898",
                                    "nettoar": "3775",
                                    "lang": "6",
                                    "raktár készlet": "10"
                                },
                                {
                                    "ID": "261",
                                    "cim": "Spanyol-magyar szótár",
                                    "stilus": "szótár",
                                    "szam": "8323",
                                    "nettoar": "5734",
                                    "lang": "6",
                                    "raktár készlet": "10"
                                },
                                {
                                    "ID": "262",
                                    "cim": "Star Wars: Battle for Naboo",
                                    "stilus": "játék",
                                    "szam": "11006",
                                    "nettoar": "3520",
                                    "lang": "2",
                                    "raktár készlet": "10"
                                },
                                {
                                    "ID": "263",
                                    "cim": "Star Wars: Force Commander (2001)",
                                    "stilus": "játék",
                                    "szam": "14246",
                                    "nettoar": "5785",
                                    "lang": "2",
                                    "raktár készlet": "10"
                                },
                                {
                                    "ID": "264",
                                    "cim": "Star Wars : Rogue Squadron 3D",
                                    "stilus": "játék",
                                    "szam": "12326",
                                    "nettoar": "5803",
                                    "lang": "2",
                                    "raktár készlet": "10"
                                },
                                {
                                    "ID": "265",
                                    "cim": "Supreme Snowboarding",
                                    "stilus": "játék",
                                    "szam": "8051",
                                    "nettoar": "4151",
                                    "lang": "2",
                                    "raktár készlet": "10"
                                },
                                {
                                    "ID": "266",
                                    "cim": "Szabadítsd ki a kisoroszlánt!",
                                    "stilus": "játék",
                                    "szam": "7986",
                                    "nettoar": "5537",
                                    "lang": "1",
                                    "raktár készlet": "10"
                                },
                                {
                                    "ID": "267",
                                    "cim": "Szabadságharc 1848-49 (1988)",
                                    "stilus": "történelem",
                                    "szam": "3794",
                                    "nettoar": "6060",
                                    "lang": "1",
                                    "raktár készlet": "10"
                                },
                                {
                                    "ID": "268",
                                    "cim": "A szabadságharc népzenei emlékei",
                                    "stilus": "zene",
                                    "szam": "9603",
                                    "nettoar": "5187",
                                    "lang": "1",
                                    "raktár készlet": "10"
                                },
                                {
                                    "ID": "269",
                                    "cim": "Szolfézs: Kezdőknek és haladóknak",
                                    "stilus": "zene",
                                    "szam": "8237",
                                    "nettoar": "4492",
                                    "lang": "1",
                                    "raktár készlet": "10"
                                },
                                {
                                    "ID": "270",
                                    "cim": "Talk To Me Deutsch 2-4.",
                                    "stilus": "nyelvtanító",
                                    "szam": "3684-3691-3696",
                                    "nettoar": "5990",
                                    "lang": "3",
                                    "raktár készlet": "10"
                                },
                                {
                                    "ID": "271",
                                    "cim": "Talk To Me English 1.",
                                    "stilus": "nyelvtanító",
                                    "szam": "3516",
                                    "nettoar": "4743",
                                    "lang": "2",
                                    "raktár készlet": "10"
                                },
                                {
                                    "ID": "272",
                                    "cim": "Talk To Me Francais 1-2.",
                                    "stilus": "nyelvtanító",
                                    "szam": "4152-4138",
                                    "nettoar": "4973",
                                    "lang": "7",
                                    "raktár készlet": "10"
                                },
                                {
                                    "ID": "273",
                                    "cim": "Tankok, tüzérség (2002)",
                                    "stilus": "történelem",
                                    "szam": "14872",
                                    "nettoar": "6084",
                                    "lang": "1",
                                    "raktár készlet": "10"
                                },
                                {
                                    "ID": "274",
                                    "cim": "Tanulj tovább! 2000 (2000)",
                                    "stilus": "ismeretterjesztő",
                                    "szam": "8986",
                                    "nettoar": "4310",
                                    "lang": "1",
                                    "raktár készlet": "10"
                                },
                                {
                                    "ID": "275",
                                    "cim": "Táplálkozás, életmód mesterfokon (2002)",
                                    "stilus": "ismeretterjesztő",
                                    "szam": "14921",
                                    "nettoar": "4480",
                                    "lang": "1",
                                    "raktár készlet": "10"
                                },
                                {
                                    "ID": "276",
                                    "cim": "Target English (1998)",
                                    "stilus": "nyelvtanító",
                                    "szam": "4655",
                                    "nettoar": "6061",
                                    "lang": "2",
                                    "raktár készlet": "10"
                                },
                                {
                                    "ID": "277",
                                    "cim": "Tarzan",
                                    "stilus": "játék",
                                    "szam": "6860",
                                    "nettoar": "3737",
                                    "lang": "2",
                                    "raktár készlet": "10"
                                },
                                {
                                    "ID": "278",
                                    "cim": "Terrorizmus (2002)",
                                    "stilus": "ismeretterjesztő",
                                    "szam": "14862",
                                    "nettoar": "4877",
                                    "lang": "1",
                                    "raktár készlet": "10"
                                },
                                {
                                    "ID": "279",
                                    "cim": "Testbeszéd (1998)",
                                    "stilus": "ismeretterjesztő",
                                    "szam": "4712",
                                    "nettoar": "5382",
                                    "lang": "1",
                                    "raktár készlet": "10"
                                },
                                {
                                    "ID": "280",
                                    "cim": "Tesztre készen: angol (1998)",
                                    "stilus": "nyelvtanító",
                                    "szam": "4811",
                                    "nettoar": "4157",
                                    "lang": "2",
                                    "raktár készlet": "10"
                                },
                                {
                                    "ID": "281",
                                    "cim": "Tesztre készen: német (1998)",
                                    "stilus": "nyelvtanító",
                                    "szam": "4831",
                                    "nettoar": "4566",
                                    "lang": "3",
                                    "raktár készlet": "10"
                                },
                                {
                                    "ID": "282",
                                    "cim": "Thaiföldi ízek (1999)",
                                    "stilus": "gasztronómia",
                                    "szam": "8745",
                                    "nettoar": "5250",
                                    "lang": "1",
                                    "raktár készlet": "10"
                                },
                                {
                                    "ID": "283",
                                    "cim": "Timeshock!",
                                    "stilus": "játék",
                                    "szam": "9486",
                                    "nettoar": "5159",
                                    "lang": "2",
                                    "raktár készlet": "10"
                                },
                                {
                                    "ID": "284",
                                    "cim": "Tomi megmenti a tengert (2000)",
                                    "stilus": "játék",
                                    "szam": "14232",
                                    "nettoar": "4325",
                                    "lang": "1",
                                    "raktár készlet": "10"
                                },
                                {
                                    "ID": "285",
                                    "cim": "Touché - The Adventures of the Fifth",
                                    "stilus": "játék",
                                    "szam": "760",
                                    "nettoar": "4548",
                                    "lang": "2",
                                    "raktár készlet": "10"
                                },
                                {
                                    "ID": "286",
                                    "cim": "Toy Story 2.",
                                    "stilus": "játék",
                                    "szam": "8043",
                                    "nettoar": "3809",
                                    "lang": "2",
                                    "raktár készlet": "10"
                                },
                                {
                                    "ID": "287",
                                    "cim": "Történelem (1998)",
                                    "stilus": "történelem",
                                    "szam": "3909",
                                    "nettoar": "3737",
                                    "lang": "1",
                                    "raktár készlet": "10"
                                },
                                {
                                    "ID": "288",
                                    "cim": "Történelem : 10-14 éveseknek (2002)",
                                    "stilus": "történelem",
                                    "szam": "13500",
                                    "nettoar": "3737",
                                    "lang": "1",
                                    "raktár készlet": "10"
                                },
                                {
                                    "ID": "289",
                                    "cim": "Történelem : középiskola 1. osztály (2002)",
                                    "stilus": "történelem",
                                    "szam": "13722",
                                    "nettoar": "3736",
                                    "lang": "1",
                                    "raktár készlet": "10"
                                },
                                {
                                    "ID": "290",
                                    "cim": "Történelem : középiskola 4. osztály (2002)",
                                    "stilus": "történelem",
                                    "szam": "13729",
                                    "nettoar": "5635",
                                    "lang": "1",
                                    "raktár készlet": "10"
                                },
                                {
                                    "ID": "291",
                                    "cim": "Traffic Giant",
                                    "stilus": "játék",
                                    "szam": "12327",
                                    "nettoar": "4385",
                                    "lang": "NULL",
                                    "raktár készlet": "10"
                                },
                                {
                                    "ID": "292",
                                    "cim": "Train Simulator (2002)",
                                    "stilus": "játék",
                                    "szam": "14250-251",
                                    "nettoar": "5428",
                                    "lang": "2",
                                    "raktár készlet": "10"
                                },
                                {
                                    "ID": "293",
                                    "cim": "Trickstyle",
                                    "stilus": "játék",
                                    "szam": "8048",
                                    "nettoar": "4651",
                                    "lang": "2",
                                    "raktár készlet": "10"
                                },
                                {
                                    "ID": "294",
                                    "cim": "A tudás próbája (2001)",
                                    "stilus": "ismeretterjesztő",
                                    "szam": "14230",
                                    "nettoar": "5461",
                                    "lang": "1",
                                    "raktár készlet": "10"
                                },
                                {
                                    "ID": "295",
                                    "cim": "Turul : 1883-1900 (2002)",
                                    "stilus": "ismeretterjesztő",
                                    "szam": "13953",
                                    "nettoar": "5238",
                                    "lang": "1",
                                    "raktár készlet": "10"
                                },
                                {
                                    "ID": "296",
                                    "cim": "UEFA Champions Leage Season",
                                    "stilus": "játék (labdarúgás)",
                                    "szam": "9387",
                                    "nettoar": "5522",
                                    "lang": "1",
                                    "raktár készlet": "10"
                                },
                                {
                                    "ID": "297",
                                    "cim": "Új Könyvek 1994-2000 (2002)",
                                    "stilus": "ismeretterjesztő",
                                    "szam": "14186",
                                    "nettoar": "6024",
                                    "lang": "1",
                                    "raktár készlet": "10"
                                },
                                {
                                    "ID": "298",
                                    "cim": "Az Univerzum története",
                                    "stilus": "csillagászat",
                                    "szam": "7591",
                                    "nettoar": "3654",
                                    "lang": "1",
                                    "raktár készlet": "10"
                                },
                                {
                                    "ID": "299",
                                    "cim": "Utazás a csillagok között (1998)",
                                    "stilus": "csillagászat",
                                    "szam": "3647",
                                    "nettoar": "5705",
                                    "lang": "1",
                                    "raktár készlet": "10"
                                },
                                {
                                    "ID": "300",
                                    "cim": "Utazás a Naprendszerben",
                                    "stilus": "csillagászat",
                                    "szam": "1071",
                                    "nettoar": "3582",
                                    "lang": "1",
                                    "raktár készlet": "10"
                                },
                                {
                                    "ID": "301",
                                    "cim": "Utazás a Naprendszerben 2.",
                                    "stilus": "csillagászat",
                                    "szam": "8162",
                                    "nettoar": "5992",
                                    "lang": "1",
                                    "raktár készlet": "10"
                                },
                                {
                                    "ID": "302",
                                    "cim": "Úton 2. (1998)",
                                    "stilus": "kresz",
                                    "szam": "3838",
                                    "nettoar": "5476",
                                    "lang": "1",
                                    "raktár készlet": "10"
                                },
                                {
                                    "ID": "303",
                                    "cim": "Üzleti protokoll CD (2002)",
                                    "stilus": "ismeretterjesztő",
                                    "szam": "13872",
                                    "nettoar": "4891",
                                    "lang": "1",
                                    "raktár készlet": "10"
                                },
                                {
                                    "ID": "304",
                                    "cim": "Várak, kastélyok, legendák 1.",
                                    "stilus": "történelem",
                                    "szam": "11170",
                                    "nettoar": "4237",
                                    "lang": "1",
                                    "raktár készlet": "10"
                                },
                                {
                                    "ID": "305",
                                    "cim": "Várak, kastélyok, legendák 2. (2002)",
                                    "stilus": "történelem",
                                    "szam": "13829",
                                    "nettoar": "3313",
                                    "lang": "1",
                                    "raktár készlet": "10"
                                },
                                {
                                    "ID": "306",
                                    "cim": "A varázslatos emberi test (1998)",
                                    "stilus": "biológia",
                                    "szam": "7918",
                                    "nettoar": "4863",
                                    "lang": "1",
                                    "raktár készlet": "10"
                                },
                                {
                                    "ID": "307",
                                    "cim": "Varázslatos szülinap",
                                    "stilus": "játék",
                                    "szam": "8020",
                                    "nettoar": "5712",
                                    "lang": "1",
                                    "raktár készlet": "10"
                                },
                                {
                                    "ID": "308",
                                    "cim": "Varázslatos történelmi nyomozás",
                                    "stilus": "történelem",
                                    "szam": "9661",
                                    "nettoar": "4395",
                                    "lang": "1",
                                    "raktár készlet": "10"
                                },
                                {
                                    "ID": "309",
                                    "cim": "A városi élet a Római Birodalomban (1999)",
                                    "stilus": "történelem",
                                    "szam": "9110",
                                    "nettoar": "5749",
                                    "lang": "1",
                                    "raktár készlet": "10"
                                },
                                {
                                    "ID": "310",
                                    "cim": "A Vazul-ág (1038-1301) (1997)",
                                    "stilus": "történelem",
                                    "szam": "1548",
                                    "nettoar": "4060",
                                    "lang": "1",
                                    "raktár készlet": "10"
                                },
                                {
                                    "ID": "311",
                                    "cim": "Világatlasz '99 (1998)",
                                    "stilus": "földrajz",
                                    "szam": "4313",
                                    "nettoar": "5399",
                                    "lang": "1",
                                    "raktár készlet": "10"
                                },
                                {
                                    "ID": "312",
                                    "cim": "Világatlasz '99 (1998)",
                                    "stilus": "földrajz",
                                    "szam": "4314",
                                    "nettoar": "5202",
                                    "lang": "1",
                                    "raktár készlet": "10"
                                },
                                {
                                    "ID": "313",
                                    "cim": "Világatlasz (2001)",
                                    "stilus": "földrajz",
                                    "szam": "13372",
                                    "nettoar": "3446",
                                    "lang": "1",
                                    "raktár készlet": "10"
                                },
                                {
                                    "ID": "314",
                                    "cim": "Világirodalom : Az ókortól napjainkig (2001)",
                                    "stilus": "irodalom",
                                    "szam": "10340",
                                    "nettoar": "3595",
                                    "lang": "1",
                                    "raktár készlet": "10"
                                },
                                {
                                    "ID": "315",
                                    "cim": "Volt egyszer egy Magyarország",
                                    "stilus": "történelem",
                                    "szam": "608",
                                    "nettoar": "5302",
                                    "lang": "1",
                                    "raktár készlet": "10"
                                },
                                {
                                    "ID": "316",
                                    "cim": "Warcraft III. (2002)",
                                    "stilus": "játék",
                                    "szam": "14236",
                                    "nettoar": "5774",
                                    "lang": "2",
                                    "raktár készlet": "10"
                                },
                                {
                                    "ID": "317",
                                    "cim": "William Shakespeare összes művei",
                                    "stilus": "irodalom",
                                    "szam": "7915",
                                    "nettoar": "4437",
                                    "lang": "1",
                                    "raktár készlet": "10"
                                },
                                {
                                    "ID": "318",
                                    "cim": "Zielpunkt Deutsch (1997)",
                                    "stilus": "nyelvtanító",
                                    "szam": "4693",
                                    "nettoar": "4144",
                                    "lang": "3",
                                    "raktár készlet": "10"
                                },
                                {
                                    "ID": "319",
                                    "cim": "Zöld Ödön a földgömbön",
                                    "stilus": "földrajz",
                                    "szam": "9869",
                                    "nettoar": "6065",
                                    "lang": "1",
                                    "raktár készlet": "10"
                                }
                            ]
                        },
                        "text/html": [
                            "<table>",
                            "<tr><th>ID</th><th>cim</th><th>stilus</th><th>szam</th><th>nettoar</th><th>lang</th><th>raktár készlet</th></tr>",
                            "<tr><td>1</td><td>NULL</td><td>történelem</td><td>12342</td><td>3859</td><td>1</td><td>10</td></tr>",
                            "<tr><td>2</td><td>A II. világháború története (1999)</td><td>történelem</td><td>7224</td><td>4244</td><td>1</td><td>10</td></tr>",
                            "<tr><td>3</td><td>3D Dinosaur - adventure</td><td>történelem</td><td>576</td><td>5041</td><td>2</td><td>10</td></tr>",
                            "<tr><td>4</td><td>3D virtuális origami (2000)</td><td>játék</td><td>14235-236</td><td>5355</td><td>1</td><td>10</td></tr>",
                            "<tr><td>5</td><td>Az 1848-1849-iki szabadságharc története (2002)</td><td>történelem</td><td>13962-963</td><td>5700</td><td>1</td><td>8</td></tr>",
                            "<tr><td>6</td><td>Ablak zsiráf (1999)</td><td>ismeretterjesztő</td><td>6405</td><td>3540</td><td>1</td><td>10</td></tr>",
                            "<tr><td>7</td><td>Ady Endre összes művei (1999)</td><td>irodalom</td><td>6334</td><td>4241</td><td>1</td><td>10</td></tr>",
                            "<tr><td>8</td><td>Afrika</td><td>földrajz</td><td>4248</td><td>5318</td><td>1</td><td>10</td></tr>",
                            "<tr><td>9</td><td>Age of Empires (2000)</td><td>játék</td><td>14242-244</td><td>4482</td><td>2</td><td>10</td></tr>",
                            "<tr><td>10</td><td>Airport Inc.</td><td>játék (repülős)</td><td>11026</td><td>4311</td><td>2</td><td>10</td></tr>",
                            "<tr><td>11</td><td>American Rodeo : BullRider 2000 (2001)</td><td>játék (rodeó)</td><td>10067</td><td>5591</td><td>2</td><td>10</td></tr>",
                            "<tr><td>12</td><td>Angol : 8-10 éveseknek (2002)</td><td>nyelvtanító</td><td>13293</td><td>4853</td><td>2</td><td>10</td></tr>",
                            "<tr><td>13</td><td>Angol és német nyelvtani gyakorlatok (2002)</td><td>nyelvtanító</td><td>13794</td><td>4906</td><td>6</td><td>10</td></tr>",
                            "<tr><td>14</td><td>Angol szótanító CD-ROM</td><td>nyelvtanító</td><td>1722</td><td>4449</td><td>2</td><td>10</td></tr>",
                            "<tr><td>15</td><td>Angol szótanító CD-ROM</td><td>nyelvtanító</td><td>4202</td><td>4444</td><td>2</td><td>10</td></tr>",
                            "<tr><td>16</td><td>Angol szótár (1996)</td><td>szótár</td><td>1993</td><td>3509</td><td>2</td><td>10</td></tr>",
                            "<tr><td>17</td><td>Angol-magyar, Magyar-angol hangosszótár</td><td>szótár</td><td>4724</td><td>5151</td><td>2</td><td>10</td></tr>",
                            "<tr><td>18</td><td>Angol-magyar nagyszótár (Halász Előd)</td><td>szótár</td><td>7284</td><td>5638</td><td>2</td><td>10</td></tr>",
                            "<tr><td>19</td><td>Az áramvonalas fakanál</td><td>gasztronómia</td><td>8500</td><td>5706</td><td>1</td><td>10</td></tr>",
                            "<tr><td>20</td><td>Arany János: A bajusz (2002)</td><td>irodalom</td><td>13424</td><td>3391</td><td>1</td><td>10</td></tr>",
                            "<tr><td>21</td><td>Az Árpád-ház története</td><td>történelem</td><td>10124</td><td>5022</td><td>1</td><td>10</td></tr>",
                            "<tr><td>22</td><td>Art Attack (1998)</td><td>játék</td><td>9074</td><td>3914</td><td>2</td><td>10</td></tr>",
                            "<tr><td>23</td><td>Art puzzle (1998)</td><td>ismeretterjesztő</td><td>2951</td><td>5786</td><td>2</td><td>10</td></tr>",
                            "<tr><td>24</td><td>Az ásványok világa</td><td>ásványtan</td><td>8473</td><td>5624</td><td>1</td><td>10</td></tr>",
                            "<tr><td>25</td><td>Ausztrália</td><td>földrajz</td><td>9554</td><td>5326</td><td>1</td><td>10</td></tr>",
                            "<tr><td>26</td><td>Auto 2000 - Kerékvilág</td><td>ismeretterjesztő</td><td>7873</td><td>4463</td><td>1</td><td>10</td></tr>",
                            "<tr><td>27</td><td>Ázsia (2000)</td><td>földrajz</td><td>8974</td><td>3123</td><td>1</td><td>10</td></tr>",
                            "<tr><td>28</td><td>Biblia (1995)</td><td>ismeretterjesztő</td><td>805</td><td>4440</td><td>1</td><td>10</td></tr>",
                            "<tr><td>29</td><td>Biológia &#39;97</td><td>biológia</td><td>1161</td><td>5543</td><td>1</td><td>10</td></tr>",
                            "<tr><td>30</td><td>Biológia (2000)</td><td>biológia</td><td>8982</td><td>3819</td><td>1</td><td>10</td></tr>",
                            "<tr><td>31</td><td>Biológia (2001)</td><td>biológia</td><td>10318</td><td>3792</td><td>1</td><td>10</td></tr>",
                            "<tr><td>32</td><td>Biológia : 12-14 éveseknek (2003)</td><td>biológia</td><td>14665</td><td>3482</td><td>1</td><td>10</td></tr>",
                            "<tr><td>33</td><td>Blinky Bill : A fantasztikus léggömbkaland</td><td>játék</td><td>10195</td><td>4076</td><td>1</td><td>10</td></tr>",
                            "<tr><td>34</td><td>Broken Sword II. (cop. 1997)</td><td>játék</td><td>1735-1736</td><td>4502</td><td>2</td><td>10</td></tr>",
                            "<tr><td>35</td><td>Budapest kalauz</td><td>földrajz</td><td>7759</td><td>4054</td><td>1</td><td>10</td></tr>",
                            "<tr><td>36</td><td>Budapest Museum</td><td>művészet</td><td>7777</td><td>5292</td><td>1</td><td>10</td></tr>",
                            "<tr><td>37</td><td>Buggy</td><td>játék</td><td>12313</td><td>5830</td><td>2</td><td>10</td></tr>",
                            "<tr><td>38</td><td>Byte Magyarország (2002)</td><td>számítástechnika</td><td>13993</td><td>3277</td><td>1</td><td>10</td></tr>",
                            "<tr><td>39</td><td>Caesar III.</td><td>játék</td><td>12322</td><td>4136</td><td>2</td><td>10</td></tr>",
                            "<tr><td>40</td><td>Capitalism II. (2001)</td><td>játék</td><td>14252</td><td>6062</td><td>2</td><td>10</td></tr>",
                            "<tr><td>41</td><td>Capitalism Plus</td><td>játék</td><td>1739</td><td>5030</td><td>2</td><td>10</td></tr>",
                            "<tr><td>42</td><td>Castle Explorer</td><td>játék (történelmi)</td><td>560</td><td>3707</td><td>2</td><td>10</td></tr>",
                            "<tr><td>43</td><td>CD Panoráma 1-4. (1998)</td><td>ismeretterjesztő</td><td>4294-4374-75-76</td><td>5422</td><td>1</td><td>10</td></tr>",
                            "<tr><td>44</td><td>Computer iskola (1998)</td><td>számítástechnika</td><td>3742</td><td>5260</td><td>1</td><td>10</td></tr>",
                            "<tr><td>45</td><td>Csizmás kandúr (1998)</td><td>játék</td><td>5285</td><td>5932</td><td>1</td><td>10</td></tr>",
                            "<tr><td>46</td><td>Csodálatos univerzum (1997)</td><td>csillagászat</td><td>2128</td><td>4087</td><td>1</td><td>10</td></tr>",
                            "<tr><td>47</td><td>Dél-Amerika (1999)</td><td>földrajz</td><td>7049</td><td>3999</td><td>1</td><td>10</td></tr>",
                            "<tr><td>48</td><td>Dementia 1-5. (1997)</td><td>játék</td><td>2675-2679</td><td>5919</td><td>2</td><td>10</td></tr>",
                            "<tr><td>49</td><td>Deutsch: Anfanger (kezdő) + Telepítő </td><td>nyelvtanító</td><td>8121-8122</td><td>5633</td><td>3</td><td>10</td></tr>",
                            "<tr><td>50</td><td>Deutsch: Fortgeschrittene (haladó) + Installation</td><td>nyelvtanító</td><td>6976-6977</td><td>5784</td><td>3</td><td>10</td></tr>",
                            "<tr><td>51</td><td>Deutsch: Mittelstufe (középhaladó)+ Telepítő</td><td>nyelvtanító</td><td>8123-8124</td><td>4377</td><td>3</td><td>10</td></tr>",
                            "<tr><td>52</td><td>Diablo</td><td>játék</td><td>12321</td><td>5969</td><td>NULL</td><td>10</td></tr>",
                            "<tr><td>53</td><td>Diablo II. (2000)</td><td>játék</td><td>10039-40-41-42</td><td>4900</td><td>2</td><td>10</td></tr>",
                            "<tr><td>54</td><td>Dicső napok és hétköznapok 1848 - Digitális forrásgyűjtemény 1.</td><td>történelem</td><td>7793</td><td>5611</td><td>1</td><td>10</td></tr>",
                            "<tr><td>55</td><td>Dreams to Reality 1-2. (1997)</td><td>játék</td><td>3958-3959</td><td>4699</td><td>2</td><td>10</td></tr>",
                            "<tr><td>56</td><td>Duke Nukem 3D</td><td>játék</td><td>100</td><td>5474</td><td>2</td><td>10</td></tr>",
                            "<tr><td>57</td><td>Dungeon Keeper 2. (1999)</td><td>játék</td><td>6831</td><td>3369</td><td>2</td><td>10</td></tr>",
                            "<tr><td>58</td><td>E-Games : Collector&#39;s Edition (2001)</td><td>játék</td><td>9988</td><td>5583</td><td>2</td><td>10</td></tr>",
                            "<tr><td>59</td><td>Éléstár (1998)</td><td>gasztronómia</td><td>3014</td><td>3258</td><td>1</td><td>10</td></tr>",
                            "<tr><td>60</td><td>Élet a polgárosodó Magyarországon (2001)</td><td>történelem</td><td>13357</td><td>5572</td><td>1</td><td>10</td></tr>",
                            "<tr><td>61</td><td>Életképek 1848 (1998)</td><td>történelem</td><td>3874</td><td>4211</td><td>1</td><td>10</td></tr>",
                            "<tr><td>62</td><td>Az ember tragédiája</td><td>irodalom</td><td>7107</td><td>4295</td><td>1</td><td>10</td></tr>",
                            "<tr><td>63</td><td>Encarta World Atlas &#39;99 1-2. (1998)</td><td>ismeretterjesztő</td><td>4786-4787</td><td>5334</td><td>2</td><td>10</td></tr>",
                            "<tr><td>64</td><td>Enemy Engaged RAH-66</td><td>játék</td><td>11010</td><td>5217</td><td>2</td><td>10</td></tr>",
                            "<tr><td>65</td><td>English 1-2. + Telepítő</td><td>nyelvtanító</td><td>8118-8119-8120</td><td>5215</td><td>2</td><td>10</td></tr>",
                            "<tr><td>67</td><td>English: Intermediate (haladó)</td><td>nyelvtanító</td><td>8116-8117</td><td>3627</td><td>2</td><td>10</td></tr>",
                            "<tr><td>68</td><td>English by Stealth  lásd: Lopva angolul</td><td>NULL</td><td>NULL</td><td>4478</td><td>NULL</td><td>10</td></tr>",
                            "<tr><td>69</td><td>Erdély (1996)</td><td>földrajz</td><td>2768</td><td>4999</td><td>1</td><td>10</td></tr>",
                            "<tr><td>70</td><td>Espanol: Intermedio + Telepítő</td><td>nyelvtanító</td><td>8132-8133</td><td>3914</td><td>6</td><td>10</td></tr>",
                            "<tr><td>71</td><td>Espanol: Principiante + Telepítő</td><td>nyelvtanító</td><td>8130-8131</td><td>5882</td><td>6</td><td>10</td></tr>",
                            "<tr><td>72</td><td>Észak-Amerika</td><td>földrajz</td><td>6470</td><td>3994</td><td>1</td><td>10</td></tr>",
                            "<tr><td>73</td><td>Európa</td><td>földrajz</td><td>7825</td><td>5270</td><td>1</td><td>10</td></tr>",
                            "<tr><td>74</td><td>The F.A. Premier League Stars 2001</td><td>játék (labdarúgás)</td><td>10184</td><td>3871</td><td>2</td><td>10</td></tr>",
                            "<tr><td>75</td><td>Felvételi példatár : Angol</td><td>felvételi</td><td>11772</td><td>3876</td><td>2</td><td>10</td></tr>",
                            "<tr><td>76</td><td>Felvételi példatár : Biológia, földrajz</td><td>felvételi</td><td>11794</td><td>3215</td><td>1</td><td>10</td></tr>",
                            "<tr><td>77</td><td>Felvételi példatár : Kémia, fizika</td><td>felvételi</td><td>11826</td><td>5851</td><td>1</td><td>10</td></tr>",
                            "<tr><td>78</td><td>Felvételi példatár : Magyar nyelv és irodalom</td><td>felvételi</td><td>11845</td><td>5955</td><td>1</td><td>10</td></tr>",
                            "<tr><td>79</td><td>Felvételi példatár : Matematika</td><td>felvételi</td><td>11867</td><td>5009</td><td>1</td><td>10</td></tr>",
                            "<tr><td>80</td><td>Felvételi példatár : Német</td><td>felvételi</td><td>11894</td><td>3102</td><td>3</td><td>10</td></tr>",
                            "<tr><td>81</td><td>FIFA, 2000 (1999)</td><td>játék (labdarúgás)</td><td>14254</td><td>5059</td><td>2</td><td>10</td></tr>",
                            "<tr><td>82</td><td>Fighting Force (1998)</td><td>játék</td><td>3982</td><td>4800</td><td>2</td><td>10</td></tr>",
                            "<tr><td>83</td><td>Final Liberation (1997)</td><td>játék</td><td>2604</td><td>4632</td><td>2</td><td>10</td></tr>",
                            "<tr><td>84</td><td>Fitness mesterfokon / Béres Alexandra (2001)</td><td>sport</td><td>13053</td><td>4607</td><td>1</td><td>10</td></tr>",
                            "<tr><td>85</td><td>Fizika : 12-14 éveseknek (2002)</td><td>fizika</td><td>13465</td><td>3734</td><td>1</td><td>10</td></tr>",
                            "<tr><td>86</td><td>Fizika felkészítő az érettségi és felvételi vizsgára</td><td>fizika</td><td>2328</td><td>4810</td><td>1</td><td>10</td></tr>",
                            "<tr><td>87</td><td>Fizika világa (2001)</td><td>fizika</td><td>13778</td><td>5763</td><td>1</td><td>10</td></tr>",
                            "<tr><td>88</td><td>A Föld élővilága</td><td>ismeretterjesztő</td><td>11081</td><td>5900</td><td>1</td><td>10</td></tr>",
                            "<tr><td>89</td><td>Földrajz: 10-14 éveseknek (2002)</td><td>földrajz</td><td>13484</td><td>3930</td><td>1</td><td>10</td></tr>",
                            "<tr><td>90</td><td>Földrajz: érettségi előkészítő (2002)</td><td>földrajz</td><td>13707</td><td>3173</td><td>1</td><td>10</td></tr>",
                            "<tr><td>91</td><td>Francais 1-2. + Telepítő</td><td>nyelvtanító</td><td>8127-8128-8129</td><td>4038</td><td>7</td><td>10</td></tr>",
                            "<tr><td>92</td><td>Francais: Débutan (kezdő) + Telepítő</td><td>nyelvtanító</td><td>8125-8126</td><td>3770</td><td>7</td><td>10</td></tr>",
                            "<tr><td>93</td><td>Francais: Moyen + Telepítő</td><td>nyelvtanító</td><td>6587-6588</td><td>5619</td><td>7</td><td>10</td></tr>",
                            "<tr><td>94</td><td>Francia-magyar szótár</td><td>szótár</td><td>8323</td><td>3566</td><td>7</td><td>10</td></tr>",
                            "<tr><td>95</td><td>Funschool in Dreamland (1995)</td><td>játék</td><td>4078</td><td>4766</td><td>2</td><td>10</td></tr>",
                            "<tr><td>96</td><td>Geolexikon 4.2 : földtani adatbázis (2002)</td><td>ismeretterjesztő</td><td>13232</td><td>4602</td><td>1</td><td>10</td></tr>",
                            "<tr><td>97</td><td>Gépírás 2000</td><td>gépírás</td><td>9803</td><td>3936</td><td>1</td><td>10</td></tr>",
                            "<tr><td>98</td><td>Gondolattár: aforizmák, szállóigék</td><td>ismeretterjesztő</td><td>9160</td><td>5346</td><td>1</td><td>10</td></tr>",
                            "<tr><td>99</td><td>GTA 2</td><td>játék (autóverseny)</td><td>11028</td><td>5005</td><td>2</td><td>10</td></tr>",
                            "<tr><td>100</td><td>Hadiflották I. (2002)</td><td>történelem</td><td>14849</td><td>5124</td><td>1</td><td>10</td></tr>",
                            "<tr><td>101</td><td>Hadtudományi lexikon (1998)</td><td>hadtudomány</td><td>4742</td><td>3515</td><td>1</td><td>10</td></tr>",
                            "<tr><td>102</td><td>Hajdúböszörmény</td><td>ismeretterjesztő</td><td>12844</td><td>3781</td><td>1</td><td>10</td></tr>",
                            "<tr><td>103</td><td>Halak, kétéltűek, hüllők</td><td>állattan</td><td>3024</td><td>4153</td><td>1</td><td>10</td></tr>",
                            "<tr><td>104</td><td>Half-Life (1996)</td><td>játék</td><td>4492</td><td>5405</td><td>2</td><td>10</td></tr>",
                            "<tr><td>105</td><td>Half-Life Generation: Game of the Year Edition (2002)</td><td>játék</td><td>14238-39</td><td>3705</td><td>2</td><td>10</td></tr>",
                            "<tr><td>106</td><td>Half-Life Generation: Counter Strike (2002)</td><td>játék</td><td>14240</td><td>5744</td><td>2</td><td>10</td></tr>",
                            "<tr><td>107</td><td>Half-Life Generation: Blue Shift (2002)</td><td>játék</td><td>14241</td><td>5728</td><td>2</td><td>10</td></tr>",
                            "<tr><td>108</td><td>Harry Potter és a bölcsek köve (2001)</td><td>játék</td><td>14245</td><td>4472</td><td>2</td><td>10</td></tr>",
                            "<tr><td>109</td><td>Haza és haladás</td><td>történelem</td><td>9599</td><td>3481</td><td>1</td><td>10</td></tr>",
                            "<tr><td>110</td><td>A hét világcsoda (2001)</td><td>történelem</td><td>14028</td><td>3162</td><td>1</td><td>10</td></tr>",
                            "<tr><td>111</td><td>Home Desing 3D (1998)</td><td>lakástervező</td><td>3356</td><td>4287</td><td>2</td><td>10</td></tr>",
                            "<tr><td>112</td><td>Hupikék törpikék: teletransportörp (1999)</td><td>játék</td><td>14233</td><td>3110</td><td>1</td><td>10</td></tr>",
                            "<tr><td>113</td><td>Informatika - Internet - Iskola</td><td>ismeretterjesztő</td><td>2007</td><td>3733</td><td>1</td><td>10</td></tr>",
                            "<tr><td>114</td><td>Interaktív angol nyelvész kurzus haladó szint 1-5.</td><td>nyelvtanító</td><td>1811-1815</td><td>4592</td><td>2</td><td>10</td></tr>",
                            "<tr><td>115</td><td>Interaktív angol nyelvész kurzus kezdő szint</td><td>nyelvtanító</td><td>1836-1840</td><td>4183</td><td>2</td><td>10</td></tr>",
                            "<tr><td>116</td><td>Interaktív angol nyelvész kurzus középhaladó szint</td><td>nyelvtanító</td><td>1841-1845</td><td>3115</td><td>2</td><td>10</td></tr>",
                            "<tr><td>117</td><td>Interaktív magyar nyelvtan</td><td>nyelvtan</td><td>1719</td><td>4779</td><td>1</td><td>10</td></tr>",
                            "<tr><td>118</td><td>International Rally Championship</td><td>játék (autóverseny)</td><td>9957</td><td>3890</td><td>2</td><td>10</td></tr>",
                            "<tr><td>119</td><td>Internet (1996)</td><td>számítástechnika</td><td>1046</td><td>4934</td><td>1</td><td>10</td></tr>",
                            "<tr><td>120</td><td>Introduction to Archeology</td><td>régészet</td><td>1160</td><td>3773</td><td>2</td><td>10</td></tr>",
                            "<tr><td>121</td><td>Investigating 20th Century Art (1994)</td><td>festészet</td><td>444</td><td>4394</td><td>2</td><td>10</td></tr>",
                            "<tr><td>122</td><td>Az ipari forradalom kora (2000)</td><td>történelem</td><td>8951</td><td>5082</td><td>1</td><td>10</td></tr>",
                            "<tr><td>123</td><td>Irodalmi arcképcsarnok</td><td>irodalom</td><td>9171</td><td>3866</td><td>1</td><td>10</td></tr>",
                            "<tr><td>124</td><td>Irodalom  felkészítő az érettségi és felvételi vizsgára</td><td>irodalom</td><td>2414</td><td>5654</td><td>1</td><td>10</td></tr>",
                            "<tr><td>125</td><td>Irodalom (1998)</td><td>irodalom</td><td>3904</td><td>5625</td><td>1</td><td>10</td></tr>",
                            "<tr><td>126</td><td>Italiano (1998) + Installation</td><td>nyelvtanító</td><td>5549, 5594</td><td>5436</td><td>4</td><td>10</td></tr>",
                            "<tr><td>127</td><td>Italiano 1-2. (1998) + Installation</td><td>nyelvtanító</td><td>5592-5593, 5550</td><td>6082</td><td>4</td><td>10</td></tr>",
                            "<tr><td>128</td><td>Italiano 1-2. (1998) + Installation</td><td>nyelvtanító</td><td>5607-5608, 5609</td><td>3419</td><td>4</td><td>10</td></tr>",
                            "<tr><td>129</td><td>Jancsó</td><td>filmtörténet</td><td>8310</td><td>4204</td><td>1</td><td>10</td></tr>",
                            "<tr><td>130</td><td>Japán : képes kulturális atlasz (2001)</td><td>ismeretterjesztő</td><td>12810</td><td>4459</td><td>1</td><td>10</td></tr>",
                            "<tr><td>131</td><td>Játékfilmek 1963-tól napjainkig</td><td>filmtörténet</td><td>7625</td><td>3138</td><td>1</td><td>10</td></tr>",
                            "<tr><td>132</td><td>Játszóház (1998)</td><td>játék</td><td>3779</td><td>5299</td><td>1</td><td>10</td></tr>",
                            "<tr><td>133</td><td>Jókai összes művei (2001)</td><td>irodalom</td><td>12119</td><td>4768</td><td>1</td><td>10</td></tr>",
                            "<tr><td>134</td><td>József Attila (1998)</td><td>irodalom</td><td>3036</td><td>3870</td><td>1</td><td>10</td></tr>",
                            "<tr><td>135</td><td>A jövő titkai - Interaktív horoszkóp (1998)</td><td>ismeretterjesztő</td><td>8990</td><td>6072</td><td>1</td><td>10</td></tr>",
                            "<tr><td>136</td><td>Kártyaváros</td><td>ismeretterjesztő + játék</td><td>11239</td><td>3107</td><td>1</td><td>10</td></tr>",
                            "<tr><td>137</td><td>Kémia Kalauz 2.</td><td>kémia</td><td>7735</td><td>5094</td><td>1</td><td>10</td></tr>",
                            "<tr><td>138</td><td>A kémkedés és a hírszerzés története (2002)</td><td>történelem</td><td>13230</td><td>5845</td><td>1</td><td>10</td></tr>",
                            "<tr><td>139</td><td>Képes krónika (1996)</td><td>történelem</td><td>327</td><td>3931</td><td>1</td><td>10</td></tr>",
                            "<tr><td>140</td><td>Képtárak (1995)</td><td>festészet</td><td>580</td><td>5408</td><td>1</td><td>10</td></tr>",
                            "<tr><td>141</td><td>Kereszt és félhold</td><td>történelem</td><td>7489</td><td>4302</td><td>1</td><td>10</td></tr>",
                            "<tr><td>142</td><td>Kétfejű sas: A Habsburg-uralom Magyarországon (1699-1790)</td><td>történelem</td><td>8573</td><td>5459</td><td>1</td><td>10</td></tr>",
                            "<tr><td>143</td><td>Kettős kötődés: Az Osztrák-Magyar Monarchia (1867-1918)</td><td>történelem</td><td>10665</td><td>4829</td><td>1</td><td>10</td></tr>",
                            "<tr><td>144</td><td>Kínai falatok</td><td>gasztronómia</td><td>7932</td><td>4550</td><td>1</td><td>10</td></tr>",
                            "<tr><td>145</td><td>Királyi könyvek 1-9. kötet</td><td>ismeretterjesztő</td><td>9175</td><td>3256</td><td>1</td><td>10</td></tr>",
                            "<tr><td>146</td><td>Királyi könyvek 18-26. kötet</td><td>ismeretterjesztő</td><td>11759</td><td>5507</td><td>1</td><td>10</td></tr>",
                            "<tr><td>147</td><td>Királyi könyvek 27-38. kötet : 1703-1740 (2002)</td><td>ismeretterjesztő</td><td>14003</td><td>5476</td><td>1</td><td>10</td></tr>",
                            "<tr><td>148</td><td>Kispál és a borz (1998)</td><td>zene</td><td>4624</td><td>5730</td><td>1</td><td>10</td></tr>",
                            "<tr><td>149</td><td>Kossuth Lajos összes munkái (2002)</td><td>ismeretterjesztő</td><td>14760</td><td>4589</td><td>1</td><td>10</td></tr>",
                            "<tr><td>150</td><td>Környezetvédelmi kalauz (1999)</td><td>környezetvédelem</td><td>8951</td><td>5508</td><td>1</td><td>10</td></tr>",
                            "<tr><td>151</td><td>Kötelező olvasmányok könyvtára 1. (2002)</td><td>irodalom</td><td>13746</td><td>3594</td><td>1</td><td>10</td></tr>",
                            "<tr><td>152</td><td>A kőszívű ember fiai - Egri csillagok</td><td>irodalom</td><td>6693</td><td>5538</td><td>1</td><td>10</td></tr>",
                            "<tr><td>153</td><td>A kutyák: A család kedvencei</td><td>állattan</td><td>7060</td><td>4963</td><td>1</td><td>10</td></tr>",
                            "<tr><td>154</td><td>Kutyatár</td><td>állattan</td><td>2963</td><td>5235</td><td>1</td><td>10</td></tr>",
                            "<tr><td>155</td><td>KvízIQ : A hét világcsoda (2001)</td><td>játék</td><td>14028</td><td>3451</td><td>1</td><td>10</td></tr>",
                            "<tr><td>156</td><td>Lakáskultúra 2000 (2000)</td><td>ismeretterjesztő</td><td>9791</td><td>5847</td><td>1</td><td>10</td></tr>",
                            "<tr><td>157</td><td>Lakáskultúra 1999 (1999)</td><td>ismeretterjesztő</td><td>9790</td><td>5414</td><td>1</td><td>10</td></tr>",
                            "<tr><td>158</td><td>Lakáskultúra 1998 (1998)</td><td>ismeretterjesztő</td><td>9789</td><td>5491</td><td>1</td><td>10</td></tr>",
                            "<tr><td>159</td><td>Lakáskultúra 1997 (1997)</td><td>ismeretterjesztő</td><td>9788</td><td>3419</td><td>1</td><td>10</td></tr>",
                            "<tr><td>160</td><td>Lakáskultúra 1996 (1996)</td><td>ismeretterjesztő</td><td>9787</td><td>4209</td><td>1</td><td>10</td></tr>",
                            "<tr><td>161</td><td>Lands of Lore II. 1-4. (1997)</td><td>játék</td><td>3929-3932</td><td>4312</td><td>2</td><td>10</td></tr>",
                            "<tr><td>162</td><td>Landscape Design 3D (1998)</td><td>kerttervező</td><td>3352</td><td>4951</td><td>2</td><td>10</td></tr>",
                            "<tr><td>163</td><td>Legféltettebb természeti értékeink</td><td>ismeretterjesztő</td><td>8821</td><td>5083</td><td>1</td><td>10</td></tr>",
                            "<tr><td>164</td><td>Legszebb vadnövényeink</td><td>növénytan</td><td>1193</td><td>4438</td><td>1</td><td>10</td></tr>",
                            "<tr><td>165</td><td>Leonardo da Vinci</td><td>múvészet</td><td>907</td><td>5118</td><td>2</td><td>10</td></tr>",
                            "<tr><td>166</td><td>Lilenthal Andor sakkjátszmái</td><td>játék, sakk</td><td>11479</td><td>3644</td><td>1</td><td>10</td></tr>",
                            "<tr><td>167</td><td>Lopva angolul /English by Stealth 1.</td><td>nyelvtanító</td><td>7011</td><td>5431</td><td>2</td><td>10</td></tr>",
                            "<tr><td>168</td><td>Lopva angolul /English by Stealth 2.</td><td>nyelvtanító</td><td>7012</td><td>4597</td><td>2</td><td>10</td></tr>",
                            "<tr><td>169</td><td>Lopva angolul /English by Stealth 3.</td><td>nyelvtanító</td><td>7013</td><td>4851</td><td>2</td><td>10</td></tr>",
                            "<tr><td>170</td><td>Lovagkirályok (1301-1437) (1997)</td><td>történelem</td><td>1563</td><td>4368</td><td>1</td><td>10</td></tr>",
                            "<tr><td>171</td><td>LoveQ, SexQ : szerelmi intelligencia (2001)</td><td>ismeretterjesztő</td><td>14231</td><td>3626</td><td>1</td><td>10</td></tr>",
                            "<tr><td>172</td><td>M1 Tank (1998)</td><td>játék</td><td>3974</td><td>5981</td><td>2</td><td>10</td></tr>",
                            "<tr><td>173</td><td>Mackó úr (2002)</td><td>játék</td><td>13819</td><td>4632</td><td>1</td><td>10</td></tr>",
                            "<tr><td>174</td><td>Madárdalos kirándulások - Madártani oktató CD-ROM (1999)</td><td>ismeretterjesztő</td><td>9036</td><td>3408</td><td>1</td><td>10</td></tr>",
                            "<tr><td>175</td><td>Magyar bélyegek katalógusa</td><td>ismeretterjesztő</td><td>8854</td><td>4035</td><td>1</td><td>10</td></tr>",
                            "<tr><td>176</td><td>Magyar fontok &#39;97</td><td>betűtípusok</td><td>3729</td><td>3845</td><td>1</td><td>10</td></tr>",
                            "<tr><td>177</td><td>A Magyar Koronázási Jelvények</td><td>történelem</td><td>4699</td><td>4122</td><td>1</td><td>10</td></tr>",
                            "<tr><td>178</td><td>Magyar nyelv és irodalom</td><td>irodalom, nyelv</td><td>9199</td><td>4704</td><td>1</td><td>10</td></tr>",
                            "<tr><td>179</td><td>Magyar színházművészet a világban</td><td>színház</td><td>9583</td><td>5158</td><td>1</td><td>10</td></tr>",
                            "<tr><td>180</td><td>Magyarország, 1944-1956 (2001)</td><td>történelem</td><td>13162</td><td>4921</td><td>1</td><td>10</td></tr>",
                            "<tr><td>181</td><td>Magyarország, 1944-1956 (2001)</td><td>történelem</td><td>15134</td><td>3673</td><td>1</td><td>10</td></tr>",
                            "<tr><td>182</td><td>Magyarország Nemzeti Parkjai I.</td><td>ismeretterjesztő</td><td>8531</td><td>3348</td><td>1</td><td>10</td></tr>",
                            "<tr><td>183</td><td>Magyarország Nemzeti Parkjai II.</td><td>ismeretterjesztő</td><td>10973</td><td>3377</td><td>1</td><td>10</td></tr>",
                            "<tr><td>184</td><td>Magyarországi várak (1998)</td><td>történelem</td><td>4625</td><td>5459</td><td>1</td><td>10</td></tr>",
                            "<tr><td>185</td><td>Mahjongg Master (1998)</td><td>játék</td><td>4509</td><td>5423</td><td>2</td><td>10</td></tr>",
                            "<tr><td>186</td><td>Manó Angol 1.</td><td>nyelvtanító</td><td>8162</td><td>5852</td><td>2</td><td>10</td></tr>",
                            "<tr><td>187</td><td>Manó Angol 1. (2002)</td><td>nyelvtanító</td><td>13876</td><td>6051</td><td>2</td><td>10</td></tr>",
                            "<tr><td>188</td><td>Manó Angol 2.</td><td>nyelvtanító</td><td>7643</td><td>5353</td><td>2</td><td>10</td></tr>",
                            "<tr><td>189</td><td>Manó Angol 2. (2000)</td><td>nyelvtanító</td><td>13885</td><td>6068</td><td>2</td><td>10</td></tr>",
                            "<tr><td>190</td><td>Manó Élővilág</td><td>ismeretterjesztő</td><td>7025</td><td>3474</td><td>1</td><td>10</td></tr>",
                            "<tr><td>191</td><td>Manó Élővilág (2002)</td><td>ismeretterjesztő</td><td>13877</td><td>4881</td><td>1</td><td>10</td></tr>",
                            "<tr><td>192</td><td>Manó IQ (2001)</td><td>ismeretterjesztő</td><td>10842</td><td>5383</td><td>1</td><td>10</td></tr>",
                            "<tr><td>193</td><td>Manó Kaland (2002)</td><td>ismeretterjesztő</td><td>13875</td><td>5967</td><td>1</td><td>10</td></tr>",
                            "<tr><td>194</td><td>Manó Magyarország (2002)</td><td>földrajz</td><td>13935</td><td>4150</td><td>1</td><td>10</td></tr>",
                            "<tr><td>195</td><td>Manó Matek 1.</td><td>matematika</td><td>7020</td><td>5995</td><td>1</td><td>10</td></tr>",
                            "<tr><td>196</td><td>Manó Matek 1. (2002)</td><td>matematika</td><td>13880</td><td>5396</td><td>1</td><td>10</td></tr>",
                            "<tr><td>197</td><td>Manó Matek 2. (1999)</td><td>matematika</td><td>7022</td><td>5568</td><td>1</td><td>10</td></tr>",
                            "<tr><td>198</td><td>Manó Matek 2. (1999)</td><td>matematika</td><td>13878</td><td>3536</td><td>1</td><td>10</td></tr>",
                            "<tr><td>199</td><td>Manó Matek 3.</td><td>matematika</td><td>9818</td><td>4803</td><td>1</td><td>10</td></tr>",
                            "<tr><td>200</td><td>Manó Muzsika</td><td>zene</td><td>6143</td><td>4996</td><td>1</td><td>10</td></tr>",
                            "<tr><td>201</td><td>Manó Muzsika</td><td>zene</td><td>8164</td><td>3391</td><td>1</td><td>10</td></tr>",
                            "<tr><td>202</td><td>Manó Német 2.</td><td>nyelvtanító</td><td>9834</td><td>4642</td><td>3</td><td>10</td></tr>",
                            "<tr><td>203</td><td>Manó Olvasás 1.</td><td>nyelvtan</td><td>8170</td><td>5845</td><td>1</td><td>10</td></tr>",
                            "<tr><td>204</td><td>Manó Puzzle (2002)</td><td>játék</td><td>13899</td><td>6078</td><td>1</td><td>10</td></tr>",
                            "<tr><td>205</td><td>Matematika (1998)</td><td>matematika</td><td>5051</td><td>3105</td><td>1</td><td>10</td></tr>",
                            "<tr><td>206</td><td>Matematika felkészítő az érettségi és felvételi vizsgára</td><td>matematika</td><td>2307</td><td>4616</td><td>1</td><td>10</td></tr>",
                            "<tr><td>207</td><td>Matematika kalauz (1997)</td><td>matematika</td><td>1856</td><td>3315</td><td>1</td><td>10</td></tr>",
                            "<tr><td>208</td><td>Mig-29 (1998)</td><td>játék</td><td>4463</td><td>5040</td><td>2</td><td>10</td></tr>",
                            "<tr><td>209</td><td>Mikszáth Kálmán összes művei</td><td>irodalom</td><td>4981</td><td>4786</td><td>1</td><td>10</td></tr>",
                            "<tr><td>210</td><td>Mini Manó Tavasz</td><td>ismeretterjesztő</td><td>11149</td><td>4727</td><td>1</td><td>10</td></tr>",
                            "<tr><td>211</td><td>MoBi Mouse: A fordító egér</td><td>fordító program</td><td>8135</td><td>5036</td><td>8</td><td>10</td></tr>",
                            "<tr><td>212</td><td>Monopoly Junior</td><td>játék</td><td>12317</td><td>3974</td><td>2</td><td>10</td></tr>",
                            "<tr><td>213</td><td>Mons Sacer Pannoniae (2001)</td><td>ismeretterjesztő</td><td>13896</td><td>4410</td><td>1</td><td>10</td></tr>",
                            "<tr><td>214</td><td>Moving Puzzle Action Flight (2000)</td><td>játék</td><td>10158</td><td>5477</td><td>2</td><td>10</td></tr>",
                            "<tr><td>215</td><td>Multimédiás Menedzsment Könyvtár 1. - Változásmenedzsment</td><td>ismeretterjesztő</td><td>8726</td><td>6057</td><td>1</td><td>10</td></tr>",
                            "<tr><td>216</td><td>Multimédiás Menedzsment Könyvtár 2. - Önszervezés</td><td>ismeretterjesztő</td><td>8727</td><td>3279</td><td>1</td><td>10</td></tr>",
                            "<tr><td>217</td><td>Musique! (1997)</td><td>zene</td><td>4842</td><td>5336</td><td>2</td><td>10</td></tr>",
                            "<tr><td>218</td><td>Művészet és mesterség</td><td>művészet</td><td>8435</td><td>6098</td><td>1</td><td>10</td></tr>",
                            "<tr><td>219</td><td>Művészet és művészek (2002)</td><td>művészet</td><td>13302</td><td>3490</td><td>1</td><td>10</td></tr>",
                            "<tr><td>220</td><td>Nagy képes világtörténet (Matczáli Henrik) (1998)</td><td>történelem</td><td>13971</td><td>4387</td><td>1</td><td>10</td></tr>",
                            "<tr><td>221</td><td>Nagy vicc tár</td><td>humor</td><td>3862</td><td>5573</td><td>1</td><td>10</td></tr>",
                            "<tr><td>222</td><td>A Nagybányai Festőiskola (1998)</td><td>művészet</td><td>3769</td><td>4877</td><td>1</td><td>10</td></tr>",
                            "<tr><td>223</td><td>NASA 1.</td><td>csillagászat</td><td>3824</td><td>5968</td><td>1</td><td>10</td></tr>",
                            "<tr><td>224</td><td>NASA 2.</td><td>csillagászat</td><td>3825</td><td>4147</td><td>1</td><td>10</td></tr>",
                            "<tr><td>225</td><td>Na, So Was? - Minden helyzetben otthonosan</td><td>nyelvtanító</td><td>7864</td><td>3600</td><td>3</td><td>10</td></tr>",
                            "<tr><td>226</td><td>Német : 8-10 éveseknek (2002)</td><td>nyelvtanító</td><td>13318</td><td>3754</td><td>3</td><td>10</td></tr>",
                            "<tr><td>227</td><td>Német szótanító CD-ROM</td><td>nyelvtanító</td><td>4226</td><td>3313</td><td>3</td><td>10</td></tr>",
                            "<tr><td>228</td><td>Németh László összes műve</td><td>irodalom</td><td>11682</td><td>4497</td><td>1</td><td>10</td></tr>",
                            "<tr><td>229</td><td>New York : a tragédiák városa (2001)</td><td>ismeretterjesztő</td><td>13032</td><td>3723</td><td>1</td><td>10</td></tr>",
                            "<tr><td>230</td><td>NHL 2001</td><td>játék (jégkorong)</td><td>10904</td><td>5242</td><td>2</td><td>10</td></tr>",
                            "<tr><td>231</td><td>Nincs királyi út - A matematika kultúrtörténete</td><td>matematika</td><td>7605</td><td>4353</td><td>1</td><td>10</td></tr>",
                            "<tr><td>232</td><td>Nyelvész : Angol és német haladóknak (1997)</td><td>nyelvtanító</td><td>1415</td><td>3522</td><td>2</td><td>10</td></tr>",
                            "<tr><td>233</td><td>Nyelvtan összefoglaló : érettségi előkészítő (2002)</td><td>nyelvtan</td><td>13715</td><td>3688</td><td>1</td><td>10</td></tr>",
                            "<tr><td>234</td><td>Az óceán világa - Maldiv szigetek (2000)</td><td>földrajz</td><td>10212</td><td>5833</td><td>1</td><td>10</td></tr>",
                            "<tr><td>235</td><td>Ókori lexikon</td><td>történelem</td><td>11670</td><td>3122</td><td>1</td><td>10</td></tr>",
                            "<tr><td>236</td><td>Olasz-magyar, magyar-olasz digitális szótár</td><td>szótár</td><td>12331</td><td>4107</td><td>4</td><td>10</td></tr>",
                            "<tr><td>237</td><td>Olasz szótanító CD-ROM</td><td>nyelvtanító</td><td>4070</td><td>5108</td><td>4</td><td>10</td></tr>",
                            "<tr><td>238</td><td>Orosz (1998)</td><td>nyelvtanító</td><td>4891</td><td>6009</td><td>5</td><td>10</td></tr>",
                            "<tr><td>239</td><td>Orosz-magyar nagyszótár</td><td>szótár</td><td>8322</td><td>4666</td><td>5</td><td>10</td></tr>",
                            "<tr><td>240</td><td>Az Országos Széchényi Könyvtár corvinái, 2002 (2002)</td><td>történelem</td><td>13847</td><td>4753</td><td>1</td><td>10</td></tr>",
                            "<tr><td>241</td><td>Az Osztrák-Magyar Monarchia írásban és képekben (2001)</td><td>történelem</td><td>13957</td><td>4359</td><td>1</td><td>10</td></tr>",
                            "<tr><td>242</td><td>Paddle Bash (2001)</td><td>játék</td><td>10900</td><td>3937</td><td>2</td><td>10</td></tr>",
                            "<tr><td>243</td><td>Pannon Enciklopédia (1998)</td><td>történelem</td><td>4004</td><td>4606</td><td>1</td><td>10</td></tr>",
                            "<tr><td>244</td><td>Pannonhalmi Főapátság (2001)</td><td>történelem</td><td>13896</td><td>5817</td><td>1</td><td>10</td></tr>",
                            "<tr><td>245</td><td>Panzer General III: Scorched Earth (2000)</td><td>játék</td><td>14253</td><td>6058</td><td>2</td><td>10</td></tr>",
                            "<tr><td>246</td><td>People&#39;s General (1998)</td><td>játék</td><td>3946</td><td>5623</td><td>2</td><td>10</td></tr>",
                            "<tr><td>247</td><td>Petőfi Sándor: Arany Lacinak (2002)</td><td>irodalom</td><td>13435</td><td>5488</td><td>1</td><td>10</td></tr>",
                            "<tr><td>248</td><td>Petőfi Sándor összes költeményei</td><td>irodalom</td><td>8543</td><td>3782</td><td>1</td><td>10</td></tr>",
                            "<tr><td>249</td><td>Plane Crazy</td><td>játék</td><td>10205</td><td>5011</td><td>2</td><td>10</td></tr>",
                            "<tr><td>250</td><td>Quake III. (2001)</td><td>játék</td><td>14248-249</td><td>3144</td><td>2</td><td>10</td></tr>",
                            "<tr><td>251</td><td>Rákóczi-szabadságharc</td><td>történelem</td><td>8552</td><td>4778</td><td>1</td><td>10</td></tr>",
                            "<tr><td>252</td><td>Rally Championship</td><td>játék (autóverseny)</td><td>10190</td><td>3106</td><td>2</td><td>10</td></tr>",
                            "<tr><td>253</td><td>Rayman: Matek és olvasás</td><td>matematika, nyelvtan</td><td>7969</td><td>4484</td><td>1</td><td>10</td></tr>",
                            "<tr><td>254</td><td>Re-Volt (1999)</td><td>játék - autós</td><td>6828</td><td>3989</td><td>2</td><td>10</td></tr>",
                            "<tr><td>255</td><td>The Settlers III. 1-2. (1998)</td><td>játék</td><td>3968-3968</td><td>4267</td><td>2</td><td>10</td></tr>",
                            "<tr><td>256</td><td>The Settlers IV. (2001)</td><td>játék</td><td>14237</td><td>4143</td><td>1</td><td>10</td></tr>",
                            "<tr><td>257</td><td>Shanghai (1997)</td><td>ismeretterjesztő</td><td>3924</td><td>5900</td><td>2</td><td>10</td></tr>",
                            "<tr><td>258</td><td>The Sims</td><td>játék</td><td>12358</td><td>4043</td><td>2</td><td>10</td></tr>",
                            "<tr><td>259</td><td>Sonic Racer</td><td>játék (autóverseny)</td><td>11009</td><td>3450</td><td>2</td><td>10</td></tr>",
                            "<tr><td>260</td><td>Spanyol (1997)</td><td>nyelvtanító</td><td>4898</td><td>3775</td><td>6</td><td>10</td></tr>",
                            "<tr><td>261</td><td>Spanyol-magyar szótár</td><td>szótár</td><td>8323</td><td>5734</td><td>6</td><td>10</td></tr>",
                            "<tr><td>262</td><td>Star Wars: Battle for Naboo</td><td>játék</td><td>11006</td><td>3520</td><td>2</td><td>10</td></tr>",
                            "<tr><td>263</td><td>Star Wars: Force Commander (2001)</td><td>játék</td><td>14246</td><td>5785</td><td>2</td><td>10</td></tr>",
                            "<tr><td>264</td><td>Star Wars : Rogue Squadron 3D</td><td>játék</td><td>12326</td><td>5803</td><td>2</td><td>10</td></tr>",
                            "<tr><td>265</td><td>Supreme Snowboarding</td><td>játék</td><td>8051</td><td>4151</td><td>2</td><td>10</td></tr>",
                            "<tr><td>266</td><td>Szabadítsd ki a kisoroszlánt!</td><td>játék</td><td>7986</td><td>5537</td><td>1</td><td>10</td></tr>",
                            "<tr><td>267</td><td>Szabadságharc 1848-49 (1988)</td><td>történelem</td><td>3794</td><td>6060</td><td>1</td><td>10</td></tr>",
                            "<tr><td>268</td><td>A szabadságharc népzenei emlékei</td><td>zene</td><td>9603</td><td>5187</td><td>1</td><td>10</td></tr>",
                            "<tr><td>269</td><td>Szolfézs: Kezdőknek és haladóknak</td><td>zene</td><td>8237</td><td>4492</td><td>1</td><td>10</td></tr>",
                            "<tr><td>270</td><td>Talk To Me Deutsch 2-4.</td><td>nyelvtanító</td><td>3684-3691-3696</td><td>5990</td><td>3</td><td>10</td></tr>",
                            "<tr><td>271</td><td>Talk To Me English 1.</td><td>nyelvtanító</td><td>3516</td><td>4743</td><td>2</td><td>10</td></tr>",
                            "<tr><td>272</td><td>Talk To Me Francais 1-2.</td><td>nyelvtanító</td><td>4152-4138</td><td>4973</td><td>7</td><td>10</td></tr>",
                            "<tr><td>273</td><td>Tankok, tüzérség (2002)</td><td>történelem</td><td>14872</td><td>6084</td><td>1</td><td>10</td></tr>",
                            "<tr><td>274</td><td>Tanulj tovább! 2000 (2000)</td><td>ismeretterjesztő</td><td>8986</td><td>4310</td><td>1</td><td>10</td></tr>",
                            "<tr><td>275</td><td>Táplálkozás, életmód mesterfokon (2002)</td><td>ismeretterjesztő</td><td>14921</td><td>4480</td><td>1</td><td>10</td></tr>",
                            "<tr><td>276</td><td>Target English (1998)</td><td>nyelvtanító</td><td>4655</td><td>6061</td><td>2</td><td>10</td></tr>",
                            "<tr><td>277</td><td>Tarzan</td><td>játék</td><td>6860</td><td>3737</td><td>2</td><td>10</td></tr>",
                            "<tr><td>278</td><td>Terrorizmus (2002)</td><td>ismeretterjesztő</td><td>14862</td><td>4877</td><td>1</td><td>10</td></tr>",
                            "<tr><td>279</td><td>Testbeszéd (1998)</td><td>ismeretterjesztő</td><td>4712</td><td>5382</td><td>1</td><td>10</td></tr>",
                            "<tr><td>280</td><td>Tesztre készen: angol (1998)</td><td>nyelvtanító</td><td>4811</td><td>4157</td><td>2</td><td>10</td></tr>",
                            "<tr><td>281</td><td>Tesztre készen: német (1998)</td><td>nyelvtanító</td><td>4831</td><td>4566</td><td>3</td><td>10</td></tr>",
                            "<tr><td>282</td><td>Thaiföldi ízek (1999)</td><td>gasztronómia</td><td>8745</td><td>5250</td><td>1</td><td>10</td></tr>",
                            "<tr><td>283</td><td>Timeshock!</td><td>játék</td><td>9486</td><td>5159</td><td>2</td><td>10</td></tr>",
                            "<tr><td>284</td><td>Tomi megmenti a tengert (2000)</td><td>játék</td><td>14232</td><td>4325</td><td>1</td><td>10</td></tr>",
                            "<tr><td>285</td><td>Touché - The Adventures of the Fifth</td><td>játék</td><td>760</td><td>4548</td><td>2</td><td>10</td></tr>",
                            "<tr><td>286</td><td>Toy Story 2.</td><td>játék</td><td>8043</td><td>3809</td><td>2</td><td>10</td></tr>",
                            "<tr><td>287</td><td>Történelem (1998)</td><td>történelem</td><td>3909</td><td>3737</td><td>1</td><td>10</td></tr>",
                            "<tr><td>288</td><td>Történelem : 10-14 éveseknek (2002)</td><td>történelem</td><td>13500</td><td>3737</td><td>1</td><td>10</td></tr>",
                            "<tr><td>289</td><td>Történelem : középiskola 1. osztály (2002)</td><td>történelem</td><td>13722</td><td>3736</td><td>1</td><td>10</td></tr>",
                            "<tr><td>290</td><td>Történelem : középiskola 4. osztály (2002)</td><td>történelem</td><td>13729</td><td>5635</td><td>1</td><td>10</td></tr>",
                            "<tr><td>291</td><td>Traffic Giant</td><td>játék</td><td>12327</td><td>4385</td><td>NULL</td><td>10</td></tr>",
                            "<tr><td>292</td><td>Train Simulator (2002)</td><td>játék</td><td>14250-251</td><td>5428</td><td>2</td><td>10</td></tr>",
                            "<tr><td>293</td><td>Trickstyle</td><td>játék</td><td>8048</td><td>4651</td><td>2</td><td>10</td></tr>",
                            "<tr><td>294</td><td>A tudás próbája (2001)</td><td>ismeretterjesztő</td><td>14230</td><td>5461</td><td>1</td><td>10</td></tr>",
                            "<tr><td>295</td><td>Turul : 1883-1900 (2002)</td><td>ismeretterjesztő</td><td>13953</td><td>5238</td><td>1</td><td>10</td></tr>",
                            "<tr><td>296</td><td>UEFA Champions Leage Season</td><td>játék (labdarúgás)</td><td>9387</td><td>5522</td><td>1</td><td>10</td></tr>",
                            "<tr><td>297</td><td>Új Könyvek 1994-2000 (2002)</td><td>ismeretterjesztő</td><td>14186</td><td>6024</td><td>1</td><td>10</td></tr>",
                            "<tr><td>298</td><td>Az Univerzum története</td><td>csillagászat</td><td>7591</td><td>3654</td><td>1</td><td>10</td></tr>",
                            "<tr><td>299</td><td>Utazás a csillagok között (1998)</td><td>csillagászat</td><td>3647</td><td>5705</td><td>1</td><td>10</td></tr>",
                            "<tr><td>300</td><td>Utazás a Naprendszerben</td><td>csillagászat</td><td>1071</td><td>3582</td><td>1</td><td>10</td></tr>",
                            "<tr><td>301</td><td>Utazás a Naprendszerben 2.</td><td>csillagászat</td><td>8162</td><td>5992</td><td>1</td><td>10</td></tr>",
                            "<tr><td>302</td><td>Úton 2. (1998)</td><td>kresz</td><td>3838</td><td>5476</td><td>1</td><td>10</td></tr>",
                            "<tr><td>303</td><td>Üzleti protokoll CD (2002)</td><td>ismeretterjesztő</td><td>13872</td><td>4891</td><td>1</td><td>10</td></tr>",
                            "<tr><td>304</td><td>Várak, kastélyok, legendák 1.</td><td>történelem</td><td>11170</td><td>4237</td><td>1</td><td>10</td></tr>",
                            "<tr><td>305</td><td>Várak, kastélyok, legendák 2. (2002)</td><td>történelem</td><td>13829</td><td>3313</td><td>1</td><td>10</td></tr>",
                            "<tr><td>306</td><td>A varázslatos emberi test (1998)</td><td>biológia</td><td>7918</td><td>4863</td><td>1</td><td>10</td></tr>",
                            "<tr><td>307</td><td>Varázslatos szülinap</td><td>játék</td><td>8020</td><td>5712</td><td>1</td><td>10</td></tr>",
                            "<tr><td>308</td><td>Varázslatos történelmi nyomozás</td><td>történelem</td><td>9661</td><td>4395</td><td>1</td><td>10</td></tr>",
                            "<tr><td>309</td><td>A városi élet a Római Birodalomban (1999)</td><td>történelem</td><td>9110</td><td>5749</td><td>1</td><td>10</td></tr>",
                            "<tr><td>310</td><td>A Vazul-ág (1038-1301) (1997)</td><td>történelem</td><td>1548</td><td>4060</td><td>1</td><td>10</td></tr>",
                            "<tr><td>311</td><td>Világatlasz &#39;99 (1998)</td><td>földrajz</td><td>4313</td><td>5399</td><td>1</td><td>10</td></tr>",
                            "<tr><td>312</td><td>Világatlasz &#39;99 (1998)</td><td>földrajz</td><td>4314</td><td>5202</td><td>1</td><td>10</td></tr>",
                            "<tr><td>313</td><td>Világatlasz (2001)</td><td>földrajz</td><td>13372</td><td>3446</td><td>1</td><td>10</td></tr>",
                            "<tr><td>314</td><td>Világirodalom : Az ókortól napjainkig (2001)</td><td>irodalom</td><td>10340</td><td>3595</td><td>1</td><td>10</td></tr>",
                            "<tr><td>315</td><td>Volt egyszer egy Magyarország</td><td>történelem</td><td>608</td><td>5302</td><td>1</td><td>10</td></tr>",
                            "<tr><td>316</td><td>Warcraft III. (2002)</td><td>játék</td><td>14236</td><td>5774</td><td>2</td><td>10</td></tr>",
                            "<tr><td>317</td><td>William Shakespeare összes művei</td><td>irodalom</td><td>7915</td><td>4437</td><td>1</td><td>10</td></tr>",
                            "<tr><td>318</td><td>Zielpunkt Deutsch (1997)</td><td>nyelvtanító</td><td>4693</td><td>4144</td><td>3</td><td>10</td></tr>",
                            "<tr><td>319</td><td>Zöld Ödön a földgömbön</td><td>földrajz</td><td>9869</td><td>6065</td><td>1</td><td>10</td></tr>",
                            "</table>"
                        ]
                    }
                }
            ],
            "execution_count": 5
        },
        {
            "cell_type": "markdown",
            "source": [
                "2\\. Listázzuk a DVD-k címeit és nettó árait!"
            ],
            "metadata": {
                "azdata_cell_guid": "f797435e-e983-4ab8-b932-b6d42ea9248f"
            },
            "attachments": {}
        },
        {
            "cell_type": "code",
            "source": [
                "SELECT cim +'-'+stilus as [cim],\r\n",
                "        nettoar*1.27 AS 'Bruttóár'\r\n",
                "from dvd"
            ],
            "metadata": {
                "azdata_cell_guid": "6f8b9428-f0ca-46d2-aefb-2fe99a9481e5",
                "language": "sql"
            },
            "outputs": [
                {
                    "output_type": "display_data",
                    "data": {
                        "text/html": "(318 rows affected)"
                    },
                    "metadata": {}
                },
                {
                    "output_type": "display_data",
                    "data": {
                        "text/html": "Total execution time: 00:00:00.031"
                    },
                    "metadata": {}
                },
                {
                    "output_type": "execute_result",
                    "execution_count": 6,
                    "data": {
                        "application/vnd.dataresource+json": {
                            "schema": {
                                "fields": [
                                    {
                                        "name": "cim"
                                    },
                                    {
                                        "name": "Bruttóár"
                                    }
                                ]
                            },
                            "data": [
                                {
                                    "cim": "NULL",
                                    "Bruttóár": "4900,93"
                                },
                                {
                                    "cim": "A II. világháború története (1999)-történelem",
                                    "Bruttóár": "5389,88"
                                },
                                {
                                    "cim": "3D Dinosaur - adventure-történelem",
                                    "Bruttóár": "6402,07"
                                },
                                {
                                    "cim": "3D virtuális origami (2000)-játék",
                                    "Bruttóár": "6800,85"
                                },
                                {
                                    "cim": "Az 1848-1849-iki szabadságharc története (2002)-történelem",
                                    "Bruttóár": "7239"
                                },
                                {
                                    "cim": "Ablak zsiráf (1999)-ismeretterjesztő",
                                    "Bruttóár": "4495,8"
                                },
                                {
                                    "cim": "Ady Endre összes művei (1999)-irodalom",
                                    "Bruttóár": "5386,07"
                                },
                                {
                                    "cim": "Afrika-földrajz",
                                    "Bruttóár": "6753,86"
                                },
                                {
                                    "cim": "Age of Empires (2000)-játék",
                                    "Bruttóár": "5692,14"
                                },
                                {
                                    "cim": "Airport Inc.-játék (repülős)",
                                    "Bruttóár": "5474,97"
                                },
                                {
                                    "cim": "American Rodeo : BullRider 2000 (2001)-játék (rodeó)",
                                    "Bruttóár": "7100,57"
                                },
                                {
                                    "cim": "Angol : 8-10 éveseknek (2002)-nyelvtanító",
                                    "Bruttóár": "6163,31"
                                },
                                {
                                    "cim": "Angol és német nyelvtani gyakorlatok (2002)-nyelvtanító",
                                    "Bruttóár": "6230,62"
                                },
                                {
                                    "cim": "Angol szótanító CD-ROM-nyelvtanító",
                                    "Bruttóár": "5650,2300000000005"
                                },
                                {
                                    "cim": "Angol szótanító CD-ROM-nyelvtanító",
                                    "Bruttóár": "5643,88"
                                },
                                {
                                    "cim": "Angol szótár (1996)-szótár",
                                    "Bruttóár": "4456,43"
                                },
                                {
                                    "cim": "Angol-magyar, Magyar-angol hangosszótár-szótár",
                                    "Bruttóár": "6541,77"
                                },
                                {
                                    "cim": "Angol-magyar nagyszótár (Halász Előd)-szótár",
                                    "Bruttóár": "7160,26"
                                },
                                {
                                    "cim": "Az áramvonalas fakanál-gasztronómia",
                                    "Bruttóár": "7246,62"
                                },
                                {
                                    "cim": "Arany János: A bajusz (2002)-irodalom",
                                    "Bruttóár": "4306,57"
                                },
                                {
                                    "cim": "Az Árpád-ház története-történelem",
                                    "Bruttóár": "6377,9400000000005"
                                },
                                {
                                    "cim": "Art Attack (1998)-játék",
                                    "Bruttóár": "4970,78"
                                },
                                {
                                    "cim": "Art puzzle (1998)-ismeretterjesztő",
                                    "Bruttóár": "7348,22"
                                },
                                {
                                    "cim": "Az ásványok világa-ásványtan",
                                    "Bruttóár": "7142,4800000000005"
                                },
                                {
                                    "cim": "Ausztrália-földrajz",
                                    "Bruttóár": "6764,02"
                                },
                                {
                                    "cim": "Auto 2000 - Kerékvilág-ismeretterjesztő",
                                    "Bruttóár": "5668,01"
                                },
                                {
                                    "cim": "Ázsia (2000)-földrajz",
                                    "Bruttóár": "3966,21"
                                },
                                {
                                    "cim": "Biblia (1995)-ismeretterjesztő",
                                    "Bruttóár": "5638,8"
                                },
                                {
                                    "cim": "Biológia '97-biológia",
                                    "Bruttóár": "7039,61"
                                },
                                {
                                    "cim": "Biológia (2000)-biológia",
                                    "Bruttóár": "4850,13"
                                },
                                {
                                    "cim": "Biológia (2001)-biológia",
                                    "Bruttóár": "4815,84"
                                },
                                {
                                    "cim": "Biológia : 12-14 éveseknek (2003)-biológia",
                                    "Bruttóár": "4422,14"
                                },
                                {
                                    "cim": "Blinky Bill : A fantasztikus léggömbkaland-játék",
                                    "Bruttóár": "5176,52"
                                },
                                {
                                    "cim": "Broken Sword II. (cop. 1997)-játék",
                                    "Bruttóár": "5717,54"
                                },
                                {
                                    "cim": "Budapest kalauz-földrajz",
                                    "Bruttóár": "5148,58"
                                },
                                {
                                    "cim": "Budapest Museum-művészet",
                                    "Bruttóár": "6720,84"
                                },
                                {
                                    "cim": "Buggy-játék",
                                    "Bruttóár": "7404,1"
                                },
                                {
                                    "cim": "Byte Magyarország (2002)-számítástechnika",
                                    "Bruttóár": "4161,79"
                                },
                                {
                                    "cim": "Caesar III.-játék",
                                    "Bruttóár": "5252,72"
                                },
                                {
                                    "cim": "Capitalism II. (2001)-játék",
                                    "Bruttóár": "7698,74"
                                },
                                {
                                    "cim": "Capitalism Plus-játék",
                                    "Bruttóár": "6388,1"
                                },
                                {
                                    "cim": "Castle Explorer-játék (történelmi)",
                                    "Bruttóár": "4707,89"
                                },
                                {
                                    "cim": "CD Panoráma 1-4. (1998)-ismeretterjesztő",
                                    "Bruttóár": "6885,9400000000005"
                                },
                                {
                                    "cim": "Computer iskola (1998)-számítástechnika",
                                    "Bruttóár": "6680,2"
                                },
                                {
                                    "cim": "Csizmás kandúr (1998)-játék",
                                    "Bruttóár": "7533,64"
                                },
                                {
                                    "cim": "Csodálatos univerzum (1997)-csillagászat",
                                    "Bruttóár": "5190,49"
                                },
                                {
                                    "cim": "Dél-Amerika (1999)-földrajz",
                                    "Bruttóár": "5078,7300000000005"
                                },
                                {
                                    "cim": "Dementia 1-5. (1997)-játék",
                                    "Bruttóár": "7517,13"
                                },
                                {
                                    "cim": "Deutsch: Anfanger (kezdő) + Telepítő -nyelvtanító",
                                    "Bruttóár": "7153,91"
                                },
                                {
                                    "cim": "Deutsch: Fortgeschrittene (haladó) + Installation-nyelvtanító",
                                    "Bruttóár": "7345,68"
                                },
                                {
                                    "cim": "Deutsch: Mittelstufe (középhaladó)+ Telepítő-nyelvtanító",
                                    "Bruttóár": "5558,79"
                                },
                                {
                                    "cim": "Diablo-játék",
                                    "Bruttóár": "7580,63"
                                },
                                {
                                    "cim": "Diablo II. (2000)-játék",
                                    "Bruttóár": "6223"
                                },
                                {
                                    "cim": "Dicső napok és hétköznapok 1848 - Digitális forrásgyűjtemény 1.-történelem",
                                    "Bruttóár": "7125,97"
                                },
                                {
                                    "cim": "Dreams to Reality 1-2. (1997)-játék",
                                    "Bruttóár": "5967,7300000000005"
                                },
                                {
                                    "cim": "Duke Nukem 3D-játék",
                                    "Bruttóár": "6951,9800000000005"
                                },
                                {
                                    "cim": "Dungeon Keeper 2. (1999)-játék",
                                    "Bruttóár": "4278,63"
                                },
                                {
                                    "cim": "E-Games : Collector's Edition (2001)-játék",
                                    "Bruttóár": "7090,41"
                                },
                                {
                                    "cim": "Éléstár (1998)-gasztronómia",
                                    "Bruttóár": "4137,66"
                                },
                                {
                                    "cim": "Élet a polgárosodó Magyarországon (2001)-történelem",
                                    "Bruttóár": "7076,4400000000005"
                                },
                                {
                                    "cim": "Életképek 1848 (1998)-történelem",
                                    "Bruttóár": "5347,97"
                                },
                                {
                                    "cim": "Az ember tragédiája-irodalom",
                                    "Bruttóár": "5454,65"
                                },
                                {
                                    "cim": "Encarta World Atlas '99 1-2. (1998)-ismeretterjesztő",
                                    "Bruttóár": "6774,18"
                                },
                                {
                                    "cim": "Enemy Engaged RAH-66-játék",
                                    "Bruttóár": "6625,59"
                                },
                                {
                                    "cim": "English 1-2. + Telepítő-nyelvtanító",
                                    "Bruttóár": "6623,05"
                                },
                                {
                                    "cim": "English: Intermediate (haladó)-nyelvtanító",
                                    "Bruttóár": "4606,29"
                                },
                                {
                                    "cim": "NULL",
                                    "Bruttóár": "5687,06"
                                },
                                {
                                    "cim": "Erdély (1996)-földrajz",
                                    "Bruttóár": "6348,7300000000005"
                                },
                                {
                                    "cim": "Espanol: Intermedio + Telepítő-nyelvtanító",
                                    "Bruttóár": "4970,78"
                                },
                                {
                                    "cim": "Espanol: Principiante + Telepítő-nyelvtanító",
                                    "Bruttóár": "7470,14"
                                },
                                {
                                    "cim": "Észak-Amerika-földrajz",
                                    "Bruttóár": "5072,38"
                                },
                                {
                                    "cim": "Európa-földrajz",
                                    "Bruttóár": "6692,900000000001"
                                },
                                {
                                    "cim": "The F.A. Premier League Stars 2001-játék (labdarúgás)",
                                    "Bruttóár": "4916,17"
                                },
                                {
                                    "cim": "Felvételi példatár : Angol-felvételi",
                                    "Bruttóár": "4922,52"
                                },
                                {
                                    "cim": "Felvételi példatár : Biológia, földrajz-felvételi",
                                    "Bruttóár": "4083,05"
                                },
                                {
                                    "cim": "Felvételi példatár : Kémia, fizika-felvételi",
                                    "Bruttóár": "7430,77"
                                },
                                {
                                    "cim": "Felvételi példatár : Magyar nyelv és irodalom-felvételi",
                                    "Bruttóár": "7562,85"
                                },
                                {
                                    "cim": "Felvételi példatár : Matematika-felvételi",
                                    "Bruttóár": "6361,43"
                                },
                                {
                                    "cim": "Felvételi példatár : Német-felvételi",
                                    "Bruttóár": "3939,54"
                                },
                                {
                                    "cim": "FIFA, 2000 (1999)-játék (labdarúgás)",
                                    "Bruttóár": "6424,93"
                                },
                                {
                                    "cim": "Fighting Force (1998)-játék",
                                    "Bruttóár": "6096"
                                },
                                {
                                    "cim": "Final Liberation (1997)-játék",
                                    "Bruttóár": "5882,64"
                                },
                                {
                                    "cim": "Fitness mesterfokon / Béres Alexandra (2001)-sport",
                                    "Bruttóár": "5850,89"
                                },
                                {
                                    "cim": "Fizika : 12-14 éveseknek (2002)-fizika",
                                    "Bruttóár": "4742,18"
                                },
                                {
                                    "cim": "Fizika felkészítő az érettségi és felvételi vizsgára-fizika",
                                    "Bruttóár": "6108,7"
                                },
                                {
                                    "cim": "Fizika világa (2001)-fizika",
                                    "Bruttóár": "7319,01"
                                },
                                {
                                    "cim": "A Föld élővilága-ismeretterjesztő",
                                    "Bruttóár": "7493"
                                },
                                {
                                    "cim": "Földrajz: 10-14 éveseknek (2002)-földrajz",
                                    "Bruttóár": "4991,1"
                                },
                                {
                                    "cim": "Földrajz: érettségi előkészítő (2002)-földrajz",
                                    "Bruttóár": "4029,71"
                                },
                                {
                                    "cim": "Francais 1-2. + Telepítő-nyelvtanító",
                                    "Bruttóár": "5128,26"
                                },
                                {
                                    "cim": "Francais: Débutan (kezdő) + Telepítő-nyelvtanító",
                                    "Bruttóár": "4787,9"
                                },
                                {
                                    "cim": "Francais: Moyen + Telepítő-nyelvtanító",
                                    "Bruttóár": "7136,13"
                                },
                                {
                                    "cim": "Francia-magyar szótár-szótár",
                                    "Bruttóár": "4528,82"
                                },
                                {
                                    "cim": "Funschool in Dreamland (1995)-játék",
                                    "Bruttóár": "6052,82"
                                },
                                {
                                    "cim": "Geolexikon 4.2 : földtani adatbázis (2002)-ismeretterjesztő",
                                    "Bruttóár": "5844,54"
                                },
                                {
                                    "cim": "Gépírás 2000-gépírás",
                                    "Bruttóár": "4998,72"
                                },
                                {
                                    "cim": "Gondolattár: aforizmák, szállóigék-ismeretterjesztő",
                                    "Bruttóár": "6789,42"
                                },
                                {
                                    "cim": "GTA 2-játék (autóverseny)",
                                    "Bruttóár": "6356,35"
                                },
                                {
                                    "cim": "Hadiflották I. (2002)-történelem",
                                    "Bruttóár": "6507,4800000000005"
                                },
                                {
                                    "cim": "Hadtudományi lexikon (1998)-hadtudomány",
                                    "Bruttóár": "4464,05"
                                },
                                {
                                    "cim": "Hajdúböszörmény-ismeretterjesztő",
                                    "Bruttóár": "4801,87"
                                },
                                {
                                    "cim": "Halak, kétéltűek, hüllők-állattan",
                                    "Bruttóár": "5274,31"
                                },
                                {
                                    "cim": "Half-Life (1996)-játék",
                                    "Bruttóár": "6864,35"
                                },
                                {
                                    "cim": "Half-Life Generation: Game of the Year Edition (2002)-játék",
                                    "Bruttóár": "4705,35"
                                },
                                {
                                    "cim": "Half-Life Generation: Counter Strike (2002)-játék",
                                    "Bruttóár": "7294,88"
                                },
                                {
                                    "cim": "Half-Life Generation: Blue Shift (2002)-játék",
                                    "Bruttóár": "7274,56"
                                },
                                {
                                    "cim": "Harry Potter és a bölcsek köve (2001)-játék",
                                    "Bruttóár": "5679,4400000000005"
                                },
                                {
                                    "cim": "Haza és haladás-történelem",
                                    "Bruttóár": "4420,87"
                                },
                                {
                                    "cim": "A hét világcsoda (2001)-történelem",
                                    "Bruttóár": "4015,7400000000002"
                                },
                                {
                                    "cim": "Home Desing 3D (1998)-lakástervező",
                                    "Bruttóár": "5444,49"
                                },
                                {
                                    "cim": "Hupikék törpikék: teletransportörp (1999)-játék",
                                    "Bruttóár": "3949,7000000000003"
                                },
                                {
                                    "cim": "Informatika - Internet - Iskola-ismeretterjesztő",
                                    "Bruttóár": "4740,91"
                                },
                                {
                                    "cim": "Interaktív angol nyelvész kurzus haladó szint 1-5.-nyelvtanító",
                                    "Bruttóár": "5831,84"
                                },
                                {
                                    "cim": "Interaktív angol nyelvész kurzus kezdő szint-nyelvtanító",
                                    "Bruttóár": "5312,41"
                                },
                                {
                                    "cim": "Interaktív angol nyelvész kurzus középhaladó szint-nyelvtanító",
                                    "Bruttóár": "3956,05"
                                },
                                {
                                    "cim": "Interaktív magyar nyelvtan-nyelvtan",
                                    "Bruttóár": "6069,33"
                                },
                                {
                                    "cim": "International Rally Championship-játék (autóverseny)",
                                    "Bruttóár": "4940,3"
                                },
                                {
                                    "cim": "Internet (1996)-számítástechnika",
                                    "Bruttóár": "6266,18"
                                },
                                {
                                    "cim": "Introduction to Archeology-régészet",
                                    "Bruttóár": "4791,71"
                                },
                                {
                                    "cim": "Investigating 20th Century Art (1994)-festészet",
                                    "Bruttóár": "5580,38"
                                },
                                {
                                    "cim": "Az ipari forradalom kora (2000)-történelem",
                                    "Bruttóár": "6454,14"
                                },
                                {
                                    "cim": "Irodalmi arcképcsarnok-irodalom",
                                    "Bruttóár": "4909,82"
                                },
                                {
                                    "cim": "Irodalom  felkészítő az érettségi és felvételi vizsgára-irodalom",
                                    "Bruttóár": "7180,58"
                                },
                                {
                                    "cim": "Irodalom (1998)-irodalom",
                                    "Bruttóár": "7143,75"
                                },
                                {
                                    "cim": "Italiano (1998) + Installation-nyelvtanító",
                                    "Bruttóár": "6903,72"
                                },
                                {
                                    "cim": "Italiano 1-2. (1998) + Installation-nyelvtanító",
                                    "Bruttóár": "7724,14"
                                },
                                {
                                    "cim": "Italiano 1-2. (1998) + Installation-nyelvtanító",
                                    "Bruttóár": "4342,13"
                                },
                                {
                                    "cim": "Jancsó-filmtörténet",
                                    "Bruttóár": "5339,08"
                                },
                                {
                                    "cim": "Japán : képes kulturális atlasz (2001)-ismeretterjesztő",
                                    "Bruttóár": "5662,93"
                                },
                                {
                                    "cim": "Játékfilmek 1963-tól napjainkig-filmtörténet",
                                    "Bruttóár": "3985,26"
                                },
                                {
                                    "cim": "Játszóház (1998)-játék",
                                    "Bruttóár": "6729,7300000000005"
                                },
                                {
                                    "cim": "Jókai összes művei (2001)-irodalom",
                                    "Bruttóár": "6055,36"
                                },
                                {
                                    "cim": "József Attila (1998)-irodalom",
                                    "Bruttóár": "4914,9"
                                },
                                {
                                    "cim": "A jövő titkai - Interaktív horoszkóp (1998)-ismeretterjesztő",
                                    "Bruttóár": "7711,4400000000005"
                                },
                                {
                                    "cim": "Kártyaváros-ismeretterjesztő + játék",
                                    "Bruttóár": "3945,89"
                                },
                                {
                                    "cim": "Kémia Kalauz 2.-kémia",
                                    "Bruttóár": "6469,38"
                                },
                                {
                                    "cim": "A kémkedés és a hírszerzés története (2002)-történelem",
                                    "Bruttóár": "7423,150000000001"
                                },
                                {
                                    "cim": "Képes krónika (1996)-történelem",
                                    "Bruttóár": "4992,37"
                                },
                                {
                                    "cim": "Képtárak (1995)-festészet",
                                    "Bruttóár": "6868,16"
                                },
                                {
                                    "cim": "Kereszt és félhold-történelem",
                                    "Bruttóár": "5463,54"
                                },
                                {
                                    "cim": "Kétfejű sas: A Habsburg-uralom Magyarországon (1699-1790)-történelem",
                                    "Bruttóár": "6932,93"
                                },
                                {
                                    "cim": "Kettős kötődés: Az Osztrák-Magyar Monarchia (1867-1918)-történelem",
                                    "Bruttóár": "6132,83"
                                },
                                {
                                    "cim": "Kínai falatok-gasztronómia",
                                    "Bruttóár": "5778,5"
                                },
                                {
                                    "cim": "Királyi könyvek 1-9. kötet-ismeretterjesztő",
                                    "Bruttóár": "4135,12"
                                },
                                {
                                    "cim": "Királyi könyvek 18-26. kötet-ismeretterjesztő",
                                    "Bruttóár": "6993,89"
                                },
                                {
                                    "cim": "Királyi könyvek 27-38. kötet : 1703-1740 (2002)-ismeretterjesztő",
                                    "Bruttóár": "6954,52"
                                },
                                {
                                    "cim": "Kispál és a borz (1998)-zene",
                                    "Bruttóár": "7277,1"
                                },
                                {
                                    "cim": "Kossuth Lajos összes munkái (2002)-ismeretterjesztő",
                                    "Bruttóár": "5828,03"
                                },
                                {
                                    "cim": "Környezetvédelmi kalauz (1999)-környezetvédelem",
                                    "Bruttóár": "6995,16"
                                },
                                {
                                    "cim": "Kötelező olvasmányok könyvtára 1. (2002)-irodalom",
                                    "Bruttóár": "4564,38"
                                },
                                {
                                    "cim": "A kőszívű ember fiai - Egri csillagok-irodalom",
                                    "Bruttóár": "7033,26"
                                },
                                {
                                    "cim": "A kutyák: A család kedvencei-állattan",
                                    "Bruttóár": "6303,01"
                                },
                                {
                                    "cim": "Kutyatár-állattan",
                                    "Bruttóár": "6648,45"
                                },
                                {
                                    "cim": "KvízIQ : A hét világcsoda (2001)-játék",
                                    "Bruttóár": "4382,77"
                                },
                                {
                                    "cim": "Lakáskultúra 2000 (2000)-ismeretterjesztő",
                                    "Bruttóár": "7425,6900000000005"
                                },
                                {
                                    "cim": "Lakáskultúra 1999 (1999)-ismeretterjesztő",
                                    "Bruttóár": "6875,78"
                                },
                                {
                                    "cim": "Lakáskultúra 1998 (1998)-ismeretterjesztő",
                                    "Bruttóár": "6973,57"
                                },
                                {
                                    "cim": "Lakáskultúra 1997 (1997)-ismeretterjesztő",
                                    "Bruttóár": "4342,13"
                                },
                                {
                                    "cim": "Lakáskultúra 1996 (1996)-ismeretterjesztő",
                                    "Bruttóár": "5345,43"
                                },
                                {
                                    "cim": "Lands of Lore II. 1-4. (1997)-játék",
                                    "Bruttóár": "5476,24"
                                },
                                {
                                    "cim": "Landscape Design 3D (1998)-kerttervező",
                                    "Bruttóár": "6287,77"
                                },
                                {
                                    "cim": "Legféltettebb természeti értékeink-ismeretterjesztő",
                                    "Bruttóár": "6455,41"
                                },
                                {
                                    "cim": "Legszebb vadnövényeink-növénytan",
                                    "Bruttóár": "5636,26"
                                },
                                {
                                    "cim": "Leonardo da Vinci-múvészet",
                                    "Bruttóár": "6499,86"
                                },
                                {
                                    "cim": "Lilenthal Andor sakkjátszmái-játék, sakk",
                                    "Bruttóár": "4627,88"
                                },
                                {
                                    "cim": "Lopva angolul /English by Stealth 1.-nyelvtanító",
                                    "Bruttóár": "6897,37"
                                },
                                {
                                    "cim": "Lopva angolul /English by Stealth 2.-nyelvtanító",
                                    "Bruttóár": "5838,1900000000005"
                                },
                                {
                                    "cim": "Lopva angolul /English by Stealth 3.-nyelvtanító",
                                    "Bruttóár": "6160,77"
                                },
                                {
                                    "cim": "Lovagkirályok (1301-1437) (1997)-történelem",
                                    "Bruttóár": "5547,36"
                                },
                                {
                                    "cim": "LoveQ, SexQ : szerelmi intelligencia (2001)-ismeretterjesztő",
                                    "Bruttóár": "4605,02"
                                },
                                {
                                    "cim": "M1 Tank (1998)-játék",
                                    "Bruttóár": "7595,87"
                                },
                                {
                                    "cim": "Mackó úr (2002)-játék",
                                    "Bruttóár": "5882,64"
                                },
                                {
                                    "cim": "Madárdalos kirándulások - Madártani oktató CD-ROM (1999)-ismeretterjesztő",
                                    "Bruttóár": "4328,16"
                                },
                                {
                                    "cim": "Magyar bélyegek katalógusa-ismeretterjesztő",
                                    "Bruttóár": "5124,45"
                                },
                                {
                                    "cim": "Magyar fontok '97-betűtípusok",
                                    "Bruttóár": "4883,15"
                                },
                                {
                                    "cim": "A Magyar Koronázási Jelvények-történelem",
                                    "Bruttóár": "5234,9400000000005"
                                },
                                {
                                    "cim": "Magyar nyelv és irodalom-irodalom, nyelv",
                                    "Bruttóár": "5974,08"
                                },
                                {
                                    "cim": "Magyar színházművészet a világban-színház",
                                    "Bruttóár": "6550,66"
                                },
                                {
                                    "cim": "Magyarország, 1944-1956 (2001)-történelem",
                                    "Bruttóár": "6249,67"
                                },
                                {
                                    "cim": "Magyarország, 1944-1956 (2001)-történelem",
                                    "Bruttóár": "4664,71"
                                },
                                {
                                    "cim": "Magyarország Nemzeti Parkjai I.-ismeretterjesztő",
                                    "Bruttóár": "4251,96"
                                },
                                {
                                    "cim": "Magyarország Nemzeti Parkjai II.-ismeretterjesztő",
                                    "Bruttóár": "4288,79"
                                },
                                {
                                    "cim": "Magyarországi várak (1998)-történelem",
                                    "Bruttóár": "6932,93"
                                },
                                {
                                    "cim": "Mahjongg Master (1998)-játék",
                                    "Bruttóár": "6887,21"
                                },
                                {
                                    "cim": "Manó Angol 1.-nyelvtanító",
                                    "Bruttóár": "7432,04"
                                },
                                {
                                    "cim": "Manó Angol 1. (2002)-nyelvtanító",
                                    "Bruttóár": "7684,77"
                                },
                                {
                                    "cim": "Manó Angol 2.-nyelvtanító",
                                    "Bruttóár": "6798,31"
                                },
                                {
                                    "cim": "Manó Angol 2. (2000)-nyelvtanító",
                                    "Bruttóár": "7706,36"
                                },
                                {
                                    "cim": "Manó Élővilág-ismeretterjesztő",
                                    "Bruttóár": "4411,9800000000005"
                                },
                                {
                                    "cim": "Manó Élővilág (2002)-ismeretterjesztő",
                                    "Bruttóár": "6198,87"
                                },
                                {
                                    "cim": "Manó IQ (2001)-ismeretterjesztő",
                                    "Bruttóár": "6836,41"
                                },
                                {
                                    "cim": "Manó Kaland (2002)-ismeretterjesztő",
                                    "Bruttóár": "7578,09"
                                },
                                {
                                    "cim": "Manó Magyarország (2002)-földrajz",
                                    "Bruttóár": "5270,5"
                                },
                                {
                                    "cim": "Manó Matek 1.-matematika",
                                    "Bruttóár": "7613,650000000001"
                                },
                                {
                                    "cim": "Manó Matek 1. (2002)-matematika",
                                    "Bruttóár": "6852,92"
                                },
                                {
                                    "cim": "Manó Matek 2. (1999)-matematika",
                                    "Bruttóár": "7071,36"
                                },
                                {
                                    "cim": "Manó Matek 2. (1999)-matematika",
                                    "Bruttóár": "4490,72"
                                },
                                {
                                    "cim": "Manó Matek 3.-matematika",
                                    "Bruttóár": "6099,81"
                                },
                                {
                                    "cim": "Manó Muzsika-zene",
                                    "Bruttóár": "6344,92"
                                },
                                {
                                    "cim": "Manó Muzsika-zene",
                                    "Bruttóár": "4306,57"
                                },
                                {
                                    "cim": "Manó Német 2.-nyelvtanító",
                                    "Bruttóár": "5895,34"
                                },
                                {
                                    "cim": "Manó Olvasás 1.-nyelvtan",
                                    "Bruttóár": "7423,150000000001"
                                },
                                {
                                    "cim": "Manó Puzzle (2002)-játék",
                                    "Bruttóár": "7719,06"
                                },
                                {
                                    "cim": "Matematika (1998)-matematika",
                                    "Bruttóár": "3943,35"
                                },
                                {
                                    "cim": "Matematika felkészítő az érettségi és felvételi vizsgára-matematika",
                                    "Bruttóár": "5862,32"
                                },
                                {
                                    "cim": "Matematika kalauz (1997)-matematika",
                                    "Bruttóár": "4210,05"
                                },
                                {
                                    "cim": "Mig-29 (1998)-játék",
                                    "Bruttóár": "6400,8"
                                },
                                {
                                    "cim": "Mikszáth Kálmán összes művei-irodalom",
                                    "Bruttóár": "6078,22"
                                },
                                {
                                    "cim": "Mini Manó Tavasz-ismeretterjesztő",
                                    "Bruttóár": "6003,29"
                                },
                                {
                                    "cim": "MoBi Mouse: A fordító egér-fordító program",
                                    "Bruttóár": "6395,72"
                                },
                                {
                                    "cim": "Monopoly Junior-játék",
                                    "Bruttóár": "5046,9800000000005"
                                },
                                {
                                    "cim": "Mons Sacer Pannoniae (2001)-ismeretterjesztő",
                                    "Bruttóár": "5600,7"
                                },
                                {
                                    "cim": "Moving Puzzle Action Flight (2000)-játék",
                                    "Bruttóár": "6955,79"
                                },
                                {
                                    "cim": "Multimédiás Menedzsment Könyvtár 1. - Változásmenedzsment-ismeretterjesztő",
                                    "Bruttóár": "7692,39"
                                },
                                {
                                    "cim": "Multimédiás Menedzsment Könyvtár 2. - Önszervezés-ismeretterjesztő",
                                    "Bruttóár": "4164,33"
                                },
                                {
                                    "cim": "Musique! (1997)-zene",
                                    "Bruttóár": "6776,72"
                                },
                                {
                                    "cim": "Művészet és mesterség-művészet",
                                    "Bruttóár": "7744,46"
                                },
                                {
                                    "cim": "Művészet és művészek (2002)-művészet",
                                    "Bruttóár": "4432,3"
                                },
                                {
                                    "cim": "Nagy képes világtörténet (Matczáli Henrik) (1998)-történelem",
                                    "Bruttóár": "5571,49"
                                },
                                {
                                    "cim": "Nagy vicc tár-humor",
                                    "Bruttóár": "7077,71"
                                },
                                {
                                    "cim": "A Nagybányai Festőiskola (1998)-művészet",
                                    "Bruttóár": "6193,79"
                                },
                                {
                                    "cim": "NASA 1.-csillagászat",
                                    "Bruttóár": "7579,36"
                                },
                                {
                                    "cim": "NASA 2.-csillagászat",
                                    "Bruttóár": "5266,6900000000005"
                                },
                                {
                                    "cim": "Na, So Was? - Minden helyzetben otthonosan-nyelvtanító",
                                    "Bruttóár": "4572"
                                },
                                {
                                    "cim": "Német : 8-10 éveseknek (2002)-nyelvtanító",
                                    "Bruttóár": "4767,58"
                                },
                                {
                                    "cim": "Német szótanító CD-ROM-nyelvtanító",
                                    "Bruttóár": "4207,51"
                                },
                                {
                                    "cim": "Németh László összes műve-irodalom",
                                    "Bruttóár": "5711,1900000000005"
                                },
                                {
                                    "cim": "New York : a tragédiák városa (2001)-ismeretterjesztő",
                                    "Bruttóár": "4728,21"
                                },
                                {
                                    "cim": "NHL 2001-játék (jégkorong)",
                                    "Bruttóár": "6657,34"
                                },
                                {
                                    "cim": "Nincs királyi út - A matematika kultúrtörténete-matematika",
                                    "Bruttóár": "5528,31"
                                },
                                {
                                    "cim": "Nyelvész : Angol és német haladóknak (1997)-nyelvtanító",
                                    "Bruttóár": "4472,9400000000005"
                                },
                                {
                                    "cim": "Nyelvtan összefoglaló : érettségi előkészítő (2002)-nyelvtan",
                                    "Bruttóár": "4683,76"
                                },
                                {
                                    "cim": "Az óceán világa - Maldiv szigetek (2000)-földrajz",
                                    "Bruttóár": "7407,91"
                                },
                                {
                                    "cim": "Ókori lexikon-történelem",
                                    "Bruttóár": "3964,94"
                                },
                                {
                                    "cim": "Olasz-magyar, magyar-olasz digitális szótár-szótár",
                                    "Bruttóár": "5215,89"
                                },
                                {
                                    "cim": "Olasz szótanító CD-ROM-nyelvtanító",
                                    "Bruttóár": "6487,16"
                                },
                                {
                                    "cim": "Orosz (1998)-nyelvtanító",
                                    "Bruttóár": "7631,43"
                                },
                                {
                                    "cim": "Orosz-magyar nagyszótár-szótár",
                                    "Bruttóár": "5925,82"
                                },
                                {
                                    "cim": "Az Országos Széchényi Könyvtár corvinái, 2002 (2002)-történelem",
                                    "Bruttóár": "6036,31"
                                },
                                {
                                    "cim": "Az Osztrák-Magyar Monarchia írásban és képekben (2001)-történelem",
                                    "Bruttóár": "5535,93"
                                },
                                {
                                    "cim": "Paddle Bash (2001)-játék",
                                    "Bruttóár": "4999,99"
                                },
                                {
                                    "cim": "Pannon Enciklopédia (1998)-történelem",
                                    "Bruttóár": "5849,62"
                                },
                                {
                                    "cim": "Pannonhalmi Főapátság (2001)-történelem",
                                    "Bruttóár": "7387,59"
                                },
                                {
                                    "cim": "Panzer General III: Scorched Earth (2000)-játék",
                                    "Bruttóár": "7693,66"
                                },
                                {
                                    "cim": "People's General (1998)-játék",
                                    "Bruttóár": "7141,21"
                                },
                                {
                                    "cim": "Petőfi Sándor: Arany Lacinak (2002)-irodalom",
                                    "Bruttóár": "6969,76"
                                },
                                {
                                    "cim": "Petőfi Sándor összes költeményei-irodalom",
                                    "Bruttóár": "4803,14"
                                },
                                {
                                    "cim": "Plane Crazy-játék",
                                    "Bruttóár": "6363,97"
                                },
                                {
                                    "cim": "Quake III. (2001)-játék",
                                    "Bruttóár": "3992,88"
                                },
                                {
                                    "cim": "Rákóczi-szabadságharc-történelem",
                                    "Bruttóár": "6068,06"
                                },
                                {
                                    "cim": "Rally Championship-játék (autóverseny)",
                                    "Bruttóár": "3944,62"
                                },
                                {
                                    "cim": "Rayman: Matek és olvasás-matematika, nyelvtan",
                                    "Bruttóár": "5694,68"
                                },
                                {
                                    "cim": "Re-Volt (1999)-játék - autós",
                                    "Bruttóár": "5066,03"
                                },
                                {
                                    "cim": "The Settlers III. 1-2. (1998)-játék",
                                    "Bruttóár": "5419,09"
                                },
                                {
                                    "cim": "The Settlers IV. (2001)-játék",
                                    "Bruttóár": "5261,61"
                                },
                                {
                                    "cim": "Shanghai (1997)-ismeretterjesztő",
                                    "Bruttóár": "7493"
                                },
                                {
                                    "cim": "The Sims-játék",
                                    "Bruttóár": "5134,61"
                                },
                                {
                                    "cim": "Sonic Racer-játék (autóverseny)",
                                    "Bruttóár": "4381,5"
                                },
                                {
                                    "cim": "Spanyol (1997)-nyelvtanító",
                                    "Bruttóár": "4794,25"
                                },
                                {
                                    "cim": "Spanyol-magyar szótár-szótár",
                                    "Bruttóár": "7282,18"
                                },
                                {
                                    "cim": "Star Wars: Battle for Naboo-játék",
                                    "Bruttóár": "4470,4"
                                },
                                {
                                    "cim": "Star Wars: Force Commander (2001)-játék",
                                    "Bruttóár": "7346,95"
                                },
                                {
                                    "cim": "Star Wars : Rogue Squadron 3D-játék",
                                    "Bruttóár": "7369,81"
                                },
                                {
                                    "cim": "Supreme Snowboarding-játék",
                                    "Bruttóár": "5271,77"
                                },
                                {
                                    "cim": "Szabadítsd ki a kisoroszlánt!-játék",
                                    "Bruttóár": "7031,99"
                                },
                                {
                                    "cim": "Szabadságharc 1848-49 (1988)-történelem",
                                    "Bruttóár": "7696,2"
                                },
                                {
                                    "cim": "A szabadságharc népzenei emlékei-zene",
                                    "Bruttóár": "6587,49"
                                },
                                {
                                    "cim": "Szolfézs: Kezdőknek és haladóknak-zene",
                                    "Bruttóár": "5704,84"
                                },
                                {
                                    "cim": "Talk To Me Deutsch 2-4.-nyelvtanító",
                                    "Bruttóár": "7607,3"
                                },
                                {
                                    "cim": "Talk To Me English 1.-nyelvtanító",
                                    "Bruttóár": "6023,61"
                                },
                                {
                                    "cim": "Talk To Me Francais 1-2.-nyelvtanító",
                                    "Bruttóár": "6315,71"
                                },
                                {
                                    "cim": "Tankok, tüzérség (2002)-történelem",
                                    "Bruttóár": "7726,68"
                                },
                                {
                                    "cim": "Tanulj tovább! 2000 (2000)-ismeretterjesztő",
                                    "Bruttóár": "5473,7"
                                },
                                {
                                    "cim": "Táplálkozás, életmód mesterfokon (2002)-ismeretterjesztő",
                                    "Bruttóár": "5689,6"
                                },
                                {
                                    "cim": "Target English (1998)-nyelvtanító",
                                    "Bruttóár": "7697,47"
                                },
                                {
                                    "cim": "Tarzan-játék",
                                    "Bruttóár": "4745,99"
                                },
                                {
                                    "cim": "Terrorizmus (2002)-ismeretterjesztő",
                                    "Bruttóár": "6193,79"
                                },
                                {
                                    "cim": "Testbeszéd (1998)-ismeretterjesztő",
                                    "Bruttóár": "6835,14"
                                },
                                {
                                    "cim": "Tesztre készen: angol (1998)-nyelvtanító",
                                    "Bruttóár": "5279,39"
                                },
                                {
                                    "cim": "Tesztre készen: német (1998)-nyelvtanító",
                                    "Bruttóár": "5798,82"
                                },
                                {
                                    "cim": "Thaiföldi ízek (1999)-gasztronómia",
                                    "Bruttóár": "6667,5"
                                },
                                {
                                    "cim": "Timeshock!-játék",
                                    "Bruttóár": "6551,93"
                                },
                                {
                                    "cim": "Tomi megmenti a tengert (2000)-játék",
                                    "Bruttóár": "5492,75"
                                },
                                {
                                    "cim": "Touché - The Adventures of the Fifth-játék",
                                    "Bruttóár": "5775,96"
                                },
                                {
                                    "cim": "Toy Story 2.-játék",
                                    "Bruttóár": "4837,43"
                                },
                                {
                                    "cim": "Történelem (1998)-történelem",
                                    "Bruttóár": "4745,99"
                                },
                                {
                                    "cim": "Történelem : 10-14 éveseknek (2002)-történelem",
                                    "Bruttóár": "4745,99"
                                },
                                {
                                    "cim": "Történelem : középiskola 1. osztály (2002)-történelem",
                                    "Bruttóár": "4744,72"
                                },
                                {
                                    "cim": "Történelem : középiskola 4. osztály (2002)-történelem",
                                    "Bruttóár": "7156,45"
                                },
                                {
                                    "cim": "Traffic Giant-játék",
                                    "Bruttóár": "5568,95"
                                },
                                {
                                    "cim": "Train Simulator (2002)-játék",
                                    "Bruttóár": "6893,56"
                                },
                                {
                                    "cim": "Trickstyle-játék",
                                    "Bruttóár": "5906,77"
                                },
                                {
                                    "cim": "A tudás próbája (2001)-ismeretterjesztő",
                                    "Bruttóár": "6935,47"
                                },
                                {
                                    "cim": "Turul : 1883-1900 (2002)-ismeretterjesztő",
                                    "Bruttóár": "6652,26"
                                },
                                {
                                    "cim": "UEFA Champions Leage Season-játék (labdarúgás)",
                                    "Bruttóár": "7012,9400000000005"
                                },
                                {
                                    "cim": "Új Könyvek 1994-2000 (2002)-ismeretterjesztő",
                                    "Bruttóár": "7650,4800000000005"
                                },
                                {
                                    "cim": "Az Univerzum története-csillagászat",
                                    "Bruttóár": "4640,58"
                                },
                                {
                                    "cim": "Utazás a csillagok között (1998)-csillagászat",
                                    "Bruttóár": "7245,35"
                                },
                                {
                                    "cim": "Utazás a Naprendszerben-csillagászat",
                                    "Bruttóár": "4549,14"
                                },
                                {
                                    "cim": "Utazás a Naprendszerben 2.-csillagászat",
                                    "Bruttóár": "7609,84"
                                },
                                {
                                    "cim": "Úton 2. (1998)-kresz",
                                    "Bruttóár": "6954,52"
                                },
                                {
                                    "cim": "Üzleti protokoll CD (2002)-ismeretterjesztő",
                                    "Bruttóár": "6211,57"
                                },
                                {
                                    "cim": "Várak, kastélyok, legendák 1.-történelem",
                                    "Bruttóár": "5380,99"
                                },
                                {
                                    "cim": "Várak, kastélyok, legendák 2. (2002)-történelem",
                                    "Bruttóár": "4207,51"
                                },
                                {
                                    "cim": "A varázslatos emberi test (1998)-biológia",
                                    "Bruttóár": "6176,01"
                                },
                                {
                                    "cim": "Varázslatos szülinap-játék",
                                    "Bruttóár": "7254,24"
                                },
                                {
                                    "cim": "Varázslatos történelmi nyomozás-történelem",
                                    "Bruttóár": "5581,65"
                                },
                                {
                                    "cim": "A városi élet a Római Birodalomban (1999)-történelem",
                                    "Bruttóár": "7301,2300000000005"
                                },
                                {
                                    "cim": "A Vazul-ág (1038-1301) (1997)-történelem",
                                    "Bruttóár": "5156,2"
                                },
                                {
                                    "cim": "Világatlasz '99 (1998)-földrajz",
                                    "Bruttóár": "6856,7300000000005"
                                },
                                {
                                    "cim": "Világatlasz '99 (1998)-földrajz",
                                    "Bruttóár": "6606,54"
                                },
                                {
                                    "cim": "Világatlasz (2001)-földrajz",
                                    "Bruttóár": "4376,42"
                                },
                                {
                                    "cim": "Világirodalom : Az ókortól napjainkig (2001)-irodalom",
                                    "Bruttóár": "4565,65"
                                },
                                {
                                    "cim": "Volt egyszer egy Magyarország-történelem",
                                    "Bruttóár": "6733,54"
                                },
                                {
                                    "cim": "Warcraft III. (2002)-játék",
                                    "Bruttóár": "7332,9800000000005"
                                },
                                {
                                    "cim": "William Shakespeare összes művei-irodalom",
                                    "Bruttóár": "5634,99"
                                },
                                {
                                    "cim": "Zielpunkt Deutsch (1997)-nyelvtanító",
                                    "Bruttóár": "5262,88"
                                },
                                {
                                    "cim": "Zöld Ödön a földgömbön-földrajz",
                                    "Bruttóár": "7702,55"
                                }
                            ]
                        },
                        "text/html": "<table><tr><th>cim</th><th>Bruttóár</th></tr><tr><td>NULL</td><td>4900,93</td></tr><tr><td>A II. világháború története (1999)-történelem</td><td>5389,88</td></tr><tr><td>3D Dinosaur - adventure-történelem</td><td>6402,07</td></tr><tr><td>3D virtuális origami (2000)-játék</td><td>6800,85</td></tr><tr><td>Az 1848-1849-iki szabadságharc története (2002)-történelem</td><td>7239</td></tr><tr><td>Ablak zsiráf (1999)-ismeretterjesztő</td><td>4495,8</td></tr><tr><td>Ady Endre összes művei (1999)-irodalom</td><td>5386,07</td></tr><tr><td>Afrika-földrajz</td><td>6753,86</td></tr><tr><td>Age of Empires (2000)-játék</td><td>5692,14</td></tr><tr><td>Airport Inc.-játék (repülős)</td><td>5474,97</td></tr><tr><td>American Rodeo : BullRider 2000 (2001)-játék (rodeó)</td><td>7100,57</td></tr><tr><td>Angol : 8-10 éveseknek (2002)-nyelvtanító</td><td>6163,31</td></tr><tr><td>Angol és német nyelvtani gyakorlatok (2002)-nyelvtanító</td><td>6230,62</td></tr><tr><td>Angol szótanító CD-ROM-nyelvtanító</td><td>5650,2300000000005</td></tr><tr><td>Angol szótanító CD-ROM-nyelvtanító</td><td>5643,88</td></tr><tr><td>Angol szótár (1996)-szótár</td><td>4456,43</td></tr><tr><td>Angol-magyar, Magyar-angol hangosszótár-szótár</td><td>6541,77</td></tr><tr><td>Angol-magyar nagyszótár (Halász Előd)-szótár</td><td>7160,26</td></tr><tr><td>Az áramvonalas fakanál-gasztronómia</td><td>7246,62</td></tr><tr><td>Arany János: A bajusz (2002)-irodalom</td><td>4306,57</td></tr><tr><td>Az Árpád-ház története-történelem</td><td>6377,9400000000005</td></tr><tr><td>Art Attack (1998)-játék</td><td>4970,78</td></tr><tr><td>Art puzzle (1998)-ismeretterjesztő</td><td>7348,22</td></tr><tr><td>Az ásványok világa-ásványtan</td><td>7142,4800000000005</td></tr><tr><td>Ausztrália-földrajz</td><td>6764,02</td></tr><tr><td>Auto 2000 - Kerékvilág-ismeretterjesztő</td><td>5668,01</td></tr><tr><td>Ázsia (2000)-földrajz</td><td>3966,21</td></tr><tr><td>Biblia (1995)-ismeretterjesztő</td><td>5638,8</td></tr><tr><td>Biológia &#39;97-biológia</td><td>7039,61</td></tr><tr><td>Biológia (2000)-biológia</td><td>4850,13</td></tr><tr><td>Biológia (2001)-biológia</td><td>4815,84</td></tr><tr><td>Biológia : 12-14 éveseknek (2003)-biológia</td><td>4422,14</td></tr><tr><td>Blinky Bill : A fantasztikus léggömbkaland-játék</td><td>5176,52</td></tr><tr><td>Broken Sword II. (cop. 1997)-játék</td><td>5717,54</td></tr><tr><td>Budapest kalauz-földrajz</td><td>5148,58</td></tr><tr><td>Budapest Museum-művészet</td><td>6720,84</td></tr><tr><td>Buggy-játék</td><td>7404,1</td></tr><tr><td>Byte Magyarország (2002)-számítástechnika</td><td>4161,79</td></tr><tr><td>Caesar III.-játék</td><td>5252,72</td></tr><tr><td>Capitalism II. (2001)-játék</td><td>7698,74</td></tr><tr><td>Capitalism Plus-játék</td><td>6388,1</td></tr><tr><td>Castle Explorer-játék (történelmi)</td><td>4707,89</td></tr><tr><td>CD Panoráma 1-4. (1998)-ismeretterjesztő</td><td>6885,9400000000005</td></tr><tr><td>Computer iskola (1998)-számítástechnika</td><td>6680,2</td></tr><tr><td>Csizmás kandúr (1998)-játék</td><td>7533,64</td></tr><tr><td>Csodálatos univerzum (1997)-csillagászat</td><td>5190,49</td></tr><tr><td>Dél-Amerika (1999)-földrajz</td><td>5078,7300000000005</td></tr><tr><td>Dementia 1-5. (1997)-játék</td><td>7517,13</td></tr><tr><td>Deutsch: Anfanger (kezdő) + Telepítő -nyelvtanító</td><td>7153,91</td></tr><tr><td>Deutsch: Fortgeschrittene (haladó) + Installation-nyelvtanító</td><td>7345,68</td></tr><tr><td>Deutsch: Mittelstufe (középhaladó)+ Telepítő-nyelvtanító</td><td>5558,79</td></tr><tr><td>Diablo-játék</td><td>7580,63</td></tr><tr><td>Diablo II. (2000)-játék</td><td>6223</td></tr><tr><td>Dicső napok és hétköznapok 1848 - Digitális forrásgyűjtemény 1.-történelem</td><td>7125,97</td></tr><tr><td>Dreams to Reality 1-2. (1997)-játék</td><td>5967,7300000000005</td></tr><tr><td>Duke Nukem 3D-játék</td><td>6951,9800000000005</td></tr><tr><td>Dungeon Keeper 2. (1999)-játék</td><td>4278,63</td></tr><tr><td>E-Games : Collector&#39;s Edition (2001)-játék</td><td>7090,41</td></tr><tr><td>Éléstár (1998)-gasztronómia</td><td>4137,66</td></tr><tr><td>Élet a polgárosodó Magyarországon (2001)-történelem</td><td>7076,4400000000005</td></tr><tr><td>Életképek 1848 (1998)-történelem</td><td>5347,97</td></tr><tr><td>Az ember tragédiája-irodalom</td><td>5454,65</td></tr><tr><td>Encarta World Atlas &#39;99 1-2. (1998)-ismeretterjesztő</td><td>6774,18</td></tr><tr><td>Enemy Engaged RAH-66-játék</td><td>6625,59</td></tr><tr><td>English 1-2. + Telepítő-nyelvtanító</td><td>6623,05</td></tr><tr><td>English: Intermediate (haladó)-nyelvtanító</td><td>4606,29</td></tr><tr><td>NULL</td><td>5687,06</td></tr><tr><td>Erdély (1996)-földrajz</td><td>6348,7300000000005</td></tr><tr><td>Espanol: Intermedio + Telepítő-nyelvtanító</td><td>4970,78</td></tr><tr><td>Espanol: Principiante + Telepítő-nyelvtanító</td><td>7470,14</td></tr><tr><td>Észak-Amerika-földrajz</td><td>5072,38</td></tr><tr><td>Európa-földrajz</td><td>6692,900000000001</td></tr><tr><td>The F.A. Premier League Stars 2001-játék (labdarúgás)</td><td>4916,17</td></tr><tr><td>Felvételi példatár : Angol-felvételi</td><td>4922,52</td></tr><tr><td>Felvételi példatár : Biológia, földrajz-felvételi</td><td>4083,05</td></tr><tr><td>Felvételi példatár : Kémia, fizika-felvételi</td><td>7430,77</td></tr><tr><td>Felvételi példatár : Magyar nyelv és irodalom-felvételi</td><td>7562,85</td></tr><tr><td>Felvételi példatár : Matematika-felvételi</td><td>6361,43</td></tr><tr><td>Felvételi példatár : Német-felvételi</td><td>3939,54</td></tr><tr><td>FIFA, 2000 (1999)-játék (labdarúgás)</td><td>6424,93</td></tr><tr><td>Fighting Force (1998)-játék</td><td>6096</td></tr><tr><td>Final Liberation (1997)-játék</td><td>5882,64</td></tr><tr><td>Fitness mesterfokon / Béres Alexandra (2001)-sport</td><td>5850,89</td></tr><tr><td>Fizika : 12-14 éveseknek (2002)-fizika</td><td>4742,18</td></tr><tr><td>Fizika felkészítő az érettségi és felvételi vizsgára-fizika</td><td>6108,7</td></tr><tr><td>Fizika világa (2001)-fizika</td><td>7319,01</td></tr><tr><td>A Föld élővilága-ismeretterjesztő</td><td>7493</td></tr><tr><td>Földrajz: 10-14 éveseknek (2002)-földrajz</td><td>4991,1</td></tr><tr><td>Földrajz: érettségi előkészítő (2002)-földrajz</td><td>4029,71</td></tr><tr><td>Francais 1-2. + Telepítő-nyelvtanító</td><td>5128,26</td></tr><tr><td>Francais: Débutan (kezdő) + Telepítő-nyelvtanító</td><td>4787,9</td></tr><tr><td>Francais: Moyen + Telepítő-nyelvtanító</td><td>7136,13</td></tr><tr><td>Francia-magyar szótár-szótár</td><td>4528,82</td></tr><tr><td>Funschool in Dreamland (1995)-játék</td><td>6052,82</td></tr><tr><td>Geolexikon 4.2 : földtani adatbázis (2002)-ismeretterjesztő</td><td>5844,54</td></tr><tr><td>Gépírás 2000-gépírás</td><td>4998,72</td></tr><tr><td>Gondolattár: aforizmák, szállóigék-ismeretterjesztő</td><td>6789,42</td></tr><tr><td>GTA 2-játék (autóverseny)</td><td>6356,35</td></tr><tr><td>Hadiflották I. (2002)-történelem</td><td>6507,4800000000005</td></tr><tr><td>Hadtudományi lexikon (1998)-hadtudomány</td><td>4464,05</td></tr><tr><td>Hajdúböszörmény-ismeretterjesztő</td><td>4801,87</td></tr><tr><td>Halak, kétéltűek, hüllők-állattan</td><td>5274,31</td></tr><tr><td>Half-Life (1996)-játék</td><td>6864,35</td></tr><tr><td>Half-Life Generation: Game of the Year Edition (2002)-játék</td><td>4705,35</td></tr><tr><td>Half-Life Generation: Counter Strike (2002)-játék</td><td>7294,88</td></tr><tr><td>Half-Life Generation: Blue Shift (2002)-játék</td><td>7274,56</td></tr><tr><td>Harry Potter és a bölcsek köve (2001)-játék</td><td>5679,4400000000005</td></tr><tr><td>Haza és haladás-történelem</td><td>4420,87</td></tr><tr><td>A hét világcsoda (2001)-történelem</td><td>4015,7400000000002</td></tr><tr><td>Home Desing 3D (1998)-lakástervező</td><td>5444,49</td></tr><tr><td>Hupikék törpikék: teletransportörp (1999)-játék</td><td>3949,7000000000003</td></tr><tr><td>Informatika - Internet - Iskola-ismeretterjesztő</td><td>4740,91</td></tr><tr><td>Interaktív angol nyelvész kurzus haladó szint 1-5.-nyelvtanító</td><td>5831,84</td></tr><tr><td>Interaktív angol nyelvész kurzus kezdő szint-nyelvtanító</td><td>5312,41</td></tr><tr><td>Interaktív angol nyelvész kurzus középhaladó szint-nyelvtanító</td><td>3956,05</td></tr><tr><td>Interaktív magyar nyelvtan-nyelvtan</td><td>6069,33</td></tr><tr><td>International Rally Championship-játék (autóverseny)</td><td>4940,3</td></tr><tr><td>Internet (1996)-számítástechnika</td><td>6266,18</td></tr><tr><td>Introduction to Archeology-régészet</td><td>4791,71</td></tr><tr><td>Investigating 20th Century Art (1994)-festészet</td><td>5580,38</td></tr><tr><td>Az ipari forradalom kora (2000)-történelem</td><td>6454,14</td></tr><tr><td>Irodalmi arcképcsarnok-irodalom</td><td>4909,82</td></tr><tr><td>Irodalom  felkészítő az érettségi és felvételi vizsgára-irodalom</td><td>7180,58</td></tr><tr><td>Irodalom (1998)-irodalom</td><td>7143,75</td></tr><tr><td>Italiano (1998) + Installation-nyelvtanító</td><td>6903,72</td></tr><tr><td>Italiano 1-2. (1998) + Installation-nyelvtanító</td><td>7724,14</td></tr><tr><td>Italiano 1-2. (1998) + Installation-nyelvtanító</td><td>4342,13</td></tr><tr><td>Jancsó-filmtörténet</td><td>5339,08</td></tr><tr><td>Japán : képes kulturális atlasz (2001)-ismeretterjesztő</td><td>5662,93</td></tr><tr><td>Játékfilmek 1963-tól napjainkig-filmtörténet</td><td>3985,26</td></tr><tr><td>Játszóház (1998)-játék</td><td>6729,7300000000005</td></tr><tr><td>Jókai összes művei (2001)-irodalom</td><td>6055,36</td></tr><tr><td>József Attila (1998)-irodalom</td><td>4914,9</td></tr><tr><td>A jövő titkai - Interaktív horoszkóp (1998)-ismeretterjesztő</td><td>7711,4400000000005</td></tr><tr><td>Kártyaváros-ismeretterjesztő + játék</td><td>3945,89</td></tr><tr><td>Kémia Kalauz 2.-kémia</td><td>6469,38</td></tr><tr><td>A kémkedés és a hírszerzés története (2002)-történelem</td><td>7423,150000000001</td></tr><tr><td>Képes krónika (1996)-történelem</td><td>4992,37</td></tr><tr><td>Képtárak (1995)-festészet</td><td>6868,16</td></tr><tr><td>Kereszt és félhold-történelem</td><td>5463,54</td></tr><tr><td>Kétfejű sas: A Habsburg-uralom Magyarországon (1699-1790)-történelem</td><td>6932,93</td></tr><tr><td>Kettős kötődés: Az Osztrák-Magyar Monarchia (1867-1918)-történelem</td><td>6132,83</td></tr><tr><td>Kínai falatok-gasztronómia</td><td>5778,5</td></tr><tr><td>Királyi könyvek 1-9. kötet-ismeretterjesztő</td><td>4135,12</td></tr><tr><td>Királyi könyvek 18-26. kötet-ismeretterjesztő</td><td>6993,89</td></tr><tr><td>Királyi könyvek 27-38. kötet : 1703-1740 (2002)-ismeretterjesztő</td><td>6954,52</td></tr><tr><td>Kispál és a borz (1998)-zene</td><td>7277,1</td></tr><tr><td>Kossuth Lajos összes munkái (2002)-ismeretterjesztő</td><td>5828,03</td></tr><tr><td>Környezetvédelmi kalauz (1999)-környezetvédelem</td><td>6995,16</td></tr><tr><td>Kötelező olvasmányok könyvtára 1. (2002)-irodalom</td><td>4564,38</td></tr><tr><td>A kőszívű ember fiai - Egri csillagok-irodalom</td><td>7033,26</td></tr><tr><td>A kutyák: A család kedvencei-állattan</td><td>6303,01</td></tr><tr><td>Kutyatár-állattan</td><td>6648,45</td></tr><tr><td>KvízIQ : A hét világcsoda (2001)-játék</td><td>4382,77</td></tr><tr><td>Lakáskultúra 2000 (2000)-ismeretterjesztő</td><td>7425,6900000000005</td></tr><tr><td>Lakáskultúra 1999 (1999)-ismeretterjesztő</td><td>6875,78</td></tr><tr><td>Lakáskultúra 1998 (1998)-ismeretterjesztő</td><td>6973,57</td></tr><tr><td>Lakáskultúra 1997 (1997)-ismeretterjesztő</td><td>4342,13</td></tr><tr><td>Lakáskultúra 1996 (1996)-ismeretterjesztő</td><td>5345,43</td></tr><tr><td>Lands of Lore II. 1-4. (1997)-játék</td><td>5476,24</td></tr><tr><td>Landscape Design 3D (1998)-kerttervező</td><td>6287,77</td></tr><tr><td>Legféltettebb természeti értékeink-ismeretterjesztő</td><td>6455,41</td></tr><tr><td>Legszebb vadnövényeink-növénytan</td><td>5636,26</td></tr><tr><td>Leonardo da Vinci-múvészet</td><td>6499,86</td></tr><tr><td>Lilenthal Andor sakkjátszmái-játék, sakk</td><td>4627,88</td></tr><tr><td>Lopva angolul /English by Stealth 1.-nyelvtanító</td><td>6897,37</td></tr><tr><td>Lopva angolul /English by Stealth 2.-nyelvtanító</td><td>5838,1900000000005</td></tr><tr><td>Lopva angolul /English by Stealth 3.-nyelvtanító</td><td>6160,77</td></tr><tr><td>Lovagkirályok (1301-1437) (1997)-történelem</td><td>5547,36</td></tr><tr><td>LoveQ, SexQ : szerelmi intelligencia (2001)-ismeretterjesztő</td><td>4605,02</td></tr><tr><td>M1 Tank (1998)-játék</td><td>7595,87</td></tr><tr><td>Mackó úr (2002)-játék</td><td>5882,64</td></tr><tr><td>Madárdalos kirándulások - Madártani oktató CD-ROM (1999)-ismeretterjesztő</td><td>4328,16</td></tr><tr><td>Magyar bélyegek katalógusa-ismeretterjesztő</td><td>5124,45</td></tr><tr><td>Magyar fontok &#39;97-betűtípusok</td><td>4883,15</td></tr><tr><td>A Magyar Koronázási Jelvények-történelem</td><td>5234,9400000000005</td></tr><tr><td>Magyar nyelv és irodalom-irodalom, nyelv</td><td>5974,08</td></tr><tr><td>Magyar színházművészet a világban-színház</td><td>6550,66</td></tr><tr><td>Magyarország, 1944-1956 (2001)-történelem</td><td>6249,67</td></tr><tr><td>Magyarország, 1944-1956 (2001)-történelem</td><td>4664,71</td></tr><tr><td>Magyarország Nemzeti Parkjai I.-ismeretterjesztő</td><td>4251,96</td></tr><tr><td>Magyarország Nemzeti Parkjai II.-ismeretterjesztő</td><td>4288,79</td></tr><tr><td>Magyarországi várak (1998)-történelem</td><td>6932,93</td></tr><tr><td>Mahjongg Master (1998)-játék</td><td>6887,21</td></tr><tr><td>Manó Angol 1.-nyelvtanító</td><td>7432,04</td></tr><tr><td>Manó Angol 1. (2002)-nyelvtanító</td><td>7684,77</td></tr><tr><td>Manó Angol 2.-nyelvtanító</td><td>6798,31</td></tr><tr><td>Manó Angol 2. (2000)-nyelvtanító</td><td>7706,36</td></tr><tr><td>Manó Élővilág-ismeretterjesztő</td><td>4411,9800000000005</td></tr><tr><td>Manó Élővilág (2002)-ismeretterjesztő</td><td>6198,87</td></tr><tr><td>Manó IQ (2001)-ismeretterjesztő</td><td>6836,41</td></tr><tr><td>Manó Kaland (2002)-ismeretterjesztő</td><td>7578,09</td></tr><tr><td>Manó Magyarország (2002)-földrajz</td><td>5270,5</td></tr><tr><td>Manó Matek 1.-matematika</td><td>7613,650000000001</td></tr><tr><td>Manó Matek 1. (2002)-matematika</td><td>6852,92</td></tr><tr><td>Manó Matek 2. (1999)-matematika</td><td>7071,36</td></tr><tr><td>Manó Matek 2. (1999)-matematika</td><td>4490,72</td></tr><tr><td>Manó Matek 3.-matematika</td><td>6099,81</td></tr><tr><td>Manó Muzsika-zene</td><td>6344,92</td></tr><tr><td>Manó Muzsika-zene</td><td>4306,57</td></tr><tr><td>Manó Német 2.-nyelvtanító</td><td>5895,34</td></tr><tr><td>Manó Olvasás 1.-nyelvtan</td><td>7423,150000000001</td></tr><tr><td>Manó Puzzle (2002)-játék</td><td>7719,06</td></tr><tr><td>Matematika (1998)-matematika</td><td>3943,35</td></tr><tr><td>Matematika felkészítő az érettségi és felvételi vizsgára-matematika</td><td>5862,32</td></tr><tr><td>Matematika kalauz (1997)-matematika</td><td>4210,05</td></tr><tr><td>Mig-29 (1998)-játék</td><td>6400,8</td></tr><tr><td>Mikszáth Kálmán összes művei-irodalom</td><td>6078,22</td></tr><tr><td>Mini Manó Tavasz-ismeretterjesztő</td><td>6003,29</td></tr><tr><td>MoBi Mouse: A fordító egér-fordító program</td><td>6395,72</td></tr><tr><td>Monopoly Junior-játék</td><td>5046,9800000000005</td></tr><tr><td>Mons Sacer Pannoniae (2001)-ismeretterjesztő</td><td>5600,7</td></tr><tr><td>Moving Puzzle Action Flight (2000)-játék</td><td>6955,79</td></tr><tr><td>Multimédiás Menedzsment Könyvtár 1. - Változásmenedzsment-ismeretterjesztő</td><td>7692,39</td></tr><tr><td>Multimédiás Menedzsment Könyvtár 2. - Önszervezés-ismeretterjesztő</td><td>4164,33</td></tr><tr><td>Musique! (1997)-zene</td><td>6776,72</td></tr><tr><td>Művészet és mesterség-művészet</td><td>7744,46</td></tr><tr><td>Művészet és művészek (2002)-művészet</td><td>4432,3</td></tr><tr><td>Nagy képes világtörténet (Matczáli Henrik) (1998)-történelem</td><td>5571,49</td></tr><tr><td>Nagy vicc tár-humor</td><td>7077,71</td></tr><tr><td>A Nagybányai Festőiskola (1998)-művészet</td><td>6193,79</td></tr><tr><td>NASA 1.-csillagászat</td><td>7579,36</td></tr><tr><td>NASA 2.-csillagászat</td><td>5266,6900000000005</td></tr><tr><td>Na, So Was? - Minden helyzetben otthonosan-nyelvtanító</td><td>4572</td></tr><tr><td>Német : 8-10 éveseknek (2002)-nyelvtanító</td><td>4767,58</td></tr><tr><td>Német szótanító CD-ROM-nyelvtanító</td><td>4207,51</td></tr><tr><td>Németh László összes műve-irodalom</td><td>5711,1900000000005</td></tr><tr><td>New York : a tragédiák városa (2001)-ismeretterjesztő</td><td>4728,21</td></tr><tr><td>NHL 2001-játék (jégkorong)</td><td>6657,34</td></tr><tr><td>Nincs királyi út - A matematika kultúrtörténete-matematika</td><td>5528,31</td></tr><tr><td>Nyelvész : Angol és német haladóknak (1997)-nyelvtanító</td><td>4472,9400000000005</td></tr><tr><td>Nyelvtan összefoglaló : érettségi előkészítő (2002)-nyelvtan</td><td>4683,76</td></tr><tr><td>Az óceán világa - Maldiv szigetek (2000)-földrajz</td><td>7407,91</td></tr><tr><td>Ókori lexikon-történelem</td><td>3964,94</td></tr><tr><td>Olasz-magyar, magyar-olasz digitális szótár-szótár</td><td>5215,89</td></tr><tr><td>Olasz szótanító CD-ROM-nyelvtanító</td><td>6487,16</td></tr><tr><td>Orosz (1998)-nyelvtanító</td><td>7631,43</td></tr><tr><td>Orosz-magyar nagyszótár-szótár</td><td>5925,82</td></tr><tr><td>Az Országos Széchényi Könyvtár corvinái, 2002 (2002)-történelem</td><td>6036,31</td></tr><tr><td>Az Osztrák-Magyar Monarchia írásban és képekben (2001)-történelem</td><td>5535,93</td></tr><tr><td>Paddle Bash (2001)-játék</td><td>4999,99</td></tr><tr><td>Pannon Enciklopédia (1998)-történelem</td><td>5849,62</td></tr><tr><td>Pannonhalmi Főapátság (2001)-történelem</td><td>7387,59</td></tr><tr><td>Panzer General III: Scorched Earth (2000)-játék</td><td>7693,66</td></tr><tr><td>People&#39;s General (1998)-játék</td><td>7141,21</td></tr><tr><td>Petőfi Sándor: Arany Lacinak (2002)-irodalom</td><td>6969,76</td></tr><tr><td>Petőfi Sándor összes költeményei-irodalom</td><td>4803,14</td></tr><tr><td>Plane Crazy-játék</td><td>6363,97</td></tr><tr><td>Quake III. (2001)-játék</td><td>3992,88</td></tr><tr><td>Rákóczi-szabadságharc-történelem</td><td>6068,06</td></tr><tr><td>Rally Championship-játék (autóverseny)</td><td>3944,62</td></tr><tr><td>Rayman: Matek és olvasás-matematika, nyelvtan</td><td>5694,68</td></tr><tr><td>Re-Volt (1999)-játék - autós</td><td>5066,03</td></tr><tr><td>The Settlers III. 1-2. (1998)-játék</td><td>5419,09</td></tr><tr><td>The Settlers IV. (2001)-játék</td><td>5261,61</td></tr><tr><td>Shanghai (1997)-ismeretterjesztő</td><td>7493</td></tr><tr><td>The Sims-játék</td><td>5134,61</td></tr><tr><td>Sonic Racer-játék (autóverseny)</td><td>4381,5</td></tr><tr><td>Spanyol (1997)-nyelvtanító</td><td>4794,25</td></tr><tr><td>Spanyol-magyar szótár-szótár</td><td>7282,18</td></tr><tr><td>Star Wars: Battle for Naboo-játék</td><td>4470,4</td></tr><tr><td>Star Wars: Force Commander (2001)-játék</td><td>7346,95</td></tr><tr><td>Star Wars : Rogue Squadron 3D-játék</td><td>7369,81</td></tr><tr><td>Supreme Snowboarding-játék</td><td>5271,77</td></tr><tr><td>Szabadítsd ki a kisoroszlánt!-játék</td><td>7031,99</td></tr><tr><td>Szabadságharc 1848-49 (1988)-történelem</td><td>7696,2</td></tr><tr><td>A szabadságharc népzenei emlékei-zene</td><td>6587,49</td></tr><tr><td>Szolfézs: Kezdőknek és haladóknak-zene</td><td>5704,84</td></tr><tr><td>Talk To Me Deutsch 2-4.-nyelvtanító</td><td>7607,3</td></tr><tr><td>Talk To Me English 1.-nyelvtanító</td><td>6023,61</td></tr><tr><td>Talk To Me Francais 1-2.-nyelvtanító</td><td>6315,71</td></tr><tr><td>Tankok, tüzérség (2002)-történelem</td><td>7726,68</td></tr><tr><td>Tanulj tovább! 2000 (2000)-ismeretterjesztő</td><td>5473,7</td></tr><tr><td>Táplálkozás, életmód mesterfokon (2002)-ismeretterjesztő</td><td>5689,6</td></tr><tr><td>Target English (1998)-nyelvtanító</td><td>7697,47</td></tr><tr><td>Tarzan-játék</td><td>4745,99</td></tr><tr><td>Terrorizmus (2002)-ismeretterjesztő</td><td>6193,79</td></tr><tr><td>Testbeszéd (1998)-ismeretterjesztő</td><td>6835,14</td></tr><tr><td>Tesztre készen: angol (1998)-nyelvtanító</td><td>5279,39</td></tr><tr><td>Tesztre készen: német (1998)-nyelvtanító</td><td>5798,82</td></tr><tr><td>Thaiföldi ízek (1999)-gasztronómia</td><td>6667,5</td></tr><tr><td>Timeshock!-játék</td><td>6551,93</td></tr><tr><td>Tomi megmenti a tengert (2000)-játék</td><td>5492,75</td></tr><tr><td>Touché - The Adventures of the Fifth-játék</td><td>5775,96</td></tr><tr><td>Toy Story 2.-játék</td><td>4837,43</td></tr><tr><td>Történelem (1998)-történelem</td><td>4745,99</td></tr><tr><td>Történelem : 10-14 éveseknek (2002)-történelem</td><td>4745,99</td></tr><tr><td>Történelem : középiskola 1. osztály (2002)-történelem</td><td>4744,72</td></tr><tr><td>Történelem : középiskola 4. osztály (2002)-történelem</td><td>7156,45</td></tr><tr><td>Traffic Giant-játék</td><td>5568,95</td></tr><tr><td>Train Simulator (2002)-játék</td><td>6893,56</td></tr><tr><td>Trickstyle-játék</td><td>5906,77</td></tr><tr><td>A tudás próbája (2001)-ismeretterjesztő</td><td>6935,47</td></tr><tr><td>Turul : 1883-1900 (2002)-ismeretterjesztő</td><td>6652,26</td></tr><tr><td>UEFA Champions Leage Season-játék (labdarúgás)</td><td>7012,9400000000005</td></tr><tr><td>Új Könyvek 1994-2000 (2002)-ismeretterjesztő</td><td>7650,4800000000005</td></tr><tr><td>Az Univerzum története-csillagászat</td><td>4640,58</td></tr><tr><td>Utazás a csillagok között (1998)-csillagászat</td><td>7245,35</td></tr><tr><td>Utazás a Naprendszerben-csillagászat</td><td>4549,14</td></tr><tr><td>Utazás a Naprendszerben 2.-csillagászat</td><td>7609,84</td></tr><tr><td>Úton 2. (1998)-kresz</td><td>6954,52</td></tr><tr><td>Üzleti protokoll CD (2002)-ismeretterjesztő</td><td>6211,57</td></tr><tr><td>Várak, kastélyok, legendák 1.-történelem</td><td>5380,99</td></tr><tr><td>Várak, kastélyok, legendák 2. (2002)-történelem</td><td>4207,51</td></tr><tr><td>A varázslatos emberi test (1998)-biológia</td><td>6176,01</td></tr><tr><td>Varázslatos szülinap-játék</td><td>7254,24</td></tr><tr><td>Varázslatos történelmi nyomozás-történelem</td><td>5581,65</td></tr><tr><td>A városi élet a Római Birodalomban (1999)-történelem</td><td>7301,2300000000005</td></tr><tr><td>A Vazul-ág (1038-1301) (1997)-történelem</td><td>5156,2</td></tr><tr><td>Világatlasz &#39;99 (1998)-földrajz</td><td>6856,7300000000005</td></tr><tr><td>Világatlasz &#39;99 (1998)-földrajz</td><td>6606,54</td></tr><tr><td>Világatlasz (2001)-földrajz</td><td>4376,42</td></tr><tr><td>Világirodalom : Az ókortól napjainkig (2001)-irodalom</td><td>4565,65</td></tr><tr><td>Volt egyszer egy Magyarország-történelem</td><td>6733,54</td></tr><tr><td>Warcraft III. (2002)-játék</td><td>7332,9800000000005</td></tr><tr><td>William Shakespeare összes művei-irodalom</td><td>5634,99</td></tr><tr><td>Zielpunkt Deutsch (1997)-nyelvtanító</td><td>5262,88</td></tr><tr><td>Zöld Ödön a földgömbön-földrajz</td><td>7702,55</td></tr></table>"
                    },
                    "metadata": {}
                }
            ],
            "execution_count": 6
        },
        {
            "cell_type": "markdown",
            "source": [
                "3\\. Milyen stílusú DVD-k kölcsönözhetők?"
            ],
            "metadata": {
                "azdata_cell_guid": "33abd8b8-0693-47b4-a817-267144dcfdb9"
            },
            "attachments": {}
        },
        {
            "cell_type": "code",
            "source": [
                "SELECT distinct stilus\r\n",
                "from dvd"
            ],
            "metadata": {
                "azdata_cell_guid": "ec878e1d-7313-404d-a090-aa3cf6a79fde",
                "language": "sql"
            },
            "outputs": [
                {
                    "output_type": "display_data",
                    "data": {
                        "text/html": "(48 rows affected)"
                    },
                    "metadata": {}
                },
                {
                    "output_type": "display_data",
                    "data": {
                        "text/html": "Total execution time: 00:00:00.018"
                    },
                    "metadata": {}
                },
                {
                    "output_type": "execute_result",
                    "execution_count": 3,
                    "data": {
                        "application/vnd.dataresource+json": {
                            "schema": {
                                "fields": [
                                    {
                                        "name": "stilus"
                                    }
                                ]
                            },
                            "data": [
                                {
                                    "stilus": "NULL"
                                },
                                {
                                    "stilus": "állattan"
                                },
                                {
                                    "stilus": "ásványtan"
                                },
                                {
                                    "stilus": "betűtípusok"
                                },
                                {
                                    "stilus": "biológia"
                                },
                                {
                                    "stilus": "csillagászat"
                                },
                                {
                                    "stilus": "felvételi"
                                },
                                {
                                    "stilus": "festészet"
                                },
                                {
                                    "stilus": "filmtörténet"
                                },
                                {
                                    "stilus": "fizika"
                                },
                                {
                                    "stilus": "fordító program"
                                },
                                {
                                    "stilus": "földrajz"
                                },
                                {
                                    "stilus": "gasztronómia"
                                },
                                {
                                    "stilus": "gépírás"
                                },
                                {
                                    "stilus": "hadtudomány"
                                },
                                {
                                    "stilus": "humor"
                                },
                                {
                                    "stilus": "irodalom"
                                },
                                {
                                    "stilus": "irodalom, nyelv"
                                },
                                {
                                    "stilus": "ismeretterjesztő"
                                },
                                {
                                    "stilus": "ismeretterjesztő + játék"
                                },
                                {
                                    "stilus": "játék"
                                },
                                {
                                    "stilus": "játék - autós"
                                },
                                {
                                    "stilus": "játék (autóverseny)"
                                },
                                {
                                    "stilus": "játék (jégkorong)"
                                },
                                {
                                    "stilus": "játék (labdarúgás)"
                                },
                                {
                                    "stilus": "játék (repülős)"
                                },
                                {
                                    "stilus": "játék (rodeó)"
                                },
                                {
                                    "stilus": "játék (történelmi)"
                                },
                                {
                                    "stilus": "játék, sakk"
                                },
                                {
                                    "stilus": "kémia"
                                },
                                {
                                    "stilus": "kerttervező"
                                },
                                {
                                    "stilus": "környezetvédelem"
                                },
                                {
                                    "stilus": "kresz"
                                },
                                {
                                    "stilus": "lakástervező"
                                },
                                {
                                    "stilus": "matematika"
                                },
                                {
                                    "stilus": "matematika, nyelvtan"
                                },
                                {
                                    "stilus": "múvészet"
                                },
                                {
                                    "stilus": "művészet"
                                },
                                {
                                    "stilus": "növénytan"
                                },
                                {
                                    "stilus": "nyelvtan"
                                },
                                {
                                    "stilus": "nyelvtanító"
                                },
                                {
                                    "stilus": "régészet"
                                },
                                {
                                    "stilus": "sport"
                                },
                                {
                                    "stilus": "számítástechnika"
                                },
                                {
                                    "stilus": "színház"
                                },
                                {
                                    "stilus": "szótár"
                                },
                                {
                                    "stilus": "történelem"
                                },
                                {
                                    "stilus": "zene"
                                }
                            ]
                        },
                        "text/html": "<table><tr><th>stilus</th></tr><tr><td>NULL</td></tr><tr><td>állattan</td></tr><tr><td>ásványtan</td></tr><tr><td>betűtípusok</td></tr><tr><td>biológia</td></tr><tr><td>csillagászat</td></tr><tr><td>felvételi</td></tr><tr><td>festészet</td></tr><tr><td>filmtörténet</td></tr><tr><td>fizika</td></tr><tr><td>fordító program</td></tr><tr><td>földrajz</td></tr><tr><td>gasztronómia</td></tr><tr><td>gépírás</td></tr><tr><td>hadtudomány</td></tr><tr><td>humor</td></tr><tr><td>irodalom</td></tr><tr><td>irodalom, nyelv</td></tr><tr><td>ismeretterjesztő</td></tr><tr><td>ismeretterjesztő + játék</td></tr><tr><td>játék</td></tr><tr><td>játék - autós</td></tr><tr><td>játék (autóverseny)</td></tr><tr><td>játék (jégkorong)</td></tr><tr><td>játék (labdarúgás)</td></tr><tr><td>játék (repülős)</td></tr><tr><td>játék (rodeó)</td></tr><tr><td>játék (történelmi)</td></tr><tr><td>játék, sakk</td></tr><tr><td>kémia</td></tr><tr><td>kerttervező</td></tr><tr><td>környezetvédelem</td></tr><tr><td>kresz</td></tr><tr><td>lakástervező</td></tr><tr><td>matematika</td></tr><tr><td>matematika, nyelvtan</td></tr><tr><td>múvészet</td></tr><tr><td>művészet</td></tr><tr><td>növénytan</td></tr><tr><td>nyelvtan</td></tr><tr><td>nyelvtanító</td></tr><tr><td>régészet</td></tr><tr><td>sport</td></tr><tr><td>számítástechnika</td></tr><tr><td>színház</td></tr><tr><td>szótár</td></tr><tr><td>történelem</td></tr><tr><td>zene</td></tr></table>"
                    },
                    "metadata": {}
                }
            ],
            "execution_count": 3
        },
        {
            "cell_type": "markdown",
            "source": [
                ""
            ],
            "metadata": {
                "azdata_cell_guid": "36a28d92-eb06-4e8f-8e10-b31636799a92"
            }
        },
        {
            "cell_type": "markdown",
            "source": [
                "4. Listázzuk azon DVD-k adatait, amelyek stílusa történelem, és nettó áruk 3000 felett van!"
            ],
            "metadata": {
                "azdata_cell_guid": "21312c44-3808-46d4-86f6-bd49e78eb16a"
            },
            "attachments": {}
        },
        {
            "cell_type": "code",
            "source": [
                "SELECT *\r\n",
                "from dvd\r\n",
                "WHERE stilus='történelem' AND nettoar>3000"
            ],
            "metadata": {
                "azdata_cell_guid": "f05dc32b-46e0-4933-ba57-c55c158932e9",
                "language": "sql"
            },
            "outputs": [
                {
                    "output_type": "display_data",
                    "data": {
                        "text/html": "(41 rows affected)"
                    },
                    "metadata": {}
                },
                {
                    "output_type": "display_data",
                    "data": {
                        "text/html": "Total execution time: 00:00:00.022"
                    },
                    "metadata": {}
                },
                {
                    "output_type": "execute_result",
                    "execution_count": 7,
                    "data": {
                        "application/vnd.dataresource+json": {
                            "schema": {
                                "fields": [
                                    {
                                        "name": "ID"
                                    },
                                    {
                                        "name": "cim"
                                    },
                                    {
                                        "name": "stilus"
                                    },
                                    {
                                        "name": "szam"
                                    },
                                    {
                                        "name": "nettoar"
                                    },
                                    {
                                        "name": "lang"
                                    },
                                    {
                                        "name": "raktár készlet"
                                    }
                                ]
                            },
                            "data": [
                                {
                                    "ID": "1",
                                    "cim": "NULL",
                                    "stilus": "történelem",
                                    "szam": "12342",
                                    "nettoar": "3859",
                                    "lang": "1",
                                    "raktár készlet": "10"
                                },
                                {
                                    "ID": "2",
                                    "cim": "A II. világháború története (1999)",
                                    "stilus": "történelem",
                                    "szam": "7224",
                                    "nettoar": "4244",
                                    "lang": "1",
                                    "raktár készlet": "10"
                                },
                                {
                                    "ID": "3",
                                    "cim": "3D Dinosaur - adventure",
                                    "stilus": "történelem",
                                    "szam": "576",
                                    "nettoar": "5041",
                                    "lang": "2",
                                    "raktár készlet": "10"
                                },
                                {
                                    "ID": "5",
                                    "cim": "Az 1848-1849-iki szabadságharc története (2002)",
                                    "stilus": "történelem",
                                    "szam": "13962-963",
                                    "nettoar": "5700",
                                    "lang": "1",
                                    "raktár készlet": "8"
                                },
                                {
                                    "ID": "21",
                                    "cim": "Az Árpád-ház története",
                                    "stilus": "történelem",
                                    "szam": "10124",
                                    "nettoar": "5022",
                                    "lang": "1",
                                    "raktár készlet": "10"
                                },
                                {
                                    "ID": "54",
                                    "cim": "Dicső napok és hétköznapok 1848 - Digitális forrásgyűjtemény 1.",
                                    "stilus": "történelem",
                                    "szam": "7793",
                                    "nettoar": "5611",
                                    "lang": "1",
                                    "raktár készlet": "10"
                                },
                                {
                                    "ID": "60",
                                    "cim": "Élet a polgárosodó Magyarországon (2001)",
                                    "stilus": "történelem",
                                    "szam": "13357",
                                    "nettoar": "5572",
                                    "lang": "1",
                                    "raktár készlet": "10"
                                },
                                {
                                    "ID": "61",
                                    "cim": "Életképek 1848 (1998)",
                                    "stilus": "történelem",
                                    "szam": "3874",
                                    "nettoar": "4211",
                                    "lang": "1",
                                    "raktár készlet": "10"
                                },
                                {
                                    "ID": "100",
                                    "cim": "Hadiflották I. (2002)",
                                    "stilus": "történelem",
                                    "szam": "14849",
                                    "nettoar": "5124",
                                    "lang": "1",
                                    "raktár készlet": "10"
                                },
                                {
                                    "ID": "109",
                                    "cim": "Haza és haladás",
                                    "stilus": "történelem",
                                    "szam": "9599",
                                    "nettoar": "3481",
                                    "lang": "1",
                                    "raktár készlet": "10"
                                },
                                {
                                    "ID": "110",
                                    "cim": "A hét világcsoda (2001)",
                                    "stilus": "történelem",
                                    "szam": "14028",
                                    "nettoar": "3162",
                                    "lang": "1",
                                    "raktár készlet": "10"
                                },
                                {
                                    "ID": "122",
                                    "cim": "Az ipari forradalom kora (2000)",
                                    "stilus": "történelem",
                                    "szam": "8951",
                                    "nettoar": "5082",
                                    "lang": "1",
                                    "raktár készlet": "10"
                                },
                                {
                                    "ID": "138",
                                    "cim": "A kémkedés és a hírszerzés története (2002)",
                                    "stilus": "történelem",
                                    "szam": "13230",
                                    "nettoar": "5845",
                                    "lang": "1",
                                    "raktár készlet": "10"
                                },
                                {
                                    "ID": "139",
                                    "cim": "Képes krónika (1996)",
                                    "stilus": "történelem",
                                    "szam": "327",
                                    "nettoar": "3931",
                                    "lang": "1",
                                    "raktár készlet": "10"
                                },
                                {
                                    "ID": "141",
                                    "cim": "Kereszt és félhold",
                                    "stilus": "történelem",
                                    "szam": "7489",
                                    "nettoar": "4302",
                                    "lang": "1",
                                    "raktár készlet": "10"
                                },
                                {
                                    "ID": "142",
                                    "cim": "Kétfejű sas: A Habsburg-uralom Magyarországon (1699-1790)",
                                    "stilus": "történelem",
                                    "szam": "8573",
                                    "nettoar": "5459",
                                    "lang": "1",
                                    "raktár készlet": "10"
                                },
                                {
                                    "ID": "143",
                                    "cim": "Kettős kötődés: Az Osztrák-Magyar Monarchia (1867-1918)",
                                    "stilus": "történelem",
                                    "szam": "10665",
                                    "nettoar": "4829",
                                    "lang": "1",
                                    "raktár készlet": "10"
                                },
                                {
                                    "ID": "170",
                                    "cim": "Lovagkirályok (1301-1437) (1997)",
                                    "stilus": "történelem",
                                    "szam": "1563",
                                    "nettoar": "4368",
                                    "lang": "1",
                                    "raktár készlet": "10"
                                },
                                {
                                    "ID": "177",
                                    "cim": "A Magyar Koronázási Jelvények",
                                    "stilus": "történelem",
                                    "szam": "4699",
                                    "nettoar": "4122",
                                    "lang": "1",
                                    "raktár készlet": "10"
                                },
                                {
                                    "ID": "180",
                                    "cim": "Magyarország, 1944-1956 (2001)",
                                    "stilus": "történelem",
                                    "szam": "13162",
                                    "nettoar": "4921",
                                    "lang": "1",
                                    "raktár készlet": "10"
                                },
                                {
                                    "ID": "181",
                                    "cim": "Magyarország, 1944-1956 (2001)",
                                    "stilus": "történelem",
                                    "szam": "15134",
                                    "nettoar": "3673",
                                    "lang": "1",
                                    "raktár készlet": "10"
                                },
                                {
                                    "ID": "184",
                                    "cim": "Magyarországi várak (1998)",
                                    "stilus": "történelem",
                                    "szam": "4625",
                                    "nettoar": "5459",
                                    "lang": "1",
                                    "raktár készlet": "10"
                                },
                                {
                                    "ID": "220",
                                    "cim": "Nagy képes világtörténet (Matczáli Henrik) (1998)",
                                    "stilus": "történelem",
                                    "szam": "13971",
                                    "nettoar": "4387",
                                    "lang": "1",
                                    "raktár készlet": "10"
                                },
                                {
                                    "ID": "235",
                                    "cim": "Ókori lexikon",
                                    "stilus": "történelem",
                                    "szam": "11670",
                                    "nettoar": "3122",
                                    "lang": "1",
                                    "raktár készlet": "10"
                                },
                                {
                                    "ID": "240",
                                    "cim": "Az Országos Széchényi Könyvtár corvinái, 2002 (2002)",
                                    "stilus": "történelem",
                                    "szam": "13847",
                                    "nettoar": "4753",
                                    "lang": "1",
                                    "raktár készlet": "10"
                                },
                                {
                                    "ID": "241",
                                    "cim": "Az Osztrák-Magyar Monarchia írásban és képekben (2001)",
                                    "stilus": "történelem",
                                    "szam": "13957",
                                    "nettoar": "4359",
                                    "lang": "1",
                                    "raktár készlet": "10"
                                },
                                {
                                    "ID": "243",
                                    "cim": "Pannon Enciklopédia (1998)",
                                    "stilus": "történelem",
                                    "szam": "4004",
                                    "nettoar": "4606",
                                    "lang": "1",
                                    "raktár készlet": "10"
                                },
                                {
                                    "ID": "244",
                                    "cim": "Pannonhalmi Főapátság (2001)",
                                    "stilus": "történelem",
                                    "szam": "13896",
                                    "nettoar": "5817",
                                    "lang": "1",
                                    "raktár készlet": "10"
                                },
                                {
                                    "ID": "251",
                                    "cim": "Rákóczi-szabadságharc",
                                    "stilus": "történelem",
                                    "szam": "8552",
                                    "nettoar": "4778",
                                    "lang": "1",
                                    "raktár készlet": "10"
                                },
                                {
                                    "ID": "267",
                                    "cim": "Szabadságharc 1848-49 (1988)",
                                    "stilus": "történelem",
                                    "szam": "3794",
                                    "nettoar": "6060",
                                    "lang": "1",
                                    "raktár készlet": "10"
                                },
                                {
                                    "ID": "273",
                                    "cim": "Tankok, tüzérség (2002)",
                                    "stilus": "történelem",
                                    "szam": "14872",
                                    "nettoar": "6084",
                                    "lang": "1",
                                    "raktár készlet": "10"
                                },
                                {
                                    "ID": "287",
                                    "cim": "Történelem (1998)",
                                    "stilus": "történelem",
                                    "szam": "3909",
                                    "nettoar": "3737",
                                    "lang": "1",
                                    "raktár készlet": "10"
                                },
                                {
                                    "ID": "288",
                                    "cim": "Történelem : 10-14 éveseknek (2002)",
                                    "stilus": "történelem",
                                    "szam": "13500",
                                    "nettoar": "3737",
                                    "lang": "1",
                                    "raktár készlet": "10"
                                },
                                {
                                    "ID": "289",
                                    "cim": "Történelem : középiskola 1. osztály (2002)",
                                    "stilus": "történelem",
                                    "szam": "13722",
                                    "nettoar": "3736",
                                    "lang": "1",
                                    "raktár készlet": "10"
                                },
                                {
                                    "ID": "290",
                                    "cim": "Történelem : középiskola 4. osztály (2002)",
                                    "stilus": "történelem",
                                    "szam": "13729",
                                    "nettoar": "5635",
                                    "lang": "1",
                                    "raktár készlet": "10"
                                },
                                {
                                    "ID": "304",
                                    "cim": "Várak, kastélyok, legendák 1.",
                                    "stilus": "történelem",
                                    "szam": "11170",
                                    "nettoar": "4237",
                                    "lang": "1",
                                    "raktár készlet": "10"
                                },
                                {
                                    "ID": "305",
                                    "cim": "Várak, kastélyok, legendák 2. (2002)",
                                    "stilus": "történelem",
                                    "szam": "13829",
                                    "nettoar": "3313",
                                    "lang": "1",
                                    "raktár készlet": "10"
                                },
                                {
                                    "ID": "308",
                                    "cim": "Varázslatos történelmi nyomozás",
                                    "stilus": "történelem",
                                    "szam": "9661",
                                    "nettoar": "4395",
                                    "lang": "1",
                                    "raktár készlet": "10"
                                },
                                {
                                    "ID": "309",
                                    "cim": "A városi élet a Római Birodalomban (1999)",
                                    "stilus": "történelem",
                                    "szam": "9110",
                                    "nettoar": "5749",
                                    "lang": "1",
                                    "raktár készlet": "10"
                                },
                                {
                                    "ID": "310",
                                    "cim": "A Vazul-ág (1038-1301) (1997)",
                                    "stilus": "történelem",
                                    "szam": "1548",
                                    "nettoar": "4060",
                                    "lang": "1",
                                    "raktár készlet": "10"
                                },
                                {
                                    "ID": "315",
                                    "cim": "Volt egyszer egy Magyarország",
                                    "stilus": "történelem",
                                    "szam": "608",
                                    "nettoar": "5302",
                                    "lang": "1",
                                    "raktár készlet": "10"
                                }
                            ]
                        },
                        "text/html": "<table><tr><th>ID</th><th>cim</th><th>stilus</th><th>szam</th><th>nettoar</th><th>lang</th><th>raktár készlet</th></tr><tr><td>1</td><td>NULL</td><td>történelem</td><td>12342</td><td>3859</td><td>1</td><td>10</td></tr><tr><td>2</td><td>A II. világháború története (1999)</td><td>történelem</td><td>7224</td><td>4244</td><td>1</td><td>10</td></tr><tr><td>3</td><td>3D Dinosaur - adventure</td><td>történelem</td><td>576</td><td>5041</td><td>2</td><td>10</td></tr><tr><td>5</td><td>Az 1848-1849-iki szabadságharc története (2002)</td><td>történelem</td><td>13962-963</td><td>5700</td><td>1</td><td>8</td></tr><tr><td>21</td><td>Az Árpád-ház története</td><td>történelem</td><td>10124</td><td>5022</td><td>1</td><td>10</td></tr><tr><td>54</td><td>Dicső napok és hétköznapok 1848 - Digitális forrásgyűjtemény 1.</td><td>történelem</td><td>7793</td><td>5611</td><td>1</td><td>10</td></tr><tr><td>60</td><td>Élet a polgárosodó Magyarországon (2001)</td><td>történelem</td><td>13357</td><td>5572</td><td>1</td><td>10</td></tr><tr><td>61</td><td>Életképek 1848 (1998)</td><td>történelem</td><td>3874</td><td>4211</td><td>1</td><td>10</td></tr><tr><td>100</td><td>Hadiflották I. (2002)</td><td>történelem</td><td>14849</td><td>5124</td><td>1</td><td>10</td></tr><tr><td>109</td><td>Haza és haladás</td><td>történelem</td><td>9599</td><td>3481</td><td>1</td><td>10</td></tr><tr><td>110</td><td>A hét világcsoda (2001)</td><td>történelem</td><td>14028</td><td>3162</td><td>1</td><td>10</td></tr><tr><td>122</td><td>Az ipari forradalom kora (2000)</td><td>történelem</td><td>8951</td><td>5082</td><td>1</td><td>10</td></tr><tr><td>138</td><td>A kémkedés és a hírszerzés története (2002)</td><td>történelem</td><td>13230</td><td>5845</td><td>1</td><td>10</td></tr><tr><td>139</td><td>Képes krónika (1996)</td><td>történelem</td><td>327</td><td>3931</td><td>1</td><td>10</td></tr><tr><td>141</td><td>Kereszt és félhold</td><td>történelem</td><td>7489</td><td>4302</td><td>1</td><td>10</td></tr><tr><td>142</td><td>Kétfejű sas: A Habsburg-uralom Magyarországon (1699-1790)</td><td>történelem</td><td>8573</td><td>5459</td><td>1</td><td>10</td></tr><tr><td>143</td><td>Kettős kötődés: Az Osztrák-Magyar Monarchia (1867-1918)</td><td>történelem</td><td>10665</td><td>4829</td><td>1</td><td>10</td></tr><tr><td>170</td><td>Lovagkirályok (1301-1437) (1997)</td><td>történelem</td><td>1563</td><td>4368</td><td>1</td><td>10</td></tr><tr><td>177</td><td>A Magyar Koronázási Jelvények</td><td>történelem</td><td>4699</td><td>4122</td><td>1</td><td>10</td></tr><tr><td>180</td><td>Magyarország, 1944-1956 (2001)</td><td>történelem</td><td>13162</td><td>4921</td><td>1</td><td>10</td></tr><tr><td>181</td><td>Magyarország, 1944-1956 (2001)</td><td>történelem</td><td>15134</td><td>3673</td><td>1</td><td>10</td></tr><tr><td>184</td><td>Magyarországi várak (1998)</td><td>történelem</td><td>4625</td><td>5459</td><td>1</td><td>10</td></tr><tr><td>220</td><td>Nagy képes világtörténet (Matczáli Henrik) (1998)</td><td>történelem</td><td>13971</td><td>4387</td><td>1</td><td>10</td></tr><tr><td>235</td><td>Ókori lexikon</td><td>történelem</td><td>11670</td><td>3122</td><td>1</td><td>10</td></tr><tr><td>240</td><td>Az Országos Széchényi Könyvtár corvinái, 2002 (2002)</td><td>történelem</td><td>13847</td><td>4753</td><td>1</td><td>10</td></tr><tr><td>241</td><td>Az Osztrák-Magyar Monarchia írásban és képekben (2001)</td><td>történelem</td><td>13957</td><td>4359</td><td>1</td><td>10</td></tr><tr><td>243</td><td>Pannon Enciklopédia (1998)</td><td>történelem</td><td>4004</td><td>4606</td><td>1</td><td>10</td></tr><tr><td>244</td><td>Pannonhalmi Főapátság (2001)</td><td>történelem</td><td>13896</td><td>5817</td><td>1</td><td>10</td></tr><tr><td>251</td><td>Rákóczi-szabadságharc</td><td>történelem</td><td>8552</td><td>4778</td><td>1</td><td>10</td></tr><tr><td>267</td><td>Szabadságharc 1848-49 (1988)</td><td>történelem</td><td>3794</td><td>6060</td><td>1</td><td>10</td></tr><tr><td>273</td><td>Tankok, tüzérség (2002)</td><td>történelem</td><td>14872</td><td>6084</td><td>1</td><td>10</td></tr><tr><td>287</td><td>Történelem (1998)</td><td>történelem</td><td>3909</td><td>3737</td><td>1</td><td>10</td></tr><tr><td>288</td><td>Történelem : 10-14 éveseknek (2002)</td><td>történelem</td><td>13500</td><td>3737</td><td>1</td><td>10</td></tr><tr><td>289</td><td>Történelem : középiskola 1. osztály (2002)</td><td>történelem</td><td>13722</td><td>3736</td><td>1</td><td>10</td></tr><tr><td>290</td><td>Történelem : középiskola 4. osztály (2002)</td><td>történelem</td><td>13729</td><td>5635</td><td>1</td><td>10</td></tr><tr><td>304</td><td>Várak, kastélyok, legendák 1.</td><td>történelem</td><td>11170</td><td>4237</td><td>1</td><td>10</td></tr><tr><td>305</td><td>Várak, kastélyok, legendák 2. (2002)</td><td>történelem</td><td>13829</td><td>3313</td><td>1</td><td>10</td></tr><tr><td>308</td><td>Varázslatos történelmi nyomozás</td><td>történelem</td><td>9661</td><td>4395</td><td>1</td><td>10</td></tr><tr><td>309</td><td>A városi élet a Római Birodalomban (1999)</td><td>történelem</td><td>9110</td><td>5749</td><td>1</td><td>10</td></tr><tr><td>310</td><td>A Vazul-ág (1038-1301) (1997)</td><td>történelem</td><td>1548</td><td>4060</td><td>1</td><td>10</td></tr><tr><td>315</td><td>Volt egyszer egy Magyarország</td><td>történelem</td><td>608</td><td>5302</td><td>1</td><td>10</td></tr></table>"
                    },
                    "metadata": {}
                }
            ],
            "execution_count": 7
        },
        {
            "cell_type": "markdown",
            "source": [
                "5. . Listázzuk azon dvd-k adatait, amelyek nettó ára 3000 és 4000 között van!"
            ],
            "metadata": {
                "azdata_cell_guid": "008c8ede-435b-450b-9eef-32e0689fb5c1"
            },
            "attachments": {}
        },
        {
            "cell_type": "code",
            "source": [
                "SELECT *\r\n",
                "from dvd\r\n",
                "where nettoar BETWEEN 3000 and 4000"
            ],
            "metadata": {
                "azdata_cell_guid": "220e2316-7bb4-4a96-b7d9-db863253778e",
                "language": "sql"
            },
            "outputs": [
                {
                    "output_type": "display_data",
                    "data": {
                        "text/html": "(87 rows affected)"
                    },
                    "metadata": {}
                },
                {
                    "output_type": "display_data",
                    "data": {
                        "text/html": "Total execution time: 00:00:00.035"
                    },
                    "metadata": {}
                },
                {
                    "output_type": "execute_result",
                    "execution_count": 8,
                    "data": {
                        "application/vnd.dataresource+json": {
                            "schema": {
                                "fields": [
                                    {
                                        "name": "ID"
                                    },
                                    {
                                        "name": "cim"
                                    },
                                    {
                                        "name": "stilus"
                                    },
                                    {
                                        "name": "szam"
                                    },
                                    {
                                        "name": "nettoar"
                                    },
                                    {
                                        "name": "lang"
                                    },
                                    {
                                        "name": "raktár készlet"
                                    }
                                ]
                            },
                            "data": [
                                {
                                    "ID": "1",
                                    "cim": "NULL",
                                    "stilus": "történelem",
                                    "szam": "12342",
                                    "nettoar": "3859",
                                    "lang": "1",
                                    "raktár készlet": "10"
                                },
                                {
                                    "ID": "6",
                                    "cim": "Ablak zsiráf (1999)",
                                    "stilus": "ismeretterjesztő",
                                    "szam": "6405",
                                    "nettoar": "3540",
                                    "lang": "1",
                                    "raktár készlet": "10"
                                },
                                {
                                    "ID": "16",
                                    "cim": "Angol szótár (1996)",
                                    "stilus": "szótár",
                                    "szam": "1993",
                                    "nettoar": "3509",
                                    "lang": "2",
                                    "raktár készlet": "10"
                                },
                                {
                                    "ID": "20",
                                    "cim": "Arany János: A bajusz (2002)",
                                    "stilus": "irodalom",
                                    "szam": "13424",
                                    "nettoar": "3391",
                                    "lang": "1",
                                    "raktár készlet": "10"
                                },
                                {
                                    "ID": "22",
                                    "cim": "Art Attack (1998)",
                                    "stilus": "játék",
                                    "szam": "9074",
                                    "nettoar": "3914",
                                    "lang": "2",
                                    "raktár készlet": "10"
                                },
                                {
                                    "ID": "27",
                                    "cim": "Ázsia (2000)",
                                    "stilus": "földrajz",
                                    "szam": "8974",
                                    "nettoar": "3123",
                                    "lang": "1",
                                    "raktár készlet": "10"
                                },
                                {
                                    "ID": "30",
                                    "cim": "Biológia (2000)",
                                    "stilus": "biológia",
                                    "szam": "8982",
                                    "nettoar": "3819",
                                    "lang": "1",
                                    "raktár készlet": "10"
                                },
                                {
                                    "ID": "31",
                                    "cim": "Biológia (2001)",
                                    "stilus": "biológia",
                                    "szam": "10318",
                                    "nettoar": "3792",
                                    "lang": "1",
                                    "raktár készlet": "10"
                                },
                                {
                                    "ID": "32",
                                    "cim": "Biológia : 12-14 éveseknek (2003)",
                                    "stilus": "biológia",
                                    "szam": "14665",
                                    "nettoar": "3482",
                                    "lang": "1",
                                    "raktár készlet": "10"
                                },
                                {
                                    "ID": "38",
                                    "cim": "Byte Magyarország (2002)",
                                    "stilus": "számítástechnika",
                                    "szam": "13993",
                                    "nettoar": "3277",
                                    "lang": "1",
                                    "raktár készlet": "10"
                                },
                                {
                                    "ID": "42",
                                    "cim": "Castle Explorer",
                                    "stilus": "játék (történelmi)",
                                    "szam": "560",
                                    "nettoar": "3707",
                                    "lang": "2",
                                    "raktár készlet": "10"
                                },
                                {
                                    "ID": "47",
                                    "cim": "Dél-Amerika (1999)",
                                    "stilus": "földrajz",
                                    "szam": "7049",
                                    "nettoar": "3999",
                                    "lang": "1",
                                    "raktár készlet": "10"
                                },
                                {
                                    "ID": "57",
                                    "cim": "Dungeon Keeper 2. (1999)",
                                    "stilus": "játék",
                                    "szam": "6831",
                                    "nettoar": "3369",
                                    "lang": "2",
                                    "raktár készlet": "10"
                                },
                                {
                                    "ID": "59",
                                    "cim": "Éléstár (1998)",
                                    "stilus": "gasztronómia",
                                    "szam": "3014",
                                    "nettoar": "3258",
                                    "lang": "1",
                                    "raktár készlet": "10"
                                },
                                {
                                    "ID": "67",
                                    "cim": "English: Intermediate (haladó)",
                                    "stilus": "nyelvtanító",
                                    "szam": "8116-8117",
                                    "nettoar": "3627",
                                    "lang": "2",
                                    "raktár készlet": "10"
                                },
                                {
                                    "ID": "70",
                                    "cim": "Espanol: Intermedio + Telepítő",
                                    "stilus": "nyelvtanító",
                                    "szam": "8132-8133",
                                    "nettoar": "3914",
                                    "lang": "6",
                                    "raktár készlet": "10"
                                },
                                {
                                    "ID": "72",
                                    "cim": "Észak-Amerika",
                                    "stilus": "földrajz",
                                    "szam": "6470",
                                    "nettoar": "3994",
                                    "lang": "1",
                                    "raktár készlet": "10"
                                },
                                {
                                    "ID": "74",
                                    "cim": "The F.A. Premier League Stars 2001",
                                    "stilus": "játék (labdarúgás)",
                                    "szam": "10184",
                                    "nettoar": "3871",
                                    "lang": "2",
                                    "raktár készlet": "10"
                                },
                                {
                                    "ID": "75",
                                    "cim": "Felvételi példatár : Angol",
                                    "stilus": "felvételi",
                                    "szam": "11772",
                                    "nettoar": "3876",
                                    "lang": "2",
                                    "raktár készlet": "10"
                                },
                                {
                                    "ID": "76",
                                    "cim": "Felvételi példatár : Biológia, földrajz",
                                    "stilus": "felvételi",
                                    "szam": "11794",
                                    "nettoar": "3215",
                                    "lang": "1",
                                    "raktár készlet": "10"
                                },
                                {
                                    "ID": "80",
                                    "cim": "Felvételi példatár : Német",
                                    "stilus": "felvételi",
                                    "szam": "11894",
                                    "nettoar": "3102",
                                    "lang": "3",
                                    "raktár készlet": "10"
                                },
                                {
                                    "ID": "85",
                                    "cim": "Fizika : 12-14 éveseknek (2002)",
                                    "stilus": "fizika",
                                    "szam": "13465",
                                    "nettoar": "3734",
                                    "lang": "1",
                                    "raktár készlet": "10"
                                },
                                {
                                    "ID": "89",
                                    "cim": "Földrajz: 10-14 éveseknek (2002)",
                                    "stilus": "földrajz",
                                    "szam": "13484",
                                    "nettoar": "3930",
                                    "lang": "1",
                                    "raktár készlet": "10"
                                },
                                {
                                    "ID": "90",
                                    "cim": "Földrajz: érettségi előkészítő (2002)",
                                    "stilus": "földrajz",
                                    "szam": "13707",
                                    "nettoar": "3173",
                                    "lang": "1",
                                    "raktár készlet": "10"
                                },
                                {
                                    "ID": "92",
                                    "cim": "Francais: Débutan (kezdő) + Telepítő",
                                    "stilus": "nyelvtanító",
                                    "szam": "8125-8126",
                                    "nettoar": "3770",
                                    "lang": "7",
                                    "raktár készlet": "10"
                                },
                                {
                                    "ID": "94",
                                    "cim": "Francia-magyar szótár",
                                    "stilus": "szótár",
                                    "szam": "8323",
                                    "nettoar": "3566",
                                    "lang": "7",
                                    "raktár készlet": "10"
                                },
                                {
                                    "ID": "97",
                                    "cim": "Gépírás 2000",
                                    "stilus": "gépírás",
                                    "szam": "9803",
                                    "nettoar": "3936",
                                    "lang": "1",
                                    "raktár készlet": "10"
                                },
                                {
                                    "ID": "101",
                                    "cim": "Hadtudományi lexikon (1998)",
                                    "stilus": "hadtudomány",
                                    "szam": "4742",
                                    "nettoar": "3515",
                                    "lang": "1",
                                    "raktár készlet": "10"
                                },
                                {
                                    "ID": "102",
                                    "cim": "Hajdúböszörmény",
                                    "stilus": "ismeretterjesztő",
                                    "szam": "12844",
                                    "nettoar": "3781",
                                    "lang": "1",
                                    "raktár készlet": "10"
                                },
                                {
                                    "ID": "105",
                                    "cim": "Half-Life Generation: Game of the Year Edition (2002)",
                                    "stilus": "játék",
                                    "szam": "14238-39",
                                    "nettoar": "3705",
                                    "lang": "2",
                                    "raktár készlet": "10"
                                },
                                {
                                    "ID": "109",
                                    "cim": "Haza és haladás",
                                    "stilus": "történelem",
                                    "szam": "9599",
                                    "nettoar": "3481",
                                    "lang": "1",
                                    "raktár készlet": "10"
                                },
                                {
                                    "ID": "110",
                                    "cim": "A hét világcsoda (2001)",
                                    "stilus": "történelem",
                                    "szam": "14028",
                                    "nettoar": "3162",
                                    "lang": "1",
                                    "raktár készlet": "10"
                                },
                                {
                                    "ID": "112",
                                    "cim": "Hupikék törpikék: teletransportörp (1999)",
                                    "stilus": "játék",
                                    "szam": "14233",
                                    "nettoar": "3110",
                                    "lang": "1",
                                    "raktár készlet": "10"
                                },
                                {
                                    "ID": "113",
                                    "cim": "Informatika - Internet - Iskola",
                                    "stilus": "ismeretterjesztő",
                                    "szam": "2007",
                                    "nettoar": "3733",
                                    "lang": "1",
                                    "raktár készlet": "10"
                                },
                                {
                                    "ID": "116",
                                    "cim": "Interaktív angol nyelvész kurzus középhaladó szint",
                                    "stilus": "nyelvtanító",
                                    "szam": "1841-1845",
                                    "nettoar": "3115",
                                    "lang": "2",
                                    "raktár készlet": "10"
                                },
                                {
                                    "ID": "118",
                                    "cim": "International Rally Championship",
                                    "stilus": "játék (autóverseny)",
                                    "szam": "9957",
                                    "nettoar": "3890",
                                    "lang": "2",
                                    "raktár készlet": "10"
                                },
                                {
                                    "ID": "120",
                                    "cim": "Introduction to Archeology",
                                    "stilus": "régészet",
                                    "szam": "1160",
                                    "nettoar": "3773",
                                    "lang": "2",
                                    "raktár készlet": "10"
                                },
                                {
                                    "ID": "123",
                                    "cim": "Irodalmi arcképcsarnok",
                                    "stilus": "irodalom",
                                    "szam": "9171",
                                    "nettoar": "3866",
                                    "lang": "1",
                                    "raktár készlet": "10"
                                },
                                {
                                    "ID": "128",
                                    "cim": "Italiano 1-2. (1998) + Installation",
                                    "stilus": "nyelvtanító",
                                    "szam": "5607-5608, 5609",
                                    "nettoar": "3419",
                                    "lang": "4",
                                    "raktár készlet": "10"
                                },
                                {
                                    "ID": "131",
                                    "cim": "Játékfilmek 1963-tól napjainkig",
                                    "stilus": "filmtörténet",
                                    "szam": "7625",
                                    "nettoar": "3138",
                                    "lang": "1",
                                    "raktár készlet": "10"
                                },
                                {
                                    "ID": "134",
                                    "cim": "József Attila (1998)",
                                    "stilus": "irodalom",
                                    "szam": "3036",
                                    "nettoar": "3870",
                                    "lang": "1",
                                    "raktár készlet": "10"
                                },
                                {
                                    "ID": "136",
                                    "cim": "Kártyaváros",
                                    "stilus": "ismeretterjesztő + játék",
                                    "szam": "11239",
                                    "nettoar": "3107",
                                    "lang": "1",
                                    "raktár készlet": "10"
                                },
                                {
                                    "ID": "139",
                                    "cim": "Képes krónika (1996)",
                                    "stilus": "történelem",
                                    "szam": "327",
                                    "nettoar": "3931",
                                    "lang": "1",
                                    "raktár készlet": "10"
                                },
                                {
                                    "ID": "145",
                                    "cim": "Királyi könyvek 1-9. kötet",
                                    "stilus": "ismeretterjesztő",
                                    "szam": "9175",
                                    "nettoar": "3256",
                                    "lang": "1",
                                    "raktár készlet": "10"
                                },
                                {
                                    "ID": "151",
                                    "cim": "Kötelező olvasmányok könyvtára 1. (2002)",
                                    "stilus": "irodalom",
                                    "szam": "13746",
                                    "nettoar": "3594",
                                    "lang": "1",
                                    "raktár készlet": "10"
                                },
                                {
                                    "ID": "155",
                                    "cim": "KvízIQ : A hét világcsoda (2001)",
                                    "stilus": "játék",
                                    "szam": "14028",
                                    "nettoar": "3451",
                                    "lang": "1",
                                    "raktár készlet": "10"
                                },
                                {
                                    "ID": "159",
                                    "cim": "Lakáskultúra 1997 (1997)",
                                    "stilus": "ismeretterjesztő",
                                    "szam": "9788",
                                    "nettoar": "3419",
                                    "lang": "1",
                                    "raktár készlet": "10"
                                },
                                {
                                    "ID": "166",
                                    "cim": "Lilenthal Andor sakkjátszmái",
                                    "stilus": "játék, sakk",
                                    "szam": "11479",
                                    "nettoar": "3644",
                                    "lang": "1",
                                    "raktár készlet": "10"
                                },
                                {
                                    "ID": "171",
                                    "cim": "LoveQ, SexQ : szerelmi intelligencia (2001)",
                                    "stilus": "ismeretterjesztő",
                                    "szam": "14231",
                                    "nettoar": "3626",
                                    "lang": "1",
                                    "raktár készlet": "10"
                                },
                                {
                                    "ID": "174",
                                    "cim": "Madárdalos kirándulások - Madártani oktató CD-ROM (1999)",
                                    "stilus": "ismeretterjesztő",
                                    "szam": "9036",
                                    "nettoar": "3408",
                                    "lang": "1",
                                    "raktár készlet": "10"
                                },
                                {
                                    "ID": "176",
                                    "cim": "Magyar fontok '97",
                                    "stilus": "betűtípusok",
                                    "szam": "3729",
                                    "nettoar": "3845",
                                    "lang": "1",
                                    "raktár készlet": "10"
                                },
                                {
                                    "ID": "181",
                                    "cim": "Magyarország, 1944-1956 (2001)",
                                    "stilus": "történelem",
                                    "szam": "15134",
                                    "nettoar": "3673",
                                    "lang": "1",
                                    "raktár készlet": "10"
                                },
                                {
                                    "ID": "182",
                                    "cim": "Magyarország Nemzeti Parkjai I.",
                                    "stilus": "ismeretterjesztő",
                                    "szam": "8531",
                                    "nettoar": "3348",
                                    "lang": "1",
                                    "raktár készlet": "10"
                                },
                                {
                                    "ID": "183",
                                    "cim": "Magyarország Nemzeti Parkjai II.",
                                    "stilus": "ismeretterjesztő",
                                    "szam": "10973",
                                    "nettoar": "3377",
                                    "lang": "1",
                                    "raktár készlet": "10"
                                },
                                {
                                    "ID": "190",
                                    "cim": "Manó Élővilág",
                                    "stilus": "ismeretterjesztő",
                                    "szam": "7025",
                                    "nettoar": "3474",
                                    "lang": "1",
                                    "raktár készlet": "10"
                                },
                                {
                                    "ID": "198",
                                    "cim": "Manó Matek 2. (1999)",
                                    "stilus": "matematika",
                                    "szam": "13878",
                                    "nettoar": "3536",
                                    "lang": "1",
                                    "raktár készlet": "10"
                                },
                                {
                                    "ID": "201",
                                    "cim": "Manó Muzsika",
                                    "stilus": "zene",
                                    "szam": "8164",
                                    "nettoar": "3391",
                                    "lang": "1",
                                    "raktár készlet": "10"
                                },
                                {
                                    "ID": "205",
                                    "cim": "Matematika (1998)",
                                    "stilus": "matematika",
                                    "szam": "5051",
                                    "nettoar": "3105",
                                    "lang": "1",
                                    "raktár készlet": "10"
                                },
                                {
                                    "ID": "207",
                                    "cim": "Matematika kalauz (1997)",
                                    "stilus": "matematika",
                                    "szam": "1856",
                                    "nettoar": "3315",
                                    "lang": "1",
                                    "raktár készlet": "10"
                                },
                                {
                                    "ID": "212",
                                    "cim": "Monopoly Junior",
                                    "stilus": "játék",
                                    "szam": "12317",
                                    "nettoar": "3974",
                                    "lang": "2",
                                    "raktár készlet": "10"
                                },
                                {
                                    "ID": "216",
                                    "cim": "Multimédiás Menedzsment Könyvtár 2. - Önszervezés",
                                    "stilus": "ismeretterjesztő",
                                    "szam": "8727",
                                    "nettoar": "3279",
                                    "lang": "1",
                                    "raktár készlet": "10"
                                },
                                {
                                    "ID": "219",
                                    "cim": "Művészet és művészek (2002)",
                                    "stilus": "művészet",
                                    "szam": "13302",
                                    "nettoar": "3490",
                                    "lang": "1",
                                    "raktár készlet": "10"
                                },
                                {
                                    "ID": "225",
                                    "cim": "Na, So Was? - Minden helyzetben otthonosan",
                                    "stilus": "nyelvtanító",
                                    "szam": "7864",
                                    "nettoar": "3600",
                                    "lang": "3",
                                    "raktár készlet": "10"
                                },
                                {
                                    "ID": "226",
                                    "cim": "Német : 8-10 éveseknek (2002)",
                                    "stilus": "nyelvtanító",
                                    "szam": "13318",
                                    "nettoar": "3754",
                                    "lang": "3",
                                    "raktár készlet": "10"
                                },
                                {
                                    "ID": "227",
                                    "cim": "Német szótanító CD-ROM",
                                    "stilus": "nyelvtanító",
                                    "szam": "4226",
                                    "nettoar": "3313",
                                    "lang": "3",
                                    "raktár készlet": "10"
                                },
                                {
                                    "ID": "229",
                                    "cim": "New York : a tragédiák városa (2001)",
                                    "stilus": "ismeretterjesztő",
                                    "szam": "13032",
                                    "nettoar": "3723",
                                    "lang": "1",
                                    "raktár készlet": "10"
                                },
                                {
                                    "ID": "232",
                                    "cim": "Nyelvész : Angol és német haladóknak (1997)",
                                    "stilus": "nyelvtanító",
                                    "szam": "1415",
                                    "nettoar": "3522",
                                    "lang": "2",
                                    "raktár készlet": "10"
                                },
                                {
                                    "ID": "233",
                                    "cim": "Nyelvtan összefoglaló : érettségi előkészítő (2002)",
                                    "stilus": "nyelvtan",
                                    "szam": "13715",
                                    "nettoar": "3688",
                                    "lang": "1",
                                    "raktár készlet": "10"
                                },
                                {
                                    "ID": "235",
                                    "cim": "Ókori lexikon",
                                    "stilus": "történelem",
                                    "szam": "11670",
                                    "nettoar": "3122",
                                    "lang": "1",
                                    "raktár készlet": "10"
                                },
                                {
                                    "ID": "242",
                                    "cim": "Paddle Bash (2001)",
                                    "stilus": "játék",
                                    "szam": "10900",
                                    "nettoar": "3937",
                                    "lang": "2",
                                    "raktár készlet": "10"
                                },
                                {
                                    "ID": "248",
                                    "cim": "Petőfi Sándor összes költeményei",
                                    "stilus": "irodalom",
                                    "szam": "8543",
                                    "nettoar": "3782",
                                    "lang": "1",
                                    "raktár készlet": "10"
                                },
                                {
                                    "ID": "250",
                                    "cim": "Quake III. (2001)",
                                    "stilus": "játék",
                                    "szam": "14248-249",
                                    "nettoar": "3144",
                                    "lang": "2",
                                    "raktár készlet": "10"
                                },
                                {
                                    "ID": "252",
                                    "cim": "Rally Championship",
                                    "stilus": "játék (autóverseny)",
                                    "szam": "10190",
                                    "nettoar": "3106",
                                    "lang": "2",
                                    "raktár készlet": "10"
                                },
                                {
                                    "ID": "254",
                                    "cim": "Re-Volt (1999)",
                                    "stilus": "játék - autós",
                                    "szam": "6828",
                                    "nettoar": "3989",
                                    "lang": "2",
                                    "raktár készlet": "10"
                                },
                                {
                                    "ID": "259",
                                    "cim": "Sonic Racer",
                                    "stilus": "játék (autóverseny)",
                                    "szam": "11009",
                                    "nettoar": "3450",
                                    "lang": "2",
                                    "raktár készlet": "10"
                                },
                                {
                                    "ID": "260",
                                    "cim": "Spanyol (1997)",
                                    "stilus": "nyelvtanító",
                                    "szam": "4898",
                                    "nettoar": "3775",
                                    "lang": "6",
                                    "raktár készlet": "10"
                                },
                                {
                                    "ID": "262",
                                    "cim": "Star Wars: Battle for Naboo",
                                    "stilus": "játék",
                                    "szam": "11006",
                                    "nettoar": "3520",
                                    "lang": "2",
                                    "raktár készlet": "10"
                                },
                                {
                                    "ID": "277",
                                    "cim": "Tarzan",
                                    "stilus": "játék",
                                    "szam": "6860",
                                    "nettoar": "3737",
                                    "lang": "2",
                                    "raktár készlet": "10"
                                },
                                {
                                    "ID": "286",
                                    "cim": "Toy Story 2.",
                                    "stilus": "játék",
                                    "szam": "8043",
                                    "nettoar": "3809",
                                    "lang": "2",
                                    "raktár készlet": "10"
                                },
                                {
                                    "ID": "287",
                                    "cim": "Történelem (1998)",
                                    "stilus": "történelem",
                                    "szam": "3909",
                                    "nettoar": "3737",
                                    "lang": "1",
                                    "raktár készlet": "10"
                                },
                                {
                                    "ID": "288",
                                    "cim": "Történelem : 10-14 éveseknek (2002)",
                                    "stilus": "történelem",
                                    "szam": "13500",
                                    "nettoar": "3737",
                                    "lang": "1",
                                    "raktár készlet": "10"
                                },
                                {
                                    "ID": "289",
                                    "cim": "Történelem : középiskola 1. osztály (2002)",
                                    "stilus": "történelem",
                                    "szam": "13722",
                                    "nettoar": "3736",
                                    "lang": "1",
                                    "raktár készlet": "10"
                                },
                                {
                                    "ID": "298",
                                    "cim": "Az Univerzum története",
                                    "stilus": "csillagászat",
                                    "szam": "7591",
                                    "nettoar": "3654",
                                    "lang": "1",
                                    "raktár készlet": "10"
                                },
                                {
                                    "ID": "300",
                                    "cim": "Utazás a Naprendszerben",
                                    "stilus": "csillagászat",
                                    "szam": "1071",
                                    "nettoar": "3582",
                                    "lang": "1",
                                    "raktár készlet": "10"
                                },
                                {
                                    "ID": "305",
                                    "cim": "Várak, kastélyok, legendák 2. (2002)",
                                    "stilus": "történelem",
                                    "szam": "13829",
                                    "nettoar": "3313",
                                    "lang": "1",
                                    "raktár készlet": "10"
                                },
                                {
                                    "ID": "313",
                                    "cim": "Világatlasz (2001)",
                                    "stilus": "földrajz",
                                    "szam": "13372",
                                    "nettoar": "3446",
                                    "lang": "1",
                                    "raktár készlet": "10"
                                },
                                {
                                    "ID": "314",
                                    "cim": "Világirodalom : Az ókortól napjainkig (2001)",
                                    "stilus": "irodalom",
                                    "szam": "10340",
                                    "nettoar": "3595",
                                    "lang": "1",
                                    "raktár készlet": "10"
                                }
                            ]
                        },
                        "text/html": "<table><tr><th>ID</th><th>cim</th><th>stilus</th><th>szam</th><th>nettoar</th><th>lang</th><th>raktár készlet</th></tr><tr><td>1</td><td>NULL</td><td>történelem</td><td>12342</td><td>3859</td><td>1</td><td>10</td></tr><tr><td>6</td><td>Ablak zsiráf (1999)</td><td>ismeretterjesztő</td><td>6405</td><td>3540</td><td>1</td><td>10</td></tr><tr><td>16</td><td>Angol szótár (1996)</td><td>szótár</td><td>1993</td><td>3509</td><td>2</td><td>10</td></tr><tr><td>20</td><td>Arany János: A bajusz (2002)</td><td>irodalom</td><td>13424</td><td>3391</td><td>1</td><td>10</td></tr><tr><td>22</td><td>Art Attack (1998)</td><td>játék</td><td>9074</td><td>3914</td><td>2</td><td>10</td></tr><tr><td>27</td><td>Ázsia (2000)</td><td>földrajz</td><td>8974</td><td>3123</td><td>1</td><td>10</td></tr><tr><td>30</td><td>Biológia (2000)</td><td>biológia</td><td>8982</td><td>3819</td><td>1</td><td>10</td></tr><tr><td>31</td><td>Biológia (2001)</td><td>biológia</td><td>10318</td><td>3792</td><td>1</td><td>10</td></tr><tr><td>32</td><td>Biológia : 12-14 éveseknek (2003)</td><td>biológia</td><td>14665</td><td>3482</td><td>1</td><td>10</td></tr><tr><td>38</td><td>Byte Magyarország (2002)</td><td>számítástechnika</td><td>13993</td><td>3277</td><td>1</td><td>10</td></tr><tr><td>42</td><td>Castle Explorer</td><td>játék (történelmi)</td><td>560</td><td>3707</td><td>2</td><td>10</td></tr><tr><td>47</td><td>Dél-Amerika (1999)</td><td>földrajz</td><td>7049</td><td>3999</td><td>1</td><td>10</td></tr><tr><td>57</td><td>Dungeon Keeper 2. (1999)</td><td>játék</td><td>6831</td><td>3369</td><td>2</td><td>10</td></tr><tr><td>59</td><td>Éléstár (1998)</td><td>gasztronómia</td><td>3014</td><td>3258</td><td>1</td><td>10</td></tr><tr><td>67</td><td>English: Intermediate (haladó)</td><td>nyelvtanító</td><td>8116-8117</td><td>3627</td><td>2</td><td>10</td></tr><tr><td>70</td><td>Espanol: Intermedio + Telepítő</td><td>nyelvtanító</td><td>8132-8133</td><td>3914</td><td>6</td><td>10</td></tr><tr><td>72</td><td>Észak-Amerika</td><td>földrajz</td><td>6470</td><td>3994</td><td>1</td><td>10</td></tr><tr><td>74</td><td>The F.A. Premier League Stars 2001</td><td>játék (labdarúgás)</td><td>10184</td><td>3871</td><td>2</td><td>10</td></tr><tr><td>75</td><td>Felvételi példatár : Angol</td><td>felvételi</td><td>11772</td><td>3876</td><td>2</td><td>10</td></tr><tr><td>76</td><td>Felvételi példatár : Biológia, földrajz</td><td>felvételi</td><td>11794</td><td>3215</td><td>1</td><td>10</td></tr><tr><td>80</td><td>Felvételi példatár : Német</td><td>felvételi</td><td>11894</td><td>3102</td><td>3</td><td>10</td></tr><tr><td>85</td><td>Fizika : 12-14 éveseknek (2002)</td><td>fizika</td><td>13465</td><td>3734</td><td>1</td><td>10</td></tr><tr><td>89</td><td>Földrajz: 10-14 éveseknek (2002)</td><td>földrajz</td><td>13484</td><td>3930</td><td>1</td><td>10</td></tr><tr><td>90</td><td>Földrajz: érettségi előkészítő (2002)</td><td>földrajz</td><td>13707</td><td>3173</td><td>1</td><td>10</td></tr><tr><td>92</td><td>Francais: Débutan (kezdő) + Telepítő</td><td>nyelvtanító</td><td>8125-8126</td><td>3770</td><td>7</td><td>10</td></tr><tr><td>94</td><td>Francia-magyar szótár</td><td>szótár</td><td>8323</td><td>3566</td><td>7</td><td>10</td></tr><tr><td>97</td><td>Gépírás 2000</td><td>gépírás</td><td>9803</td><td>3936</td><td>1</td><td>10</td></tr><tr><td>101</td><td>Hadtudományi lexikon (1998)</td><td>hadtudomány</td><td>4742</td><td>3515</td><td>1</td><td>10</td></tr><tr><td>102</td><td>Hajdúböszörmény</td><td>ismeretterjesztő</td><td>12844</td><td>3781</td><td>1</td><td>10</td></tr><tr><td>105</td><td>Half-Life Generation: Game of the Year Edition (2002)</td><td>játék</td><td>14238-39</td><td>3705</td><td>2</td><td>10</td></tr><tr><td>109</td><td>Haza és haladás</td><td>történelem</td><td>9599</td><td>3481</td><td>1</td><td>10</td></tr><tr><td>110</td><td>A hét világcsoda (2001)</td><td>történelem</td><td>14028</td><td>3162</td><td>1</td><td>10</td></tr><tr><td>112</td><td>Hupikék törpikék: teletransportörp (1999)</td><td>játék</td><td>14233</td><td>3110</td><td>1</td><td>10</td></tr><tr><td>113</td><td>Informatika - Internet - Iskola</td><td>ismeretterjesztő</td><td>2007</td><td>3733</td><td>1</td><td>10</td></tr><tr><td>116</td><td>Interaktív angol nyelvész kurzus középhaladó szint</td><td>nyelvtanító</td><td>1841-1845</td><td>3115</td><td>2</td><td>10</td></tr><tr><td>118</td><td>International Rally Championship</td><td>játék (autóverseny)</td><td>9957</td><td>3890</td><td>2</td><td>10</td></tr><tr><td>120</td><td>Introduction to Archeology</td><td>régészet</td><td>1160</td><td>3773</td><td>2</td><td>10</td></tr><tr><td>123</td><td>Irodalmi arcképcsarnok</td><td>irodalom</td><td>9171</td><td>3866</td><td>1</td><td>10</td></tr><tr><td>128</td><td>Italiano 1-2. (1998) + Installation</td><td>nyelvtanító</td><td>5607-5608, 5609</td><td>3419</td><td>4</td><td>10</td></tr><tr><td>131</td><td>Játékfilmek 1963-tól napjainkig</td><td>filmtörténet</td><td>7625</td><td>3138</td><td>1</td><td>10</td></tr><tr><td>134</td><td>József Attila (1998)</td><td>irodalom</td><td>3036</td><td>3870</td><td>1</td><td>10</td></tr><tr><td>136</td><td>Kártyaváros</td><td>ismeretterjesztő + játék</td><td>11239</td><td>3107</td><td>1</td><td>10</td></tr><tr><td>139</td><td>Képes krónika (1996)</td><td>történelem</td><td>327</td><td>3931</td><td>1</td><td>10</td></tr><tr><td>145</td><td>Királyi könyvek 1-9. kötet</td><td>ismeretterjesztő</td><td>9175</td><td>3256</td><td>1</td><td>10</td></tr><tr><td>151</td><td>Kötelező olvasmányok könyvtára 1. (2002)</td><td>irodalom</td><td>13746</td><td>3594</td><td>1</td><td>10</td></tr><tr><td>155</td><td>KvízIQ : A hét világcsoda (2001)</td><td>játék</td><td>14028</td><td>3451</td><td>1</td><td>10</td></tr><tr><td>159</td><td>Lakáskultúra 1997 (1997)</td><td>ismeretterjesztő</td><td>9788</td><td>3419</td><td>1</td><td>10</td></tr><tr><td>166</td><td>Lilenthal Andor sakkjátszmái</td><td>játék, sakk</td><td>11479</td><td>3644</td><td>1</td><td>10</td></tr><tr><td>171</td><td>LoveQ, SexQ : szerelmi intelligencia (2001)</td><td>ismeretterjesztő</td><td>14231</td><td>3626</td><td>1</td><td>10</td></tr><tr><td>174</td><td>Madárdalos kirándulások - Madártani oktató CD-ROM (1999)</td><td>ismeretterjesztő</td><td>9036</td><td>3408</td><td>1</td><td>10</td></tr><tr><td>176</td><td>Magyar fontok &#39;97</td><td>betűtípusok</td><td>3729</td><td>3845</td><td>1</td><td>10</td></tr><tr><td>181</td><td>Magyarország, 1944-1956 (2001)</td><td>történelem</td><td>15134</td><td>3673</td><td>1</td><td>10</td></tr><tr><td>182</td><td>Magyarország Nemzeti Parkjai I.</td><td>ismeretterjesztő</td><td>8531</td><td>3348</td><td>1</td><td>10</td></tr><tr><td>183</td><td>Magyarország Nemzeti Parkjai II.</td><td>ismeretterjesztő</td><td>10973</td><td>3377</td><td>1</td><td>10</td></tr><tr><td>190</td><td>Manó Élővilág</td><td>ismeretterjesztő</td><td>7025</td><td>3474</td><td>1</td><td>10</td></tr><tr><td>198</td><td>Manó Matek 2. (1999)</td><td>matematika</td><td>13878</td><td>3536</td><td>1</td><td>10</td></tr><tr><td>201</td><td>Manó Muzsika</td><td>zene</td><td>8164</td><td>3391</td><td>1</td><td>10</td></tr><tr><td>205</td><td>Matematika (1998)</td><td>matematika</td><td>5051</td><td>3105</td><td>1</td><td>10</td></tr><tr><td>207</td><td>Matematika kalauz (1997)</td><td>matematika</td><td>1856</td><td>3315</td><td>1</td><td>10</td></tr><tr><td>212</td><td>Monopoly Junior</td><td>játék</td><td>12317</td><td>3974</td><td>2</td><td>10</td></tr><tr><td>216</td><td>Multimédiás Menedzsment Könyvtár 2. - Önszervezés</td><td>ismeretterjesztő</td><td>8727</td><td>3279</td><td>1</td><td>10</td></tr><tr><td>219</td><td>Művészet és művészek (2002)</td><td>művészet</td><td>13302</td><td>3490</td><td>1</td><td>10</td></tr><tr><td>225</td><td>Na, So Was? - Minden helyzetben otthonosan</td><td>nyelvtanító</td><td>7864</td><td>3600</td><td>3</td><td>10</td></tr><tr><td>226</td><td>Német : 8-10 éveseknek (2002)</td><td>nyelvtanító</td><td>13318</td><td>3754</td><td>3</td><td>10</td></tr><tr><td>227</td><td>Német szótanító CD-ROM</td><td>nyelvtanító</td><td>4226</td><td>3313</td><td>3</td><td>10</td></tr><tr><td>229</td><td>New York : a tragédiák városa (2001)</td><td>ismeretterjesztő</td><td>13032</td><td>3723</td><td>1</td><td>10</td></tr><tr><td>232</td><td>Nyelvész : Angol és német haladóknak (1997)</td><td>nyelvtanító</td><td>1415</td><td>3522</td><td>2</td><td>10</td></tr><tr><td>233</td><td>Nyelvtan összefoglaló : érettségi előkészítő (2002)</td><td>nyelvtan</td><td>13715</td><td>3688</td><td>1</td><td>10</td></tr><tr><td>235</td><td>Ókori lexikon</td><td>történelem</td><td>11670</td><td>3122</td><td>1</td><td>10</td></tr><tr><td>242</td><td>Paddle Bash (2001)</td><td>játék</td><td>10900</td><td>3937</td><td>2</td><td>10</td></tr><tr><td>248</td><td>Petőfi Sándor összes költeményei</td><td>irodalom</td><td>8543</td><td>3782</td><td>1</td><td>10</td></tr><tr><td>250</td><td>Quake III. (2001)</td><td>játék</td><td>14248-249</td><td>3144</td><td>2</td><td>10</td></tr><tr><td>252</td><td>Rally Championship</td><td>játék (autóverseny)</td><td>10190</td><td>3106</td><td>2</td><td>10</td></tr><tr><td>254</td><td>Re-Volt (1999)</td><td>játék - autós</td><td>6828</td><td>3989</td><td>2</td><td>10</td></tr><tr><td>259</td><td>Sonic Racer</td><td>játék (autóverseny)</td><td>11009</td><td>3450</td><td>2</td><td>10</td></tr><tr><td>260</td><td>Spanyol (1997)</td><td>nyelvtanító</td><td>4898</td><td>3775</td><td>6</td><td>10</td></tr><tr><td>262</td><td>Star Wars: Battle for Naboo</td><td>játék</td><td>11006</td><td>3520</td><td>2</td><td>10</td></tr><tr><td>277</td><td>Tarzan</td><td>játék</td><td>6860</td><td>3737</td><td>2</td><td>10</td></tr><tr><td>286</td><td>Toy Story 2.</td><td>játék</td><td>8043</td><td>3809</td><td>2</td><td>10</td></tr><tr><td>287</td><td>Történelem (1998)</td><td>történelem</td><td>3909</td><td>3737</td><td>1</td><td>10</td></tr><tr><td>288</td><td>Történelem : 10-14 éveseknek (2002)</td><td>történelem</td><td>13500</td><td>3737</td><td>1</td><td>10</td></tr><tr><td>289</td><td>Történelem : középiskola 1. osztály (2002)</td><td>történelem</td><td>13722</td><td>3736</td><td>1</td><td>10</td></tr><tr><td>298</td><td>Az Univerzum története</td><td>csillagászat</td><td>7591</td><td>3654</td><td>1</td><td>10</td></tr><tr><td>300</td><td>Utazás a Naprendszerben</td><td>csillagászat</td><td>1071</td><td>3582</td><td>1</td><td>10</td></tr><tr><td>305</td><td>Várak, kastélyok, legendák 2. (2002)</td><td>történelem</td><td>13829</td><td>3313</td><td>1</td><td>10</td></tr><tr><td>313</td><td>Világatlasz (2001)</td><td>földrajz</td><td>13372</td><td>3446</td><td>1</td><td>10</td></tr><tr><td>314</td><td>Világirodalom : Az ókortól napjainkig (2001)</td><td>irodalom</td><td>10340</td><td>3595</td><td>1</td><td>10</td></tr></table>"
                    },
                    "metadata": {}
                }
            ],
            "execution_count": 8
        },
        {
            "cell_type": "markdown",
            "source": [
                "6. Melyek azok a DVD-k, amelyek stílusa történelem, irodalom, vagy földrajz?"
            ],
            "metadata": {
                "azdata_cell_guid": "1234b9f0-a6c2-4e05-aba2-a29d24476711"
            },
            "attachments": {}
        },
        {
            "cell_type": "code",
            "source": [
                "SELECT cim, stilus\r\n",
                "from dvd\r\n",
                "WHERE stilus in ('történelem','irodalom','földrajz')"
            ],
            "metadata": {
                "azdata_cell_guid": "d7fbce8c-46f3-4ddf-aa80-6b6b233c20d2",
                "language": "sql"
            },
            "outputs": [
                {
                    "output_type": "display_data",
                    "data": {
                        "text/html": "(73 rows affected)"
                    },
                    "metadata": {}
                },
                {
                    "output_type": "display_data",
                    "data": {
                        "text/html": "Total execution time: 00:00:00.020"
                    },
                    "metadata": {}
                },
                {
                    "output_type": "execute_result",
                    "execution_count": 12,
                    "data": {
                        "application/vnd.dataresource+json": {
                            "schema": {
                                "fields": [
                                    {
                                        "name": "cim"
                                    },
                                    {
                                        "name": "stilus"
                                    }
                                ]
                            },
                            "data": [
                                {
                                    "cim": "NULL",
                                    "stilus": "történelem"
                                },
                                {
                                    "cim": "A II. világháború története (1999)",
                                    "stilus": "történelem"
                                },
                                {
                                    "cim": "3D Dinosaur - adventure",
                                    "stilus": "történelem"
                                },
                                {
                                    "cim": "Az 1848-1849-iki szabadságharc története (2002)",
                                    "stilus": "történelem"
                                },
                                {
                                    "cim": "Ady Endre összes művei (1999)",
                                    "stilus": "irodalom"
                                },
                                {
                                    "cim": "Afrika",
                                    "stilus": "földrajz"
                                },
                                {
                                    "cim": "Arany János: A bajusz (2002)",
                                    "stilus": "irodalom"
                                },
                                {
                                    "cim": "Az Árpád-ház története",
                                    "stilus": "történelem"
                                },
                                {
                                    "cim": "Ausztrália",
                                    "stilus": "földrajz"
                                },
                                {
                                    "cim": "Ázsia (2000)",
                                    "stilus": "földrajz"
                                },
                                {
                                    "cim": "Budapest kalauz",
                                    "stilus": "földrajz"
                                },
                                {
                                    "cim": "Dél-Amerika (1999)",
                                    "stilus": "földrajz"
                                },
                                {
                                    "cim": "Dicső napok és hétköznapok 1848 - Digitális forrásgyűjtemény 1.",
                                    "stilus": "történelem"
                                },
                                {
                                    "cim": "Élet a polgárosodó Magyarországon (2001)",
                                    "stilus": "történelem"
                                },
                                {
                                    "cim": "Életképek 1848 (1998)",
                                    "stilus": "történelem"
                                },
                                {
                                    "cim": "Az ember tragédiája",
                                    "stilus": "irodalom"
                                },
                                {
                                    "cim": "Erdély (1996)",
                                    "stilus": "földrajz"
                                },
                                {
                                    "cim": "Észak-Amerika",
                                    "stilus": "földrajz"
                                },
                                {
                                    "cim": "Európa",
                                    "stilus": "földrajz"
                                },
                                {
                                    "cim": "Földrajz: 10-14 éveseknek (2002)",
                                    "stilus": "földrajz"
                                },
                                {
                                    "cim": "Földrajz: érettségi előkészítő (2002)",
                                    "stilus": "földrajz"
                                },
                                {
                                    "cim": "Hadiflották I. (2002)",
                                    "stilus": "történelem"
                                },
                                {
                                    "cim": "Haza és haladás",
                                    "stilus": "történelem"
                                },
                                {
                                    "cim": "A hét világcsoda (2001)",
                                    "stilus": "történelem"
                                },
                                {
                                    "cim": "Az ipari forradalom kora (2000)",
                                    "stilus": "történelem"
                                },
                                {
                                    "cim": "Irodalmi arcképcsarnok",
                                    "stilus": "irodalom"
                                },
                                {
                                    "cim": "Irodalom  felkészítő az érettségi és felvételi vizsgára",
                                    "stilus": "irodalom"
                                },
                                {
                                    "cim": "Irodalom (1998)",
                                    "stilus": "irodalom"
                                },
                                {
                                    "cim": "Jókai összes művei (2001)",
                                    "stilus": "irodalom"
                                },
                                {
                                    "cim": "József Attila (1998)",
                                    "stilus": "irodalom"
                                },
                                {
                                    "cim": "A kémkedés és a hírszerzés története (2002)",
                                    "stilus": "történelem"
                                },
                                {
                                    "cim": "Képes krónika (1996)",
                                    "stilus": "történelem"
                                },
                                {
                                    "cim": "Kereszt és félhold",
                                    "stilus": "történelem"
                                },
                                {
                                    "cim": "Kétfejű sas: A Habsburg-uralom Magyarországon (1699-1790)",
                                    "stilus": "történelem"
                                },
                                {
                                    "cim": "Kettős kötődés: Az Osztrák-Magyar Monarchia (1867-1918)",
                                    "stilus": "történelem"
                                },
                                {
                                    "cim": "Kötelező olvasmányok könyvtára 1. (2002)",
                                    "stilus": "irodalom"
                                },
                                {
                                    "cim": "A kőszívű ember fiai - Egri csillagok",
                                    "stilus": "irodalom"
                                },
                                {
                                    "cim": "Lovagkirályok (1301-1437) (1997)",
                                    "stilus": "történelem"
                                },
                                {
                                    "cim": "A Magyar Koronázási Jelvények",
                                    "stilus": "történelem"
                                },
                                {
                                    "cim": "Magyarország, 1944-1956 (2001)",
                                    "stilus": "történelem"
                                },
                                {
                                    "cim": "Magyarország, 1944-1956 (2001)",
                                    "stilus": "történelem"
                                },
                                {
                                    "cim": "Magyarországi várak (1998)",
                                    "stilus": "történelem"
                                },
                                {
                                    "cim": "Manó Magyarország (2002)",
                                    "stilus": "földrajz"
                                },
                                {
                                    "cim": "Mikszáth Kálmán összes művei",
                                    "stilus": "irodalom"
                                },
                                {
                                    "cim": "Nagy képes világtörténet (Matczáli Henrik) (1998)",
                                    "stilus": "történelem"
                                },
                                {
                                    "cim": "Németh László összes műve",
                                    "stilus": "irodalom"
                                },
                                {
                                    "cim": "Az óceán világa - Maldiv szigetek (2000)",
                                    "stilus": "földrajz"
                                },
                                {
                                    "cim": "Ókori lexikon",
                                    "stilus": "történelem"
                                },
                                {
                                    "cim": "Az Országos Széchényi Könyvtár corvinái, 2002 (2002)",
                                    "stilus": "történelem"
                                },
                                {
                                    "cim": "Az Osztrák-Magyar Monarchia írásban és képekben (2001)",
                                    "stilus": "történelem"
                                },
                                {
                                    "cim": "Pannon Enciklopédia (1998)",
                                    "stilus": "történelem"
                                },
                                {
                                    "cim": "Pannonhalmi Főapátság (2001)",
                                    "stilus": "történelem"
                                },
                                {
                                    "cim": "Petőfi Sándor: Arany Lacinak (2002)",
                                    "stilus": "irodalom"
                                },
                                {
                                    "cim": "Petőfi Sándor összes költeményei",
                                    "stilus": "irodalom"
                                },
                                {
                                    "cim": "Rákóczi-szabadságharc",
                                    "stilus": "történelem"
                                },
                                {
                                    "cim": "Szabadságharc 1848-49 (1988)",
                                    "stilus": "történelem"
                                },
                                {
                                    "cim": "Tankok, tüzérség (2002)",
                                    "stilus": "történelem"
                                },
                                {
                                    "cim": "Történelem (1998)",
                                    "stilus": "történelem"
                                },
                                {
                                    "cim": "Történelem : 10-14 éveseknek (2002)",
                                    "stilus": "történelem"
                                },
                                {
                                    "cim": "Történelem : középiskola 1. osztály (2002)",
                                    "stilus": "történelem"
                                },
                                {
                                    "cim": "Történelem : középiskola 4. osztály (2002)",
                                    "stilus": "történelem"
                                },
                                {
                                    "cim": "Várak, kastélyok, legendák 1.",
                                    "stilus": "történelem"
                                },
                                {
                                    "cim": "Várak, kastélyok, legendák 2. (2002)",
                                    "stilus": "történelem"
                                },
                                {
                                    "cim": "Varázslatos történelmi nyomozás",
                                    "stilus": "történelem"
                                },
                                {
                                    "cim": "A városi élet a Római Birodalomban (1999)",
                                    "stilus": "történelem"
                                },
                                {
                                    "cim": "A Vazul-ág (1038-1301) (1997)",
                                    "stilus": "történelem"
                                },
                                {
                                    "cim": "Világatlasz '99 (1998)",
                                    "stilus": "földrajz"
                                },
                                {
                                    "cim": "Világatlasz '99 (1998)",
                                    "stilus": "földrajz"
                                },
                                {
                                    "cim": "Világatlasz (2001)",
                                    "stilus": "földrajz"
                                },
                                {
                                    "cim": "Világirodalom : Az ókortól napjainkig (2001)",
                                    "stilus": "irodalom"
                                },
                                {
                                    "cim": "Volt egyszer egy Magyarország",
                                    "stilus": "történelem"
                                },
                                {
                                    "cim": "William Shakespeare összes művei",
                                    "stilus": "irodalom"
                                },
                                {
                                    "cim": "Zöld Ödön a földgömbön",
                                    "stilus": "földrajz"
                                }
                            ]
                        },
                        "text/html": "<table><tr><th>cim</th><th>stilus</th></tr><tr><td>NULL</td><td>történelem</td></tr><tr><td>A II. világháború története (1999)</td><td>történelem</td></tr><tr><td>3D Dinosaur - adventure</td><td>történelem</td></tr><tr><td>Az 1848-1849-iki szabadságharc története (2002)</td><td>történelem</td></tr><tr><td>Ady Endre összes művei (1999)</td><td>irodalom</td></tr><tr><td>Afrika</td><td>földrajz</td></tr><tr><td>Arany János: A bajusz (2002)</td><td>irodalom</td></tr><tr><td>Az Árpád-ház története</td><td>történelem</td></tr><tr><td>Ausztrália</td><td>földrajz</td></tr><tr><td>Ázsia (2000)</td><td>földrajz</td></tr><tr><td>Budapest kalauz</td><td>földrajz</td></tr><tr><td>Dél-Amerika (1999)</td><td>földrajz</td></tr><tr><td>Dicső napok és hétköznapok 1848 - Digitális forrásgyűjtemény 1.</td><td>történelem</td></tr><tr><td>Élet a polgárosodó Magyarországon (2001)</td><td>történelem</td></tr><tr><td>Életképek 1848 (1998)</td><td>történelem</td></tr><tr><td>Az ember tragédiája</td><td>irodalom</td></tr><tr><td>Erdély (1996)</td><td>földrajz</td></tr><tr><td>Észak-Amerika</td><td>földrajz</td></tr><tr><td>Európa</td><td>földrajz</td></tr><tr><td>Földrajz: 10-14 éveseknek (2002)</td><td>földrajz</td></tr><tr><td>Földrajz: érettségi előkészítő (2002)</td><td>földrajz</td></tr><tr><td>Hadiflották I. (2002)</td><td>történelem</td></tr><tr><td>Haza és haladás</td><td>történelem</td></tr><tr><td>A hét világcsoda (2001)</td><td>történelem</td></tr><tr><td>Az ipari forradalom kora (2000)</td><td>történelem</td></tr><tr><td>Irodalmi arcképcsarnok</td><td>irodalom</td></tr><tr><td>Irodalom  felkészítő az érettségi és felvételi vizsgára</td><td>irodalom</td></tr><tr><td>Irodalom (1998)</td><td>irodalom</td></tr><tr><td>Jókai összes művei (2001)</td><td>irodalom</td></tr><tr><td>József Attila (1998)</td><td>irodalom</td></tr><tr><td>A kémkedés és a hírszerzés története (2002)</td><td>történelem</td></tr><tr><td>Képes krónika (1996)</td><td>történelem</td></tr><tr><td>Kereszt és félhold</td><td>történelem</td></tr><tr><td>Kétfejű sas: A Habsburg-uralom Magyarországon (1699-1790)</td><td>történelem</td></tr><tr><td>Kettős kötődés: Az Osztrák-Magyar Monarchia (1867-1918)</td><td>történelem</td></tr><tr><td>Kötelező olvasmányok könyvtára 1. (2002)</td><td>irodalom</td></tr><tr><td>A kőszívű ember fiai - Egri csillagok</td><td>irodalom</td></tr><tr><td>Lovagkirályok (1301-1437) (1997)</td><td>történelem</td></tr><tr><td>A Magyar Koronázási Jelvények</td><td>történelem</td></tr><tr><td>Magyarország, 1944-1956 (2001)</td><td>történelem</td></tr><tr><td>Magyarország, 1944-1956 (2001)</td><td>történelem</td></tr><tr><td>Magyarországi várak (1998)</td><td>történelem</td></tr><tr><td>Manó Magyarország (2002)</td><td>földrajz</td></tr><tr><td>Mikszáth Kálmán összes művei</td><td>irodalom</td></tr><tr><td>Nagy képes világtörténet (Matczáli Henrik) (1998)</td><td>történelem</td></tr><tr><td>Németh László összes műve</td><td>irodalom</td></tr><tr><td>Az óceán világa - Maldiv szigetek (2000)</td><td>földrajz</td></tr><tr><td>Ókori lexikon</td><td>történelem</td></tr><tr><td>Az Országos Széchényi Könyvtár corvinái, 2002 (2002)</td><td>történelem</td></tr><tr><td>Az Osztrák-Magyar Monarchia írásban és képekben (2001)</td><td>történelem</td></tr><tr><td>Pannon Enciklopédia (1998)</td><td>történelem</td></tr><tr><td>Pannonhalmi Főapátság (2001)</td><td>történelem</td></tr><tr><td>Petőfi Sándor: Arany Lacinak (2002)</td><td>irodalom</td></tr><tr><td>Petőfi Sándor összes költeményei</td><td>irodalom</td></tr><tr><td>Rákóczi-szabadságharc</td><td>történelem</td></tr><tr><td>Szabadságharc 1848-49 (1988)</td><td>történelem</td></tr><tr><td>Tankok, tüzérség (2002)</td><td>történelem</td></tr><tr><td>Történelem (1998)</td><td>történelem</td></tr><tr><td>Történelem : 10-14 éveseknek (2002)</td><td>történelem</td></tr><tr><td>Történelem : középiskola 1. osztály (2002)</td><td>történelem</td></tr><tr><td>Történelem : középiskola 4. osztály (2002)</td><td>történelem</td></tr><tr><td>Várak, kastélyok, legendák 1.</td><td>történelem</td></tr><tr><td>Várak, kastélyok, legendák 2. (2002)</td><td>történelem</td></tr><tr><td>Varázslatos történelmi nyomozás</td><td>történelem</td></tr><tr><td>A városi élet a Római Birodalomban (1999)</td><td>történelem</td></tr><tr><td>A Vazul-ág (1038-1301) (1997)</td><td>történelem</td></tr><tr><td>Világatlasz &#39;99 (1998)</td><td>földrajz</td></tr><tr><td>Világatlasz &#39;99 (1998)</td><td>földrajz</td></tr><tr><td>Világatlasz (2001)</td><td>földrajz</td></tr><tr><td>Világirodalom : Az ókortól napjainkig (2001)</td><td>irodalom</td></tr><tr><td>Volt egyszer egy Magyarország</td><td>történelem</td></tr><tr><td>William Shakespeare összes művei</td><td>irodalom</td></tr><tr><td>Zöld Ödön a földgömbön</td><td>földrajz</td></tr></table>"
                    },
                    "metadata": {}
                }
            ],
            "execution_count": 12
        },
        {
            "cell_type": "markdown",
            "source": [
                "7. Melyek azok a dvd-k, amelyek címe K-betűvelkezdődik?"
            ],
            "metadata": {
                "azdata_cell_guid": "ddb6d755-e724-4552-85ea-847e6c893535"
            },
            "attachments": {}
        },
        {
            "cell_type": "code",
            "source": [
                "SELECT *\r\n",
                "FROM dvd\r\n",
                "WHERE cim LIKE 'K%'"
            ],
            "metadata": {
                "azdata_cell_guid": "acaf5e2d-0c54-4a46-8a29-be22ba1c4d55",
                "language": "sql"
            },
            "outputs": [
                {
                    "output_type": "display_data",
                    "data": {
                        "text/html": "(17 rows affected)"
                    },
                    "metadata": {}
                },
                {
                    "output_type": "display_data",
                    "data": {
                        "text/html": "Total execution time: 00:00:00.068"
                    },
                    "metadata": {}
                },
                {
                    "output_type": "execute_result",
                    "execution_count": 13,
                    "data": {
                        "application/vnd.dataresource+json": {
                            "schema": {
                                "fields": [
                                    {
                                        "name": "ID"
                                    },
                                    {
                                        "name": "cim"
                                    },
                                    {
                                        "name": "stilus"
                                    },
                                    {
                                        "name": "szam"
                                    },
                                    {
                                        "name": "nettoar"
                                    },
                                    {
                                        "name": "lang"
                                    },
                                    {
                                        "name": "raktár készlet"
                                    }
                                ]
                            },
                            "data": [
                                {
                                    "ID": "136",
                                    "cim": "Kártyaváros",
                                    "stilus": "ismeretterjesztő + játék",
                                    "szam": "11239",
                                    "nettoar": "3107",
                                    "lang": "1",
                                    "raktár készlet": "10"
                                },
                                {
                                    "ID": "137",
                                    "cim": "Kémia Kalauz 2.",
                                    "stilus": "kémia",
                                    "szam": "7735",
                                    "nettoar": "5094",
                                    "lang": "1",
                                    "raktár készlet": "10"
                                },
                                {
                                    "ID": "139",
                                    "cim": "Képes krónika (1996)",
                                    "stilus": "történelem",
                                    "szam": "327",
                                    "nettoar": "3931",
                                    "lang": "1",
                                    "raktár készlet": "10"
                                },
                                {
                                    "ID": "140",
                                    "cim": "Képtárak (1995)",
                                    "stilus": "festészet",
                                    "szam": "580",
                                    "nettoar": "5408",
                                    "lang": "1",
                                    "raktár készlet": "10"
                                },
                                {
                                    "ID": "141",
                                    "cim": "Kereszt és félhold",
                                    "stilus": "történelem",
                                    "szam": "7489",
                                    "nettoar": "4302",
                                    "lang": "1",
                                    "raktár készlet": "10"
                                },
                                {
                                    "ID": "142",
                                    "cim": "Kétfejű sas: A Habsburg-uralom Magyarországon (1699-1790)",
                                    "stilus": "történelem",
                                    "szam": "8573",
                                    "nettoar": "5459",
                                    "lang": "1",
                                    "raktár készlet": "10"
                                },
                                {
                                    "ID": "143",
                                    "cim": "Kettős kötődés: Az Osztrák-Magyar Monarchia (1867-1918)",
                                    "stilus": "történelem",
                                    "szam": "10665",
                                    "nettoar": "4829",
                                    "lang": "1",
                                    "raktár készlet": "10"
                                },
                                {
                                    "ID": "144",
                                    "cim": "Kínai falatok",
                                    "stilus": "gasztronómia",
                                    "szam": "7932",
                                    "nettoar": "4550",
                                    "lang": "1",
                                    "raktár készlet": "10"
                                },
                                {
                                    "ID": "145",
                                    "cim": "Királyi könyvek 1-9. kötet",
                                    "stilus": "ismeretterjesztő",
                                    "szam": "9175",
                                    "nettoar": "3256",
                                    "lang": "1",
                                    "raktár készlet": "10"
                                },
                                {
                                    "ID": "146",
                                    "cim": "Királyi könyvek 18-26. kötet",
                                    "stilus": "ismeretterjesztő",
                                    "szam": "11759",
                                    "nettoar": "5507",
                                    "lang": "1",
                                    "raktár készlet": "10"
                                },
                                {
                                    "ID": "147",
                                    "cim": "Királyi könyvek 27-38. kötet : 1703-1740 (2002)",
                                    "stilus": "ismeretterjesztő",
                                    "szam": "14003",
                                    "nettoar": "5476",
                                    "lang": "1",
                                    "raktár készlet": "10"
                                },
                                {
                                    "ID": "148",
                                    "cim": "Kispál és a borz (1998)",
                                    "stilus": "zene",
                                    "szam": "4624",
                                    "nettoar": "5730",
                                    "lang": "1",
                                    "raktár készlet": "10"
                                },
                                {
                                    "ID": "149",
                                    "cim": "Kossuth Lajos összes munkái (2002)",
                                    "stilus": "ismeretterjesztő",
                                    "szam": "14760",
                                    "nettoar": "4589",
                                    "lang": "1",
                                    "raktár készlet": "10"
                                },
                                {
                                    "ID": "150",
                                    "cim": "Környezetvédelmi kalauz (1999)",
                                    "stilus": "környezetvédelem",
                                    "szam": "8951",
                                    "nettoar": "5508",
                                    "lang": "1",
                                    "raktár készlet": "10"
                                },
                                {
                                    "ID": "151",
                                    "cim": "Kötelező olvasmányok könyvtára 1. (2002)",
                                    "stilus": "irodalom",
                                    "szam": "13746",
                                    "nettoar": "3594",
                                    "lang": "1",
                                    "raktár készlet": "10"
                                },
                                {
                                    "ID": "154",
                                    "cim": "Kutyatár",
                                    "stilus": "állattan",
                                    "szam": "2963",
                                    "nettoar": "5235",
                                    "lang": "1",
                                    "raktár készlet": "10"
                                },
                                {
                                    "ID": "155",
                                    "cim": "KvízIQ : A hét világcsoda (2001)",
                                    "stilus": "játék",
                                    "szam": "14028",
                                    "nettoar": "3451",
                                    "lang": "1",
                                    "raktár készlet": "10"
                                }
                            ]
                        },
                        "text/html": "<table><tr><th>ID</th><th>cim</th><th>stilus</th><th>szam</th><th>nettoar</th><th>lang</th><th>raktár készlet</th></tr><tr><td>136</td><td>Kártyaváros</td><td>ismeretterjesztő + játék</td><td>11239</td><td>3107</td><td>1</td><td>10</td></tr><tr><td>137</td><td>Kémia Kalauz 2.</td><td>kémia</td><td>7735</td><td>5094</td><td>1</td><td>10</td></tr><tr><td>139</td><td>Képes krónika (1996)</td><td>történelem</td><td>327</td><td>3931</td><td>1</td><td>10</td></tr><tr><td>140</td><td>Képtárak (1995)</td><td>festészet</td><td>580</td><td>5408</td><td>1</td><td>10</td></tr><tr><td>141</td><td>Kereszt és félhold</td><td>történelem</td><td>7489</td><td>4302</td><td>1</td><td>10</td></tr><tr><td>142</td><td>Kétfejű sas: A Habsburg-uralom Magyarországon (1699-1790)</td><td>történelem</td><td>8573</td><td>5459</td><td>1</td><td>10</td></tr><tr><td>143</td><td>Kettős kötődés: Az Osztrák-Magyar Monarchia (1867-1918)</td><td>történelem</td><td>10665</td><td>4829</td><td>1</td><td>10</td></tr><tr><td>144</td><td>Kínai falatok</td><td>gasztronómia</td><td>7932</td><td>4550</td><td>1</td><td>10</td></tr><tr><td>145</td><td>Királyi könyvek 1-9. kötet</td><td>ismeretterjesztő</td><td>9175</td><td>3256</td><td>1</td><td>10</td></tr><tr><td>146</td><td>Királyi könyvek 18-26. kötet</td><td>ismeretterjesztő</td><td>11759</td><td>5507</td><td>1</td><td>10</td></tr><tr><td>147</td><td>Királyi könyvek 27-38. kötet : 1703-1740 (2002)</td><td>ismeretterjesztő</td><td>14003</td><td>5476</td><td>1</td><td>10</td></tr><tr><td>148</td><td>Kispál és a borz (1998)</td><td>zene</td><td>4624</td><td>5730</td><td>1</td><td>10</td></tr><tr><td>149</td><td>Kossuth Lajos összes munkái (2002)</td><td>ismeretterjesztő</td><td>14760</td><td>4589</td><td>1</td><td>10</td></tr><tr><td>150</td><td>Környezetvédelmi kalauz (1999)</td><td>környezetvédelem</td><td>8951</td><td>5508</td><td>1</td><td>10</td></tr><tr><td>151</td><td>Kötelező olvasmányok könyvtára 1. (2002)</td><td>irodalom</td><td>13746</td><td>3594</td><td>1</td><td>10</td></tr><tr><td>154</td><td>Kutyatár</td><td>állattan</td><td>2963</td><td>5235</td><td>1</td><td>10</td></tr><tr><td>155</td><td>KvízIQ : A hét világcsoda (2001)</td><td>játék</td><td>14028</td><td>3451</td><td>1</td><td>10</td></tr></table>"
                    },
                    "metadata": {}
                }
            ],
            "execution_count": 13
        },
        {
            "cell_type": "markdown",
            "source": [
                "8. <span style=\"color: var(--vscode-foreground);\">Melyek&nbsp;azok&nbsp;a&nbsp;tagok,&nbsp;akiknek&nbsp;kedvenc&nbsp;stílusa&nbsp;a&nbsp;játék,&nbsp;és&nbsp;nevük&nbsp;a-ra&nbsp;végződik?</span>\n",
                "\n",
                "a.  Csak a tagok neve jelenjen meg, az oszlop neve Név legyen"
            ],
            "metadata": {
                "azdata_cell_guid": "718b9208-d590-4d03-8ee6-5abde83d5c64"
            },
            "attachments": {}
        },
        {
            "cell_type": "code",
            "source": [
                "SELECT nev as 'Név'\r\n",
                "From tagok\r\n",
                "WHERE kedvencstilus='játék' AND nev LIKE '%a'"
            ],
            "metadata": {
                "azdata_cell_guid": "c5abf9a1-cd47-4ec9-8fa7-46522daa83b5",
                "language": "sql"
            },
            "outputs": [
                {
                    "output_type": "display_data",
                    "data": {
                        "text/html": "(2 rows affected)"
                    },
                    "metadata": {}
                },
                {
                    "output_type": "display_data",
                    "data": {
                        "text/html": "Total execution time: 00:00:00.016"
                    },
                    "metadata": {}
                },
                {
                    "output_type": "execute_result",
                    "execution_count": 16,
                    "data": {
                        "application/vnd.dataresource+json": {
                            "schema": {
                                "fields": [
                                    {
                                        "name": "Név"
                                    }
                                ]
                            },
                            "data": [
                                {
                                    "Név": "Bodó Kinga"
                                },
                                {
                                    "Név": "Garay Magdolna"
                                }
                            ]
                        },
                        "text/html": "<table><tr><th>Név</th></tr><tr><td>Bodó Kinga</td></tr><tr><td>Garay Magdolna</td></tr></table>"
                    },
                    "metadata": {}
                }
            ],
            "execution_count": 16
        },
        {
            "cell_type": "markdown",
            "source": [
                "9. <span style=\"color: var(--vscode-foreground);\">Mennyi&nbsp;lenne&nbsp;a&nbsp;dvd-k&nbsp;nettó&nbsp;ára,&nbsp;ha&nbsp;20%-kal&nbsp;csökkenne?&nbsp;</span> \n",
                "\n",
                "a.  Csak a dvd-k címét és a csökkentett árat jelenítsük meg\n",
                "\n",
                "b.  A csökkentett árat nevezzük el diszkont\\_ar-nak"
            ],
            "metadata": {
                "azdata_cell_guid": "24a0ae7e-51f9-4ce6-9f61-9457aeb594d6"
            },
            "attachments": {}
        },
        {
            "cell_type": "code",
            "source": [
                "SELECT cim,\r\n",
                "        ROUND((nettoar*0.8 ),0) as 'diszkont_ar'\r\n",
                "FROM dvd\r\n",
                ""
            ],
            "metadata": {
                "azdata_cell_guid": "b9f06a26-1e3f-4988-b388-489350bd8e31",
                "language": "sql",
                "tags": []
            },
            "outputs": [
                {
                    "output_type": "display_data",
                    "data": {
                        "text/html": "(318 rows affected)"
                    },
                    "metadata": {}
                },
                {
                    "output_type": "display_data",
                    "data": {
                        "text/html": "Total execution time: 00:00:00.066"
                    },
                    "metadata": {}
                },
                {
                    "output_type": "execute_result",
                    "metadata": {},
                    "execution_count": 3,
                    "data": {
                        "application/vnd.dataresource+json": {
                            "schema": {
                                "fields": [
                                    {
                                        "name": "cim"
                                    },
                                    {
                                        "name": "diszkont_ar"
                                    }
                                ]
                            },
                            "data": [
                                {
                                    "cim": "NULL",
                                    "diszkont_ar": "3087"
                                },
                                {
                                    "cim": "A II. világháború története (1999)",
                                    "diszkont_ar": "3395"
                                },
                                {
                                    "cim": "3D Dinosaur - adventure",
                                    "diszkont_ar": "4033"
                                },
                                {
                                    "cim": "3D virtuális origami (2000)",
                                    "diszkont_ar": "4284"
                                },
                                {
                                    "cim": "Az 1848-1849-iki szabadságharc története (2002)",
                                    "diszkont_ar": "4560"
                                },
                                {
                                    "cim": "Ablak zsiráf (1999)",
                                    "diszkont_ar": "2832"
                                },
                                {
                                    "cim": "Ady Endre összes művei (1999)",
                                    "diszkont_ar": "3393"
                                },
                                {
                                    "cim": "Afrika",
                                    "diszkont_ar": "4254"
                                },
                                {
                                    "cim": "Age of Empires (2000)",
                                    "diszkont_ar": "3586"
                                },
                                {
                                    "cim": "Airport Inc.",
                                    "diszkont_ar": "3449"
                                },
                                {
                                    "cim": "American Rodeo : BullRider 2000 (2001)",
                                    "diszkont_ar": "4473"
                                },
                                {
                                    "cim": "Angol : 8-10 éveseknek (2002)",
                                    "diszkont_ar": "3882"
                                },
                                {
                                    "cim": "Angol és német nyelvtani gyakorlatok (2002)",
                                    "diszkont_ar": "3925"
                                },
                                {
                                    "cim": "Angol szótanító CD-ROM",
                                    "diszkont_ar": "3559"
                                },
                                {
                                    "cim": "Angol szótanító CD-ROM",
                                    "diszkont_ar": "3555"
                                },
                                {
                                    "cim": "Angol szótár (1996)",
                                    "diszkont_ar": "2807"
                                },
                                {
                                    "cim": "Angol-magyar, Magyar-angol hangosszótár",
                                    "diszkont_ar": "4121"
                                },
                                {
                                    "cim": "Angol-magyar nagyszótár (Halász Előd)",
                                    "diszkont_ar": "4510"
                                },
                                {
                                    "cim": "Az áramvonalas fakanál",
                                    "diszkont_ar": "4565"
                                },
                                {
                                    "cim": "Arany János: A bajusz (2002)",
                                    "diszkont_ar": "2713"
                                },
                                {
                                    "cim": "Az Árpád-ház története",
                                    "diszkont_ar": "4018"
                                },
                                {
                                    "cim": "Art Attack (1998)",
                                    "diszkont_ar": "3131"
                                },
                                {
                                    "cim": "Art puzzle (1998)",
                                    "diszkont_ar": "4629"
                                },
                                {
                                    "cim": "Az ásványok világa",
                                    "diszkont_ar": "4499"
                                },
                                {
                                    "cim": "Ausztrália",
                                    "diszkont_ar": "4261"
                                },
                                {
                                    "cim": "Auto 2000 - Kerékvilág",
                                    "diszkont_ar": "3570"
                                },
                                {
                                    "cim": "Ázsia (2000)",
                                    "diszkont_ar": "2498"
                                },
                                {
                                    "cim": "Biblia (1995)",
                                    "diszkont_ar": "3552"
                                },
                                {
                                    "cim": "Biológia '97",
                                    "diszkont_ar": "4434"
                                },
                                {
                                    "cim": "Biológia (2000)",
                                    "diszkont_ar": "3055"
                                },
                                {
                                    "cim": "Biológia (2001)",
                                    "diszkont_ar": "3034"
                                },
                                {
                                    "cim": "Biológia : 12-14 éveseknek (2003)",
                                    "diszkont_ar": "2786"
                                },
                                {
                                    "cim": "Blinky Bill : A fantasztikus léggömbkaland",
                                    "diszkont_ar": "3261"
                                },
                                {
                                    "cim": "Broken Sword II. (cop. 1997)",
                                    "diszkont_ar": "3602"
                                },
                                {
                                    "cim": "Budapest kalauz",
                                    "diszkont_ar": "3243"
                                },
                                {
                                    "cim": "Budapest Museum",
                                    "diszkont_ar": "4234"
                                },
                                {
                                    "cim": "Buggy",
                                    "diszkont_ar": "4664"
                                },
                                {
                                    "cim": "Byte Magyarország (2002)",
                                    "diszkont_ar": "2622"
                                },
                                {
                                    "cim": "Caesar III.",
                                    "diszkont_ar": "3309"
                                },
                                {
                                    "cim": "Capitalism II. (2001)",
                                    "diszkont_ar": "4850"
                                },
                                {
                                    "cim": "Capitalism Plus",
                                    "diszkont_ar": "4024"
                                },
                                {
                                    "cim": "Castle Explorer",
                                    "diszkont_ar": "2966"
                                },
                                {
                                    "cim": "CD Panoráma 1-4. (1998)",
                                    "diszkont_ar": "4338"
                                },
                                {
                                    "cim": "Computer iskola (1998)",
                                    "diszkont_ar": "4208"
                                },
                                {
                                    "cim": "Csizmás kandúr (1998)",
                                    "diszkont_ar": "4746"
                                },
                                {
                                    "cim": "Csodálatos univerzum (1997)",
                                    "diszkont_ar": "3270"
                                },
                                {
                                    "cim": "Dél-Amerika (1999)",
                                    "diszkont_ar": "3199"
                                },
                                {
                                    "cim": "Dementia 1-5. (1997)",
                                    "diszkont_ar": "4735"
                                },
                                {
                                    "cim": "Deutsch: Anfanger (kezdő) + Telepítő ",
                                    "diszkont_ar": "4506"
                                },
                                {
                                    "cim": "Deutsch: Fortgeschrittene (haladó) + Installation",
                                    "diszkont_ar": "4627"
                                },
                                {
                                    "cim": "Deutsch: Mittelstufe (középhaladó)+ Telepítő",
                                    "diszkont_ar": "3502"
                                },
                                {
                                    "cim": "Diablo",
                                    "diszkont_ar": "4775"
                                },
                                {
                                    "cim": "Diablo II. (2000)",
                                    "diszkont_ar": "3920"
                                },
                                {
                                    "cim": "Dicső napok és hétköznapok 1848 - Digitális forrásgyűjtemény 1.",
                                    "diszkont_ar": "4489"
                                },
                                {
                                    "cim": "Dreams to Reality 1-2. (1997)",
                                    "diszkont_ar": "3759"
                                },
                                {
                                    "cim": "Duke Nukem 3D",
                                    "diszkont_ar": "4379"
                                },
                                {
                                    "cim": "Dungeon Keeper 2. (1999)",
                                    "diszkont_ar": "2695"
                                },
                                {
                                    "cim": "E-Games : Collector's Edition (2001)",
                                    "diszkont_ar": "4466"
                                },
                                {
                                    "cim": "Éléstár (1998)",
                                    "diszkont_ar": "2606"
                                },
                                {
                                    "cim": "Élet a polgárosodó Magyarországon (2001)",
                                    "diszkont_ar": "4458"
                                },
                                {
                                    "cim": "Életképek 1848 (1998)",
                                    "diszkont_ar": "3369"
                                },
                                {
                                    "cim": "Az ember tragédiája",
                                    "diszkont_ar": "3436"
                                },
                                {
                                    "cim": "Encarta World Atlas '99 1-2. (1998)",
                                    "diszkont_ar": "4267"
                                },
                                {
                                    "cim": "Enemy Engaged RAH-66",
                                    "diszkont_ar": "4174"
                                },
                                {
                                    "cim": "English 1-2. + Telepítő",
                                    "diszkont_ar": "4172"
                                },
                                {
                                    "cim": "English: Intermediate (haladó)",
                                    "diszkont_ar": "2902"
                                },
                                {
                                    "cim": "English by Stealth  lásd: Lopva angolul",
                                    "diszkont_ar": "3582"
                                },
                                {
                                    "cim": "Erdély (1996)",
                                    "diszkont_ar": "3999"
                                },
                                {
                                    "cim": "Espanol: Intermedio + Telepítő",
                                    "diszkont_ar": "3131"
                                },
                                {
                                    "cim": "Espanol: Principiante + Telepítő",
                                    "diszkont_ar": "4706"
                                },
                                {
                                    "cim": "Észak-Amerika",
                                    "diszkont_ar": "3195"
                                },
                                {
                                    "cim": "Európa",
                                    "diszkont_ar": "4216"
                                },
                                {
                                    "cim": "The F.A. Premier League Stars 2001",
                                    "diszkont_ar": "3097"
                                },
                                {
                                    "cim": "Felvételi példatár : Angol",
                                    "diszkont_ar": "3101"
                                },
                                {
                                    "cim": "Felvételi példatár : Biológia, földrajz",
                                    "diszkont_ar": "2572"
                                },
                                {
                                    "cim": "Felvételi példatár : Kémia, fizika",
                                    "diszkont_ar": "4681"
                                },
                                {
                                    "cim": "Felvételi példatár : Magyar nyelv és irodalom",
                                    "diszkont_ar": "4764"
                                },
                                {
                                    "cim": "Felvételi példatár : Matematika",
                                    "diszkont_ar": "4007"
                                },
                                {
                                    "cim": "Felvételi példatár : Német",
                                    "diszkont_ar": "2482"
                                },
                                {
                                    "cim": "FIFA, 2000 (1999)",
                                    "diszkont_ar": "4047"
                                },
                                {
                                    "cim": "Fighting Force (1998)",
                                    "diszkont_ar": "3840"
                                },
                                {
                                    "cim": "Final Liberation (1997)",
                                    "diszkont_ar": "3706"
                                },
                                {
                                    "cim": "Fitness mesterfokon / Béres Alexandra (2001)",
                                    "diszkont_ar": "3686"
                                },
                                {
                                    "cim": "Fizika : 12-14 éveseknek (2002)",
                                    "diszkont_ar": "2987"
                                },
                                {
                                    "cim": "Fizika felkészítő az érettségi és felvételi vizsgára",
                                    "diszkont_ar": "3848"
                                },
                                {
                                    "cim": "Fizika világa (2001)",
                                    "diszkont_ar": "4610"
                                },
                                {
                                    "cim": "A Föld élővilága",
                                    "diszkont_ar": "4720"
                                },
                                {
                                    "cim": "Földrajz: 10-14 éveseknek (2002)",
                                    "diszkont_ar": "3144"
                                },
                                {
                                    "cim": "Földrajz: érettségi előkészítő (2002)",
                                    "diszkont_ar": "2538"
                                },
                                {
                                    "cim": "Francais 1-2. + Telepítő",
                                    "diszkont_ar": "3230"
                                },
                                {
                                    "cim": "Francais: Débutan (kezdő) + Telepítő",
                                    "diszkont_ar": "3016"
                                },
                                {
                                    "cim": "Francais: Moyen + Telepítő",
                                    "diszkont_ar": "4495"
                                },
                                {
                                    "cim": "Francia-magyar szótár",
                                    "diszkont_ar": "2853"
                                },
                                {
                                    "cim": "Funschool in Dreamland (1995)",
                                    "diszkont_ar": "3813"
                                },
                                {
                                    "cim": "Geolexikon 4.2 : földtani adatbázis (2002)",
                                    "diszkont_ar": "3682"
                                },
                                {
                                    "cim": "Gépírás 2000",
                                    "diszkont_ar": "3149"
                                },
                                {
                                    "cim": "Gondolattár: aforizmák, szállóigék",
                                    "diszkont_ar": "4277"
                                },
                                {
                                    "cim": "GTA 2",
                                    "diszkont_ar": "4004"
                                },
                                {
                                    "cim": "Hadiflották I. (2002)",
                                    "diszkont_ar": "4099"
                                },
                                {
                                    "cim": "Hadtudományi lexikon (1998)",
                                    "diszkont_ar": "2812"
                                },
                                {
                                    "cim": "Hajdúböszörmény",
                                    "diszkont_ar": "3025"
                                },
                                {
                                    "cim": "Halak, kétéltűek, hüllők",
                                    "diszkont_ar": "3322"
                                },
                                {
                                    "cim": "Half-Life (1996)",
                                    "diszkont_ar": "4324"
                                },
                                {
                                    "cim": "Half-Life Generation: Game of the Year Edition (2002)",
                                    "diszkont_ar": "2964"
                                },
                                {
                                    "cim": "Half-Life Generation: Counter Strike (2002)",
                                    "diszkont_ar": "4595"
                                },
                                {
                                    "cim": "Half-Life Generation: Blue Shift (2002)",
                                    "diszkont_ar": "4582"
                                },
                                {
                                    "cim": "Harry Potter és a bölcsek köve (2001)",
                                    "diszkont_ar": "3578"
                                },
                                {
                                    "cim": "Haza és haladás",
                                    "diszkont_ar": "2785"
                                },
                                {
                                    "cim": "A hét világcsoda (2001)",
                                    "diszkont_ar": "2530"
                                },
                                {
                                    "cim": "Home Desing 3D (1998)",
                                    "diszkont_ar": "3430"
                                },
                                {
                                    "cim": "Hupikék törpikék: teletransportörp (1999)",
                                    "diszkont_ar": "2488"
                                },
                                {
                                    "cim": "Informatika - Internet - Iskola",
                                    "diszkont_ar": "2986"
                                },
                                {
                                    "cim": "Interaktív angol nyelvész kurzus haladó szint 1-5.",
                                    "diszkont_ar": "3674"
                                },
                                {
                                    "cim": "Interaktív angol nyelvész kurzus kezdő szint",
                                    "diszkont_ar": "3346"
                                },
                                {
                                    "cim": "Interaktív angol nyelvész kurzus középhaladó szint",
                                    "diszkont_ar": "2492"
                                },
                                {
                                    "cim": "Interaktív magyar nyelvtan",
                                    "diszkont_ar": "3823"
                                },
                                {
                                    "cim": "International Rally Championship",
                                    "diszkont_ar": "3112"
                                },
                                {
                                    "cim": "Internet (1996)",
                                    "diszkont_ar": "3947"
                                },
                                {
                                    "cim": "Introduction to Archeology",
                                    "diszkont_ar": "3018"
                                },
                                {
                                    "cim": "Investigating 20th Century Art (1994)",
                                    "diszkont_ar": "3515"
                                },
                                {
                                    "cim": "Az ipari forradalom kora (2000)",
                                    "diszkont_ar": "4066"
                                },
                                {
                                    "cim": "Irodalmi arcképcsarnok",
                                    "diszkont_ar": "3093"
                                },
                                {
                                    "cim": "Irodalom  felkészítő az érettségi és felvételi vizsgára",
                                    "diszkont_ar": "4523"
                                },
                                {
                                    "cim": "Irodalom (1998)",
                                    "diszkont_ar": "4500"
                                },
                                {
                                    "cim": "Italiano (1998) + Installation",
                                    "diszkont_ar": "4349"
                                },
                                {
                                    "cim": "Italiano 1-2. (1998) + Installation",
                                    "diszkont_ar": "4866"
                                },
                                {
                                    "cim": "Italiano 1-2. (1998) + Installation",
                                    "diszkont_ar": "2735"
                                },
                                {
                                    "cim": "Jancsó",
                                    "diszkont_ar": "3363"
                                },
                                {
                                    "cim": "Japán : képes kulturális atlasz (2001)",
                                    "diszkont_ar": "3567"
                                },
                                {
                                    "cim": "Játékfilmek 1963-tól napjainkig",
                                    "diszkont_ar": "2510"
                                },
                                {
                                    "cim": "Játszóház (1998)",
                                    "diszkont_ar": "4239"
                                },
                                {
                                    "cim": "Jókai összes művei (2001)",
                                    "diszkont_ar": "3814"
                                },
                                {
                                    "cim": "József Attila (1998)",
                                    "diszkont_ar": "3096"
                                },
                                {
                                    "cim": "A jövő titkai - Interaktív horoszkóp (1998)",
                                    "diszkont_ar": "4858"
                                },
                                {
                                    "cim": "Kártyaváros",
                                    "diszkont_ar": "2486"
                                },
                                {
                                    "cim": "Kémia Kalauz 2.",
                                    "diszkont_ar": "4075"
                                },
                                {
                                    "cim": "A kémkedés és a hírszerzés története (2002)",
                                    "diszkont_ar": "4676"
                                },
                                {
                                    "cim": "Képes krónika (1996)",
                                    "diszkont_ar": "3145"
                                },
                                {
                                    "cim": "Képtárak (1995)",
                                    "diszkont_ar": "4326"
                                },
                                {
                                    "cim": "Kereszt és félhold",
                                    "diszkont_ar": "3442"
                                },
                                {
                                    "cim": "Kétfejű sas: A Habsburg-uralom Magyarországon (1699-1790)",
                                    "diszkont_ar": "4367"
                                },
                                {
                                    "cim": "Kettős kötődés: Az Osztrák-Magyar Monarchia (1867-1918)",
                                    "diszkont_ar": "3863"
                                },
                                {
                                    "cim": "Kínai falatok",
                                    "diszkont_ar": "3640"
                                },
                                {
                                    "cim": "Királyi könyvek 1-9. kötet",
                                    "diszkont_ar": "2605"
                                },
                                {
                                    "cim": "Királyi könyvek 18-26. kötet",
                                    "diszkont_ar": "4406"
                                },
                                {
                                    "cim": "Királyi könyvek 27-38. kötet : 1703-1740 (2002)",
                                    "diszkont_ar": "4381"
                                },
                                {
                                    "cim": "Kispál és a borz (1998)",
                                    "diszkont_ar": "4584"
                                },
                                {
                                    "cim": "Kossuth Lajos összes munkái (2002)",
                                    "diszkont_ar": "3671"
                                },
                                {
                                    "cim": "Környezetvédelmi kalauz (1999)",
                                    "diszkont_ar": "4406"
                                },
                                {
                                    "cim": "Kötelező olvasmányok könyvtára 1. (2002)",
                                    "diszkont_ar": "2875"
                                },
                                {
                                    "cim": "A kőszívű ember fiai - Egri csillagok",
                                    "diszkont_ar": "4430"
                                },
                                {
                                    "cim": "A kutyák: A család kedvencei",
                                    "diszkont_ar": "3970"
                                },
                                {
                                    "cim": "Kutyatár",
                                    "diszkont_ar": "4188"
                                },
                                {
                                    "cim": "KvízIQ : A hét világcsoda (2001)",
                                    "diszkont_ar": "2761"
                                },
                                {
                                    "cim": "Lakáskultúra 2000 (2000)",
                                    "diszkont_ar": "4678"
                                },
                                {
                                    "cim": "Lakáskultúra 1999 (1999)",
                                    "diszkont_ar": "4331"
                                },
                                {
                                    "cim": "Lakáskultúra 1998 (1998)",
                                    "diszkont_ar": "4393"
                                },
                                {
                                    "cim": "Lakáskultúra 1997 (1997)",
                                    "diszkont_ar": "2735"
                                },
                                {
                                    "cim": "Lakáskultúra 1996 (1996)",
                                    "diszkont_ar": "3367"
                                },
                                {
                                    "cim": "Lands of Lore II. 1-4. (1997)",
                                    "diszkont_ar": "3450"
                                },
                                {
                                    "cim": "Landscape Design 3D (1998)",
                                    "diszkont_ar": "3961"
                                },
                                {
                                    "cim": "Legféltettebb természeti értékeink",
                                    "diszkont_ar": "4066"
                                },
                                {
                                    "cim": "Legszebb vadnövényeink",
                                    "diszkont_ar": "3550"
                                },
                                {
                                    "cim": "Leonardo da Vinci",
                                    "diszkont_ar": "4094"
                                },
                                {
                                    "cim": "Lilenthal Andor sakkjátszmái",
                                    "diszkont_ar": "2915"
                                },
                                {
                                    "cim": "Lopva angolul /English by Stealth 1.",
                                    "diszkont_ar": "4345"
                                },
                                {
                                    "cim": "Lopva angolul /English by Stealth 2.",
                                    "diszkont_ar": "3678"
                                },
                                {
                                    "cim": "Lopva angolul /English by Stealth 3.",
                                    "diszkont_ar": "3881"
                                },
                                {
                                    "cim": "Lovagkirályok (1301-1437) (1997)",
                                    "diszkont_ar": "3494"
                                },
                                {
                                    "cim": "LoveQ, SexQ : szerelmi intelligencia (2001)",
                                    "diszkont_ar": "2901"
                                },
                                {
                                    "cim": "M1 Tank (1998)",
                                    "diszkont_ar": "4785"
                                },
                                {
                                    "cim": "Mackó úr (2002)",
                                    "diszkont_ar": "3706"
                                },
                                {
                                    "cim": "Madárdalos kirándulások - Madártani oktató CD-ROM (1999)",
                                    "diszkont_ar": "2726"
                                },
                                {
                                    "cim": "Magyar bélyegek katalógusa",
                                    "diszkont_ar": "3228"
                                },
                                {
                                    "cim": "Magyar fontok '97",
                                    "diszkont_ar": "3076"
                                },
                                {
                                    "cim": "A Magyar Koronázási Jelvények",
                                    "diszkont_ar": "3298"
                                },
                                {
                                    "cim": "Magyar nyelv és irodalom",
                                    "diszkont_ar": "3763"
                                },
                                {
                                    "cim": "Magyar színházművészet a világban",
                                    "diszkont_ar": "4126"
                                },
                                {
                                    "cim": "Magyarország, 1944-1956 (2001)",
                                    "diszkont_ar": "3937"
                                },
                                {
                                    "cim": "Magyarország, 1944-1956 (2001)",
                                    "diszkont_ar": "2938"
                                },
                                {
                                    "cim": "Magyarország Nemzeti Parkjai I.",
                                    "diszkont_ar": "2678"
                                },
                                {
                                    "cim": "Magyarország Nemzeti Parkjai II.",
                                    "diszkont_ar": "2702"
                                },
                                {
                                    "cim": "Magyarországi várak (1998)",
                                    "diszkont_ar": "4367"
                                },
                                {
                                    "cim": "Mahjongg Master (1998)",
                                    "diszkont_ar": "4338"
                                },
                                {
                                    "cim": "Manó Angol 1.",
                                    "diszkont_ar": "4682"
                                },
                                {
                                    "cim": "Manó Angol 1. (2002)",
                                    "diszkont_ar": "4841"
                                },
                                {
                                    "cim": "Manó Angol 2.",
                                    "diszkont_ar": "4282"
                                },
                                {
                                    "cim": "Manó Angol 2. (2000)",
                                    "diszkont_ar": "4854"
                                },
                                {
                                    "cim": "Manó Élővilág",
                                    "diszkont_ar": "2779"
                                },
                                {
                                    "cim": "Manó Élővilág (2002)",
                                    "diszkont_ar": "3905"
                                },
                                {
                                    "cim": "Manó IQ (2001)",
                                    "diszkont_ar": "4306"
                                },
                                {
                                    "cim": "Manó Kaland (2002)",
                                    "diszkont_ar": "4774"
                                },
                                {
                                    "cim": "Manó Magyarország (2002)",
                                    "diszkont_ar": "3320"
                                },
                                {
                                    "cim": "Manó Matek 1.",
                                    "diszkont_ar": "4796"
                                },
                                {
                                    "cim": "Manó Matek 1. (2002)",
                                    "diszkont_ar": "4317"
                                },
                                {
                                    "cim": "Manó Matek 2. (1999)",
                                    "diszkont_ar": "4454"
                                },
                                {
                                    "cim": "Manó Matek 2. (1999)",
                                    "diszkont_ar": "2829"
                                },
                                {
                                    "cim": "Manó Matek 3.",
                                    "diszkont_ar": "3842"
                                },
                                {
                                    "cim": "Manó Muzsika",
                                    "diszkont_ar": "3997"
                                },
                                {
                                    "cim": "Manó Muzsika",
                                    "diszkont_ar": "2713"
                                },
                                {
                                    "cim": "Manó Német 2.",
                                    "diszkont_ar": "3714"
                                },
                                {
                                    "cim": "Manó Olvasás 1.",
                                    "diszkont_ar": "4676"
                                },
                                {
                                    "cim": "Manó Puzzle (2002)",
                                    "diszkont_ar": "4862"
                                },
                                {
                                    "cim": "Matematika (1998)",
                                    "diszkont_ar": "2484"
                                },
                                {
                                    "cim": "Matematika felkészítő az érettségi és felvételi vizsgára",
                                    "diszkont_ar": "3693"
                                },
                                {
                                    "cim": "Matematika kalauz (1997)",
                                    "diszkont_ar": "2652"
                                },
                                {
                                    "cim": "Mig-29 (1998)",
                                    "diszkont_ar": "4032"
                                },
                                {
                                    "cim": "Mikszáth Kálmán összes művei",
                                    "diszkont_ar": "3829"
                                },
                                {
                                    "cim": "Mini Manó Tavasz",
                                    "diszkont_ar": "3782"
                                },
                                {
                                    "cim": "MoBi Mouse: A fordító egér",
                                    "diszkont_ar": "4029"
                                },
                                {
                                    "cim": "Monopoly Junior",
                                    "diszkont_ar": "3179"
                                },
                                {
                                    "cim": "Mons Sacer Pannoniae (2001)",
                                    "diszkont_ar": "3528"
                                },
                                {
                                    "cim": "Moving Puzzle Action Flight (2000)",
                                    "diszkont_ar": "4382"
                                },
                                {
                                    "cim": "Multimédiás Menedzsment Könyvtár 1. - Változásmenedzsment",
                                    "diszkont_ar": "4846"
                                },
                                {
                                    "cim": "Multimédiás Menedzsment Könyvtár 2. - Önszervezés",
                                    "diszkont_ar": "2623"
                                },
                                {
                                    "cim": "Musique! (1997)",
                                    "diszkont_ar": "4269"
                                },
                                {
                                    "cim": "Művészet és mesterség",
                                    "diszkont_ar": "4878"
                                },
                                {
                                    "cim": "Művészet és művészek (2002)",
                                    "diszkont_ar": "2792"
                                },
                                {
                                    "cim": "Nagy képes világtörténet (Matczáli Henrik) (1998)",
                                    "diszkont_ar": "3510"
                                },
                                {
                                    "cim": "Nagy vicc tár",
                                    "diszkont_ar": "4458"
                                },
                                {
                                    "cim": "A Nagybányai Festőiskola (1998)",
                                    "diszkont_ar": "3902"
                                },
                                {
                                    "cim": "NASA 1.",
                                    "diszkont_ar": "4774"
                                },
                                {
                                    "cim": "NASA 2.",
                                    "diszkont_ar": "3318"
                                },
                                {
                                    "cim": "Na, So Was? - Minden helyzetben otthonosan",
                                    "diszkont_ar": "2880"
                                },
                                {
                                    "cim": "Német : 8-10 éveseknek (2002)",
                                    "diszkont_ar": "3003"
                                },
                                {
                                    "cim": "Német szótanító CD-ROM",
                                    "diszkont_ar": "2650"
                                },
                                {
                                    "cim": "Németh László összes műve",
                                    "diszkont_ar": "3598"
                                },
                                {
                                    "cim": "New York : a tragédiák városa (2001)",
                                    "diszkont_ar": "2978"
                                },
                                {
                                    "cim": "NHL 2001",
                                    "diszkont_ar": "4194"
                                },
                                {
                                    "cim": "Nincs királyi út - A matematika kultúrtörténete",
                                    "diszkont_ar": "3482"
                                },
                                {
                                    "cim": "Nyelvész : Angol és német haladóknak (1997)",
                                    "diszkont_ar": "2818"
                                },
                                {
                                    "cim": "Nyelvtan összefoglaló : érettségi előkészítő (2002)",
                                    "diszkont_ar": "2950"
                                },
                                {
                                    "cim": "Az óceán világa - Maldiv szigetek (2000)",
                                    "diszkont_ar": "4666"
                                },
                                {
                                    "cim": "Ókori lexikon",
                                    "diszkont_ar": "2498"
                                },
                                {
                                    "cim": "Olasz-magyar, magyar-olasz digitális szótár",
                                    "diszkont_ar": "3286"
                                },
                                {
                                    "cim": "Olasz szótanító CD-ROM",
                                    "diszkont_ar": "4086"
                                },
                                {
                                    "cim": "Orosz (1998)",
                                    "diszkont_ar": "4807"
                                },
                                {
                                    "cim": "Orosz-magyar nagyszótár",
                                    "diszkont_ar": "3733"
                                },
                                {
                                    "cim": "Az Országos Széchényi Könyvtár corvinái, 2002 (2002)",
                                    "diszkont_ar": "3802"
                                },
                                {
                                    "cim": "Az Osztrák-Magyar Monarchia írásban és képekben (2001)",
                                    "diszkont_ar": "3487"
                                },
                                {
                                    "cim": "Paddle Bash (2001)",
                                    "diszkont_ar": "3150"
                                },
                                {
                                    "cim": "Pannon Enciklopédia (1998)",
                                    "diszkont_ar": "3685"
                                },
                                {
                                    "cim": "Pannonhalmi Főapátság (2001)",
                                    "diszkont_ar": "4654"
                                },
                                {
                                    "cim": "Panzer General III: Scorched Earth (2000)",
                                    "diszkont_ar": "4846"
                                },
                                {
                                    "cim": "People's General (1998)",
                                    "diszkont_ar": "4498"
                                },
                                {
                                    "cim": "Petőfi Sándor: Arany Lacinak (2002)",
                                    "diszkont_ar": "4390"
                                },
                                {
                                    "cim": "Petőfi Sándor összes költeményei",
                                    "diszkont_ar": "3026"
                                },
                                {
                                    "cim": "Plane Crazy",
                                    "diszkont_ar": "4009"
                                },
                                {
                                    "cim": "Quake III. (2001)",
                                    "diszkont_ar": "2515"
                                },
                                {
                                    "cim": "Rákóczi-szabadságharc",
                                    "diszkont_ar": "3822"
                                },
                                {
                                    "cim": "Rally Championship",
                                    "diszkont_ar": "2485"
                                },
                                {
                                    "cim": "Rayman: Matek és olvasás",
                                    "diszkont_ar": "3587"
                                },
                                {
                                    "cim": "Re-Volt (1999)",
                                    "diszkont_ar": "3191"
                                },
                                {
                                    "cim": "The Settlers III. 1-2. (1998)",
                                    "diszkont_ar": "3414"
                                },
                                {
                                    "cim": "The Settlers IV. (2001)",
                                    "diszkont_ar": "3314"
                                },
                                {
                                    "cim": "Shanghai (1997)",
                                    "diszkont_ar": "4720"
                                },
                                {
                                    "cim": "The Sims",
                                    "diszkont_ar": "3234"
                                },
                                {
                                    "cim": "Sonic Racer",
                                    "diszkont_ar": "2760"
                                },
                                {
                                    "cim": "Spanyol (1997)",
                                    "diszkont_ar": "3020"
                                },
                                {
                                    "cim": "Spanyol-magyar szótár",
                                    "diszkont_ar": "4587"
                                },
                                {
                                    "cim": "Star Wars: Battle for Naboo",
                                    "diszkont_ar": "2816"
                                },
                                {
                                    "cim": "Star Wars: Force Commander (2001)",
                                    "diszkont_ar": "4628"
                                },
                                {
                                    "cim": "Star Wars : Rogue Squadron 3D",
                                    "diszkont_ar": "4642"
                                },
                                {
                                    "cim": "Supreme Snowboarding",
                                    "diszkont_ar": "3321"
                                },
                                {
                                    "cim": "Szabadítsd ki a kisoroszlánt!",
                                    "diszkont_ar": "4430"
                                },
                                {
                                    "cim": "Szabadságharc 1848-49 (1988)",
                                    "diszkont_ar": "4848"
                                },
                                {
                                    "cim": "A szabadságharc népzenei emlékei",
                                    "diszkont_ar": "4150"
                                },
                                {
                                    "cim": "Szolfézs: Kezdőknek és haladóknak",
                                    "diszkont_ar": "3594"
                                },
                                {
                                    "cim": "Talk To Me Deutsch 2-4.",
                                    "diszkont_ar": "4792"
                                },
                                {
                                    "cim": "Talk To Me English 1.",
                                    "diszkont_ar": "3794"
                                },
                                {
                                    "cim": "Talk To Me Francais 1-2.",
                                    "diszkont_ar": "3978"
                                },
                                {
                                    "cim": "Tankok, tüzérség (2002)",
                                    "diszkont_ar": "4867"
                                },
                                {
                                    "cim": "Tanulj tovább! 2000 (2000)",
                                    "diszkont_ar": "3448"
                                },
                                {
                                    "cim": "Táplálkozás, életmód mesterfokon (2002)",
                                    "diszkont_ar": "3584"
                                },
                                {
                                    "cim": "Target English (1998)",
                                    "diszkont_ar": "4849"
                                },
                                {
                                    "cim": "Tarzan",
                                    "diszkont_ar": "2990"
                                },
                                {
                                    "cim": "Terrorizmus (2002)",
                                    "diszkont_ar": "3902"
                                },
                                {
                                    "cim": "Testbeszéd (1998)",
                                    "diszkont_ar": "4306"
                                },
                                {
                                    "cim": "Tesztre készen: angol (1998)",
                                    "diszkont_ar": "3326"
                                },
                                {
                                    "cim": "Tesztre készen: német (1998)",
                                    "diszkont_ar": "3653"
                                },
                                {
                                    "cim": "Thaiföldi ízek (1999)",
                                    "diszkont_ar": "4200"
                                },
                                {
                                    "cim": "Timeshock!",
                                    "diszkont_ar": "4127"
                                },
                                {
                                    "cim": "Tomi megmenti a tengert (2000)",
                                    "diszkont_ar": "3460"
                                },
                                {
                                    "cim": "Touché - The Adventures of the Fifth",
                                    "diszkont_ar": "3638"
                                },
                                {
                                    "cim": "Toy Story 2.",
                                    "diszkont_ar": "3047"
                                },
                                {
                                    "cim": "Történelem (1998)",
                                    "diszkont_ar": "2990"
                                },
                                {
                                    "cim": "Történelem : 10-14 éveseknek (2002)",
                                    "diszkont_ar": "2990"
                                },
                                {
                                    "cim": "Történelem : középiskola 1. osztály (2002)",
                                    "diszkont_ar": "2989"
                                },
                                {
                                    "cim": "Történelem : középiskola 4. osztály (2002)",
                                    "diszkont_ar": "4508"
                                },
                                {
                                    "cim": "Traffic Giant",
                                    "diszkont_ar": "3508"
                                },
                                {
                                    "cim": "Train Simulator (2002)",
                                    "diszkont_ar": "4342"
                                },
                                {
                                    "cim": "Trickstyle",
                                    "diszkont_ar": "3721"
                                },
                                {
                                    "cim": "A tudás próbája (2001)",
                                    "diszkont_ar": "4369"
                                },
                                {
                                    "cim": "Turul : 1883-1900 (2002)",
                                    "diszkont_ar": "4190"
                                },
                                {
                                    "cim": "UEFA Champions Leage Season",
                                    "diszkont_ar": "4418"
                                },
                                {
                                    "cim": "Új Könyvek 1994-2000 (2002)",
                                    "diszkont_ar": "4819"
                                },
                                {
                                    "cim": "Az Univerzum története",
                                    "diszkont_ar": "2923"
                                },
                                {
                                    "cim": "Utazás a csillagok között (1998)",
                                    "diszkont_ar": "4564"
                                },
                                {
                                    "cim": "Utazás a Naprendszerben",
                                    "diszkont_ar": "2866"
                                },
                                {
                                    "cim": "Utazás a Naprendszerben 2.",
                                    "diszkont_ar": "4794"
                                },
                                {
                                    "cim": "Úton 2. (1998)",
                                    "diszkont_ar": "4381"
                                },
                                {
                                    "cim": "Üzleti protokoll CD (2002)",
                                    "diszkont_ar": "3913"
                                },
                                {
                                    "cim": "Várak, kastélyok, legendák 1.",
                                    "diszkont_ar": "3390"
                                },
                                {
                                    "cim": "Várak, kastélyok, legendák 2. (2002)",
                                    "diszkont_ar": "2650"
                                },
                                {
                                    "cim": "A varázslatos emberi test (1998)",
                                    "diszkont_ar": "3890"
                                },
                                {
                                    "cim": "Varázslatos szülinap",
                                    "diszkont_ar": "4570"
                                },
                                {
                                    "cim": "Varázslatos történelmi nyomozás",
                                    "diszkont_ar": "3516"
                                },
                                {
                                    "cim": "A városi élet a Római Birodalomban (1999)",
                                    "diszkont_ar": "4599"
                                },
                                {
                                    "cim": "A Vazul-ág (1038-1301) (1997)",
                                    "diszkont_ar": "3248"
                                },
                                {
                                    "cim": "Világatlasz '99 (1998)",
                                    "diszkont_ar": "4319"
                                },
                                {
                                    "cim": "Világatlasz '99 (1998)",
                                    "diszkont_ar": "4162"
                                },
                                {
                                    "cim": "Világatlasz (2001)",
                                    "diszkont_ar": "2757"
                                },
                                {
                                    "cim": "Világirodalom : Az ókortól napjainkig (2001)",
                                    "diszkont_ar": "2876"
                                },
                                {
                                    "cim": "Volt egyszer egy Magyarország",
                                    "diszkont_ar": "4242"
                                },
                                {
                                    "cim": "Warcraft III. (2002)",
                                    "diszkont_ar": "4619"
                                },
                                {
                                    "cim": "William Shakespeare összes művei",
                                    "diszkont_ar": "3550"
                                },
                                {
                                    "cim": "Zielpunkt Deutsch (1997)",
                                    "diszkont_ar": "3315"
                                },
                                {
                                    "cim": "Zöld Ödön a földgömbön",
                                    "diszkont_ar": "4852"
                                }
                            ]
                        },
                        "text/html": [
                            "<table>",
                            "<tr><th>cim</th><th>diszkont_ar</th></tr>",
                            "<tr><td>NULL</td><td>3087</td></tr>",
                            "<tr><td>A II. világháború története (1999)</td><td>3395</td></tr>",
                            "<tr><td>3D Dinosaur - adventure</td><td>4033</td></tr>",
                            "<tr><td>3D virtuális origami (2000)</td><td>4284</td></tr>",
                            "<tr><td>Az 1848-1849-iki szabadságharc története (2002)</td><td>4560</td></tr>",
                            "<tr><td>Ablak zsiráf (1999)</td><td>2832</td></tr>",
                            "<tr><td>Ady Endre összes művei (1999)</td><td>3393</td></tr>",
                            "<tr><td>Afrika</td><td>4254</td></tr>",
                            "<tr><td>Age of Empires (2000)</td><td>3586</td></tr>",
                            "<tr><td>Airport Inc.</td><td>3449</td></tr>",
                            "<tr><td>American Rodeo : BullRider 2000 (2001)</td><td>4473</td></tr>",
                            "<tr><td>Angol : 8-10 éveseknek (2002)</td><td>3882</td></tr>",
                            "<tr><td>Angol és német nyelvtani gyakorlatok (2002)</td><td>3925</td></tr>",
                            "<tr><td>Angol szótanító CD-ROM</td><td>3559</td></tr>",
                            "<tr><td>Angol szótanító CD-ROM</td><td>3555</td></tr>",
                            "<tr><td>Angol szótár (1996)</td><td>2807</td></tr>",
                            "<tr><td>Angol-magyar, Magyar-angol hangosszótár</td><td>4121</td></tr>",
                            "<tr><td>Angol-magyar nagyszótár (Halász Előd)</td><td>4510</td></tr>",
                            "<tr><td>Az áramvonalas fakanál</td><td>4565</td></tr>",
                            "<tr><td>Arany János: A bajusz (2002)</td><td>2713</td></tr>",
                            "<tr><td>Az Árpád-ház története</td><td>4018</td></tr>",
                            "<tr><td>Art Attack (1998)</td><td>3131</td></tr>",
                            "<tr><td>Art puzzle (1998)</td><td>4629</td></tr>",
                            "<tr><td>Az ásványok világa</td><td>4499</td></tr>",
                            "<tr><td>Ausztrália</td><td>4261</td></tr>",
                            "<tr><td>Auto 2000 - Kerékvilág</td><td>3570</td></tr>",
                            "<tr><td>Ázsia (2000)</td><td>2498</td></tr>",
                            "<tr><td>Biblia (1995)</td><td>3552</td></tr>",
                            "<tr><td>Biológia &#39;97</td><td>4434</td></tr>",
                            "<tr><td>Biológia (2000)</td><td>3055</td></tr>",
                            "<tr><td>Biológia (2001)</td><td>3034</td></tr>",
                            "<tr><td>Biológia : 12-14 éveseknek (2003)</td><td>2786</td></tr>",
                            "<tr><td>Blinky Bill : A fantasztikus léggömbkaland</td><td>3261</td></tr>",
                            "<tr><td>Broken Sword II. (cop. 1997)</td><td>3602</td></tr>",
                            "<tr><td>Budapest kalauz</td><td>3243</td></tr>",
                            "<tr><td>Budapest Museum</td><td>4234</td></tr>",
                            "<tr><td>Buggy</td><td>4664</td></tr>",
                            "<tr><td>Byte Magyarország (2002)</td><td>2622</td></tr>",
                            "<tr><td>Caesar III.</td><td>3309</td></tr>",
                            "<tr><td>Capitalism II. (2001)</td><td>4850</td></tr>",
                            "<tr><td>Capitalism Plus</td><td>4024</td></tr>",
                            "<tr><td>Castle Explorer</td><td>2966</td></tr>",
                            "<tr><td>CD Panoráma 1-4. (1998)</td><td>4338</td></tr>",
                            "<tr><td>Computer iskola (1998)</td><td>4208</td></tr>",
                            "<tr><td>Csizmás kandúr (1998)</td><td>4746</td></tr>",
                            "<tr><td>Csodálatos univerzum (1997)</td><td>3270</td></tr>",
                            "<tr><td>Dél-Amerika (1999)</td><td>3199</td></tr>",
                            "<tr><td>Dementia 1-5. (1997)</td><td>4735</td></tr>",
                            "<tr><td>Deutsch: Anfanger (kezdő) + Telepítő </td><td>4506</td></tr>",
                            "<tr><td>Deutsch: Fortgeschrittene (haladó) + Installation</td><td>4627</td></tr>",
                            "<tr><td>Deutsch: Mittelstufe (középhaladó)+ Telepítő</td><td>3502</td></tr>",
                            "<tr><td>Diablo</td><td>4775</td></tr>",
                            "<tr><td>Diablo II. (2000)</td><td>3920</td></tr>",
                            "<tr><td>Dicső napok és hétköznapok 1848 - Digitális forrásgyűjtemény 1.</td><td>4489</td></tr>",
                            "<tr><td>Dreams to Reality 1-2. (1997)</td><td>3759</td></tr>",
                            "<tr><td>Duke Nukem 3D</td><td>4379</td></tr>",
                            "<tr><td>Dungeon Keeper 2. (1999)</td><td>2695</td></tr>",
                            "<tr><td>E-Games : Collector&#39;s Edition (2001)</td><td>4466</td></tr>",
                            "<tr><td>Éléstár (1998)</td><td>2606</td></tr>",
                            "<tr><td>Élet a polgárosodó Magyarországon (2001)</td><td>4458</td></tr>",
                            "<tr><td>Életképek 1848 (1998)</td><td>3369</td></tr>",
                            "<tr><td>Az ember tragédiája</td><td>3436</td></tr>",
                            "<tr><td>Encarta World Atlas &#39;99 1-2. (1998)</td><td>4267</td></tr>",
                            "<tr><td>Enemy Engaged RAH-66</td><td>4174</td></tr>",
                            "<tr><td>English 1-2. + Telepítő</td><td>4172</td></tr>",
                            "<tr><td>English: Intermediate (haladó)</td><td>2902</td></tr>",
                            "<tr><td>English by Stealth  lásd: Lopva angolul</td><td>3582</td></tr>",
                            "<tr><td>Erdély (1996)</td><td>3999</td></tr>",
                            "<tr><td>Espanol: Intermedio + Telepítő</td><td>3131</td></tr>",
                            "<tr><td>Espanol: Principiante + Telepítő</td><td>4706</td></tr>",
                            "<tr><td>Észak-Amerika</td><td>3195</td></tr>",
                            "<tr><td>Európa</td><td>4216</td></tr>",
                            "<tr><td>The F.A. Premier League Stars 2001</td><td>3097</td></tr>",
                            "<tr><td>Felvételi példatár : Angol</td><td>3101</td></tr>",
                            "<tr><td>Felvételi példatár : Biológia, földrajz</td><td>2572</td></tr>",
                            "<tr><td>Felvételi példatár : Kémia, fizika</td><td>4681</td></tr>",
                            "<tr><td>Felvételi példatár : Magyar nyelv és irodalom</td><td>4764</td></tr>",
                            "<tr><td>Felvételi példatár : Matematika</td><td>4007</td></tr>",
                            "<tr><td>Felvételi példatár : Német</td><td>2482</td></tr>",
                            "<tr><td>FIFA, 2000 (1999)</td><td>4047</td></tr>",
                            "<tr><td>Fighting Force (1998)</td><td>3840</td></tr>",
                            "<tr><td>Final Liberation (1997)</td><td>3706</td></tr>",
                            "<tr><td>Fitness mesterfokon / Béres Alexandra (2001)</td><td>3686</td></tr>",
                            "<tr><td>Fizika : 12-14 éveseknek (2002)</td><td>2987</td></tr>",
                            "<tr><td>Fizika felkészítő az érettségi és felvételi vizsgára</td><td>3848</td></tr>",
                            "<tr><td>Fizika világa (2001)</td><td>4610</td></tr>",
                            "<tr><td>A Föld élővilága</td><td>4720</td></tr>",
                            "<tr><td>Földrajz: 10-14 éveseknek (2002)</td><td>3144</td></tr>",
                            "<tr><td>Földrajz: érettségi előkészítő (2002)</td><td>2538</td></tr>",
                            "<tr><td>Francais 1-2. + Telepítő</td><td>3230</td></tr>",
                            "<tr><td>Francais: Débutan (kezdő) + Telepítő</td><td>3016</td></tr>",
                            "<tr><td>Francais: Moyen + Telepítő</td><td>4495</td></tr>",
                            "<tr><td>Francia-magyar szótár</td><td>2853</td></tr>",
                            "<tr><td>Funschool in Dreamland (1995)</td><td>3813</td></tr>",
                            "<tr><td>Geolexikon 4.2 : földtani adatbázis (2002)</td><td>3682</td></tr>",
                            "<tr><td>Gépírás 2000</td><td>3149</td></tr>",
                            "<tr><td>Gondolattár: aforizmák, szállóigék</td><td>4277</td></tr>",
                            "<tr><td>GTA 2</td><td>4004</td></tr>",
                            "<tr><td>Hadiflották I. (2002)</td><td>4099</td></tr>",
                            "<tr><td>Hadtudományi lexikon (1998)</td><td>2812</td></tr>",
                            "<tr><td>Hajdúböszörmény</td><td>3025</td></tr>",
                            "<tr><td>Halak, kétéltűek, hüllők</td><td>3322</td></tr>",
                            "<tr><td>Half-Life (1996)</td><td>4324</td></tr>",
                            "<tr><td>Half-Life Generation: Game of the Year Edition (2002)</td><td>2964</td></tr>",
                            "<tr><td>Half-Life Generation: Counter Strike (2002)</td><td>4595</td></tr>",
                            "<tr><td>Half-Life Generation: Blue Shift (2002)</td><td>4582</td></tr>",
                            "<tr><td>Harry Potter és a bölcsek köve (2001)</td><td>3578</td></tr>",
                            "<tr><td>Haza és haladás</td><td>2785</td></tr>",
                            "<tr><td>A hét világcsoda (2001)</td><td>2530</td></tr>",
                            "<tr><td>Home Desing 3D (1998)</td><td>3430</td></tr>",
                            "<tr><td>Hupikék törpikék: teletransportörp (1999)</td><td>2488</td></tr>",
                            "<tr><td>Informatika - Internet - Iskola</td><td>2986</td></tr>",
                            "<tr><td>Interaktív angol nyelvész kurzus haladó szint 1-5.</td><td>3674</td></tr>",
                            "<tr><td>Interaktív angol nyelvész kurzus kezdő szint</td><td>3346</td></tr>",
                            "<tr><td>Interaktív angol nyelvész kurzus középhaladó szint</td><td>2492</td></tr>",
                            "<tr><td>Interaktív magyar nyelvtan</td><td>3823</td></tr>",
                            "<tr><td>International Rally Championship</td><td>3112</td></tr>",
                            "<tr><td>Internet (1996)</td><td>3947</td></tr>",
                            "<tr><td>Introduction to Archeology</td><td>3018</td></tr>",
                            "<tr><td>Investigating 20th Century Art (1994)</td><td>3515</td></tr>",
                            "<tr><td>Az ipari forradalom kora (2000)</td><td>4066</td></tr>",
                            "<tr><td>Irodalmi arcképcsarnok</td><td>3093</td></tr>",
                            "<tr><td>Irodalom  felkészítő az érettségi és felvételi vizsgára</td><td>4523</td></tr>",
                            "<tr><td>Irodalom (1998)</td><td>4500</td></tr>",
                            "<tr><td>Italiano (1998) + Installation</td><td>4349</td></tr>",
                            "<tr><td>Italiano 1-2. (1998) + Installation</td><td>4866</td></tr>",
                            "<tr><td>Italiano 1-2. (1998) + Installation</td><td>2735</td></tr>",
                            "<tr><td>Jancsó</td><td>3363</td></tr>",
                            "<tr><td>Japán : képes kulturális atlasz (2001)</td><td>3567</td></tr>",
                            "<tr><td>Játékfilmek 1963-tól napjainkig</td><td>2510</td></tr>",
                            "<tr><td>Játszóház (1998)</td><td>4239</td></tr>",
                            "<tr><td>Jókai összes művei (2001)</td><td>3814</td></tr>",
                            "<tr><td>József Attila (1998)</td><td>3096</td></tr>",
                            "<tr><td>A jövő titkai - Interaktív horoszkóp (1998)</td><td>4858</td></tr>",
                            "<tr><td>Kártyaváros</td><td>2486</td></tr>",
                            "<tr><td>Kémia Kalauz 2.</td><td>4075</td></tr>",
                            "<tr><td>A kémkedés és a hírszerzés története (2002)</td><td>4676</td></tr>",
                            "<tr><td>Képes krónika (1996)</td><td>3145</td></tr>",
                            "<tr><td>Képtárak (1995)</td><td>4326</td></tr>",
                            "<tr><td>Kereszt és félhold</td><td>3442</td></tr>",
                            "<tr><td>Kétfejű sas: A Habsburg-uralom Magyarországon (1699-1790)</td><td>4367</td></tr>",
                            "<tr><td>Kettős kötődés: Az Osztrák-Magyar Monarchia (1867-1918)</td><td>3863</td></tr>",
                            "<tr><td>Kínai falatok</td><td>3640</td></tr>",
                            "<tr><td>Királyi könyvek 1-9. kötet</td><td>2605</td></tr>",
                            "<tr><td>Királyi könyvek 18-26. kötet</td><td>4406</td></tr>",
                            "<tr><td>Királyi könyvek 27-38. kötet : 1703-1740 (2002)</td><td>4381</td></tr>",
                            "<tr><td>Kispál és a borz (1998)</td><td>4584</td></tr>",
                            "<tr><td>Kossuth Lajos összes munkái (2002)</td><td>3671</td></tr>",
                            "<tr><td>Környezetvédelmi kalauz (1999)</td><td>4406</td></tr>",
                            "<tr><td>Kötelező olvasmányok könyvtára 1. (2002)</td><td>2875</td></tr>",
                            "<tr><td>A kőszívű ember fiai - Egri csillagok</td><td>4430</td></tr>",
                            "<tr><td>A kutyák: A család kedvencei</td><td>3970</td></tr>",
                            "<tr><td>Kutyatár</td><td>4188</td></tr>",
                            "<tr><td>KvízIQ : A hét világcsoda (2001)</td><td>2761</td></tr>",
                            "<tr><td>Lakáskultúra 2000 (2000)</td><td>4678</td></tr>",
                            "<tr><td>Lakáskultúra 1999 (1999)</td><td>4331</td></tr>",
                            "<tr><td>Lakáskultúra 1998 (1998)</td><td>4393</td></tr>",
                            "<tr><td>Lakáskultúra 1997 (1997)</td><td>2735</td></tr>",
                            "<tr><td>Lakáskultúra 1996 (1996)</td><td>3367</td></tr>",
                            "<tr><td>Lands of Lore II. 1-4. (1997)</td><td>3450</td></tr>",
                            "<tr><td>Landscape Design 3D (1998)</td><td>3961</td></tr>",
                            "<tr><td>Legféltettebb természeti értékeink</td><td>4066</td></tr>",
                            "<tr><td>Legszebb vadnövényeink</td><td>3550</td></tr>",
                            "<tr><td>Leonardo da Vinci</td><td>4094</td></tr>",
                            "<tr><td>Lilenthal Andor sakkjátszmái</td><td>2915</td></tr>",
                            "<tr><td>Lopva angolul /English by Stealth 1.</td><td>4345</td></tr>",
                            "<tr><td>Lopva angolul /English by Stealth 2.</td><td>3678</td></tr>",
                            "<tr><td>Lopva angolul /English by Stealth 3.</td><td>3881</td></tr>",
                            "<tr><td>Lovagkirályok (1301-1437) (1997)</td><td>3494</td></tr>",
                            "<tr><td>LoveQ, SexQ : szerelmi intelligencia (2001)</td><td>2901</td></tr>",
                            "<tr><td>M1 Tank (1998)</td><td>4785</td></tr>",
                            "<tr><td>Mackó úr (2002)</td><td>3706</td></tr>",
                            "<tr><td>Madárdalos kirándulások - Madártani oktató CD-ROM (1999)</td><td>2726</td></tr>",
                            "<tr><td>Magyar bélyegek katalógusa</td><td>3228</td></tr>",
                            "<tr><td>Magyar fontok &#39;97</td><td>3076</td></tr>",
                            "<tr><td>A Magyar Koronázási Jelvények</td><td>3298</td></tr>",
                            "<tr><td>Magyar nyelv és irodalom</td><td>3763</td></tr>",
                            "<tr><td>Magyar színházművészet a világban</td><td>4126</td></tr>",
                            "<tr><td>Magyarország, 1944-1956 (2001)</td><td>3937</td></tr>",
                            "<tr><td>Magyarország, 1944-1956 (2001)</td><td>2938</td></tr>",
                            "<tr><td>Magyarország Nemzeti Parkjai I.</td><td>2678</td></tr>",
                            "<tr><td>Magyarország Nemzeti Parkjai II.</td><td>2702</td></tr>",
                            "<tr><td>Magyarországi várak (1998)</td><td>4367</td></tr>",
                            "<tr><td>Mahjongg Master (1998)</td><td>4338</td></tr>",
                            "<tr><td>Manó Angol 1.</td><td>4682</td></tr>",
                            "<tr><td>Manó Angol 1. (2002)</td><td>4841</td></tr>",
                            "<tr><td>Manó Angol 2.</td><td>4282</td></tr>",
                            "<tr><td>Manó Angol 2. (2000)</td><td>4854</td></tr>",
                            "<tr><td>Manó Élővilág</td><td>2779</td></tr>",
                            "<tr><td>Manó Élővilág (2002)</td><td>3905</td></tr>",
                            "<tr><td>Manó IQ (2001)</td><td>4306</td></tr>",
                            "<tr><td>Manó Kaland (2002)</td><td>4774</td></tr>",
                            "<tr><td>Manó Magyarország (2002)</td><td>3320</td></tr>",
                            "<tr><td>Manó Matek 1.</td><td>4796</td></tr>",
                            "<tr><td>Manó Matek 1. (2002)</td><td>4317</td></tr>",
                            "<tr><td>Manó Matek 2. (1999)</td><td>4454</td></tr>",
                            "<tr><td>Manó Matek 2. (1999)</td><td>2829</td></tr>",
                            "<tr><td>Manó Matek 3.</td><td>3842</td></tr>",
                            "<tr><td>Manó Muzsika</td><td>3997</td></tr>",
                            "<tr><td>Manó Muzsika</td><td>2713</td></tr>",
                            "<tr><td>Manó Német 2.</td><td>3714</td></tr>",
                            "<tr><td>Manó Olvasás 1.</td><td>4676</td></tr>",
                            "<tr><td>Manó Puzzle (2002)</td><td>4862</td></tr>",
                            "<tr><td>Matematika (1998)</td><td>2484</td></tr>",
                            "<tr><td>Matematika felkészítő az érettségi és felvételi vizsgára</td><td>3693</td></tr>",
                            "<tr><td>Matematika kalauz (1997)</td><td>2652</td></tr>",
                            "<tr><td>Mig-29 (1998)</td><td>4032</td></tr>",
                            "<tr><td>Mikszáth Kálmán összes művei</td><td>3829</td></tr>",
                            "<tr><td>Mini Manó Tavasz</td><td>3782</td></tr>",
                            "<tr><td>MoBi Mouse: A fordító egér</td><td>4029</td></tr>",
                            "<tr><td>Monopoly Junior</td><td>3179</td></tr>",
                            "<tr><td>Mons Sacer Pannoniae (2001)</td><td>3528</td></tr>",
                            "<tr><td>Moving Puzzle Action Flight (2000)</td><td>4382</td></tr>",
                            "<tr><td>Multimédiás Menedzsment Könyvtár 1. - Változásmenedzsment</td><td>4846</td></tr>",
                            "<tr><td>Multimédiás Menedzsment Könyvtár 2. - Önszervezés</td><td>2623</td></tr>",
                            "<tr><td>Musique! (1997)</td><td>4269</td></tr>",
                            "<tr><td>Művészet és mesterség</td><td>4878</td></tr>",
                            "<tr><td>Művészet és művészek (2002)</td><td>2792</td></tr>",
                            "<tr><td>Nagy képes világtörténet (Matczáli Henrik) (1998)</td><td>3510</td></tr>",
                            "<tr><td>Nagy vicc tár</td><td>4458</td></tr>",
                            "<tr><td>A Nagybányai Festőiskola (1998)</td><td>3902</td></tr>",
                            "<tr><td>NASA 1.</td><td>4774</td></tr>",
                            "<tr><td>NASA 2.</td><td>3318</td></tr>",
                            "<tr><td>Na, So Was? - Minden helyzetben otthonosan</td><td>2880</td></tr>",
                            "<tr><td>Német : 8-10 éveseknek (2002)</td><td>3003</td></tr>",
                            "<tr><td>Német szótanító CD-ROM</td><td>2650</td></tr>",
                            "<tr><td>Németh László összes műve</td><td>3598</td></tr>",
                            "<tr><td>New York : a tragédiák városa (2001)</td><td>2978</td></tr>",
                            "<tr><td>NHL 2001</td><td>4194</td></tr>",
                            "<tr><td>Nincs királyi út - A matematika kultúrtörténete</td><td>3482</td></tr>",
                            "<tr><td>Nyelvész : Angol és német haladóknak (1997)</td><td>2818</td></tr>",
                            "<tr><td>Nyelvtan összefoglaló : érettségi előkészítő (2002)</td><td>2950</td></tr>",
                            "<tr><td>Az óceán világa - Maldiv szigetek (2000)</td><td>4666</td></tr>",
                            "<tr><td>Ókori lexikon</td><td>2498</td></tr>",
                            "<tr><td>Olasz-magyar, magyar-olasz digitális szótár</td><td>3286</td></tr>",
                            "<tr><td>Olasz szótanító CD-ROM</td><td>4086</td></tr>",
                            "<tr><td>Orosz (1998)</td><td>4807</td></tr>",
                            "<tr><td>Orosz-magyar nagyszótár</td><td>3733</td></tr>",
                            "<tr><td>Az Országos Széchényi Könyvtár corvinái, 2002 (2002)</td><td>3802</td></tr>",
                            "<tr><td>Az Osztrák-Magyar Monarchia írásban és képekben (2001)</td><td>3487</td></tr>",
                            "<tr><td>Paddle Bash (2001)</td><td>3150</td></tr>",
                            "<tr><td>Pannon Enciklopédia (1998)</td><td>3685</td></tr>",
                            "<tr><td>Pannonhalmi Főapátság (2001)</td><td>4654</td></tr>",
                            "<tr><td>Panzer General III: Scorched Earth (2000)</td><td>4846</td></tr>",
                            "<tr><td>People&#39;s General (1998)</td><td>4498</td></tr>",
                            "<tr><td>Petőfi Sándor: Arany Lacinak (2002)</td><td>4390</td></tr>",
                            "<tr><td>Petőfi Sándor összes költeményei</td><td>3026</td></tr>",
                            "<tr><td>Plane Crazy</td><td>4009</td></tr>",
                            "<tr><td>Quake III. (2001)</td><td>2515</td></tr>",
                            "<tr><td>Rákóczi-szabadságharc</td><td>3822</td></tr>",
                            "<tr><td>Rally Championship</td><td>2485</td></tr>",
                            "<tr><td>Rayman: Matek és olvasás</td><td>3587</td></tr>",
                            "<tr><td>Re-Volt (1999)</td><td>3191</td></tr>",
                            "<tr><td>The Settlers III. 1-2. (1998)</td><td>3414</td></tr>",
                            "<tr><td>The Settlers IV. (2001)</td><td>3314</td></tr>",
                            "<tr><td>Shanghai (1997)</td><td>4720</td></tr>",
                            "<tr><td>The Sims</td><td>3234</td></tr>",
                            "<tr><td>Sonic Racer</td><td>2760</td></tr>",
                            "<tr><td>Spanyol (1997)</td><td>3020</td></tr>",
                            "<tr><td>Spanyol-magyar szótár</td><td>4587</td></tr>",
                            "<tr><td>Star Wars: Battle for Naboo</td><td>2816</td></tr>",
                            "<tr><td>Star Wars: Force Commander (2001)</td><td>4628</td></tr>",
                            "<tr><td>Star Wars : Rogue Squadron 3D</td><td>4642</td></tr>",
                            "<tr><td>Supreme Snowboarding</td><td>3321</td></tr>",
                            "<tr><td>Szabadítsd ki a kisoroszlánt!</td><td>4430</td></tr>",
                            "<tr><td>Szabadságharc 1848-49 (1988)</td><td>4848</td></tr>",
                            "<tr><td>A szabadságharc népzenei emlékei</td><td>4150</td></tr>",
                            "<tr><td>Szolfézs: Kezdőknek és haladóknak</td><td>3594</td></tr>",
                            "<tr><td>Talk To Me Deutsch 2-4.</td><td>4792</td></tr>",
                            "<tr><td>Talk To Me English 1.</td><td>3794</td></tr>",
                            "<tr><td>Talk To Me Francais 1-2.</td><td>3978</td></tr>",
                            "<tr><td>Tankok, tüzérség (2002)</td><td>4867</td></tr>",
                            "<tr><td>Tanulj tovább! 2000 (2000)</td><td>3448</td></tr>",
                            "<tr><td>Táplálkozás, életmód mesterfokon (2002)</td><td>3584</td></tr>",
                            "<tr><td>Target English (1998)</td><td>4849</td></tr>",
                            "<tr><td>Tarzan</td><td>2990</td></tr>",
                            "<tr><td>Terrorizmus (2002)</td><td>3902</td></tr>",
                            "<tr><td>Testbeszéd (1998)</td><td>4306</td></tr>",
                            "<tr><td>Tesztre készen: angol (1998)</td><td>3326</td></tr>",
                            "<tr><td>Tesztre készen: német (1998)</td><td>3653</td></tr>",
                            "<tr><td>Thaiföldi ízek (1999)</td><td>4200</td></tr>",
                            "<tr><td>Timeshock!</td><td>4127</td></tr>",
                            "<tr><td>Tomi megmenti a tengert (2000)</td><td>3460</td></tr>",
                            "<tr><td>Touché - The Adventures of the Fifth</td><td>3638</td></tr>",
                            "<tr><td>Toy Story 2.</td><td>3047</td></tr>",
                            "<tr><td>Történelem (1998)</td><td>2990</td></tr>",
                            "<tr><td>Történelem : 10-14 éveseknek (2002)</td><td>2990</td></tr>",
                            "<tr><td>Történelem : középiskola 1. osztály (2002)</td><td>2989</td></tr>",
                            "<tr><td>Történelem : középiskola 4. osztály (2002)</td><td>4508</td></tr>",
                            "<tr><td>Traffic Giant</td><td>3508</td></tr>",
                            "<tr><td>Train Simulator (2002)</td><td>4342</td></tr>",
                            "<tr><td>Trickstyle</td><td>3721</td></tr>",
                            "<tr><td>A tudás próbája (2001)</td><td>4369</td></tr>",
                            "<tr><td>Turul : 1883-1900 (2002)</td><td>4190</td></tr>",
                            "<tr><td>UEFA Champions Leage Season</td><td>4418</td></tr>",
                            "<tr><td>Új Könyvek 1994-2000 (2002)</td><td>4819</td></tr>",
                            "<tr><td>Az Univerzum története</td><td>2923</td></tr>",
                            "<tr><td>Utazás a csillagok között (1998)</td><td>4564</td></tr>",
                            "<tr><td>Utazás a Naprendszerben</td><td>2866</td></tr>",
                            "<tr><td>Utazás a Naprendszerben 2.</td><td>4794</td></tr>",
                            "<tr><td>Úton 2. (1998)</td><td>4381</td></tr>",
                            "<tr><td>Üzleti protokoll CD (2002)</td><td>3913</td></tr>",
                            "<tr><td>Várak, kastélyok, legendák 1.</td><td>3390</td></tr>",
                            "<tr><td>Várak, kastélyok, legendák 2. (2002)</td><td>2650</td></tr>",
                            "<tr><td>A varázslatos emberi test (1998)</td><td>3890</td></tr>",
                            "<tr><td>Varázslatos szülinap</td><td>4570</td></tr>",
                            "<tr><td>Varázslatos történelmi nyomozás</td><td>3516</td></tr>",
                            "<tr><td>A városi élet a Római Birodalomban (1999)</td><td>4599</td></tr>",
                            "<tr><td>A Vazul-ág (1038-1301) (1997)</td><td>3248</td></tr>",
                            "<tr><td>Világatlasz &#39;99 (1998)</td><td>4319</td></tr>",
                            "<tr><td>Világatlasz &#39;99 (1998)</td><td>4162</td></tr>",
                            "<tr><td>Világatlasz (2001)</td><td>2757</td></tr>",
                            "<tr><td>Világirodalom : Az ókortól napjainkig (2001)</td><td>2876</td></tr>",
                            "<tr><td>Volt egyszer egy Magyarország</td><td>4242</td></tr>",
                            "<tr><td>Warcraft III. (2002)</td><td>4619</td></tr>",
                            "<tr><td>William Shakespeare összes művei</td><td>3550</td></tr>",
                            "<tr><td>Zielpunkt Deutsch (1997)</td><td>3315</td></tr>",
                            "<tr><td>Zöld Ödön a földgömbön</td><td>4852</td></tr>",
                            "</table>"
                        ]
                    }
                }
            ],
            "execution_count": 3
        },
        {
            "cell_type": "markdown",
            "source": [
                "10. <span style=\"color: var(--vscode-foreground);\">&nbsp;Listázzuk&nbsp;azon&nbsp;diákok&nbsp;nevét&nbsp;és&nbsp;születési&nbsp;idejét,&nbsp;akik&nbsp;1984-ben&nbsp;vagy&nbsp;1985-ben&nbsp;születtek!&nbsp;&nbsp;</span>  \n",
                "\n",
                "a.  A születési dátum csak az évet, hónapot és a napot tartalmazza! \n",
                "\n",
                "b.  A születési dátum oszlopát nevezzük el 'Születési idő'-nek!"
            ],
            "metadata": {
                "azdata_cell_guid": "1260dbb7-f1f2-4966-b6cf-d068ab4467d2"
            },
            "attachments": {}
        },
        {
            "cell_type": "code",
            "source": [
                "SELECT Nev,\r\n",
                "        cast(Szulido as date)as 'Születési idő'\r\n",
                "from diak\r\n",
                "WHERE YEAR(Szulido)=1984 or YEAR(Szulido)=1985"
            ],
            "metadata": {
                "azdata_cell_guid": "54b3b4bd-a224-40f6-aab4-cdced02ade63",
                "language": "sql"
            },
            "outputs": [
                {
                    "output_type": "display_data",
                    "data": {
                        "text/html": "(3 rows affected)"
                    },
                    "metadata": {}
                },
                {
                    "output_type": "display_data",
                    "data": {
                        "text/html": "Total execution time: 00:00:00.031"
                    },
                    "metadata": {}
                },
                {
                    "output_type": "execute_result",
                    "metadata": {},
                    "execution_count": 6,
                    "data": {
                        "application/vnd.dataresource+json": {
                            "schema": {
                                "fields": [
                                    {
                                        "name": "Nev"
                                    },
                                    {
                                        "name": "Születési idő"
                                    }
                                ]
                            },
                            "data": [
                                {
                                    "Nev": "Kovács Imre",
                                    "Születési idő": "1984-03-02"
                                },
                                {
                                    "Nev": "Kapos Petra",
                                    "Születési idő": "1985-12-23"
                                },
                                {
                                    "Nev": "Koppány Olga",
                                    "Születési idő": "1984-02-28"
                                }
                            ]
                        },
                        "text/html": [
                            "<table>",
                            "<tr><th>Nev</th><th>Születési idő</th></tr>",
                            "<tr><td>Kovács Imre</td><td>1984-03-02</td></tr>",
                            "<tr><td>Kapos Petra</td><td>1985-12-23</td></tr>",
                            "<tr><td>Koppány Olga</td><td>1984-02-28</td></tr>",
                            "</table>"
                        ]
                    }
                }
            ],
            "execution_count": 6
        },
        {
            "cell_type": "markdown",
            "source": [
                "11. Készítsünk lekérdezést, amely a tanulók nevét és az ebből képzett felhasználói nevét tartalmazza. \n",
                "\n",
                "a.  A felhasználói név álljon a név első kettő, illetve utolsó kettő betűjének összefűzéséből!\n",
                "\n",
                "b.  A listát szűrjük azon tanulókra, akik teljes neve - szóközzel együtt - legalább 10 betűs!"
            ],
            "metadata": {
                "azdata_cell_guid": "5d104eac-6890-4671-8fa2-2fc5a64ea010"
            },
            "attachments": {}
        },
        {
            "cell_type": "code",
            "source": [
                "SELECT (LEFT(Nev,2)+RIGHT(Nev,2)) as 'felhasználónév'\r\n",
                "from diak\r\n",
                "WHERE LEN(Nev)>=10"
            ],
            "metadata": {
                "azdata_cell_guid": "29b8740e-5b78-49e7-8496-1249c59d5748",
                "language": "sql"
            },
            "outputs": [
                {
                    "output_type": "display_data",
                    "data": {
                        "text/html": "(8 rows affected)"
                    },
                    "metadata": {}
                },
                {
                    "output_type": "display_data",
                    "data": {
                        "text/html": "Total execution time: 00:00:00.023"
                    },
                    "metadata": {}
                },
                {
                    "output_type": "execute_result",
                    "metadata": {},
                    "execution_count": 7,
                    "data": {
                        "application/vnd.dataresource+json": {
                            "schema": {
                                "fields": [
                                    {
                                        "name": "felhasználónév"
                                    }
                                ]
                            },
                            "data": [
                                {
                                    "felhasználónév": "Kore"
                                },
                                {
                                    "felhasználónév": "Hoil"
                                },
                                {
                                    "felhasználónév": "Kara"
                                },
                                {
                                    "felhasználónév": "Csna"
                                },
                                {
                                    "felhasználónév": "Nyás"
                                },
                                {
                                    "felhasználónév": "Orma"
                                },
                                {
                                    "felhasználónév": "Koga"
                                },
                                {
                                    "felhasználónév": "Koia"
                                }
                            ]
                        },
                        "text/html": [
                            "<table>",
                            "<tr><th>felhasználónév</th></tr>",
                            "<tr><td>Kore</td></tr>",
                            "<tr><td>Hoil</td></tr>",
                            "<tr><td>Kara</td></tr>",
                            "<tr><td>Csna</td></tr>",
                            "<tr><td>Nyás</td></tr>",
                            "<tr><td>Orma</td></tr>",
                            "<tr><td>Koga</td></tr>",
                            "<tr><td>Koia</td></tr>",
                            "</table>"
                        ]
                    }
                }
            ],
            "execution_count": 7
        },
        {
            "cell_type": "markdown",
            "source": [
                "12\\. Határozzuk meg a legdrágább és legolcsóbb dvd árát, a dvd-k átlagos árát, a dvd-k árainak összegét és a dvd-k darabszámát egyetlen lekérdezéssel!"
            ],
            "metadata": {
                "azdata_cell_guid": "555da53a-aa29-4737-a8dd-3aeee8672763"
            },
            "attachments": {}
        },
        {
            "cell_type": "code",
            "source": [
                "select MAX(nettoar) as 'max',\r\n",
                "        MIN(nettoar) as 'min',\r\n",
                "        AVG(nettoar) as 'atlag',\r\n",
                "        SUM(nettoar) as 'osszeg',\r\n",
                "        COUNT(*) as 'db'\r\n",
                "from dvd"
            ],
            "metadata": {
                "azdata_cell_guid": "8311b4db-fd3c-45ef-9fa5-07beafba3032",
                "language": "sql"
            },
            "outputs": [
                {
                    "output_type": "display_data",
                    "data": {
                        "text/html": "(1 row affected)"
                    },
                    "metadata": {}
                },
                {
                    "output_type": "display_data",
                    "data": {
                        "text/html": "Total execution time: 00:00:00.016"
                    },
                    "metadata": {}
                },
                {
                    "output_type": "execute_result",
                    "metadata": {},
                    "execution_count": 9,
                    "data": {
                        "application/vnd.dataresource+json": {
                            "schema": {
                                "fields": [
                                    {
                                        "name": "max"
                                    },
                                    {
                                        "name": "min"
                                    },
                                    {
                                        "name": "atlag"
                                    },
                                    {
                                        "name": "osszeg"
                                    },
                                    {
                                        "name": "db"
                                    }
                                ]
                            },
                            "data": [
                                {
                                    "max": "6098",
                                    "min": "3102",
                                    "atlag": "4682,336477987421",
                                    "osszeg": "1488983",
                                    "db": "318"
                                }
                            ]
                        },
                        "text/html": [
                            "<table>",
                            "<tr><th>max</th><th>min</th><th>atlag</th><th>osszeg</th><th>db</th></tr>",
                            "<tr><td>6098</td><td>3102</td><td>4682,336477987421</td><td>1488983</td><td>318</td></tr>",
                            "</table>"
                        ]
                    }
                }
            ],
            "execution_count": 9
        },
        {
            "cell_type": "markdown",
            "source": [
                "13\\. Készítsünk lekérdezést, amely megjeleníti, hogy melyik stílusú dvd-ből hány darab van összesen raktáron!"
            ],
            "metadata": {
                "azdata_cell_guid": "3897bb22-1f97-49a0-b13a-f0efcc769325"
            },
            "attachments": {}
        },
        {
            "cell_type": "code",
            "source": [
                "SELECT stilus as 'Stílus',\r\n",
                "        SUM([raktár készlet]) as 'db'\r\n",
                "from dvd\r\n",
                "GROUP BY stilus"
            ],
            "metadata": {
                "azdata_cell_guid": "e1896326-8c49-47db-b394-97c96690f34f",
                "language": "sql"
            },
            "outputs": [
                {
                    "output_type": "display_data",
                    "data": {
                        "text/html": "(48 rows affected)"
                    },
                    "metadata": {}
                },
                {
                    "output_type": "display_data",
                    "data": {
                        "text/html": "Total execution time: 00:00:00.037"
                    },
                    "metadata": {}
                },
                {
                    "output_type": "execute_result",
                    "metadata": {},
                    "execution_count": 10,
                    "data": {
                        "application/vnd.dataresource+json": {
                            "schema": {
                                "fields": [
                                    {
                                        "name": "Stílus"
                                    },
                                    {
                                        "name": "db"
                                    }
                                ]
                            },
                            "data": [
                                {
                                    "Stílus": "NULL",
                                    "db": "10"
                                },
                                {
                                    "Stílus": "állattan",
                                    "db": "30"
                                },
                                {
                                    "Stílus": "ásványtan",
                                    "db": "10"
                                },
                                {
                                    "Stílus": "betűtípusok",
                                    "db": "10"
                                },
                                {
                                    "Stílus": "biológia",
                                    "db": "50"
                                },
                                {
                                    "Stílus": "csillagászat",
                                    "db": "70"
                                },
                                {
                                    "Stílus": "felvételi",
                                    "db": "60"
                                },
                                {
                                    "Stílus": "festészet",
                                    "db": "20"
                                },
                                {
                                    "Stílus": "filmtörténet",
                                    "db": "20"
                                },
                                {
                                    "Stílus": "fizika",
                                    "db": "30"
                                },
                                {
                                    "Stílus": "fordító program",
                                    "db": "10"
                                },
                                {
                                    "Stílus": "földrajz",
                                    "db": "160"
                                },
                                {
                                    "Stílus": "gasztronómia",
                                    "db": "40"
                                },
                                {
                                    "Stílus": "gépírás",
                                    "db": "10"
                                },
                                {
                                    "Stílus": "hadtudomány",
                                    "db": "10"
                                },
                                {
                                    "Stílus": "humor",
                                    "db": "10"
                                },
                                {
                                    "Stílus": "irodalom",
                                    "db": "160"
                                },
                                {
                                    "Stílus": "irodalom, nyelv",
                                    "db": "10"
                                },
                                {
                                    "Stílus": "ismeretterjesztő",
                                    "db": "460"
                                },
                                {
                                    "Stílus": "ismeretterjesztő + játék",
                                    "db": "10"
                                },
                                {
                                    "Stílus": "játék",
                                    "db": "600"
                                },
                                {
                                    "Stílus": "játék - autós",
                                    "db": "10"
                                },
                                {
                                    "Stílus": "játék (autóverseny)",
                                    "db": "40"
                                },
                                {
                                    "Stílus": "játék (jégkorong)",
                                    "db": "10"
                                },
                                {
                                    "Stílus": "játék (labdarúgás)",
                                    "db": "30"
                                },
                                {
                                    "Stílus": "játék (repülős)",
                                    "db": "10"
                                },
                                {
                                    "Stílus": "játék (rodeó)",
                                    "db": "10"
                                },
                                {
                                    "Stílus": "játék (történelmi)",
                                    "db": "10"
                                },
                                {
                                    "Stílus": "játék, sakk",
                                    "db": "10"
                                },
                                {
                                    "Stílus": "kémia",
                                    "db": "10"
                                },
                                {
                                    "Stílus": "kerttervező",
                                    "db": "10"
                                },
                                {
                                    "Stílus": "környezetvédelem",
                                    "db": "10"
                                },
                                {
                                    "Stílus": "kresz",
                                    "db": "10"
                                },
                                {
                                    "Stílus": "lakástervező",
                                    "db": "10"
                                },
                                {
                                    "Stílus": "matematika",
                                    "db": "90"
                                },
                                {
                                    "Stílus": "matematika, nyelvtan",
                                    "db": "10"
                                },
                                {
                                    "Stílus": "múvészet",
                                    "db": "10"
                                },
                                {
                                    "Stílus": "művészet",
                                    "db": "40"
                                },
                                {
                                    "Stílus": "növénytan",
                                    "db": "10"
                                },
                                {
                                    "Stílus": "nyelvtan",
                                    "db": "30"
                                },
                                {
                                    "Stílus": "nyelvtanító",
                                    "db": "420"
                                },
                                {
                                    "Stílus": "régészet",
                                    "db": "10"
                                },
                                {
                                    "Stílus": "sport",
                                    "db": "10"
                                },
                                {
                                    "Stílus": "számítástechnika",
                                    "db": "30"
                                },
                                {
                                    "Stílus": "színház",
                                    "db": "10"
                                },
                                {
                                    "Stílus": "szótár",
                                    "db": "70"
                                },
                                {
                                    "Stílus": "történelem",
                                    "db": "408"
                                },
                                {
                                    "Stílus": "zene",
                                    "db": "60"
                                }
                            ]
                        },
                        "text/html": [
                            "<table>",
                            "<tr><th>Stílus</th><th>db</th></tr>",
                            "<tr><td>NULL</td><td>10</td></tr>",
                            "<tr><td>állattan</td><td>30</td></tr>",
                            "<tr><td>ásványtan</td><td>10</td></tr>",
                            "<tr><td>betűtípusok</td><td>10</td></tr>",
                            "<tr><td>biológia</td><td>50</td></tr>",
                            "<tr><td>csillagászat</td><td>70</td></tr>",
                            "<tr><td>felvételi</td><td>60</td></tr>",
                            "<tr><td>festészet</td><td>20</td></tr>",
                            "<tr><td>filmtörténet</td><td>20</td></tr>",
                            "<tr><td>fizika</td><td>30</td></tr>",
                            "<tr><td>fordító program</td><td>10</td></tr>",
                            "<tr><td>földrajz</td><td>160</td></tr>",
                            "<tr><td>gasztronómia</td><td>40</td></tr>",
                            "<tr><td>gépírás</td><td>10</td></tr>",
                            "<tr><td>hadtudomány</td><td>10</td></tr>",
                            "<tr><td>humor</td><td>10</td></tr>",
                            "<tr><td>irodalom</td><td>160</td></tr>",
                            "<tr><td>irodalom, nyelv</td><td>10</td></tr>",
                            "<tr><td>ismeretterjesztő</td><td>460</td></tr>",
                            "<tr><td>ismeretterjesztő + játék</td><td>10</td></tr>",
                            "<tr><td>játék</td><td>600</td></tr>",
                            "<tr><td>játék - autós</td><td>10</td></tr>",
                            "<tr><td>játék (autóverseny)</td><td>40</td></tr>",
                            "<tr><td>játék (jégkorong)</td><td>10</td></tr>",
                            "<tr><td>játék (labdarúgás)</td><td>30</td></tr>",
                            "<tr><td>játék (repülős)</td><td>10</td></tr>",
                            "<tr><td>játék (rodeó)</td><td>10</td></tr>",
                            "<tr><td>játék (történelmi)</td><td>10</td></tr>",
                            "<tr><td>játék, sakk</td><td>10</td></tr>",
                            "<tr><td>kémia</td><td>10</td></tr>",
                            "<tr><td>kerttervező</td><td>10</td></tr>",
                            "<tr><td>környezetvédelem</td><td>10</td></tr>",
                            "<tr><td>kresz</td><td>10</td></tr>",
                            "<tr><td>lakástervező</td><td>10</td></tr>",
                            "<tr><td>matematika</td><td>90</td></tr>",
                            "<tr><td>matematika, nyelvtan</td><td>10</td></tr>",
                            "<tr><td>múvészet</td><td>10</td></tr>",
                            "<tr><td>művészet</td><td>40</td></tr>",
                            "<tr><td>növénytan</td><td>10</td></tr>",
                            "<tr><td>nyelvtan</td><td>30</td></tr>",
                            "<tr><td>nyelvtanító</td><td>420</td></tr>",
                            "<tr><td>régészet</td><td>10</td></tr>",
                            "<tr><td>sport</td><td>10</td></tr>",
                            "<tr><td>számítástechnika</td><td>30</td></tr>",
                            "<tr><td>színház</td><td>10</td></tr>",
                            "<tr><td>szótár</td><td>70</td></tr>",
                            "<tr><td>történelem</td><td>408</td></tr>",
                            "<tr><td>zene</td><td>60</td></tr>",
                            "</table>"
                        ]
                    }
                }
            ],
            "execution_count": 10
        },
        {
            "cell_type": "markdown",
            "source": [
                "14.  Készítsünk lekérdezést, amely megjeleníti, hogy melyik stílusú dvd-ből hány darab van összesen raktáron! A listában csak azok a stílusok szerepeljenek, ahol ez az összeg 20 felett van! Az 5000 Ft alatti dvd-ket hagyjuk ki a listából!"
            ],
            "metadata": {
                "azdata_cell_guid": "abbc40ce-8f64-4865-9d7d-cdc764f30f9f"
            },
            "attachments": {}
        },
        {
            "cell_type": "code",
            "source": [
                "SELECT stilus as 'Stílus',\r\n",
                "        SUM([raktár készlet]) as 'db'\r\n",
                "from dvd\r\n",
                "where nettoar>=5000\r\n",
                "GROUP BY stilus\r\n",
                "HAVING SUM([raktár készlet])>20\r\n",
                ""
            ],
            "metadata": {
                "azdata_cell_guid": "b782c87c-c9c4-493a-843d-cd8c312a2f9e",
                "language": "sql"
            },
            "outputs": [
                {
                    "output_type": "display_data",
                    "data": {
                        "text/html": "(11 rows affected)"
                    },
                    "metadata": {}
                },
                {
                    "output_type": "display_data",
                    "data": {
                        "text/html": "Total execution time: 00:00:00.017"
                    },
                    "metadata": {}
                },
                {
                    "output_type": "execute_result",
                    "metadata": {},
                    "execution_count": 13,
                    "data": {
                        "application/vnd.dataresource+json": {
                            "schema": {
                                "fields": [
                                    {
                                        "name": "Stílus"
                                    },
                                    {
                                        "name": "db"
                                    }
                                ]
                            },
                            "data": [
                                {
                                    "Stílus": "csillagászat",
                                    "db": "30"
                                },
                                {
                                    "Stílus": "felvételi",
                                    "db": "30"
                                },
                                {
                                    "Stílus": "földrajz",
                                    "db": "70"
                                },
                                {
                                    "Stílus": "irodalom",
                                    "db": "40"
                                },
                                {
                                    "Stílus": "ismeretterjesztő",
                                    "db": "200"
                                },
                                {
                                    "Stílus": "játék",
                                    "db": "290"
                                },
                                {
                                    "Stílus": "matematika",
                                    "db": "30"
                                },
                                {
                                    "Stílus": "nyelvtanító",
                                    "db": "160"
                                },
                                {
                                    "Stílus": "szótár",
                                    "db": "30"
                                },
                                {
                                    "Stílus": "történelem",
                                    "db": "158"
                                },
                                {
                                    "Stílus": "zene",
                                    "db": "30"
                                }
                            ]
                        },
                        "text/html": [
                            "<table>",
                            "<tr><th>Stílus</th><th>db</th></tr>",
                            "<tr><td>csillagászat</td><td>30</td></tr>",
                            "<tr><td>felvételi</td><td>30</td></tr>",
                            "<tr><td>földrajz</td><td>70</td></tr>",
                            "<tr><td>irodalom</td><td>40</td></tr>",
                            "<tr><td>ismeretterjesztő</td><td>200</td></tr>",
                            "<tr><td>játék</td><td>290</td></tr>",
                            "<tr><td>matematika</td><td>30</td></tr>",
                            "<tr><td>nyelvtanító</td><td>160</td></tr>",
                            "<tr><td>szótár</td><td>30</td></tr>",
                            "<tr><td>történelem</td><td>158</td></tr>",
                            "<tr><td>zene</td><td>30</td></tr>",
                            "</table>"
                        ]
                    }
                }
            ],
            "execution_count": 13
        },
        {
            "cell_type": "markdown",
            "source": [
                "15.  Rendezzük a dvd tábla sorait stílus szerint növekvő, azon belül nettó ár szerint csökkenő sorrendbe!"
            ],
            "metadata": {
                "azdata_cell_guid": "a8eeed13-1d91-4b52-97ab-1235c17be61e"
            },
            "attachments": {}
        },
        {
            "cell_type": "code",
            "source": [
                "SELECT *\r\n",
                "FROM dvd\r\n",
                "ORDER BY stilus ASC, nettoar DESC"
            ],
            "metadata": {
                "azdata_cell_guid": "27e3afcc-f2bd-44dc-bfa4-f2a736ec2bf6",
                "language": "sql"
            },
            "outputs": [
                {
                    "output_type": "display_data",
                    "data": {
                        "text/html": "(318 rows affected)"
                    },
                    "metadata": {}
                },
                {
                    "output_type": "display_data",
                    "data": {
                        "text/html": "Total execution time: 00:00:00.173"
                    },
                    "metadata": {}
                },
                {
                    "output_type": "execute_result",
                    "metadata": {},
                    "execution_count": 15,
                    "data": {
                        "application/vnd.dataresource+json": {
                            "schema": {
                                "fields": [
                                    {
                                        "name": "ID"
                                    },
                                    {
                                        "name": "cim"
                                    },
                                    {
                                        "name": "stilus"
                                    },
                                    {
                                        "name": "szam"
                                    },
                                    {
                                        "name": "nettoar"
                                    },
                                    {
                                        "name": "lang"
                                    },
                                    {
                                        "name": "raktár készlet"
                                    }
                                ]
                            },
                            "data": [
                                {
                                    "ID": "68",
                                    "cim": "English by Stealth  lásd: Lopva angolul",
                                    "stilus": "NULL",
                                    "szam": "NULL",
                                    "nettoar": "4478",
                                    "lang": "NULL",
                                    "raktár készlet": "10"
                                },
                                {
                                    "ID": "154",
                                    "cim": "Kutyatár",
                                    "stilus": "állattan",
                                    "szam": "2963",
                                    "nettoar": "5235",
                                    "lang": "1",
                                    "raktár készlet": "10"
                                },
                                {
                                    "ID": "153",
                                    "cim": "A kutyák: A család kedvencei",
                                    "stilus": "állattan",
                                    "szam": "7060",
                                    "nettoar": "4963",
                                    "lang": "1",
                                    "raktár készlet": "10"
                                },
                                {
                                    "ID": "103",
                                    "cim": "Halak, kétéltűek, hüllők",
                                    "stilus": "állattan",
                                    "szam": "3024",
                                    "nettoar": "4153",
                                    "lang": "1",
                                    "raktár készlet": "10"
                                },
                                {
                                    "ID": "24",
                                    "cim": "Az ásványok világa",
                                    "stilus": "ásványtan",
                                    "szam": "8473",
                                    "nettoar": "5624",
                                    "lang": "1",
                                    "raktár készlet": "10"
                                },
                                {
                                    "ID": "176",
                                    "cim": "Magyar fontok '97",
                                    "stilus": "betűtípusok",
                                    "szam": "3729",
                                    "nettoar": "3845",
                                    "lang": "1",
                                    "raktár készlet": "10"
                                },
                                {
                                    "ID": "29",
                                    "cim": "Biológia '97",
                                    "stilus": "biológia",
                                    "szam": "1161",
                                    "nettoar": "5543",
                                    "lang": "1",
                                    "raktár készlet": "10"
                                },
                                {
                                    "ID": "306",
                                    "cim": "A varázslatos emberi test (1998)",
                                    "stilus": "biológia",
                                    "szam": "7918",
                                    "nettoar": "4863",
                                    "lang": "1",
                                    "raktár készlet": "10"
                                },
                                {
                                    "ID": "30",
                                    "cim": "Biológia (2000)",
                                    "stilus": "biológia",
                                    "szam": "8982",
                                    "nettoar": "3819",
                                    "lang": "1",
                                    "raktár készlet": "10"
                                },
                                {
                                    "ID": "31",
                                    "cim": "Biológia (2001)",
                                    "stilus": "biológia",
                                    "szam": "10318",
                                    "nettoar": "3792",
                                    "lang": "1",
                                    "raktár készlet": "10"
                                },
                                {
                                    "ID": "32",
                                    "cim": "Biológia : 12-14 éveseknek (2003)",
                                    "stilus": "biológia",
                                    "szam": "14665",
                                    "nettoar": "3482",
                                    "lang": "1",
                                    "raktár készlet": "10"
                                },
                                {
                                    "ID": "301",
                                    "cim": "Utazás a Naprendszerben 2.",
                                    "stilus": "csillagászat",
                                    "szam": "8162",
                                    "nettoar": "5992",
                                    "lang": "1",
                                    "raktár készlet": "10"
                                },
                                {
                                    "ID": "223",
                                    "cim": "NASA 1.",
                                    "stilus": "csillagászat",
                                    "szam": "3824",
                                    "nettoar": "5968",
                                    "lang": "1",
                                    "raktár készlet": "10"
                                },
                                {
                                    "ID": "299",
                                    "cim": "Utazás a csillagok között (1998)",
                                    "stilus": "csillagászat",
                                    "szam": "3647",
                                    "nettoar": "5705",
                                    "lang": "1",
                                    "raktár készlet": "10"
                                },
                                {
                                    "ID": "224",
                                    "cim": "NASA 2.",
                                    "stilus": "csillagászat",
                                    "szam": "3825",
                                    "nettoar": "4147",
                                    "lang": "1",
                                    "raktár készlet": "10"
                                },
                                {
                                    "ID": "46",
                                    "cim": "Csodálatos univerzum (1997)",
                                    "stilus": "csillagászat",
                                    "szam": "2128",
                                    "nettoar": "4087",
                                    "lang": "1",
                                    "raktár készlet": "10"
                                },
                                {
                                    "ID": "298",
                                    "cim": "Az Univerzum története",
                                    "stilus": "csillagászat",
                                    "szam": "7591",
                                    "nettoar": "3654",
                                    "lang": "1",
                                    "raktár készlet": "10"
                                },
                                {
                                    "ID": "300",
                                    "cim": "Utazás a Naprendszerben",
                                    "stilus": "csillagászat",
                                    "szam": "1071",
                                    "nettoar": "3582",
                                    "lang": "1",
                                    "raktár készlet": "10"
                                },
                                {
                                    "ID": "78",
                                    "cim": "Felvételi példatár : Magyar nyelv és irodalom",
                                    "stilus": "felvételi",
                                    "szam": "11845",
                                    "nettoar": "5955",
                                    "lang": "1",
                                    "raktár készlet": "10"
                                },
                                {
                                    "ID": "77",
                                    "cim": "Felvételi példatár : Kémia, fizika",
                                    "stilus": "felvételi",
                                    "szam": "11826",
                                    "nettoar": "5851",
                                    "lang": "1",
                                    "raktár készlet": "10"
                                },
                                {
                                    "ID": "79",
                                    "cim": "Felvételi példatár : Matematika",
                                    "stilus": "felvételi",
                                    "szam": "11867",
                                    "nettoar": "5009",
                                    "lang": "1",
                                    "raktár készlet": "10"
                                },
                                {
                                    "ID": "75",
                                    "cim": "Felvételi példatár : Angol",
                                    "stilus": "felvételi",
                                    "szam": "11772",
                                    "nettoar": "3876",
                                    "lang": "2",
                                    "raktár készlet": "10"
                                },
                                {
                                    "ID": "76",
                                    "cim": "Felvételi példatár : Biológia, földrajz",
                                    "stilus": "felvételi",
                                    "szam": "11794",
                                    "nettoar": "3215",
                                    "lang": "1",
                                    "raktár készlet": "10"
                                },
                                {
                                    "ID": "80",
                                    "cim": "Felvételi példatár : Német",
                                    "stilus": "felvételi",
                                    "szam": "11894",
                                    "nettoar": "3102",
                                    "lang": "3",
                                    "raktár készlet": "10"
                                },
                                {
                                    "ID": "140",
                                    "cim": "Képtárak (1995)",
                                    "stilus": "festészet",
                                    "szam": "580",
                                    "nettoar": "5408",
                                    "lang": "1",
                                    "raktár készlet": "10"
                                },
                                {
                                    "ID": "121",
                                    "cim": "Investigating 20th Century Art (1994)",
                                    "stilus": "festészet",
                                    "szam": "444",
                                    "nettoar": "4394",
                                    "lang": "2",
                                    "raktár készlet": "10"
                                },
                                {
                                    "ID": "129",
                                    "cim": "Jancsó",
                                    "stilus": "filmtörténet",
                                    "szam": "8310",
                                    "nettoar": "4204",
                                    "lang": "1",
                                    "raktár készlet": "10"
                                },
                                {
                                    "ID": "131",
                                    "cim": "Játékfilmek 1963-tól napjainkig",
                                    "stilus": "filmtörténet",
                                    "szam": "7625",
                                    "nettoar": "3138",
                                    "lang": "1",
                                    "raktár készlet": "10"
                                },
                                {
                                    "ID": "87",
                                    "cim": "Fizika világa (2001)",
                                    "stilus": "fizika",
                                    "szam": "13778",
                                    "nettoar": "5763",
                                    "lang": "1",
                                    "raktár készlet": "10"
                                },
                                {
                                    "ID": "86",
                                    "cim": "Fizika felkészítő az érettségi és felvételi vizsgára",
                                    "stilus": "fizika",
                                    "szam": "2328",
                                    "nettoar": "4810",
                                    "lang": "1",
                                    "raktár készlet": "10"
                                },
                                {
                                    "ID": "85",
                                    "cim": "Fizika : 12-14 éveseknek (2002)",
                                    "stilus": "fizika",
                                    "szam": "13465",
                                    "nettoar": "3734",
                                    "lang": "1",
                                    "raktár készlet": "10"
                                },
                                {
                                    "ID": "211",
                                    "cim": "MoBi Mouse: A fordító egér",
                                    "stilus": "fordító program",
                                    "szam": "8135",
                                    "nettoar": "5036",
                                    "lang": "8",
                                    "raktár készlet": "10"
                                },
                                {
                                    "ID": "319",
                                    "cim": "Zöld Ödön a földgömbön",
                                    "stilus": "földrajz",
                                    "szam": "9869",
                                    "nettoar": "6065",
                                    "lang": "1",
                                    "raktár készlet": "10"
                                },
                                {
                                    "ID": "234",
                                    "cim": "Az óceán világa - Maldiv szigetek (2000)",
                                    "stilus": "földrajz",
                                    "szam": "10212",
                                    "nettoar": "5833",
                                    "lang": "1",
                                    "raktár készlet": "10"
                                },
                                {
                                    "ID": "311",
                                    "cim": "Világatlasz '99 (1998)",
                                    "stilus": "földrajz",
                                    "szam": "4313",
                                    "nettoar": "5399",
                                    "lang": "1",
                                    "raktár készlet": "10"
                                },
                                {
                                    "ID": "25",
                                    "cim": "Ausztrália",
                                    "stilus": "földrajz",
                                    "szam": "9554",
                                    "nettoar": "5326",
                                    "lang": "1",
                                    "raktár készlet": "10"
                                },
                                {
                                    "ID": "8",
                                    "cim": "Afrika",
                                    "stilus": "földrajz",
                                    "szam": "4248",
                                    "nettoar": "5318",
                                    "lang": "1",
                                    "raktár készlet": "10"
                                },
                                {
                                    "ID": "73",
                                    "cim": "Európa",
                                    "stilus": "földrajz",
                                    "szam": "7825",
                                    "nettoar": "5270",
                                    "lang": "1",
                                    "raktár készlet": "10"
                                },
                                {
                                    "ID": "312",
                                    "cim": "Világatlasz '99 (1998)",
                                    "stilus": "földrajz",
                                    "szam": "4314",
                                    "nettoar": "5202",
                                    "lang": "1",
                                    "raktár készlet": "10"
                                },
                                {
                                    "ID": "69",
                                    "cim": "Erdély (1996)",
                                    "stilus": "földrajz",
                                    "szam": "2768",
                                    "nettoar": "4999",
                                    "lang": "1",
                                    "raktár készlet": "10"
                                },
                                {
                                    "ID": "194",
                                    "cim": "Manó Magyarország (2002)",
                                    "stilus": "földrajz",
                                    "szam": "13935",
                                    "nettoar": "4150",
                                    "lang": "1",
                                    "raktár készlet": "10"
                                },
                                {
                                    "ID": "35",
                                    "cim": "Budapest kalauz",
                                    "stilus": "földrajz",
                                    "szam": "7759",
                                    "nettoar": "4054",
                                    "lang": "1",
                                    "raktár készlet": "10"
                                },
                                {
                                    "ID": "47",
                                    "cim": "Dél-Amerika (1999)",
                                    "stilus": "földrajz",
                                    "szam": "7049",
                                    "nettoar": "3999",
                                    "lang": "1",
                                    "raktár készlet": "10"
                                },
                                {
                                    "ID": "72",
                                    "cim": "Észak-Amerika",
                                    "stilus": "földrajz",
                                    "szam": "6470",
                                    "nettoar": "3994",
                                    "lang": "1",
                                    "raktár készlet": "10"
                                },
                                {
                                    "ID": "89",
                                    "cim": "Földrajz: 10-14 éveseknek (2002)",
                                    "stilus": "földrajz",
                                    "szam": "13484",
                                    "nettoar": "3930",
                                    "lang": "1",
                                    "raktár készlet": "10"
                                },
                                {
                                    "ID": "313",
                                    "cim": "Világatlasz (2001)",
                                    "stilus": "földrajz",
                                    "szam": "13372",
                                    "nettoar": "3446",
                                    "lang": "1",
                                    "raktár készlet": "10"
                                },
                                {
                                    "ID": "90",
                                    "cim": "Földrajz: érettségi előkészítő (2002)",
                                    "stilus": "földrajz",
                                    "szam": "13707",
                                    "nettoar": "3173",
                                    "lang": "1",
                                    "raktár készlet": "10"
                                },
                                {
                                    "ID": "27",
                                    "cim": "Ázsia (2000)",
                                    "stilus": "földrajz",
                                    "szam": "8974",
                                    "nettoar": "3123",
                                    "lang": "1",
                                    "raktár készlet": "10"
                                },
                                {
                                    "ID": "19",
                                    "cim": "Az áramvonalas fakanál",
                                    "stilus": "gasztronómia",
                                    "szam": "8500",
                                    "nettoar": "5706",
                                    "lang": "1",
                                    "raktár készlet": "10"
                                },
                                {
                                    "ID": "282",
                                    "cim": "Thaiföldi ízek (1999)",
                                    "stilus": "gasztronómia",
                                    "szam": "8745",
                                    "nettoar": "5250",
                                    "lang": "1",
                                    "raktár készlet": "10"
                                },
                                {
                                    "ID": "144",
                                    "cim": "Kínai falatok",
                                    "stilus": "gasztronómia",
                                    "szam": "7932",
                                    "nettoar": "4550",
                                    "lang": "1",
                                    "raktár készlet": "10"
                                },
                                {
                                    "ID": "59",
                                    "cim": "Éléstár (1998)",
                                    "stilus": "gasztronómia",
                                    "szam": "3014",
                                    "nettoar": "3258",
                                    "lang": "1",
                                    "raktár készlet": "10"
                                },
                                {
                                    "ID": "97",
                                    "cim": "Gépírás 2000",
                                    "stilus": "gépírás",
                                    "szam": "9803",
                                    "nettoar": "3936",
                                    "lang": "1",
                                    "raktár készlet": "10"
                                },
                                {
                                    "ID": "101",
                                    "cim": "Hadtudományi lexikon (1998)",
                                    "stilus": "hadtudomány",
                                    "szam": "4742",
                                    "nettoar": "3515",
                                    "lang": "1",
                                    "raktár készlet": "10"
                                },
                                {
                                    "ID": "221",
                                    "cim": "Nagy vicc tár",
                                    "stilus": "humor",
                                    "szam": "3862",
                                    "nettoar": "5573",
                                    "lang": "1",
                                    "raktár készlet": "10"
                                },
                                {
                                    "ID": "124",
                                    "cim": "Irodalom  felkészítő az érettségi és felvételi vizsgára",
                                    "stilus": "irodalom",
                                    "szam": "2414",
                                    "nettoar": "5654",
                                    "lang": "1",
                                    "raktár készlet": "10"
                                },
                                {
                                    "ID": "125",
                                    "cim": "Irodalom (1998)",
                                    "stilus": "irodalom",
                                    "szam": "3904",
                                    "nettoar": "5625",
                                    "lang": "1",
                                    "raktár készlet": "10"
                                },
                                {
                                    "ID": "152",
                                    "cim": "A kőszívű ember fiai - Egri csillagok",
                                    "stilus": "irodalom",
                                    "szam": "6693",
                                    "nettoar": "5538",
                                    "lang": "1",
                                    "raktár készlet": "10"
                                },
                                {
                                    "ID": "247",
                                    "cim": "Petőfi Sándor: Arany Lacinak (2002)",
                                    "stilus": "irodalom",
                                    "szam": "13435",
                                    "nettoar": "5488",
                                    "lang": "1",
                                    "raktár készlet": "10"
                                },
                                {
                                    "ID": "209",
                                    "cim": "Mikszáth Kálmán összes művei",
                                    "stilus": "irodalom",
                                    "szam": "4981",
                                    "nettoar": "4786",
                                    "lang": "1",
                                    "raktár készlet": "10"
                                },
                                {
                                    "ID": "133",
                                    "cim": "Jókai összes művei (2001)",
                                    "stilus": "irodalom",
                                    "szam": "12119",
                                    "nettoar": "4768",
                                    "lang": "1",
                                    "raktár készlet": "10"
                                },
                                {
                                    "ID": "228",
                                    "cim": "Németh László összes műve",
                                    "stilus": "irodalom",
                                    "szam": "11682",
                                    "nettoar": "4497",
                                    "lang": "1",
                                    "raktár készlet": "10"
                                },
                                {
                                    "ID": "317",
                                    "cim": "William Shakespeare összes művei",
                                    "stilus": "irodalom",
                                    "szam": "7915",
                                    "nettoar": "4437",
                                    "lang": "1",
                                    "raktár készlet": "10"
                                },
                                {
                                    "ID": "62",
                                    "cim": "Az ember tragédiája",
                                    "stilus": "irodalom",
                                    "szam": "7107",
                                    "nettoar": "4295",
                                    "lang": "1",
                                    "raktár készlet": "10"
                                },
                                {
                                    "ID": "7",
                                    "cim": "Ady Endre összes művei (1999)",
                                    "stilus": "irodalom",
                                    "szam": "6334",
                                    "nettoar": "4241",
                                    "lang": "1",
                                    "raktár készlet": "10"
                                },
                                {
                                    "ID": "134",
                                    "cim": "József Attila (1998)",
                                    "stilus": "irodalom",
                                    "szam": "3036",
                                    "nettoar": "3870",
                                    "lang": "1",
                                    "raktár készlet": "10"
                                },
                                {
                                    "ID": "123",
                                    "cim": "Irodalmi arcképcsarnok",
                                    "stilus": "irodalom",
                                    "szam": "9171",
                                    "nettoar": "3866",
                                    "lang": "1",
                                    "raktár készlet": "10"
                                },
                                {
                                    "ID": "248",
                                    "cim": "Petőfi Sándor összes költeményei",
                                    "stilus": "irodalom",
                                    "szam": "8543",
                                    "nettoar": "3782",
                                    "lang": "1",
                                    "raktár készlet": "10"
                                },
                                {
                                    "ID": "314",
                                    "cim": "Világirodalom : Az ókortól napjainkig (2001)",
                                    "stilus": "irodalom",
                                    "szam": "10340",
                                    "nettoar": "3595",
                                    "lang": "1",
                                    "raktár készlet": "10"
                                },
                                {
                                    "ID": "151",
                                    "cim": "Kötelező olvasmányok könyvtára 1. (2002)",
                                    "stilus": "irodalom",
                                    "szam": "13746",
                                    "nettoar": "3594",
                                    "lang": "1",
                                    "raktár készlet": "10"
                                },
                                {
                                    "ID": "20",
                                    "cim": "Arany János: A bajusz (2002)",
                                    "stilus": "irodalom",
                                    "szam": "13424",
                                    "nettoar": "3391",
                                    "lang": "1",
                                    "raktár készlet": "10"
                                },
                                {
                                    "ID": "178",
                                    "cim": "Magyar nyelv és irodalom",
                                    "stilus": "irodalom, nyelv",
                                    "szam": "9199",
                                    "nettoar": "4704",
                                    "lang": "1",
                                    "raktár készlet": "10"
                                },
                                {
                                    "ID": "135",
                                    "cim": "A jövő titkai - Interaktív horoszkóp (1998)",
                                    "stilus": "ismeretterjesztő",
                                    "szam": "8990",
                                    "nettoar": "6072",
                                    "lang": "1",
                                    "raktár készlet": "10"
                                },
                                {
                                    "ID": "215",
                                    "cim": "Multimédiás Menedzsment Könyvtár 1. - Változásmenedzsment",
                                    "stilus": "ismeretterjesztő",
                                    "szam": "8726",
                                    "nettoar": "6057",
                                    "lang": "1",
                                    "raktár készlet": "10"
                                },
                                {
                                    "ID": "297",
                                    "cim": "Új Könyvek 1994-2000 (2002)",
                                    "stilus": "ismeretterjesztő",
                                    "szam": "14186",
                                    "nettoar": "6024",
                                    "lang": "1",
                                    "raktár készlet": "10"
                                },
                                {
                                    "ID": "193",
                                    "cim": "Manó Kaland (2002)",
                                    "stilus": "ismeretterjesztő",
                                    "szam": "13875",
                                    "nettoar": "5967",
                                    "lang": "1",
                                    "raktár készlet": "10"
                                },
                                {
                                    "ID": "257",
                                    "cim": "Shanghai (1997)",
                                    "stilus": "ismeretterjesztő",
                                    "szam": "3924",
                                    "nettoar": "5900",
                                    "lang": "2",
                                    "raktár készlet": "10"
                                },
                                {
                                    "ID": "88",
                                    "cim": "A Föld élővilága",
                                    "stilus": "ismeretterjesztő",
                                    "szam": "11081",
                                    "nettoar": "5900",
                                    "lang": "1",
                                    "raktár készlet": "10"
                                },
                                {
                                    "ID": "156",
                                    "cim": "Lakáskultúra 2000 (2000)",
                                    "stilus": "ismeretterjesztő",
                                    "szam": "9791",
                                    "nettoar": "5847",
                                    "lang": "1",
                                    "raktár készlet": "10"
                                },
                                {
                                    "ID": "23",
                                    "cim": "Art puzzle (1998)",
                                    "stilus": "ismeretterjesztő",
                                    "szam": "2951",
                                    "nettoar": "5786",
                                    "lang": "2",
                                    "raktár készlet": "10"
                                },
                                {
                                    "ID": "146",
                                    "cim": "Királyi könyvek 18-26. kötet",
                                    "stilus": "ismeretterjesztő",
                                    "szam": "11759",
                                    "nettoar": "5507",
                                    "lang": "1",
                                    "raktár készlet": "10"
                                },
                                {
                                    "ID": "158",
                                    "cim": "Lakáskultúra 1998 (1998)",
                                    "stilus": "ismeretterjesztő",
                                    "szam": "9789",
                                    "nettoar": "5491",
                                    "lang": "1",
                                    "raktár készlet": "10"
                                },
                                {
                                    "ID": "147",
                                    "cim": "Királyi könyvek 27-38. kötet : 1703-1740 (2002)",
                                    "stilus": "ismeretterjesztő",
                                    "szam": "14003",
                                    "nettoar": "5476",
                                    "lang": "1",
                                    "raktár készlet": "10"
                                },
                                {
                                    "ID": "294",
                                    "cim": "A tudás próbája (2001)",
                                    "stilus": "ismeretterjesztő",
                                    "szam": "14230",
                                    "nettoar": "5461",
                                    "lang": "1",
                                    "raktár készlet": "10"
                                },
                                {
                                    "ID": "43",
                                    "cim": "CD Panoráma 1-4. (1998)",
                                    "stilus": "ismeretterjesztő",
                                    "szam": "4294-4374-75-76",
                                    "nettoar": "5422",
                                    "lang": "1",
                                    "raktár készlet": "10"
                                },
                                {
                                    "ID": "157",
                                    "cim": "Lakáskultúra 1999 (1999)",
                                    "stilus": "ismeretterjesztő",
                                    "szam": "9790",
                                    "nettoar": "5414",
                                    "lang": "1",
                                    "raktár készlet": "10"
                                },
                                {
                                    "ID": "192",
                                    "cim": "Manó IQ (2001)",
                                    "stilus": "ismeretterjesztő",
                                    "szam": "10842",
                                    "nettoar": "5383",
                                    "lang": "1",
                                    "raktár készlet": "10"
                                },
                                {
                                    "ID": "279",
                                    "cim": "Testbeszéd (1998)",
                                    "stilus": "ismeretterjesztő",
                                    "szam": "4712",
                                    "nettoar": "5382",
                                    "lang": "1",
                                    "raktár készlet": "10"
                                },
                                {
                                    "ID": "98",
                                    "cim": "Gondolattár: aforizmák, szállóigék",
                                    "stilus": "ismeretterjesztő",
                                    "szam": "9160",
                                    "nettoar": "5346",
                                    "lang": "1",
                                    "raktár készlet": "10"
                                },
                                {
                                    "ID": "63",
                                    "cim": "Encarta World Atlas '99 1-2. (1998)",
                                    "stilus": "ismeretterjesztő",
                                    "szam": "4786-4787",
                                    "nettoar": "5334",
                                    "lang": "2",
                                    "raktár készlet": "10"
                                },
                                {
                                    "ID": "295",
                                    "cim": "Turul : 1883-1900 (2002)",
                                    "stilus": "ismeretterjesztő",
                                    "szam": "13953",
                                    "nettoar": "5238",
                                    "lang": "1",
                                    "raktár készlet": "10"
                                },
                                {
                                    "ID": "163",
                                    "cim": "Legféltettebb természeti értékeink",
                                    "stilus": "ismeretterjesztő",
                                    "szam": "8821",
                                    "nettoar": "5083",
                                    "lang": "1",
                                    "raktár készlet": "10"
                                },
                                {
                                    "ID": "303",
                                    "cim": "Üzleti protokoll CD (2002)",
                                    "stilus": "ismeretterjesztő",
                                    "szam": "13872",
                                    "nettoar": "4891",
                                    "lang": "1",
                                    "raktár készlet": "10"
                                },
                                {
                                    "ID": "191",
                                    "cim": "Manó Élővilág (2002)",
                                    "stilus": "ismeretterjesztő",
                                    "szam": "13877",
                                    "nettoar": "4881",
                                    "lang": "1",
                                    "raktár készlet": "10"
                                },
                                {
                                    "ID": "278",
                                    "cim": "Terrorizmus (2002)",
                                    "stilus": "ismeretterjesztő",
                                    "szam": "14862",
                                    "nettoar": "4877",
                                    "lang": "1",
                                    "raktár készlet": "10"
                                },
                                {
                                    "ID": "210",
                                    "cim": "Mini Manó Tavasz",
                                    "stilus": "ismeretterjesztő",
                                    "szam": "11149",
                                    "nettoar": "4727",
                                    "lang": "1",
                                    "raktár készlet": "10"
                                },
                                {
                                    "ID": "96",
                                    "cim": "Geolexikon 4.2 : földtani adatbázis (2002)",
                                    "stilus": "ismeretterjesztő",
                                    "szam": "13232",
                                    "nettoar": "4602",
                                    "lang": "1",
                                    "raktár készlet": "10"
                                },
                                {
                                    "ID": "149",
                                    "cim": "Kossuth Lajos összes munkái (2002)",
                                    "stilus": "ismeretterjesztő",
                                    "szam": "14760",
                                    "nettoar": "4589",
                                    "lang": "1",
                                    "raktár készlet": "10"
                                },
                                {
                                    "ID": "275",
                                    "cim": "Táplálkozás, életmód mesterfokon (2002)",
                                    "stilus": "ismeretterjesztő",
                                    "szam": "14921",
                                    "nettoar": "4480",
                                    "lang": "1",
                                    "raktár készlet": "10"
                                },
                                {
                                    "ID": "26",
                                    "cim": "Auto 2000 - Kerékvilág",
                                    "stilus": "ismeretterjesztő",
                                    "szam": "7873",
                                    "nettoar": "4463",
                                    "lang": "1",
                                    "raktár készlet": "10"
                                },
                                {
                                    "ID": "130",
                                    "cim": "Japán : képes kulturális atlasz (2001)",
                                    "stilus": "ismeretterjesztő",
                                    "szam": "12810",
                                    "nettoar": "4459",
                                    "lang": "1",
                                    "raktár készlet": "10"
                                },
                                {
                                    "ID": "28",
                                    "cim": "Biblia (1995)",
                                    "stilus": "ismeretterjesztő",
                                    "szam": "805",
                                    "nettoar": "4440",
                                    "lang": "1",
                                    "raktár készlet": "10"
                                },
                                {
                                    "ID": "213",
                                    "cim": "Mons Sacer Pannoniae (2001)",
                                    "stilus": "ismeretterjesztő",
                                    "szam": "13896",
                                    "nettoar": "4410",
                                    "lang": "1",
                                    "raktár készlet": "10"
                                },
                                {
                                    "ID": "274",
                                    "cim": "Tanulj tovább! 2000 (2000)",
                                    "stilus": "ismeretterjesztő",
                                    "szam": "8986",
                                    "nettoar": "4310",
                                    "lang": "1",
                                    "raktár készlet": "10"
                                },
                                {
                                    "ID": "160",
                                    "cim": "Lakáskultúra 1996 (1996)",
                                    "stilus": "ismeretterjesztő",
                                    "szam": "9787",
                                    "nettoar": "4209",
                                    "lang": "1",
                                    "raktár készlet": "10"
                                },
                                {
                                    "ID": "175",
                                    "cim": "Magyar bélyegek katalógusa",
                                    "stilus": "ismeretterjesztő",
                                    "szam": "8854",
                                    "nettoar": "4035",
                                    "lang": "1",
                                    "raktár készlet": "10"
                                },
                                {
                                    "ID": "102",
                                    "cim": "Hajdúböszörmény",
                                    "stilus": "ismeretterjesztő",
                                    "szam": "12844",
                                    "nettoar": "3781",
                                    "lang": "1",
                                    "raktár készlet": "10"
                                },
                                {
                                    "ID": "113",
                                    "cim": "Informatika - Internet - Iskola",
                                    "stilus": "ismeretterjesztő",
                                    "szam": "2007",
                                    "nettoar": "3733",
                                    "lang": "1",
                                    "raktár készlet": "10"
                                },
                                {
                                    "ID": "229",
                                    "cim": "New York : a tragédiák városa (2001)",
                                    "stilus": "ismeretterjesztő",
                                    "szam": "13032",
                                    "nettoar": "3723",
                                    "lang": "1",
                                    "raktár készlet": "10"
                                },
                                {
                                    "ID": "171",
                                    "cim": "LoveQ, SexQ : szerelmi intelligencia (2001)",
                                    "stilus": "ismeretterjesztő",
                                    "szam": "14231",
                                    "nettoar": "3626",
                                    "lang": "1",
                                    "raktár készlet": "10"
                                },
                                {
                                    "ID": "6",
                                    "cim": "Ablak zsiráf (1999)",
                                    "stilus": "ismeretterjesztő",
                                    "szam": "6405",
                                    "nettoar": "3540",
                                    "lang": "1",
                                    "raktár készlet": "10"
                                },
                                {
                                    "ID": "190",
                                    "cim": "Manó Élővilág",
                                    "stilus": "ismeretterjesztő",
                                    "szam": "7025",
                                    "nettoar": "3474",
                                    "lang": "1",
                                    "raktár készlet": "10"
                                },
                                {
                                    "ID": "159",
                                    "cim": "Lakáskultúra 1997 (1997)",
                                    "stilus": "ismeretterjesztő",
                                    "szam": "9788",
                                    "nettoar": "3419",
                                    "lang": "1",
                                    "raktár készlet": "10"
                                },
                                {
                                    "ID": "174",
                                    "cim": "Madárdalos kirándulások - Madártani oktató CD-ROM (1999)",
                                    "stilus": "ismeretterjesztő",
                                    "szam": "9036",
                                    "nettoar": "3408",
                                    "lang": "1",
                                    "raktár készlet": "10"
                                },
                                {
                                    "ID": "183",
                                    "cim": "Magyarország Nemzeti Parkjai II.",
                                    "stilus": "ismeretterjesztő",
                                    "szam": "10973",
                                    "nettoar": "3377",
                                    "lang": "1",
                                    "raktár készlet": "10"
                                },
                                {
                                    "ID": "182",
                                    "cim": "Magyarország Nemzeti Parkjai I.",
                                    "stilus": "ismeretterjesztő",
                                    "szam": "8531",
                                    "nettoar": "3348",
                                    "lang": "1",
                                    "raktár készlet": "10"
                                },
                                {
                                    "ID": "216",
                                    "cim": "Multimédiás Menedzsment Könyvtár 2. - Önszervezés",
                                    "stilus": "ismeretterjesztő",
                                    "szam": "8727",
                                    "nettoar": "3279",
                                    "lang": "1",
                                    "raktár készlet": "10"
                                },
                                {
                                    "ID": "145",
                                    "cim": "Királyi könyvek 1-9. kötet",
                                    "stilus": "ismeretterjesztő",
                                    "szam": "9175",
                                    "nettoar": "3256",
                                    "lang": "1",
                                    "raktár készlet": "10"
                                },
                                {
                                    "ID": "136",
                                    "cim": "Kártyaváros",
                                    "stilus": "ismeretterjesztő + játék",
                                    "szam": "11239",
                                    "nettoar": "3107",
                                    "lang": "1",
                                    "raktár készlet": "10"
                                },
                                {
                                    "ID": "204",
                                    "cim": "Manó Puzzle (2002)",
                                    "stilus": "játék",
                                    "szam": "13899",
                                    "nettoar": "6078",
                                    "lang": "1",
                                    "raktár készlet": "10"
                                },
                                {
                                    "ID": "40",
                                    "cim": "Capitalism II. (2001)",
                                    "stilus": "játék",
                                    "szam": "14252",
                                    "nettoar": "6062",
                                    "lang": "2",
                                    "raktár készlet": "10"
                                },
                                {
                                    "ID": "245",
                                    "cim": "Panzer General III: Scorched Earth (2000)",
                                    "stilus": "játék",
                                    "szam": "14253",
                                    "nettoar": "6058",
                                    "lang": "2",
                                    "raktár készlet": "10"
                                },
                                {
                                    "ID": "172",
                                    "cim": "M1 Tank (1998)",
                                    "stilus": "játék",
                                    "szam": "3974",
                                    "nettoar": "5981",
                                    "lang": "2",
                                    "raktár készlet": "10"
                                },
                                {
                                    "ID": "52",
                                    "cim": "Diablo",
                                    "stilus": "játék",
                                    "szam": "12321",
                                    "nettoar": "5969",
                                    "lang": "NULL",
                                    "raktár készlet": "10"
                                },
                                {
                                    "ID": "45",
                                    "cim": "Csizmás kandúr (1998)",
                                    "stilus": "játék",
                                    "szam": "5285",
                                    "nettoar": "5932",
                                    "lang": "1",
                                    "raktár készlet": "10"
                                },
                                {
                                    "ID": "48",
                                    "cim": "Dementia 1-5. (1997)",
                                    "stilus": "játék",
                                    "szam": "2675-2679",
                                    "nettoar": "5919",
                                    "lang": "2",
                                    "raktár készlet": "10"
                                },
                                {
                                    "ID": "37",
                                    "cim": "Buggy",
                                    "stilus": "játék",
                                    "szam": "12313",
                                    "nettoar": "5830",
                                    "lang": "2",
                                    "raktár készlet": "10"
                                },
                                {
                                    "ID": "264",
                                    "cim": "Star Wars : Rogue Squadron 3D",
                                    "stilus": "játék",
                                    "szam": "12326",
                                    "nettoar": "5803",
                                    "lang": "2",
                                    "raktár készlet": "10"
                                },
                                {
                                    "ID": "263",
                                    "cim": "Star Wars: Force Commander (2001)",
                                    "stilus": "játék",
                                    "szam": "14246",
                                    "nettoar": "5785",
                                    "lang": "2",
                                    "raktár készlet": "10"
                                },
                                {
                                    "ID": "316",
                                    "cim": "Warcraft III. (2002)",
                                    "stilus": "játék",
                                    "szam": "14236",
                                    "nettoar": "5774",
                                    "lang": "2",
                                    "raktár készlet": "10"
                                },
                                {
                                    "ID": "106",
                                    "cim": "Half-Life Generation: Counter Strike (2002)",
                                    "stilus": "játék",
                                    "szam": "14240",
                                    "nettoar": "5744",
                                    "lang": "2",
                                    "raktár készlet": "10"
                                },
                                {
                                    "ID": "107",
                                    "cim": "Half-Life Generation: Blue Shift (2002)",
                                    "stilus": "játék",
                                    "szam": "14241",
                                    "nettoar": "5728",
                                    "lang": "2",
                                    "raktár készlet": "10"
                                },
                                {
                                    "ID": "307",
                                    "cim": "Varázslatos szülinap",
                                    "stilus": "játék",
                                    "szam": "8020",
                                    "nettoar": "5712",
                                    "lang": "1",
                                    "raktár készlet": "10"
                                },
                                {
                                    "ID": "246",
                                    "cim": "People's General (1998)",
                                    "stilus": "játék",
                                    "szam": "3946",
                                    "nettoar": "5623",
                                    "lang": "2",
                                    "raktár készlet": "10"
                                },
                                {
                                    "ID": "58",
                                    "cim": "E-Games : Collector's Edition (2001)",
                                    "stilus": "játék",
                                    "szam": "9988",
                                    "nettoar": "5583",
                                    "lang": "2",
                                    "raktár készlet": "10"
                                },
                                {
                                    "ID": "266",
                                    "cim": "Szabadítsd ki a kisoroszlánt!",
                                    "stilus": "játék",
                                    "szam": "7986",
                                    "nettoar": "5537",
                                    "lang": "1",
                                    "raktár készlet": "10"
                                },
                                {
                                    "ID": "214",
                                    "cim": "Moving Puzzle Action Flight (2000)",
                                    "stilus": "játék",
                                    "szam": "10158",
                                    "nettoar": "5477",
                                    "lang": "2",
                                    "raktár készlet": "10"
                                },
                                {
                                    "ID": "56",
                                    "cim": "Duke Nukem 3D",
                                    "stilus": "játék",
                                    "szam": "100",
                                    "nettoar": "5474",
                                    "lang": "2",
                                    "raktár készlet": "10"
                                },
                                {
                                    "ID": "292",
                                    "cim": "Train Simulator (2002)",
                                    "stilus": "játék",
                                    "szam": "14250-251",
                                    "nettoar": "5428",
                                    "lang": "2",
                                    "raktár készlet": "10"
                                },
                                {
                                    "ID": "185",
                                    "cim": "Mahjongg Master (1998)",
                                    "stilus": "játék",
                                    "szam": "4509",
                                    "nettoar": "5423",
                                    "lang": "2",
                                    "raktár készlet": "10"
                                },
                                {
                                    "ID": "104",
                                    "cim": "Half-Life (1996)",
                                    "stilus": "játék",
                                    "szam": "4492",
                                    "nettoar": "5405",
                                    "lang": "2",
                                    "raktár készlet": "10"
                                },
                                {
                                    "ID": "4",
                                    "cim": "3D virtuális origami (2000)",
                                    "stilus": "játék",
                                    "szam": "14235-236",
                                    "nettoar": "5355",
                                    "lang": "1",
                                    "raktár készlet": "10"
                                },
                                {
                                    "ID": "132",
                                    "cim": "Játszóház (1998)",
                                    "stilus": "játék",
                                    "szam": "3779",
                                    "nettoar": "5299",
                                    "lang": "1",
                                    "raktár készlet": "10"
                                },
                                {
                                    "ID": "64",
                                    "cim": "Enemy Engaged RAH-66",
                                    "stilus": "játék",
                                    "szam": "11010",
                                    "nettoar": "5217",
                                    "lang": "2",
                                    "raktár készlet": "10"
                                },
                                {
                                    "ID": "283",
                                    "cim": "Timeshock!",
                                    "stilus": "játék",
                                    "szam": "9486",
                                    "nettoar": "5159",
                                    "lang": "2",
                                    "raktár készlet": "10"
                                },
                                {
                                    "ID": "208",
                                    "cim": "Mig-29 (1998)",
                                    "stilus": "játék",
                                    "szam": "4463",
                                    "nettoar": "5040",
                                    "lang": "2",
                                    "raktár készlet": "10"
                                },
                                {
                                    "ID": "41",
                                    "cim": "Capitalism Plus",
                                    "stilus": "játék",
                                    "szam": "1739",
                                    "nettoar": "5030",
                                    "lang": "2",
                                    "raktár készlet": "10"
                                },
                                {
                                    "ID": "249",
                                    "cim": "Plane Crazy",
                                    "stilus": "játék",
                                    "szam": "10205",
                                    "nettoar": "5011",
                                    "lang": "2",
                                    "raktár készlet": "10"
                                },
                                {
                                    "ID": "53",
                                    "cim": "Diablo II. (2000)",
                                    "stilus": "játék",
                                    "szam": "10039-40-41-42",
                                    "nettoar": "4900",
                                    "lang": "2",
                                    "raktár készlet": "10"
                                },
                                {
                                    "ID": "82",
                                    "cim": "Fighting Force (1998)",
                                    "stilus": "játék",
                                    "szam": "3982",
                                    "nettoar": "4800",
                                    "lang": "2",
                                    "raktár készlet": "10"
                                },
                                {
                                    "ID": "95",
                                    "cim": "Funschool in Dreamland (1995)",
                                    "stilus": "játék",
                                    "szam": "4078",
                                    "nettoar": "4766",
                                    "lang": "2",
                                    "raktár készlet": "10"
                                },
                                {
                                    "ID": "55",
                                    "cim": "Dreams to Reality 1-2. (1997)",
                                    "stilus": "játék",
                                    "szam": "3958-3959",
                                    "nettoar": "4699",
                                    "lang": "2",
                                    "raktár készlet": "10"
                                },
                                {
                                    "ID": "293",
                                    "cim": "Trickstyle",
                                    "stilus": "játék",
                                    "szam": "8048",
                                    "nettoar": "4651",
                                    "lang": "2",
                                    "raktár készlet": "10"
                                },
                                {
                                    "ID": "83",
                                    "cim": "Final Liberation (1997)",
                                    "stilus": "játék",
                                    "szam": "2604",
                                    "nettoar": "4632",
                                    "lang": "2",
                                    "raktár készlet": "10"
                                },
                                {
                                    "ID": "173",
                                    "cim": "Mackó úr (2002)",
                                    "stilus": "játék",
                                    "szam": "13819",
                                    "nettoar": "4632",
                                    "lang": "1",
                                    "raktár készlet": "10"
                                },
                                {
                                    "ID": "285",
                                    "cim": "Touché - The Adventures of the Fifth",
                                    "stilus": "játék",
                                    "szam": "760",
                                    "nettoar": "4548",
                                    "lang": "2",
                                    "raktár készlet": "10"
                                },
                                {
                                    "ID": "34",
                                    "cim": "Broken Sword II. (cop. 1997)",
                                    "stilus": "játék",
                                    "szam": "1735-1736",
                                    "nettoar": "4502",
                                    "lang": "2",
                                    "raktár készlet": "10"
                                },
                                {
                                    "ID": "9",
                                    "cim": "Age of Empires (2000)",
                                    "stilus": "játék",
                                    "szam": "14242-244",
                                    "nettoar": "4482",
                                    "lang": "2",
                                    "raktár készlet": "10"
                                },
                                {
                                    "ID": "108",
                                    "cim": "Harry Potter és a bölcsek köve (2001)",
                                    "stilus": "játék",
                                    "szam": "14245",
                                    "nettoar": "4472",
                                    "lang": "2",
                                    "raktár készlet": "10"
                                },
                                {
                                    "ID": "291",
                                    "cim": "Traffic Giant",
                                    "stilus": "játék",
                                    "szam": "12327",
                                    "nettoar": "4385",
                                    "lang": "NULL",
                                    "raktár készlet": "10"
                                },
                                {
                                    "ID": "284",
                                    "cim": "Tomi megmenti a tengert (2000)",
                                    "stilus": "játék",
                                    "szam": "14232",
                                    "nettoar": "4325",
                                    "lang": "1",
                                    "raktár készlet": "10"
                                },
                                {
                                    "ID": "161",
                                    "cim": "Lands of Lore II. 1-4. (1997)",
                                    "stilus": "játék",
                                    "szam": "3929-3932",
                                    "nettoar": "4312",
                                    "lang": "2",
                                    "raktár készlet": "10"
                                },
                                {
                                    "ID": "255",
                                    "cim": "The Settlers III. 1-2. (1998)",
                                    "stilus": "játék",
                                    "szam": "3968-3968",
                                    "nettoar": "4267",
                                    "lang": "2",
                                    "raktár készlet": "10"
                                },
                                {
                                    "ID": "265",
                                    "cim": "Supreme Snowboarding",
                                    "stilus": "játék",
                                    "szam": "8051",
                                    "nettoar": "4151",
                                    "lang": "2",
                                    "raktár készlet": "10"
                                },
                                {
                                    "ID": "256",
                                    "cim": "The Settlers IV. (2001)",
                                    "stilus": "játék",
                                    "szam": "14237",
                                    "nettoar": "4143",
                                    "lang": "1",
                                    "raktár készlet": "10"
                                },
                                {
                                    "ID": "39",
                                    "cim": "Caesar III.",
                                    "stilus": "játék",
                                    "szam": "12322",
                                    "nettoar": "4136",
                                    "lang": "2",
                                    "raktár készlet": "10"
                                },
                                {
                                    "ID": "33",
                                    "cim": "Blinky Bill : A fantasztikus léggömbkaland",
                                    "stilus": "játék",
                                    "szam": "10195",
                                    "nettoar": "4076",
                                    "lang": "1",
                                    "raktár készlet": "10"
                                },
                                {
                                    "ID": "258",
                                    "cim": "The Sims",
                                    "stilus": "játék",
                                    "szam": "12358",
                                    "nettoar": "4043",
                                    "lang": "2",
                                    "raktár készlet": "10"
                                },
                                {
                                    "ID": "212",
                                    "cim": "Monopoly Junior",
                                    "stilus": "játék",
                                    "szam": "12317",
                                    "nettoar": "3974",
                                    "lang": "2",
                                    "raktár készlet": "10"
                                },
                                {
                                    "ID": "242",
                                    "cim": "Paddle Bash (2001)",
                                    "stilus": "játék",
                                    "szam": "10900",
                                    "nettoar": "3937",
                                    "lang": "2",
                                    "raktár készlet": "10"
                                },
                                {
                                    "ID": "22",
                                    "cim": "Art Attack (1998)",
                                    "stilus": "játék",
                                    "szam": "9074",
                                    "nettoar": "3914",
                                    "lang": "2",
                                    "raktár készlet": "10"
                                },
                                {
                                    "ID": "286",
                                    "cim": "Toy Story 2.",
                                    "stilus": "játék",
                                    "szam": "8043",
                                    "nettoar": "3809",
                                    "lang": "2",
                                    "raktár készlet": "10"
                                },
                                {
                                    "ID": "277",
                                    "cim": "Tarzan",
                                    "stilus": "játék",
                                    "szam": "6860",
                                    "nettoar": "3737",
                                    "lang": "2",
                                    "raktár készlet": "10"
                                },
                                {
                                    "ID": "105",
                                    "cim": "Half-Life Generation: Game of the Year Edition (2002)",
                                    "stilus": "játék",
                                    "szam": "14238-39",
                                    "nettoar": "3705",
                                    "lang": "2",
                                    "raktár készlet": "10"
                                },
                                {
                                    "ID": "262",
                                    "cim": "Star Wars: Battle for Naboo",
                                    "stilus": "játék",
                                    "szam": "11006",
                                    "nettoar": "3520",
                                    "lang": "2",
                                    "raktár készlet": "10"
                                },
                                {
                                    "ID": "155",
                                    "cim": "KvízIQ : A hét világcsoda (2001)",
                                    "stilus": "játék",
                                    "szam": "14028",
                                    "nettoar": "3451",
                                    "lang": "1",
                                    "raktár készlet": "10"
                                },
                                {
                                    "ID": "57",
                                    "cim": "Dungeon Keeper 2. (1999)",
                                    "stilus": "játék",
                                    "szam": "6831",
                                    "nettoar": "3369",
                                    "lang": "2",
                                    "raktár készlet": "10"
                                },
                                {
                                    "ID": "250",
                                    "cim": "Quake III. (2001)",
                                    "stilus": "játék",
                                    "szam": "14248-249",
                                    "nettoar": "3144",
                                    "lang": "2",
                                    "raktár készlet": "10"
                                },
                                {
                                    "ID": "112",
                                    "cim": "Hupikék törpikék: teletransportörp (1999)",
                                    "stilus": "játék",
                                    "szam": "14233",
                                    "nettoar": "3110",
                                    "lang": "1",
                                    "raktár készlet": "10"
                                },
                                {
                                    "ID": "254",
                                    "cim": "Re-Volt (1999)",
                                    "stilus": "játék - autós",
                                    "szam": "6828",
                                    "nettoar": "3989",
                                    "lang": "2",
                                    "raktár készlet": "10"
                                },
                                {
                                    "ID": "99",
                                    "cim": "GTA 2",
                                    "stilus": "játék (autóverseny)",
                                    "szam": "11028",
                                    "nettoar": "5005",
                                    "lang": "2",
                                    "raktár készlet": "10"
                                },
                                {
                                    "ID": "118",
                                    "cim": "International Rally Championship",
                                    "stilus": "játék (autóverseny)",
                                    "szam": "9957",
                                    "nettoar": "3890",
                                    "lang": "2",
                                    "raktár készlet": "10"
                                },
                                {
                                    "ID": "259",
                                    "cim": "Sonic Racer",
                                    "stilus": "játék (autóverseny)",
                                    "szam": "11009",
                                    "nettoar": "3450",
                                    "lang": "2",
                                    "raktár készlet": "10"
                                },
                                {
                                    "ID": "252",
                                    "cim": "Rally Championship",
                                    "stilus": "játék (autóverseny)",
                                    "szam": "10190",
                                    "nettoar": "3106",
                                    "lang": "2",
                                    "raktár készlet": "10"
                                },
                                {
                                    "ID": "230",
                                    "cim": "NHL 2001",
                                    "stilus": "játék (jégkorong)",
                                    "szam": "10904",
                                    "nettoar": "5242",
                                    "lang": "2",
                                    "raktár készlet": "10"
                                },
                                {
                                    "ID": "296",
                                    "cim": "UEFA Champions Leage Season",
                                    "stilus": "játék (labdarúgás)",
                                    "szam": "9387",
                                    "nettoar": "5522",
                                    "lang": "1",
                                    "raktár készlet": "10"
                                },
                                {
                                    "ID": "81",
                                    "cim": "FIFA, 2000 (1999)",
                                    "stilus": "játék (labdarúgás)",
                                    "szam": "14254",
                                    "nettoar": "5059",
                                    "lang": "2",
                                    "raktár készlet": "10"
                                },
                                {
                                    "ID": "74",
                                    "cim": "The F.A. Premier League Stars 2001",
                                    "stilus": "játék (labdarúgás)",
                                    "szam": "10184",
                                    "nettoar": "3871",
                                    "lang": "2",
                                    "raktár készlet": "10"
                                },
                                {
                                    "ID": "10",
                                    "cim": "Airport Inc.",
                                    "stilus": "játék (repülős)",
                                    "szam": "11026",
                                    "nettoar": "4311",
                                    "lang": "2",
                                    "raktár készlet": "10"
                                },
                                {
                                    "ID": "11",
                                    "cim": "American Rodeo : BullRider 2000 (2001)",
                                    "stilus": "játék (rodeó)",
                                    "szam": "10067",
                                    "nettoar": "5591",
                                    "lang": "2",
                                    "raktár készlet": "10"
                                },
                                {
                                    "ID": "42",
                                    "cim": "Castle Explorer",
                                    "stilus": "játék (történelmi)",
                                    "szam": "560",
                                    "nettoar": "3707",
                                    "lang": "2",
                                    "raktár készlet": "10"
                                },
                                {
                                    "ID": "166",
                                    "cim": "Lilenthal Andor sakkjátszmái",
                                    "stilus": "játék, sakk",
                                    "szam": "11479",
                                    "nettoar": "3644",
                                    "lang": "1",
                                    "raktár készlet": "10"
                                },
                                {
                                    "ID": "137",
                                    "cim": "Kémia Kalauz 2.",
                                    "stilus": "kémia",
                                    "szam": "7735",
                                    "nettoar": "5094",
                                    "lang": "1",
                                    "raktár készlet": "10"
                                },
                                {
                                    "ID": "162",
                                    "cim": "Landscape Design 3D (1998)",
                                    "stilus": "kerttervező",
                                    "szam": "3352",
                                    "nettoar": "4951",
                                    "lang": "2",
                                    "raktár készlet": "10"
                                },
                                {
                                    "ID": "150",
                                    "cim": "Környezetvédelmi kalauz (1999)",
                                    "stilus": "környezetvédelem",
                                    "szam": "8951",
                                    "nettoar": "5508",
                                    "lang": "1",
                                    "raktár készlet": "10"
                                },
                                {
                                    "ID": "302",
                                    "cim": "Úton 2. (1998)",
                                    "stilus": "kresz",
                                    "szam": "3838",
                                    "nettoar": "5476",
                                    "lang": "1",
                                    "raktár készlet": "10"
                                },
                                {
                                    "ID": "111",
                                    "cim": "Home Desing 3D (1998)",
                                    "stilus": "lakástervező",
                                    "szam": "3356",
                                    "nettoar": "4287",
                                    "lang": "2",
                                    "raktár készlet": "10"
                                },
                                {
                                    "ID": "195",
                                    "cim": "Manó Matek 1.",
                                    "stilus": "matematika",
                                    "szam": "7020",
                                    "nettoar": "5995",
                                    "lang": "1",
                                    "raktár készlet": "10"
                                },
                                {
                                    "ID": "197",
                                    "cim": "Manó Matek 2. (1999)",
                                    "stilus": "matematika",
                                    "szam": "7022",
                                    "nettoar": "5568",
                                    "lang": "1",
                                    "raktár készlet": "10"
                                },
                                {
                                    "ID": "196",
                                    "cim": "Manó Matek 1. (2002)",
                                    "stilus": "matematika",
                                    "szam": "13880",
                                    "nettoar": "5396",
                                    "lang": "1",
                                    "raktár készlet": "10"
                                },
                                {
                                    "ID": "199",
                                    "cim": "Manó Matek 3.",
                                    "stilus": "matematika",
                                    "szam": "9818",
                                    "nettoar": "4803",
                                    "lang": "1",
                                    "raktár készlet": "10"
                                },
                                {
                                    "ID": "206",
                                    "cim": "Matematika felkészítő az érettségi és felvételi vizsgára",
                                    "stilus": "matematika",
                                    "szam": "2307",
                                    "nettoar": "4616",
                                    "lang": "1",
                                    "raktár készlet": "10"
                                },
                                {
                                    "ID": "231",
                                    "cim": "Nincs királyi út - A matematika kultúrtörténete",
                                    "stilus": "matematika",
                                    "szam": "7605",
                                    "nettoar": "4353",
                                    "lang": "1",
                                    "raktár készlet": "10"
                                },
                                {
                                    "ID": "198",
                                    "cim": "Manó Matek 2. (1999)",
                                    "stilus": "matematika",
                                    "szam": "13878",
                                    "nettoar": "3536",
                                    "lang": "1",
                                    "raktár készlet": "10"
                                },
                                {
                                    "ID": "207",
                                    "cim": "Matematika kalauz (1997)",
                                    "stilus": "matematika",
                                    "szam": "1856",
                                    "nettoar": "3315",
                                    "lang": "1",
                                    "raktár készlet": "10"
                                },
                                {
                                    "ID": "205",
                                    "cim": "Matematika (1998)",
                                    "stilus": "matematika",
                                    "szam": "5051",
                                    "nettoar": "3105",
                                    "lang": "1",
                                    "raktár készlet": "10"
                                },
                                {
                                    "ID": "253",
                                    "cim": "Rayman: Matek és olvasás",
                                    "stilus": "matematika, nyelvtan",
                                    "szam": "7969",
                                    "nettoar": "4484",
                                    "lang": "1",
                                    "raktár készlet": "10"
                                },
                                {
                                    "ID": "165",
                                    "cim": "Leonardo da Vinci",
                                    "stilus": "múvészet",
                                    "szam": "907",
                                    "nettoar": "5118",
                                    "lang": "2",
                                    "raktár készlet": "10"
                                },
                                {
                                    "ID": "218",
                                    "cim": "Művészet és mesterség",
                                    "stilus": "művészet",
                                    "szam": "8435",
                                    "nettoar": "6098",
                                    "lang": "1",
                                    "raktár készlet": "10"
                                },
                                {
                                    "ID": "36",
                                    "cim": "Budapest Museum",
                                    "stilus": "művészet",
                                    "szam": "7777",
                                    "nettoar": "5292",
                                    "lang": "1",
                                    "raktár készlet": "10"
                                },
                                {
                                    "ID": "222",
                                    "cim": "A Nagybányai Festőiskola (1998)",
                                    "stilus": "művészet",
                                    "szam": "3769",
                                    "nettoar": "4877",
                                    "lang": "1",
                                    "raktár készlet": "10"
                                },
                                {
                                    "ID": "219",
                                    "cim": "Művészet és művészek (2002)",
                                    "stilus": "művészet",
                                    "szam": "13302",
                                    "nettoar": "3490",
                                    "lang": "1",
                                    "raktár készlet": "10"
                                },
                                {
                                    "ID": "164",
                                    "cim": "Legszebb vadnövényeink",
                                    "stilus": "növénytan",
                                    "szam": "1193",
                                    "nettoar": "4438",
                                    "lang": "1",
                                    "raktár készlet": "10"
                                },
                                {
                                    "ID": "203",
                                    "cim": "Manó Olvasás 1.",
                                    "stilus": "nyelvtan",
                                    "szam": "8170",
                                    "nettoar": "5845",
                                    "lang": "1",
                                    "raktár készlet": "10"
                                },
                                {
                                    "ID": "117",
                                    "cim": "Interaktív magyar nyelvtan",
                                    "stilus": "nyelvtan",
                                    "szam": "1719",
                                    "nettoar": "4779",
                                    "lang": "1",
                                    "raktár készlet": "10"
                                },
                                {
                                    "ID": "233",
                                    "cim": "Nyelvtan összefoglaló : érettségi előkészítő (2002)",
                                    "stilus": "nyelvtan",
                                    "szam": "13715",
                                    "nettoar": "3688",
                                    "lang": "1",
                                    "raktár készlet": "10"
                                },
                                {
                                    "ID": "127",
                                    "cim": "Italiano 1-2. (1998) + Installation",
                                    "stilus": "nyelvtanító",
                                    "szam": "5592-5593, 5550",
                                    "nettoar": "6082",
                                    "lang": "4",
                                    "raktár készlet": "10"
                                },
                                {
                                    "ID": "189",
                                    "cim": "Manó Angol 2. (2000)",
                                    "stilus": "nyelvtanító",
                                    "szam": "13885",
                                    "nettoar": "6068",
                                    "lang": "2",
                                    "raktár készlet": "10"
                                },
                                {
                                    "ID": "276",
                                    "cim": "Target English (1998)",
                                    "stilus": "nyelvtanító",
                                    "szam": "4655",
                                    "nettoar": "6061",
                                    "lang": "2",
                                    "raktár készlet": "10"
                                },
                                {
                                    "ID": "187",
                                    "cim": "Manó Angol 1. (2002)",
                                    "stilus": "nyelvtanító",
                                    "szam": "13876",
                                    "nettoar": "6051",
                                    "lang": "2",
                                    "raktár készlet": "10"
                                },
                                {
                                    "ID": "238",
                                    "cim": "Orosz (1998)",
                                    "stilus": "nyelvtanító",
                                    "szam": "4891",
                                    "nettoar": "6009",
                                    "lang": "5",
                                    "raktár készlet": "10"
                                },
                                {
                                    "ID": "270",
                                    "cim": "Talk To Me Deutsch 2-4.",
                                    "stilus": "nyelvtanító",
                                    "szam": "3684-3691-3696",
                                    "nettoar": "5990",
                                    "lang": "3",
                                    "raktár készlet": "10"
                                },
                                {
                                    "ID": "71",
                                    "cim": "Espanol: Principiante + Telepítő",
                                    "stilus": "nyelvtanító",
                                    "szam": "8130-8131",
                                    "nettoar": "5882",
                                    "lang": "6",
                                    "raktár készlet": "10"
                                },
                                {
                                    "ID": "186",
                                    "cim": "Manó Angol 1.",
                                    "stilus": "nyelvtanító",
                                    "szam": "8162",
                                    "nettoar": "5852",
                                    "lang": "2",
                                    "raktár készlet": "10"
                                },
                                {
                                    "ID": "50",
                                    "cim": "Deutsch: Fortgeschrittene (haladó) + Installation",
                                    "stilus": "nyelvtanító",
                                    "szam": "6976-6977",
                                    "nettoar": "5784",
                                    "lang": "3",
                                    "raktár készlet": "10"
                                },
                                {
                                    "ID": "49",
                                    "cim": "Deutsch: Anfanger (kezdő) + Telepítő ",
                                    "stilus": "nyelvtanító",
                                    "szam": "8121-8122",
                                    "nettoar": "5633",
                                    "lang": "3",
                                    "raktár készlet": "10"
                                },
                                {
                                    "ID": "93",
                                    "cim": "Francais: Moyen + Telepítő",
                                    "stilus": "nyelvtanító",
                                    "szam": "6587-6588",
                                    "nettoar": "5619",
                                    "lang": "7",
                                    "raktár készlet": "10"
                                },
                                {
                                    "ID": "126",
                                    "cim": "Italiano (1998) + Installation",
                                    "stilus": "nyelvtanító",
                                    "szam": "5549, 5594",
                                    "nettoar": "5436",
                                    "lang": "4",
                                    "raktár készlet": "10"
                                },
                                {
                                    "ID": "167",
                                    "cim": "Lopva angolul /English by Stealth 1.",
                                    "stilus": "nyelvtanító",
                                    "szam": "7011",
                                    "nettoar": "5431",
                                    "lang": "2",
                                    "raktár készlet": "10"
                                },
                                {
                                    "ID": "188",
                                    "cim": "Manó Angol 2.",
                                    "stilus": "nyelvtanító",
                                    "szam": "7643",
                                    "nettoar": "5353",
                                    "lang": "2",
                                    "raktár készlet": "10"
                                },
                                {
                                    "ID": "65",
                                    "cim": "English 1-2. + Telepítő",
                                    "stilus": "nyelvtanító",
                                    "szam": "8118-8119-8120",
                                    "nettoar": "5215",
                                    "lang": "2",
                                    "raktár készlet": "10"
                                },
                                {
                                    "ID": "237",
                                    "cim": "Olasz szótanító CD-ROM",
                                    "stilus": "nyelvtanító",
                                    "szam": "4070",
                                    "nettoar": "5108",
                                    "lang": "4",
                                    "raktár készlet": "10"
                                },
                                {
                                    "ID": "272",
                                    "cim": "Talk To Me Francais 1-2.",
                                    "stilus": "nyelvtanító",
                                    "szam": "4152-4138",
                                    "nettoar": "4973",
                                    "lang": "7",
                                    "raktár készlet": "10"
                                },
                                {
                                    "ID": "13",
                                    "cim": "Angol és német nyelvtani gyakorlatok (2002)",
                                    "stilus": "nyelvtanító",
                                    "szam": "13794",
                                    "nettoar": "4906",
                                    "lang": "6",
                                    "raktár készlet": "10"
                                },
                                {
                                    "ID": "12",
                                    "cim": "Angol : 8-10 éveseknek (2002)",
                                    "stilus": "nyelvtanító",
                                    "szam": "13293",
                                    "nettoar": "4853",
                                    "lang": "2",
                                    "raktár készlet": "10"
                                },
                                {
                                    "ID": "169",
                                    "cim": "Lopva angolul /English by Stealth 3.",
                                    "stilus": "nyelvtanító",
                                    "szam": "7013",
                                    "nettoar": "4851",
                                    "lang": "2",
                                    "raktár készlet": "10"
                                },
                                {
                                    "ID": "271",
                                    "cim": "Talk To Me English 1.",
                                    "stilus": "nyelvtanító",
                                    "szam": "3516",
                                    "nettoar": "4743",
                                    "lang": "2",
                                    "raktár készlet": "10"
                                },
                                {
                                    "ID": "202",
                                    "cim": "Manó Német 2.",
                                    "stilus": "nyelvtanító",
                                    "szam": "9834",
                                    "nettoar": "4642",
                                    "lang": "3",
                                    "raktár készlet": "10"
                                },
                                {
                                    "ID": "168",
                                    "cim": "Lopva angolul /English by Stealth 2.",
                                    "stilus": "nyelvtanító",
                                    "szam": "7012",
                                    "nettoar": "4597",
                                    "lang": "2",
                                    "raktár készlet": "10"
                                },
                                {
                                    "ID": "114",
                                    "cim": "Interaktív angol nyelvész kurzus haladó szint 1-5.",
                                    "stilus": "nyelvtanító",
                                    "szam": "1811-1815",
                                    "nettoar": "4592",
                                    "lang": "2",
                                    "raktár készlet": "10"
                                },
                                {
                                    "ID": "281",
                                    "cim": "Tesztre készen: német (1998)",
                                    "stilus": "nyelvtanító",
                                    "szam": "4831",
                                    "nettoar": "4566",
                                    "lang": "3",
                                    "raktár készlet": "10"
                                },
                                {
                                    "ID": "14",
                                    "cim": "Angol szótanító CD-ROM",
                                    "stilus": "nyelvtanító",
                                    "szam": "1722",
                                    "nettoar": "4449",
                                    "lang": "2",
                                    "raktár készlet": "10"
                                },
                                {
                                    "ID": "15",
                                    "cim": "Angol szótanító CD-ROM",
                                    "stilus": "nyelvtanító",
                                    "szam": "4202",
                                    "nettoar": "4444",
                                    "lang": "2",
                                    "raktár készlet": "10"
                                },
                                {
                                    "ID": "51",
                                    "cim": "Deutsch: Mittelstufe (középhaladó)+ Telepítő",
                                    "stilus": "nyelvtanító",
                                    "szam": "8123-8124",
                                    "nettoar": "4377",
                                    "lang": "3",
                                    "raktár készlet": "10"
                                },
                                {
                                    "ID": "115",
                                    "cim": "Interaktív angol nyelvész kurzus kezdő szint",
                                    "stilus": "nyelvtanító",
                                    "szam": "1836-1840",
                                    "nettoar": "4183",
                                    "lang": "2",
                                    "raktár készlet": "10"
                                },
                                {
                                    "ID": "280",
                                    "cim": "Tesztre készen: angol (1998)",
                                    "stilus": "nyelvtanító",
                                    "szam": "4811",
                                    "nettoar": "4157",
                                    "lang": "2",
                                    "raktár készlet": "10"
                                },
                                {
                                    "ID": "318",
                                    "cim": "Zielpunkt Deutsch (1997)",
                                    "stilus": "nyelvtanító",
                                    "szam": "4693",
                                    "nettoar": "4144",
                                    "lang": "3",
                                    "raktár készlet": "10"
                                },
                                {
                                    "ID": "91",
                                    "cim": "Francais 1-2. + Telepítő",
                                    "stilus": "nyelvtanító",
                                    "szam": "8127-8128-8129",
                                    "nettoar": "4038",
                                    "lang": "7",
                                    "raktár készlet": "10"
                                },
                                {
                                    "ID": "70",
                                    "cim": "Espanol: Intermedio + Telepítő",
                                    "stilus": "nyelvtanító",
                                    "szam": "8132-8133",
                                    "nettoar": "3914",
                                    "lang": "6",
                                    "raktár készlet": "10"
                                },
                                {
                                    "ID": "260",
                                    "cim": "Spanyol (1997)",
                                    "stilus": "nyelvtanító",
                                    "szam": "4898",
                                    "nettoar": "3775",
                                    "lang": "6",
                                    "raktár készlet": "10"
                                },
                                {
                                    "ID": "92",
                                    "cim": "Francais: Débutan (kezdő) + Telepítő",
                                    "stilus": "nyelvtanító",
                                    "szam": "8125-8126",
                                    "nettoar": "3770",
                                    "lang": "7",
                                    "raktár készlet": "10"
                                },
                                {
                                    "ID": "226",
                                    "cim": "Német : 8-10 éveseknek (2002)",
                                    "stilus": "nyelvtanító",
                                    "szam": "13318",
                                    "nettoar": "3754",
                                    "lang": "3",
                                    "raktár készlet": "10"
                                },
                                {
                                    "ID": "67",
                                    "cim": "English: Intermediate (haladó)",
                                    "stilus": "nyelvtanító",
                                    "szam": "8116-8117",
                                    "nettoar": "3627",
                                    "lang": "2",
                                    "raktár készlet": "10"
                                },
                                {
                                    "ID": "225",
                                    "cim": "Na, So Was? - Minden helyzetben otthonosan",
                                    "stilus": "nyelvtanító",
                                    "szam": "7864",
                                    "nettoar": "3600",
                                    "lang": "3",
                                    "raktár készlet": "10"
                                },
                                {
                                    "ID": "232",
                                    "cim": "Nyelvész : Angol és német haladóknak (1997)",
                                    "stilus": "nyelvtanító",
                                    "szam": "1415",
                                    "nettoar": "3522",
                                    "lang": "2",
                                    "raktár készlet": "10"
                                },
                                {
                                    "ID": "128",
                                    "cim": "Italiano 1-2. (1998) + Installation",
                                    "stilus": "nyelvtanító",
                                    "szam": "5607-5608, 5609",
                                    "nettoar": "3419",
                                    "lang": "4",
                                    "raktár készlet": "10"
                                },
                                {
                                    "ID": "227",
                                    "cim": "Német szótanító CD-ROM",
                                    "stilus": "nyelvtanító",
                                    "szam": "4226",
                                    "nettoar": "3313",
                                    "lang": "3",
                                    "raktár készlet": "10"
                                },
                                {
                                    "ID": "116",
                                    "cim": "Interaktív angol nyelvész kurzus középhaladó szint",
                                    "stilus": "nyelvtanító",
                                    "szam": "1841-1845",
                                    "nettoar": "3115",
                                    "lang": "2",
                                    "raktár készlet": "10"
                                },
                                {
                                    "ID": "120",
                                    "cim": "Introduction to Archeology",
                                    "stilus": "régészet",
                                    "szam": "1160",
                                    "nettoar": "3773",
                                    "lang": "2",
                                    "raktár készlet": "10"
                                },
                                {
                                    "ID": "84",
                                    "cim": "Fitness mesterfokon / Béres Alexandra (2001)",
                                    "stilus": "sport",
                                    "szam": "13053",
                                    "nettoar": "4607",
                                    "lang": "1",
                                    "raktár készlet": "10"
                                },
                                {
                                    "ID": "44",
                                    "cim": "Computer iskola (1998)",
                                    "stilus": "számítástechnika",
                                    "szam": "3742",
                                    "nettoar": "5260",
                                    "lang": "1",
                                    "raktár készlet": "10"
                                },
                                {
                                    "ID": "119",
                                    "cim": "Internet (1996)",
                                    "stilus": "számítástechnika",
                                    "szam": "1046",
                                    "nettoar": "4934",
                                    "lang": "1",
                                    "raktár készlet": "10"
                                },
                                {
                                    "ID": "38",
                                    "cim": "Byte Magyarország (2002)",
                                    "stilus": "számítástechnika",
                                    "szam": "13993",
                                    "nettoar": "3277",
                                    "lang": "1",
                                    "raktár készlet": "10"
                                },
                                {
                                    "ID": "179",
                                    "cim": "Magyar színházművészet a világban",
                                    "stilus": "színház",
                                    "szam": "9583",
                                    "nettoar": "5158",
                                    "lang": "1",
                                    "raktár készlet": "10"
                                },
                                {
                                    "ID": "261",
                                    "cim": "Spanyol-magyar szótár",
                                    "stilus": "szótár",
                                    "szam": "8323",
                                    "nettoar": "5734",
                                    "lang": "6",
                                    "raktár készlet": "10"
                                },
                                {
                                    "ID": "18",
                                    "cim": "Angol-magyar nagyszótár (Halász Előd)",
                                    "stilus": "szótár",
                                    "szam": "7284",
                                    "nettoar": "5638",
                                    "lang": "2",
                                    "raktár készlet": "10"
                                },
                                {
                                    "ID": "17",
                                    "cim": "Angol-magyar, Magyar-angol hangosszótár",
                                    "stilus": "szótár",
                                    "szam": "4724",
                                    "nettoar": "5151",
                                    "lang": "2",
                                    "raktár készlet": "10"
                                },
                                {
                                    "ID": "239",
                                    "cim": "Orosz-magyar nagyszótár",
                                    "stilus": "szótár",
                                    "szam": "8322",
                                    "nettoar": "4666",
                                    "lang": "5",
                                    "raktár készlet": "10"
                                },
                                {
                                    "ID": "236",
                                    "cim": "Olasz-magyar, magyar-olasz digitális szótár",
                                    "stilus": "szótár",
                                    "szam": "12331",
                                    "nettoar": "4107",
                                    "lang": "4",
                                    "raktár készlet": "10"
                                },
                                {
                                    "ID": "94",
                                    "cim": "Francia-magyar szótár",
                                    "stilus": "szótár",
                                    "szam": "8323",
                                    "nettoar": "3566",
                                    "lang": "7",
                                    "raktár készlet": "10"
                                },
                                {
                                    "ID": "16",
                                    "cim": "Angol szótár (1996)",
                                    "stilus": "szótár",
                                    "szam": "1993",
                                    "nettoar": "3509",
                                    "lang": "2",
                                    "raktár készlet": "10"
                                },
                                {
                                    "ID": "273",
                                    "cim": "Tankok, tüzérség (2002)",
                                    "stilus": "történelem",
                                    "szam": "14872",
                                    "nettoar": "6084",
                                    "lang": "1",
                                    "raktár készlet": "10"
                                },
                                {
                                    "ID": "267",
                                    "cim": "Szabadságharc 1848-49 (1988)",
                                    "stilus": "történelem",
                                    "szam": "3794",
                                    "nettoar": "6060",
                                    "lang": "1",
                                    "raktár készlet": "10"
                                },
                                {
                                    "ID": "138",
                                    "cim": "A kémkedés és a hírszerzés története (2002)",
                                    "stilus": "történelem",
                                    "szam": "13230",
                                    "nettoar": "5845",
                                    "lang": "1",
                                    "raktár készlet": "10"
                                },
                                {
                                    "ID": "244",
                                    "cim": "Pannonhalmi Főapátság (2001)",
                                    "stilus": "történelem",
                                    "szam": "13896",
                                    "nettoar": "5817",
                                    "lang": "1",
                                    "raktár készlet": "10"
                                },
                                {
                                    "ID": "309",
                                    "cim": "A városi élet a Római Birodalomban (1999)",
                                    "stilus": "történelem",
                                    "szam": "9110",
                                    "nettoar": "5749",
                                    "lang": "1",
                                    "raktár készlet": "10"
                                },
                                {
                                    "ID": "5",
                                    "cim": "Az 1848-1849-iki szabadságharc története (2002)",
                                    "stilus": "történelem",
                                    "szam": "13962-963",
                                    "nettoar": "5700",
                                    "lang": "1",
                                    "raktár készlet": "8"
                                },
                                {
                                    "ID": "290",
                                    "cim": "Történelem : középiskola 4. osztály (2002)",
                                    "stilus": "történelem",
                                    "szam": "13729",
                                    "nettoar": "5635",
                                    "lang": "1",
                                    "raktár készlet": "10"
                                },
                                {
                                    "ID": "54",
                                    "cim": "Dicső napok és hétköznapok 1848 - Digitális forrásgyűjtemény 1.",
                                    "stilus": "történelem",
                                    "szam": "7793",
                                    "nettoar": "5611",
                                    "lang": "1",
                                    "raktár készlet": "10"
                                },
                                {
                                    "ID": "60",
                                    "cim": "Élet a polgárosodó Magyarországon (2001)",
                                    "stilus": "történelem",
                                    "szam": "13357",
                                    "nettoar": "5572",
                                    "lang": "1",
                                    "raktár készlet": "10"
                                },
                                {
                                    "ID": "142",
                                    "cim": "Kétfejű sas: A Habsburg-uralom Magyarországon (1699-1790)",
                                    "stilus": "történelem",
                                    "szam": "8573",
                                    "nettoar": "5459",
                                    "lang": "1",
                                    "raktár készlet": "10"
                                },
                                {
                                    "ID": "184",
                                    "cim": "Magyarországi várak (1998)",
                                    "stilus": "történelem",
                                    "szam": "4625",
                                    "nettoar": "5459",
                                    "lang": "1",
                                    "raktár készlet": "10"
                                },
                                {
                                    "ID": "315",
                                    "cim": "Volt egyszer egy Magyarország",
                                    "stilus": "történelem",
                                    "szam": "608",
                                    "nettoar": "5302",
                                    "lang": "1",
                                    "raktár készlet": "10"
                                },
                                {
                                    "ID": "100",
                                    "cim": "Hadiflották I. (2002)",
                                    "stilus": "történelem",
                                    "szam": "14849",
                                    "nettoar": "5124",
                                    "lang": "1",
                                    "raktár készlet": "10"
                                },
                                {
                                    "ID": "122",
                                    "cim": "Az ipari forradalom kora (2000)",
                                    "stilus": "történelem",
                                    "szam": "8951",
                                    "nettoar": "5082",
                                    "lang": "1",
                                    "raktár készlet": "10"
                                },
                                {
                                    "ID": "3",
                                    "cim": "3D Dinosaur - adventure",
                                    "stilus": "történelem",
                                    "szam": "576",
                                    "nettoar": "5041",
                                    "lang": "2",
                                    "raktár készlet": "10"
                                },
                                {
                                    "ID": "21",
                                    "cim": "Az Árpád-ház története",
                                    "stilus": "történelem",
                                    "szam": "10124",
                                    "nettoar": "5022",
                                    "lang": "1",
                                    "raktár készlet": "10"
                                },
                                {
                                    "ID": "180",
                                    "cim": "Magyarország, 1944-1956 (2001)",
                                    "stilus": "történelem",
                                    "szam": "13162",
                                    "nettoar": "4921",
                                    "lang": "1",
                                    "raktár készlet": "10"
                                },
                                {
                                    "ID": "143",
                                    "cim": "Kettős kötődés: Az Osztrák-Magyar Monarchia (1867-1918)",
                                    "stilus": "történelem",
                                    "szam": "10665",
                                    "nettoar": "4829",
                                    "lang": "1",
                                    "raktár készlet": "10"
                                },
                                {
                                    "ID": "251",
                                    "cim": "Rákóczi-szabadságharc",
                                    "stilus": "történelem",
                                    "szam": "8552",
                                    "nettoar": "4778",
                                    "lang": "1",
                                    "raktár készlet": "10"
                                },
                                {
                                    "ID": "240",
                                    "cim": "Az Országos Széchényi Könyvtár corvinái, 2002 (2002)",
                                    "stilus": "történelem",
                                    "szam": "13847",
                                    "nettoar": "4753",
                                    "lang": "1",
                                    "raktár készlet": "10"
                                },
                                {
                                    "ID": "243",
                                    "cim": "Pannon Enciklopédia (1998)",
                                    "stilus": "történelem",
                                    "szam": "4004",
                                    "nettoar": "4606",
                                    "lang": "1",
                                    "raktár készlet": "10"
                                },
                                {
                                    "ID": "308",
                                    "cim": "Varázslatos történelmi nyomozás",
                                    "stilus": "történelem",
                                    "szam": "9661",
                                    "nettoar": "4395",
                                    "lang": "1",
                                    "raktár készlet": "10"
                                },
                                {
                                    "ID": "220",
                                    "cim": "Nagy képes világtörténet (Matczáli Henrik) (1998)",
                                    "stilus": "történelem",
                                    "szam": "13971",
                                    "nettoar": "4387",
                                    "lang": "1",
                                    "raktár készlet": "10"
                                },
                                {
                                    "ID": "170",
                                    "cim": "Lovagkirályok (1301-1437) (1997)",
                                    "stilus": "történelem",
                                    "szam": "1563",
                                    "nettoar": "4368",
                                    "lang": "1",
                                    "raktár készlet": "10"
                                },
                                {
                                    "ID": "241",
                                    "cim": "Az Osztrák-Magyar Monarchia írásban és képekben (2001)",
                                    "stilus": "történelem",
                                    "szam": "13957",
                                    "nettoar": "4359",
                                    "lang": "1",
                                    "raktár készlet": "10"
                                },
                                {
                                    "ID": "141",
                                    "cim": "Kereszt és félhold",
                                    "stilus": "történelem",
                                    "szam": "7489",
                                    "nettoar": "4302",
                                    "lang": "1",
                                    "raktár készlet": "10"
                                },
                                {
                                    "ID": "2",
                                    "cim": "A II. világháború története (1999)",
                                    "stilus": "történelem",
                                    "szam": "7224",
                                    "nettoar": "4244",
                                    "lang": "1",
                                    "raktár készlet": "10"
                                },
                                {
                                    "ID": "304",
                                    "cim": "Várak, kastélyok, legendák 1.",
                                    "stilus": "történelem",
                                    "szam": "11170",
                                    "nettoar": "4237",
                                    "lang": "1",
                                    "raktár készlet": "10"
                                },
                                {
                                    "ID": "61",
                                    "cim": "Életképek 1848 (1998)",
                                    "stilus": "történelem",
                                    "szam": "3874",
                                    "nettoar": "4211",
                                    "lang": "1",
                                    "raktár készlet": "10"
                                },
                                {
                                    "ID": "177",
                                    "cim": "A Magyar Koronázási Jelvények",
                                    "stilus": "történelem",
                                    "szam": "4699",
                                    "nettoar": "4122",
                                    "lang": "1",
                                    "raktár készlet": "10"
                                },
                                {
                                    "ID": "310",
                                    "cim": "A Vazul-ág (1038-1301) (1997)",
                                    "stilus": "történelem",
                                    "szam": "1548",
                                    "nettoar": "4060",
                                    "lang": "1",
                                    "raktár készlet": "10"
                                },
                                {
                                    "ID": "139",
                                    "cim": "Képes krónika (1996)",
                                    "stilus": "történelem",
                                    "szam": "327",
                                    "nettoar": "3931",
                                    "lang": "1",
                                    "raktár készlet": "10"
                                },
                                {
                                    "ID": "1",
                                    "cim": "NULL",
                                    "stilus": "történelem",
                                    "szam": "12342",
                                    "nettoar": "3859",
                                    "lang": "1",
                                    "raktár készlet": "10"
                                },
                                {
                                    "ID": "287",
                                    "cim": "Történelem (1998)",
                                    "stilus": "történelem",
                                    "szam": "3909",
                                    "nettoar": "3737",
                                    "lang": "1",
                                    "raktár készlet": "10"
                                },
                                {
                                    "ID": "288",
                                    "cim": "Történelem : 10-14 éveseknek (2002)",
                                    "stilus": "történelem",
                                    "szam": "13500",
                                    "nettoar": "3737",
                                    "lang": "1",
                                    "raktár készlet": "10"
                                },
                                {
                                    "ID": "289",
                                    "cim": "Történelem : középiskola 1. osztály (2002)",
                                    "stilus": "történelem",
                                    "szam": "13722",
                                    "nettoar": "3736",
                                    "lang": "1",
                                    "raktár készlet": "10"
                                },
                                {
                                    "ID": "181",
                                    "cim": "Magyarország, 1944-1956 (2001)",
                                    "stilus": "történelem",
                                    "szam": "15134",
                                    "nettoar": "3673",
                                    "lang": "1",
                                    "raktár készlet": "10"
                                },
                                {
                                    "ID": "109",
                                    "cim": "Haza és haladás",
                                    "stilus": "történelem",
                                    "szam": "9599",
                                    "nettoar": "3481",
                                    "lang": "1",
                                    "raktár készlet": "10"
                                },
                                {
                                    "ID": "305",
                                    "cim": "Várak, kastélyok, legendák 2. (2002)",
                                    "stilus": "történelem",
                                    "szam": "13829",
                                    "nettoar": "3313",
                                    "lang": "1",
                                    "raktár készlet": "10"
                                },
                                {
                                    "ID": "110",
                                    "cim": "A hét világcsoda (2001)",
                                    "stilus": "történelem",
                                    "szam": "14028",
                                    "nettoar": "3162",
                                    "lang": "1",
                                    "raktár készlet": "10"
                                },
                                {
                                    "ID": "235",
                                    "cim": "Ókori lexikon",
                                    "stilus": "történelem",
                                    "szam": "11670",
                                    "nettoar": "3122",
                                    "lang": "1",
                                    "raktár készlet": "10"
                                },
                                {
                                    "ID": "148",
                                    "cim": "Kispál és a borz (1998)",
                                    "stilus": "zene",
                                    "szam": "4624",
                                    "nettoar": "5730",
                                    "lang": "1",
                                    "raktár készlet": "10"
                                },
                                {
                                    "ID": "217",
                                    "cim": "Musique! (1997)",
                                    "stilus": "zene",
                                    "szam": "4842",
                                    "nettoar": "5336",
                                    "lang": "2",
                                    "raktár készlet": "10"
                                },
                                {
                                    "ID": "268",
                                    "cim": "A szabadságharc népzenei emlékei",
                                    "stilus": "zene",
                                    "szam": "9603",
                                    "nettoar": "5187",
                                    "lang": "1",
                                    "raktár készlet": "10"
                                },
                                {
                                    "ID": "200",
                                    "cim": "Manó Muzsika",
                                    "stilus": "zene",
                                    "szam": "6143",
                                    "nettoar": "4996",
                                    "lang": "1",
                                    "raktár készlet": "10"
                                },
                                {
                                    "ID": "269",
                                    "cim": "Szolfézs: Kezdőknek és haladóknak",
                                    "stilus": "zene",
                                    "szam": "8237",
                                    "nettoar": "4492",
                                    "lang": "1",
                                    "raktár készlet": "10"
                                },
                                {
                                    "ID": "201",
                                    "cim": "Manó Muzsika",
                                    "stilus": "zene",
                                    "szam": "8164",
                                    "nettoar": "3391",
                                    "lang": "1",
                                    "raktár készlet": "10"
                                }
                            ]
                        },
                        "text/html": [
                            "<table>",
                            "<tr><th>ID</th><th>cim</th><th>stilus</th><th>szam</th><th>nettoar</th><th>lang</th><th>raktár készlet</th></tr>",
                            "<tr><td>68</td><td>English by Stealth  lásd: Lopva angolul</td><td>NULL</td><td>NULL</td><td>4478</td><td>NULL</td><td>10</td></tr>",
                            "<tr><td>154</td><td>Kutyatár</td><td>állattan</td><td>2963</td><td>5235</td><td>1</td><td>10</td></tr>",
                            "<tr><td>153</td><td>A kutyák: A család kedvencei</td><td>állattan</td><td>7060</td><td>4963</td><td>1</td><td>10</td></tr>",
                            "<tr><td>103</td><td>Halak, kétéltűek, hüllők</td><td>állattan</td><td>3024</td><td>4153</td><td>1</td><td>10</td></tr>",
                            "<tr><td>24</td><td>Az ásványok világa</td><td>ásványtan</td><td>8473</td><td>5624</td><td>1</td><td>10</td></tr>",
                            "<tr><td>176</td><td>Magyar fontok &#39;97</td><td>betűtípusok</td><td>3729</td><td>3845</td><td>1</td><td>10</td></tr>",
                            "<tr><td>29</td><td>Biológia &#39;97</td><td>biológia</td><td>1161</td><td>5543</td><td>1</td><td>10</td></tr>",
                            "<tr><td>306</td><td>A varázslatos emberi test (1998)</td><td>biológia</td><td>7918</td><td>4863</td><td>1</td><td>10</td></tr>",
                            "<tr><td>30</td><td>Biológia (2000)</td><td>biológia</td><td>8982</td><td>3819</td><td>1</td><td>10</td></tr>",
                            "<tr><td>31</td><td>Biológia (2001)</td><td>biológia</td><td>10318</td><td>3792</td><td>1</td><td>10</td></tr>",
                            "<tr><td>32</td><td>Biológia : 12-14 éveseknek (2003)</td><td>biológia</td><td>14665</td><td>3482</td><td>1</td><td>10</td></tr>",
                            "<tr><td>301</td><td>Utazás a Naprendszerben 2.</td><td>csillagászat</td><td>8162</td><td>5992</td><td>1</td><td>10</td></tr>",
                            "<tr><td>223</td><td>NASA 1.</td><td>csillagászat</td><td>3824</td><td>5968</td><td>1</td><td>10</td></tr>",
                            "<tr><td>299</td><td>Utazás a csillagok között (1998)</td><td>csillagászat</td><td>3647</td><td>5705</td><td>1</td><td>10</td></tr>",
                            "<tr><td>224</td><td>NASA 2.</td><td>csillagászat</td><td>3825</td><td>4147</td><td>1</td><td>10</td></tr>",
                            "<tr><td>46</td><td>Csodálatos univerzum (1997)</td><td>csillagászat</td><td>2128</td><td>4087</td><td>1</td><td>10</td></tr>",
                            "<tr><td>298</td><td>Az Univerzum története</td><td>csillagászat</td><td>7591</td><td>3654</td><td>1</td><td>10</td></tr>",
                            "<tr><td>300</td><td>Utazás a Naprendszerben</td><td>csillagászat</td><td>1071</td><td>3582</td><td>1</td><td>10</td></tr>",
                            "<tr><td>78</td><td>Felvételi példatár : Magyar nyelv és irodalom</td><td>felvételi</td><td>11845</td><td>5955</td><td>1</td><td>10</td></tr>",
                            "<tr><td>77</td><td>Felvételi példatár : Kémia, fizika</td><td>felvételi</td><td>11826</td><td>5851</td><td>1</td><td>10</td></tr>",
                            "<tr><td>79</td><td>Felvételi példatár : Matematika</td><td>felvételi</td><td>11867</td><td>5009</td><td>1</td><td>10</td></tr>",
                            "<tr><td>75</td><td>Felvételi példatár : Angol</td><td>felvételi</td><td>11772</td><td>3876</td><td>2</td><td>10</td></tr>",
                            "<tr><td>76</td><td>Felvételi példatár : Biológia, földrajz</td><td>felvételi</td><td>11794</td><td>3215</td><td>1</td><td>10</td></tr>",
                            "<tr><td>80</td><td>Felvételi példatár : Német</td><td>felvételi</td><td>11894</td><td>3102</td><td>3</td><td>10</td></tr>",
                            "<tr><td>140</td><td>Képtárak (1995)</td><td>festészet</td><td>580</td><td>5408</td><td>1</td><td>10</td></tr>",
                            "<tr><td>121</td><td>Investigating 20th Century Art (1994)</td><td>festészet</td><td>444</td><td>4394</td><td>2</td><td>10</td></tr>",
                            "<tr><td>129</td><td>Jancsó</td><td>filmtörténet</td><td>8310</td><td>4204</td><td>1</td><td>10</td></tr>",
                            "<tr><td>131</td><td>Játékfilmek 1963-tól napjainkig</td><td>filmtörténet</td><td>7625</td><td>3138</td><td>1</td><td>10</td></tr>",
                            "<tr><td>87</td><td>Fizika világa (2001)</td><td>fizika</td><td>13778</td><td>5763</td><td>1</td><td>10</td></tr>",
                            "<tr><td>86</td><td>Fizika felkészítő az érettségi és felvételi vizsgára</td><td>fizika</td><td>2328</td><td>4810</td><td>1</td><td>10</td></tr>",
                            "<tr><td>85</td><td>Fizika : 12-14 éveseknek (2002)</td><td>fizika</td><td>13465</td><td>3734</td><td>1</td><td>10</td></tr>",
                            "<tr><td>211</td><td>MoBi Mouse: A fordító egér</td><td>fordító program</td><td>8135</td><td>5036</td><td>8</td><td>10</td></tr>",
                            "<tr><td>319</td><td>Zöld Ödön a földgömbön</td><td>földrajz</td><td>9869</td><td>6065</td><td>1</td><td>10</td></tr>",
                            "<tr><td>234</td><td>Az óceán világa - Maldiv szigetek (2000)</td><td>földrajz</td><td>10212</td><td>5833</td><td>1</td><td>10</td></tr>",
                            "<tr><td>311</td><td>Világatlasz &#39;99 (1998)</td><td>földrajz</td><td>4313</td><td>5399</td><td>1</td><td>10</td></tr>",
                            "<tr><td>25</td><td>Ausztrália</td><td>földrajz</td><td>9554</td><td>5326</td><td>1</td><td>10</td></tr>",
                            "<tr><td>8</td><td>Afrika</td><td>földrajz</td><td>4248</td><td>5318</td><td>1</td><td>10</td></tr>",
                            "<tr><td>73</td><td>Európa</td><td>földrajz</td><td>7825</td><td>5270</td><td>1</td><td>10</td></tr>",
                            "<tr><td>312</td><td>Világatlasz &#39;99 (1998)</td><td>földrajz</td><td>4314</td><td>5202</td><td>1</td><td>10</td></tr>",
                            "<tr><td>69</td><td>Erdély (1996)</td><td>földrajz</td><td>2768</td><td>4999</td><td>1</td><td>10</td></tr>",
                            "<tr><td>194</td><td>Manó Magyarország (2002)</td><td>földrajz</td><td>13935</td><td>4150</td><td>1</td><td>10</td></tr>",
                            "<tr><td>35</td><td>Budapest kalauz</td><td>földrajz</td><td>7759</td><td>4054</td><td>1</td><td>10</td></tr>",
                            "<tr><td>47</td><td>Dél-Amerika (1999)</td><td>földrajz</td><td>7049</td><td>3999</td><td>1</td><td>10</td></tr>",
                            "<tr><td>72</td><td>Észak-Amerika</td><td>földrajz</td><td>6470</td><td>3994</td><td>1</td><td>10</td></tr>",
                            "<tr><td>89</td><td>Földrajz: 10-14 éveseknek (2002)</td><td>földrajz</td><td>13484</td><td>3930</td><td>1</td><td>10</td></tr>",
                            "<tr><td>313</td><td>Világatlasz (2001)</td><td>földrajz</td><td>13372</td><td>3446</td><td>1</td><td>10</td></tr>",
                            "<tr><td>90</td><td>Földrajz: érettségi előkészítő (2002)</td><td>földrajz</td><td>13707</td><td>3173</td><td>1</td><td>10</td></tr>",
                            "<tr><td>27</td><td>Ázsia (2000)</td><td>földrajz</td><td>8974</td><td>3123</td><td>1</td><td>10</td></tr>",
                            "<tr><td>19</td><td>Az áramvonalas fakanál</td><td>gasztronómia</td><td>8500</td><td>5706</td><td>1</td><td>10</td></tr>",
                            "<tr><td>282</td><td>Thaiföldi ízek (1999)</td><td>gasztronómia</td><td>8745</td><td>5250</td><td>1</td><td>10</td></tr>",
                            "<tr><td>144</td><td>Kínai falatok</td><td>gasztronómia</td><td>7932</td><td>4550</td><td>1</td><td>10</td></tr>",
                            "<tr><td>59</td><td>Éléstár (1998)</td><td>gasztronómia</td><td>3014</td><td>3258</td><td>1</td><td>10</td></tr>",
                            "<tr><td>97</td><td>Gépírás 2000</td><td>gépírás</td><td>9803</td><td>3936</td><td>1</td><td>10</td></tr>",
                            "<tr><td>101</td><td>Hadtudományi lexikon (1998)</td><td>hadtudomány</td><td>4742</td><td>3515</td><td>1</td><td>10</td></tr>",
                            "<tr><td>221</td><td>Nagy vicc tár</td><td>humor</td><td>3862</td><td>5573</td><td>1</td><td>10</td></tr>",
                            "<tr><td>124</td><td>Irodalom  felkészítő az érettségi és felvételi vizsgára</td><td>irodalom</td><td>2414</td><td>5654</td><td>1</td><td>10</td></tr>",
                            "<tr><td>125</td><td>Irodalom (1998)</td><td>irodalom</td><td>3904</td><td>5625</td><td>1</td><td>10</td></tr>",
                            "<tr><td>152</td><td>A kőszívű ember fiai - Egri csillagok</td><td>irodalom</td><td>6693</td><td>5538</td><td>1</td><td>10</td></tr>",
                            "<tr><td>247</td><td>Petőfi Sándor: Arany Lacinak (2002)</td><td>irodalom</td><td>13435</td><td>5488</td><td>1</td><td>10</td></tr>",
                            "<tr><td>209</td><td>Mikszáth Kálmán összes művei</td><td>irodalom</td><td>4981</td><td>4786</td><td>1</td><td>10</td></tr>",
                            "<tr><td>133</td><td>Jókai összes művei (2001)</td><td>irodalom</td><td>12119</td><td>4768</td><td>1</td><td>10</td></tr>",
                            "<tr><td>228</td><td>Németh László összes műve</td><td>irodalom</td><td>11682</td><td>4497</td><td>1</td><td>10</td></tr>",
                            "<tr><td>317</td><td>William Shakespeare összes művei</td><td>irodalom</td><td>7915</td><td>4437</td><td>1</td><td>10</td></tr>",
                            "<tr><td>62</td><td>Az ember tragédiája</td><td>irodalom</td><td>7107</td><td>4295</td><td>1</td><td>10</td></tr>",
                            "<tr><td>7</td><td>Ady Endre összes művei (1999)</td><td>irodalom</td><td>6334</td><td>4241</td><td>1</td><td>10</td></tr>",
                            "<tr><td>134</td><td>József Attila (1998)</td><td>irodalom</td><td>3036</td><td>3870</td><td>1</td><td>10</td></tr>",
                            "<tr><td>123</td><td>Irodalmi arcképcsarnok</td><td>irodalom</td><td>9171</td><td>3866</td><td>1</td><td>10</td></tr>",
                            "<tr><td>248</td><td>Petőfi Sándor összes költeményei</td><td>irodalom</td><td>8543</td><td>3782</td><td>1</td><td>10</td></tr>",
                            "<tr><td>314</td><td>Világirodalom : Az ókortól napjainkig (2001)</td><td>irodalom</td><td>10340</td><td>3595</td><td>1</td><td>10</td></tr>",
                            "<tr><td>151</td><td>Kötelező olvasmányok könyvtára 1. (2002)</td><td>irodalom</td><td>13746</td><td>3594</td><td>1</td><td>10</td></tr>",
                            "<tr><td>20</td><td>Arany János: A bajusz (2002)</td><td>irodalom</td><td>13424</td><td>3391</td><td>1</td><td>10</td></tr>",
                            "<tr><td>178</td><td>Magyar nyelv és irodalom</td><td>irodalom, nyelv</td><td>9199</td><td>4704</td><td>1</td><td>10</td></tr>",
                            "<tr><td>135</td><td>A jövő titkai - Interaktív horoszkóp (1998)</td><td>ismeretterjesztő</td><td>8990</td><td>6072</td><td>1</td><td>10</td></tr>",
                            "<tr><td>215</td><td>Multimédiás Menedzsment Könyvtár 1. - Változásmenedzsment</td><td>ismeretterjesztő</td><td>8726</td><td>6057</td><td>1</td><td>10</td></tr>",
                            "<tr><td>297</td><td>Új Könyvek 1994-2000 (2002)</td><td>ismeretterjesztő</td><td>14186</td><td>6024</td><td>1</td><td>10</td></tr>",
                            "<tr><td>193</td><td>Manó Kaland (2002)</td><td>ismeretterjesztő</td><td>13875</td><td>5967</td><td>1</td><td>10</td></tr>",
                            "<tr><td>257</td><td>Shanghai (1997)</td><td>ismeretterjesztő</td><td>3924</td><td>5900</td><td>2</td><td>10</td></tr>",
                            "<tr><td>88</td><td>A Föld élővilága</td><td>ismeretterjesztő</td><td>11081</td><td>5900</td><td>1</td><td>10</td></tr>",
                            "<tr><td>156</td><td>Lakáskultúra 2000 (2000)</td><td>ismeretterjesztő</td><td>9791</td><td>5847</td><td>1</td><td>10</td></tr>",
                            "<tr><td>23</td><td>Art puzzle (1998)</td><td>ismeretterjesztő</td><td>2951</td><td>5786</td><td>2</td><td>10</td></tr>",
                            "<tr><td>146</td><td>Királyi könyvek 18-26. kötet</td><td>ismeretterjesztő</td><td>11759</td><td>5507</td><td>1</td><td>10</td></tr>",
                            "<tr><td>158</td><td>Lakáskultúra 1998 (1998)</td><td>ismeretterjesztő</td><td>9789</td><td>5491</td><td>1</td><td>10</td></tr>",
                            "<tr><td>147</td><td>Királyi könyvek 27-38. kötet : 1703-1740 (2002)</td><td>ismeretterjesztő</td><td>14003</td><td>5476</td><td>1</td><td>10</td></tr>",
                            "<tr><td>294</td><td>A tudás próbája (2001)</td><td>ismeretterjesztő</td><td>14230</td><td>5461</td><td>1</td><td>10</td></tr>",
                            "<tr><td>43</td><td>CD Panoráma 1-4. (1998)</td><td>ismeretterjesztő</td><td>4294-4374-75-76</td><td>5422</td><td>1</td><td>10</td></tr>",
                            "<tr><td>157</td><td>Lakáskultúra 1999 (1999)</td><td>ismeretterjesztő</td><td>9790</td><td>5414</td><td>1</td><td>10</td></tr>",
                            "<tr><td>192</td><td>Manó IQ (2001)</td><td>ismeretterjesztő</td><td>10842</td><td>5383</td><td>1</td><td>10</td></tr>",
                            "<tr><td>279</td><td>Testbeszéd (1998)</td><td>ismeretterjesztő</td><td>4712</td><td>5382</td><td>1</td><td>10</td></tr>",
                            "<tr><td>98</td><td>Gondolattár: aforizmák, szállóigék</td><td>ismeretterjesztő</td><td>9160</td><td>5346</td><td>1</td><td>10</td></tr>",
                            "<tr><td>63</td><td>Encarta World Atlas &#39;99 1-2. (1998)</td><td>ismeretterjesztő</td><td>4786-4787</td><td>5334</td><td>2</td><td>10</td></tr>",
                            "<tr><td>295</td><td>Turul : 1883-1900 (2002)</td><td>ismeretterjesztő</td><td>13953</td><td>5238</td><td>1</td><td>10</td></tr>",
                            "<tr><td>163</td><td>Legféltettebb természeti értékeink</td><td>ismeretterjesztő</td><td>8821</td><td>5083</td><td>1</td><td>10</td></tr>",
                            "<tr><td>303</td><td>Üzleti protokoll CD (2002)</td><td>ismeretterjesztő</td><td>13872</td><td>4891</td><td>1</td><td>10</td></tr>",
                            "<tr><td>191</td><td>Manó Élővilág (2002)</td><td>ismeretterjesztő</td><td>13877</td><td>4881</td><td>1</td><td>10</td></tr>",
                            "<tr><td>278</td><td>Terrorizmus (2002)</td><td>ismeretterjesztő</td><td>14862</td><td>4877</td><td>1</td><td>10</td></tr>",
                            "<tr><td>210</td><td>Mini Manó Tavasz</td><td>ismeretterjesztő</td><td>11149</td><td>4727</td><td>1</td><td>10</td></tr>",
                            "<tr><td>96</td><td>Geolexikon 4.2 : földtani adatbázis (2002)</td><td>ismeretterjesztő</td><td>13232</td><td>4602</td><td>1</td><td>10</td></tr>",
                            "<tr><td>149</td><td>Kossuth Lajos összes munkái (2002)</td><td>ismeretterjesztő</td><td>14760</td><td>4589</td><td>1</td><td>10</td></tr>",
                            "<tr><td>275</td><td>Táplálkozás, életmód mesterfokon (2002)</td><td>ismeretterjesztő</td><td>14921</td><td>4480</td><td>1</td><td>10</td></tr>",
                            "<tr><td>26</td><td>Auto 2000 - Kerékvilág</td><td>ismeretterjesztő</td><td>7873</td><td>4463</td><td>1</td><td>10</td></tr>",
                            "<tr><td>130</td><td>Japán : képes kulturális atlasz (2001)</td><td>ismeretterjesztő</td><td>12810</td><td>4459</td><td>1</td><td>10</td></tr>",
                            "<tr><td>28</td><td>Biblia (1995)</td><td>ismeretterjesztő</td><td>805</td><td>4440</td><td>1</td><td>10</td></tr>",
                            "<tr><td>213</td><td>Mons Sacer Pannoniae (2001)</td><td>ismeretterjesztő</td><td>13896</td><td>4410</td><td>1</td><td>10</td></tr>",
                            "<tr><td>274</td><td>Tanulj tovább! 2000 (2000)</td><td>ismeretterjesztő</td><td>8986</td><td>4310</td><td>1</td><td>10</td></tr>",
                            "<tr><td>160</td><td>Lakáskultúra 1996 (1996)</td><td>ismeretterjesztő</td><td>9787</td><td>4209</td><td>1</td><td>10</td></tr>",
                            "<tr><td>175</td><td>Magyar bélyegek katalógusa</td><td>ismeretterjesztő</td><td>8854</td><td>4035</td><td>1</td><td>10</td></tr>",
                            "<tr><td>102</td><td>Hajdúböszörmény</td><td>ismeretterjesztő</td><td>12844</td><td>3781</td><td>1</td><td>10</td></tr>",
                            "<tr><td>113</td><td>Informatika - Internet - Iskola</td><td>ismeretterjesztő</td><td>2007</td><td>3733</td><td>1</td><td>10</td></tr>",
                            "<tr><td>229</td><td>New York : a tragédiák városa (2001)</td><td>ismeretterjesztő</td><td>13032</td><td>3723</td><td>1</td><td>10</td></tr>",
                            "<tr><td>171</td><td>LoveQ, SexQ : szerelmi intelligencia (2001)</td><td>ismeretterjesztő</td><td>14231</td><td>3626</td><td>1</td><td>10</td></tr>",
                            "<tr><td>6</td><td>Ablak zsiráf (1999)</td><td>ismeretterjesztő</td><td>6405</td><td>3540</td><td>1</td><td>10</td></tr>",
                            "<tr><td>190</td><td>Manó Élővilág</td><td>ismeretterjesztő</td><td>7025</td><td>3474</td><td>1</td><td>10</td></tr>",
                            "<tr><td>159</td><td>Lakáskultúra 1997 (1997)</td><td>ismeretterjesztő</td><td>9788</td><td>3419</td><td>1</td><td>10</td></tr>",
                            "<tr><td>174</td><td>Madárdalos kirándulások - Madártani oktató CD-ROM (1999)</td><td>ismeretterjesztő</td><td>9036</td><td>3408</td><td>1</td><td>10</td></tr>",
                            "<tr><td>183</td><td>Magyarország Nemzeti Parkjai II.</td><td>ismeretterjesztő</td><td>10973</td><td>3377</td><td>1</td><td>10</td></tr>",
                            "<tr><td>182</td><td>Magyarország Nemzeti Parkjai I.</td><td>ismeretterjesztő</td><td>8531</td><td>3348</td><td>1</td><td>10</td></tr>",
                            "<tr><td>216</td><td>Multimédiás Menedzsment Könyvtár 2. - Önszervezés</td><td>ismeretterjesztő</td><td>8727</td><td>3279</td><td>1</td><td>10</td></tr>",
                            "<tr><td>145</td><td>Királyi könyvek 1-9. kötet</td><td>ismeretterjesztő</td><td>9175</td><td>3256</td><td>1</td><td>10</td></tr>",
                            "<tr><td>136</td><td>Kártyaváros</td><td>ismeretterjesztő + játék</td><td>11239</td><td>3107</td><td>1</td><td>10</td></tr>",
                            "<tr><td>204</td><td>Manó Puzzle (2002)</td><td>játék</td><td>13899</td><td>6078</td><td>1</td><td>10</td></tr>",
                            "<tr><td>40</td><td>Capitalism II. (2001)</td><td>játék</td><td>14252</td><td>6062</td><td>2</td><td>10</td></tr>",
                            "<tr><td>245</td><td>Panzer General III: Scorched Earth (2000)</td><td>játék</td><td>14253</td><td>6058</td><td>2</td><td>10</td></tr>",
                            "<tr><td>172</td><td>M1 Tank (1998)</td><td>játék</td><td>3974</td><td>5981</td><td>2</td><td>10</td></tr>",
                            "<tr><td>52</td><td>Diablo</td><td>játék</td><td>12321</td><td>5969</td><td>NULL</td><td>10</td></tr>",
                            "<tr><td>45</td><td>Csizmás kandúr (1998)</td><td>játék</td><td>5285</td><td>5932</td><td>1</td><td>10</td></tr>",
                            "<tr><td>48</td><td>Dementia 1-5. (1997)</td><td>játék</td><td>2675-2679</td><td>5919</td><td>2</td><td>10</td></tr>",
                            "<tr><td>37</td><td>Buggy</td><td>játék</td><td>12313</td><td>5830</td><td>2</td><td>10</td></tr>",
                            "<tr><td>264</td><td>Star Wars : Rogue Squadron 3D</td><td>játék</td><td>12326</td><td>5803</td><td>2</td><td>10</td></tr>",
                            "<tr><td>263</td><td>Star Wars: Force Commander (2001)</td><td>játék</td><td>14246</td><td>5785</td><td>2</td><td>10</td></tr>",
                            "<tr><td>316</td><td>Warcraft III. (2002)</td><td>játék</td><td>14236</td><td>5774</td><td>2</td><td>10</td></tr>",
                            "<tr><td>106</td><td>Half-Life Generation: Counter Strike (2002)</td><td>játék</td><td>14240</td><td>5744</td><td>2</td><td>10</td></tr>",
                            "<tr><td>107</td><td>Half-Life Generation: Blue Shift (2002)</td><td>játék</td><td>14241</td><td>5728</td><td>2</td><td>10</td></tr>",
                            "<tr><td>307</td><td>Varázslatos szülinap</td><td>játék</td><td>8020</td><td>5712</td><td>1</td><td>10</td></tr>",
                            "<tr><td>246</td><td>People&#39;s General (1998)</td><td>játék</td><td>3946</td><td>5623</td><td>2</td><td>10</td></tr>",
                            "<tr><td>58</td><td>E-Games : Collector&#39;s Edition (2001)</td><td>játék</td><td>9988</td><td>5583</td><td>2</td><td>10</td></tr>",
                            "<tr><td>266</td><td>Szabadítsd ki a kisoroszlánt!</td><td>játék</td><td>7986</td><td>5537</td><td>1</td><td>10</td></tr>",
                            "<tr><td>214</td><td>Moving Puzzle Action Flight (2000)</td><td>játék</td><td>10158</td><td>5477</td><td>2</td><td>10</td></tr>",
                            "<tr><td>56</td><td>Duke Nukem 3D</td><td>játék</td><td>100</td><td>5474</td><td>2</td><td>10</td></tr>",
                            "<tr><td>292</td><td>Train Simulator (2002)</td><td>játék</td><td>14250-251</td><td>5428</td><td>2</td><td>10</td></tr>",
                            "<tr><td>185</td><td>Mahjongg Master (1998)</td><td>játék</td><td>4509</td><td>5423</td><td>2</td><td>10</td></tr>",
                            "<tr><td>104</td><td>Half-Life (1996)</td><td>játék</td><td>4492</td><td>5405</td><td>2</td><td>10</td></tr>",
                            "<tr><td>4</td><td>3D virtuális origami (2000)</td><td>játék</td><td>14235-236</td><td>5355</td><td>1</td><td>10</td></tr>",
                            "<tr><td>132</td><td>Játszóház (1998)</td><td>játék</td><td>3779</td><td>5299</td><td>1</td><td>10</td></tr>",
                            "<tr><td>64</td><td>Enemy Engaged RAH-66</td><td>játék</td><td>11010</td><td>5217</td><td>2</td><td>10</td></tr>",
                            "<tr><td>283</td><td>Timeshock!</td><td>játék</td><td>9486</td><td>5159</td><td>2</td><td>10</td></tr>",
                            "<tr><td>208</td><td>Mig-29 (1998)</td><td>játék</td><td>4463</td><td>5040</td><td>2</td><td>10</td></tr>",
                            "<tr><td>41</td><td>Capitalism Plus</td><td>játék</td><td>1739</td><td>5030</td><td>2</td><td>10</td></tr>",
                            "<tr><td>249</td><td>Plane Crazy</td><td>játék</td><td>10205</td><td>5011</td><td>2</td><td>10</td></tr>",
                            "<tr><td>53</td><td>Diablo II. (2000)</td><td>játék</td><td>10039-40-41-42</td><td>4900</td><td>2</td><td>10</td></tr>",
                            "<tr><td>82</td><td>Fighting Force (1998)</td><td>játék</td><td>3982</td><td>4800</td><td>2</td><td>10</td></tr>",
                            "<tr><td>95</td><td>Funschool in Dreamland (1995)</td><td>játék</td><td>4078</td><td>4766</td><td>2</td><td>10</td></tr>",
                            "<tr><td>55</td><td>Dreams to Reality 1-2. (1997)</td><td>játék</td><td>3958-3959</td><td>4699</td><td>2</td><td>10</td></tr>",
                            "<tr><td>293</td><td>Trickstyle</td><td>játék</td><td>8048</td><td>4651</td><td>2</td><td>10</td></tr>",
                            "<tr><td>83</td><td>Final Liberation (1997)</td><td>játék</td><td>2604</td><td>4632</td><td>2</td><td>10</td></tr>",
                            "<tr><td>173</td><td>Mackó úr (2002)</td><td>játék</td><td>13819</td><td>4632</td><td>1</td><td>10</td></tr>",
                            "<tr><td>285</td><td>Touché - The Adventures of the Fifth</td><td>játék</td><td>760</td><td>4548</td><td>2</td><td>10</td></tr>",
                            "<tr><td>34</td><td>Broken Sword II. (cop. 1997)</td><td>játék</td><td>1735-1736</td><td>4502</td><td>2</td><td>10</td></tr>",
                            "<tr><td>9</td><td>Age of Empires (2000)</td><td>játék</td><td>14242-244</td><td>4482</td><td>2</td><td>10</td></tr>",
                            "<tr><td>108</td><td>Harry Potter és a bölcsek köve (2001)</td><td>játék</td><td>14245</td><td>4472</td><td>2</td><td>10</td></tr>",
                            "<tr><td>291</td><td>Traffic Giant</td><td>játék</td><td>12327</td><td>4385</td><td>NULL</td><td>10</td></tr>",
                            "<tr><td>284</td><td>Tomi megmenti a tengert (2000)</td><td>játék</td><td>14232</td><td>4325</td><td>1</td><td>10</td></tr>",
                            "<tr><td>161</td><td>Lands of Lore II. 1-4. (1997)</td><td>játék</td><td>3929-3932</td><td>4312</td><td>2</td><td>10</td></tr>",
                            "<tr><td>255</td><td>The Settlers III. 1-2. (1998)</td><td>játék</td><td>3968-3968</td><td>4267</td><td>2</td><td>10</td></tr>",
                            "<tr><td>265</td><td>Supreme Snowboarding</td><td>játék</td><td>8051</td><td>4151</td><td>2</td><td>10</td></tr>",
                            "<tr><td>256</td><td>The Settlers IV. (2001)</td><td>játék</td><td>14237</td><td>4143</td><td>1</td><td>10</td></tr>",
                            "<tr><td>39</td><td>Caesar III.</td><td>játék</td><td>12322</td><td>4136</td><td>2</td><td>10</td></tr>",
                            "<tr><td>33</td><td>Blinky Bill : A fantasztikus léggömbkaland</td><td>játék</td><td>10195</td><td>4076</td><td>1</td><td>10</td></tr>",
                            "<tr><td>258</td><td>The Sims</td><td>játék</td><td>12358</td><td>4043</td><td>2</td><td>10</td></tr>",
                            "<tr><td>212</td><td>Monopoly Junior</td><td>játék</td><td>12317</td><td>3974</td><td>2</td><td>10</td></tr>",
                            "<tr><td>242</td><td>Paddle Bash (2001)</td><td>játék</td><td>10900</td><td>3937</td><td>2</td><td>10</td></tr>",
                            "<tr><td>22</td><td>Art Attack (1998)</td><td>játék</td><td>9074</td><td>3914</td><td>2</td><td>10</td></tr>",
                            "<tr><td>286</td><td>Toy Story 2.</td><td>játék</td><td>8043</td><td>3809</td><td>2</td><td>10</td></tr>",
                            "<tr><td>277</td><td>Tarzan</td><td>játék</td><td>6860</td><td>3737</td><td>2</td><td>10</td></tr>",
                            "<tr><td>105</td><td>Half-Life Generation: Game of the Year Edition (2002)</td><td>játék</td><td>14238-39</td><td>3705</td><td>2</td><td>10</td></tr>",
                            "<tr><td>262</td><td>Star Wars: Battle for Naboo</td><td>játék</td><td>11006</td><td>3520</td><td>2</td><td>10</td></tr>",
                            "<tr><td>155</td><td>KvízIQ : A hét világcsoda (2001)</td><td>játék</td><td>14028</td><td>3451</td><td>1</td><td>10</td></tr>",
                            "<tr><td>57</td><td>Dungeon Keeper 2. (1999)</td><td>játék</td><td>6831</td><td>3369</td><td>2</td><td>10</td></tr>",
                            "<tr><td>250</td><td>Quake III. (2001)</td><td>játék</td><td>14248-249</td><td>3144</td><td>2</td><td>10</td></tr>",
                            "<tr><td>112</td><td>Hupikék törpikék: teletransportörp (1999)</td><td>játék</td><td>14233</td><td>3110</td><td>1</td><td>10</td></tr>",
                            "<tr><td>254</td><td>Re-Volt (1999)</td><td>játék - autós</td><td>6828</td><td>3989</td><td>2</td><td>10</td></tr>",
                            "<tr><td>99</td><td>GTA 2</td><td>játék (autóverseny)</td><td>11028</td><td>5005</td><td>2</td><td>10</td></tr>",
                            "<tr><td>118</td><td>International Rally Championship</td><td>játék (autóverseny)</td><td>9957</td><td>3890</td><td>2</td><td>10</td></tr>",
                            "<tr><td>259</td><td>Sonic Racer</td><td>játék (autóverseny)</td><td>11009</td><td>3450</td><td>2</td><td>10</td></tr>",
                            "<tr><td>252</td><td>Rally Championship</td><td>játék (autóverseny)</td><td>10190</td><td>3106</td><td>2</td><td>10</td></tr>",
                            "<tr><td>230</td><td>NHL 2001</td><td>játék (jégkorong)</td><td>10904</td><td>5242</td><td>2</td><td>10</td></tr>",
                            "<tr><td>296</td><td>UEFA Champions Leage Season</td><td>játék (labdarúgás)</td><td>9387</td><td>5522</td><td>1</td><td>10</td></tr>",
                            "<tr><td>81</td><td>FIFA, 2000 (1999)</td><td>játék (labdarúgás)</td><td>14254</td><td>5059</td><td>2</td><td>10</td></tr>",
                            "<tr><td>74</td><td>The F.A. Premier League Stars 2001</td><td>játék (labdarúgás)</td><td>10184</td><td>3871</td><td>2</td><td>10</td></tr>",
                            "<tr><td>10</td><td>Airport Inc.</td><td>játék (repülős)</td><td>11026</td><td>4311</td><td>2</td><td>10</td></tr>",
                            "<tr><td>11</td><td>American Rodeo : BullRider 2000 (2001)</td><td>játék (rodeó)</td><td>10067</td><td>5591</td><td>2</td><td>10</td></tr>",
                            "<tr><td>42</td><td>Castle Explorer</td><td>játék (történelmi)</td><td>560</td><td>3707</td><td>2</td><td>10</td></tr>",
                            "<tr><td>166</td><td>Lilenthal Andor sakkjátszmái</td><td>játék, sakk</td><td>11479</td><td>3644</td><td>1</td><td>10</td></tr>",
                            "<tr><td>137</td><td>Kémia Kalauz 2.</td><td>kémia</td><td>7735</td><td>5094</td><td>1</td><td>10</td></tr>",
                            "<tr><td>162</td><td>Landscape Design 3D (1998)</td><td>kerttervező</td><td>3352</td><td>4951</td><td>2</td><td>10</td></tr>",
                            "<tr><td>150</td><td>Környezetvédelmi kalauz (1999)</td><td>környezetvédelem</td><td>8951</td><td>5508</td><td>1</td><td>10</td></tr>",
                            "<tr><td>302</td><td>Úton 2. (1998)</td><td>kresz</td><td>3838</td><td>5476</td><td>1</td><td>10</td></tr>",
                            "<tr><td>111</td><td>Home Desing 3D (1998)</td><td>lakástervező</td><td>3356</td><td>4287</td><td>2</td><td>10</td></tr>",
                            "<tr><td>195</td><td>Manó Matek 1.</td><td>matematika</td><td>7020</td><td>5995</td><td>1</td><td>10</td></tr>",
                            "<tr><td>197</td><td>Manó Matek 2. (1999)</td><td>matematika</td><td>7022</td><td>5568</td><td>1</td><td>10</td></tr>",
                            "<tr><td>196</td><td>Manó Matek 1. (2002)</td><td>matematika</td><td>13880</td><td>5396</td><td>1</td><td>10</td></tr>",
                            "<tr><td>199</td><td>Manó Matek 3.</td><td>matematika</td><td>9818</td><td>4803</td><td>1</td><td>10</td></tr>",
                            "<tr><td>206</td><td>Matematika felkészítő az érettségi és felvételi vizsgára</td><td>matematika</td><td>2307</td><td>4616</td><td>1</td><td>10</td></tr>",
                            "<tr><td>231</td><td>Nincs királyi út - A matematika kultúrtörténete</td><td>matematika</td><td>7605</td><td>4353</td><td>1</td><td>10</td></tr>",
                            "<tr><td>198</td><td>Manó Matek 2. (1999)</td><td>matematika</td><td>13878</td><td>3536</td><td>1</td><td>10</td></tr>",
                            "<tr><td>207</td><td>Matematika kalauz (1997)</td><td>matematika</td><td>1856</td><td>3315</td><td>1</td><td>10</td></tr>",
                            "<tr><td>205</td><td>Matematika (1998)</td><td>matematika</td><td>5051</td><td>3105</td><td>1</td><td>10</td></tr>",
                            "<tr><td>253</td><td>Rayman: Matek és olvasás</td><td>matematika, nyelvtan</td><td>7969</td><td>4484</td><td>1</td><td>10</td></tr>",
                            "<tr><td>165</td><td>Leonardo da Vinci</td><td>múvészet</td><td>907</td><td>5118</td><td>2</td><td>10</td></tr>",
                            "<tr><td>218</td><td>Művészet és mesterség</td><td>művészet</td><td>8435</td><td>6098</td><td>1</td><td>10</td></tr>",
                            "<tr><td>36</td><td>Budapest Museum</td><td>művészet</td><td>7777</td><td>5292</td><td>1</td><td>10</td></tr>",
                            "<tr><td>222</td><td>A Nagybányai Festőiskola (1998)</td><td>művészet</td><td>3769</td><td>4877</td><td>1</td><td>10</td></tr>",
                            "<tr><td>219</td><td>Művészet és művészek (2002)</td><td>művészet</td><td>13302</td><td>3490</td><td>1</td><td>10</td></tr>",
                            "<tr><td>164</td><td>Legszebb vadnövényeink</td><td>növénytan</td><td>1193</td><td>4438</td><td>1</td><td>10</td></tr>",
                            "<tr><td>203</td><td>Manó Olvasás 1.</td><td>nyelvtan</td><td>8170</td><td>5845</td><td>1</td><td>10</td></tr>",
                            "<tr><td>117</td><td>Interaktív magyar nyelvtan</td><td>nyelvtan</td><td>1719</td><td>4779</td><td>1</td><td>10</td></tr>",
                            "<tr><td>233</td><td>Nyelvtan összefoglaló : érettségi előkészítő (2002)</td><td>nyelvtan</td><td>13715</td><td>3688</td><td>1</td><td>10</td></tr>",
                            "<tr><td>127</td><td>Italiano 1-2. (1998) + Installation</td><td>nyelvtanító</td><td>5592-5593, 5550</td><td>6082</td><td>4</td><td>10</td></tr>",
                            "<tr><td>189</td><td>Manó Angol 2. (2000)</td><td>nyelvtanító</td><td>13885</td><td>6068</td><td>2</td><td>10</td></tr>",
                            "<tr><td>276</td><td>Target English (1998)</td><td>nyelvtanító</td><td>4655</td><td>6061</td><td>2</td><td>10</td></tr>",
                            "<tr><td>187</td><td>Manó Angol 1. (2002)</td><td>nyelvtanító</td><td>13876</td><td>6051</td><td>2</td><td>10</td></tr>",
                            "<tr><td>238</td><td>Orosz (1998)</td><td>nyelvtanító</td><td>4891</td><td>6009</td><td>5</td><td>10</td></tr>",
                            "<tr><td>270</td><td>Talk To Me Deutsch 2-4.</td><td>nyelvtanító</td><td>3684-3691-3696</td><td>5990</td><td>3</td><td>10</td></tr>",
                            "<tr><td>71</td><td>Espanol: Principiante + Telepítő</td><td>nyelvtanító</td><td>8130-8131</td><td>5882</td><td>6</td><td>10</td></tr>",
                            "<tr><td>186</td><td>Manó Angol 1.</td><td>nyelvtanító</td><td>8162</td><td>5852</td><td>2</td><td>10</td></tr>",
                            "<tr><td>50</td><td>Deutsch: Fortgeschrittene (haladó) + Installation</td><td>nyelvtanító</td><td>6976-6977</td><td>5784</td><td>3</td><td>10</td></tr>",
                            "<tr><td>49</td><td>Deutsch: Anfanger (kezdő) + Telepítő </td><td>nyelvtanító</td><td>8121-8122</td><td>5633</td><td>3</td><td>10</td></tr>",
                            "<tr><td>93</td><td>Francais: Moyen + Telepítő</td><td>nyelvtanító</td><td>6587-6588</td><td>5619</td><td>7</td><td>10</td></tr>",
                            "<tr><td>126</td><td>Italiano (1998) + Installation</td><td>nyelvtanító</td><td>5549, 5594</td><td>5436</td><td>4</td><td>10</td></tr>",
                            "<tr><td>167</td><td>Lopva angolul /English by Stealth 1.</td><td>nyelvtanító</td><td>7011</td><td>5431</td><td>2</td><td>10</td></tr>",
                            "<tr><td>188</td><td>Manó Angol 2.</td><td>nyelvtanító</td><td>7643</td><td>5353</td><td>2</td><td>10</td></tr>",
                            "<tr><td>65</td><td>English 1-2. + Telepítő</td><td>nyelvtanító</td><td>8118-8119-8120</td><td>5215</td><td>2</td><td>10</td></tr>",
                            "<tr><td>237</td><td>Olasz szótanító CD-ROM</td><td>nyelvtanító</td><td>4070</td><td>5108</td><td>4</td><td>10</td></tr>",
                            "<tr><td>272</td><td>Talk To Me Francais 1-2.</td><td>nyelvtanító</td><td>4152-4138</td><td>4973</td><td>7</td><td>10</td></tr>",
                            "<tr><td>13</td><td>Angol és német nyelvtani gyakorlatok (2002)</td><td>nyelvtanító</td><td>13794</td><td>4906</td><td>6</td><td>10</td></tr>",
                            "<tr><td>12</td><td>Angol : 8-10 éveseknek (2002)</td><td>nyelvtanító</td><td>13293</td><td>4853</td><td>2</td><td>10</td></tr>",
                            "<tr><td>169</td><td>Lopva angolul /English by Stealth 3.</td><td>nyelvtanító</td><td>7013</td><td>4851</td><td>2</td><td>10</td></tr>",
                            "<tr><td>271</td><td>Talk To Me English 1.</td><td>nyelvtanító</td><td>3516</td><td>4743</td><td>2</td><td>10</td></tr>",
                            "<tr><td>202</td><td>Manó Német 2.</td><td>nyelvtanító</td><td>9834</td><td>4642</td><td>3</td><td>10</td></tr>",
                            "<tr><td>168</td><td>Lopva angolul /English by Stealth 2.</td><td>nyelvtanító</td><td>7012</td><td>4597</td><td>2</td><td>10</td></tr>",
                            "<tr><td>114</td><td>Interaktív angol nyelvész kurzus haladó szint 1-5.</td><td>nyelvtanító</td><td>1811-1815</td><td>4592</td><td>2</td><td>10</td></tr>",
                            "<tr><td>281</td><td>Tesztre készen: német (1998)</td><td>nyelvtanító</td><td>4831</td><td>4566</td><td>3</td><td>10</td></tr>",
                            "<tr><td>14</td><td>Angol szótanító CD-ROM</td><td>nyelvtanító</td><td>1722</td><td>4449</td><td>2</td><td>10</td></tr>",
                            "<tr><td>15</td><td>Angol szótanító CD-ROM</td><td>nyelvtanító</td><td>4202</td><td>4444</td><td>2</td><td>10</td></tr>",
                            "<tr><td>51</td><td>Deutsch: Mittelstufe (középhaladó)+ Telepítő</td><td>nyelvtanító</td><td>8123-8124</td><td>4377</td><td>3</td><td>10</td></tr>",
                            "<tr><td>115</td><td>Interaktív angol nyelvész kurzus kezdő szint</td><td>nyelvtanító</td><td>1836-1840</td><td>4183</td><td>2</td><td>10</td></tr>",
                            "<tr><td>280</td><td>Tesztre készen: angol (1998)</td><td>nyelvtanító</td><td>4811</td><td>4157</td><td>2</td><td>10</td></tr>",
                            "<tr><td>318</td><td>Zielpunkt Deutsch (1997)</td><td>nyelvtanító</td><td>4693</td><td>4144</td><td>3</td><td>10</td></tr>",
                            "<tr><td>91</td><td>Francais 1-2. + Telepítő</td><td>nyelvtanító</td><td>8127-8128-8129</td><td>4038</td><td>7</td><td>10</td></tr>",
                            "<tr><td>70</td><td>Espanol: Intermedio + Telepítő</td><td>nyelvtanító</td><td>8132-8133</td><td>3914</td><td>6</td><td>10</td></tr>",
                            "<tr><td>260</td><td>Spanyol (1997)</td><td>nyelvtanító</td><td>4898</td><td>3775</td><td>6</td><td>10</td></tr>",
                            "<tr><td>92</td><td>Francais: Débutan (kezdő) + Telepítő</td><td>nyelvtanító</td><td>8125-8126</td><td>3770</td><td>7</td><td>10</td></tr>",
                            "<tr><td>226</td><td>Német : 8-10 éveseknek (2002)</td><td>nyelvtanító</td><td>13318</td><td>3754</td><td>3</td><td>10</td></tr>",
                            "<tr><td>67</td><td>English: Intermediate (haladó)</td><td>nyelvtanító</td><td>8116-8117</td><td>3627</td><td>2</td><td>10</td></tr>",
                            "<tr><td>225</td><td>Na, So Was? - Minden helyzetben otthonosan</td><td>nyelvtanító</td><td>7864</td><td>3600</td><td>3</td><td>10</td></tr>",
                            "<tr><td>232</td><td>Nyelvész : Angol és német haladóknak (1997)</td><td>nyelvtanító</td><td>1415</td><td>3522</td><td>2</td><td>10</td></tr>",
                            "<tr><td>128</td><td>Italiano 1-2. (1998) + Installation</td><td>nyelvtanító</td><td>5607-5608, 5609</td><td>3419</td><td>4</td><td>10</td></tr>",
                            "<tr><td>227</td><td>Német szótanító CD-ROM</td><td>nyelvtanító</td><td>4226</td><td>3313</td><td>3</td><td>10</td></tr>",
                            "<tr><td>116</td><td>Interaktív angol nyelvész kurzus középhaladó szint</td><td>nyelvtanító</td><td>1841-1845</td><td>3115</td><td>2</td><td>10</td></tr>",
                            "<tr><td>120</td><td>Introduction to Archeology</td><td>régészet</td><td>1160</td><td>3773</td><td>2</td><td>10</td></tr>",
                            "<tr><td>84</td><td>Fitness mesterfokon / Béres Alexandra (2001)</td><td>sport</td><td>13053</td><td>4607</td><td>1</td><td>10</td></tr>",
                            "<tr><td>44</td><td>Computer iskola (1998)</td><td>számítástechnika</td><td>3742</td><td>5260</td><td>1</td><td>10</td></tr>",
                            "<tr><td>119</td><td>Internet (1996)</td><td>számítástechnika</td><td>1046</td><td>4934</td><td>1</td><td>10</td></tr>",
                            "<tr><td>38</td><td>Byte Magyarország (2002)</td><td>számítástechnika</td><td>13993</td><td>3277</td><td>1</td><td>10</td></tr>",
                            "<tr><td>179</td><td>Magyar színházművészet a világban</td><td>színház</td><td>9583</td><td>5158</td><td>1</td><td>10</td></tr>",
                            "<tr><td>261</td><td>Spanyol-magyar szótár</td><td>szótár</td><td>8323</td><td>5734</td><td>6</td><td>10</td></tr>",
                            "<tr><td>18</td><td>Angol-magyar nagyszótár (Halász Előd)</td><td>szótár</td><td>7284</td><td>5638</td><td>2</td><td>10</td></tr>",
                            "<tr><td>17</td><td>Angol-magyar, Magyar-angol hangosszótár</td><td>szótár</td><td>4724</td><td>5151</td><td>2</td><td>10</td></tr>",
                            "<tr><td>239</td><td>Orosz-magyar nagyszótár</td><td>szótár</td><td>8322</td><td>4666</td><td>5</td><td>10</td></tr>",
                            "<tr><td>236</td><td>Olasz-magyar, magyar-olasz digitális szótár</td><td>szótár</td><td>12331</td><td>4107</td><td>4</td><td>10</td></tr>",
                            "<tr><td>94</td><td>Francia-magyar szótár</td><td>szótár</td><td>8323</td><td>3566</td><td>7</td><td>10</td></tr>",
                            "<tr><td>16</td><td>Angol szótár (1996)</td><td>szótár</td><td>1993</td><td>3509</td><td>2</td><td>10</td></tr>",
                            "<tr><td>273</td><td>Tankok, tüzérség (2002)</td><td>történelem</td><td>14872</td><td>6084</td><td>1</td><td>10</td></tr>",
                            "<tr><td>267</td><td>Szabadságharc 1848-49 (1988)</td><td>történelem</td><td>3794</td><td>6060</td><td>1</td><td>10</td></tr>",
                            "<tr><td>138</td><td>A kémkedés és a hírszerzés története (2002)</td><td>történelem</td><td>13230</td><td>5845</td><td>1</td><td>10</td></tr>",
                            "<tr><td>244</td><td>Pannonhalmi Főapátság (2001)</td><td>történelem</td><td>13896</td><td>5817</td><td>1</td><td>10</td></tr>",
                            "<tr><td>309</td><td>A városi élet a Római Birodalomban (1999)</td><td>történelem</td><td>9110</td><td>5749</td><td>1</td><td>10</td></tr>",
                            "<tr><td>5</td><td>Az 1848-1849-iki szabadságharc története (2002)</td><td>történelem</td><td>13962-963</td><td>5700</td><td>1</td><td>8</td></tr>",
                            "<tr><td>290</td><td>Történelem : középiskola 4. osztály (2002)</td><td>történelem</td><td>13729</td><td>5635</td><td>1</td><td>10</td></tr>",
                            "<tr><td>54</td><td>Dicső napok és hétköznapok 1848 - Digitális forrásgyűjtemény 1.</td><td>történelem</td><td>7793</td><td>5611</td><td>1</td><td>10</td></tr>",
                            "<tr><td>60</td><td>Élet a polgárosodó Magyarországon (2001)</td><td>történelem</td><td>13357</td><td>5572</td><td>1</td><td>10</td></tr>",
                            "<tr><td>142</td><td>Kétfejű sas: A Habsburg-uralom Magyarországon (1699-1790)</td><td>történelem</td><td>8573</td><td>5459</td><td>1</td><td>10</td></tr>",
                            "<tr><td>184</td><td>Magyarországi várak (1998)</td><td>történelem</td><td>4625</td><td>5459</td><td>1</td><td>10</td></tr>",
                            "<tr><td>315</td><td>Volt egyszer egy Magyarország</td><td>történelem</td><td>608</td><td>5302</td><td>1</td><td>10</td></tr>",
                            "<tr><td>100</td><td>Hadiflották I. (2002)</td><td>történelem</td><td>14849</td><td>5124</td><td>1</td><td>10</td></tr>",
                            "<tr><td>122</td><td>Az ipari forradalom kora (2000)</td><td>történelem</td><td>8951</td><td>5082</td><td>1</td><td>10</td></tr>",
                            "<tr><td>3</td><td>3D Dinosaur - adventure</td><td>történelem</td><td>576</td><td>5041</td><td>2</td><td>10</td></tr>",
                            "<tr><td>21</td><td>Az Árpád-ház története</td><td>történelem</td><td>10124</td><td>5022</td><td>1</td><td>10</td></tr>",
                            "<tr><td>180</td><td>Magyarország, 1944-1956 (2001)</td><td>történelem</td><td>13162</td><td>4921</td><td>1</td><td>10</td></tr>",
                            "<tr><td>143</td><td>Kettős kötődés: Az Osztrák-Magyar Monarchia (1867-1918)</td><td>történelem</td><td>10665</td><td>4829</td><td>1</td><td>10</td></tr>",
                            "<tr><td>251</td><td>Rákóczi-szabadságharc</td><td>történelem</td><td>8552</td><td>4778</td><td>1</td><td>10</td></tr>",
                            "<tr><td>240</td><td>Az Országos Széchényi Könyvtár corvinái, 2002 (2002)</td><td>történelem</td><td>13847</td><td>4753</td><td>1</td><td>10</td></tr>",
                            "<tr><td>243</td><td>Pannon Enciklopédia (1998)</td><td>történelem</td><td>4004</td><td>4606</td><td>1</td><td>10</td></tr>",
                            "<tr><td>308</td><td>Varázslatos történelmi nyomozás</td><td>történelem</td><td>9661</td><td>4395</td><td>1</td><td>10</td></tr>",
                            "<tr><td>220</td><td>Nagy képes világtörténet (Matczáli Henrik) (1998)</td><td>történelem</td><td>13971</td><td>4387</td><td>1</td><td>10</td></tr>",
                            "<tr><td>170</td><td>Lovagkirályok (1301-1437) (1997)</td><td>történelem</td><td>1563</td><td>4368</td><td>1</td><td>10</td></tr>",
                            "<tr><td>241</td><td>Az Osztrák-Magyar Monarchia írásban és képekben (2001)</td><td>történelem</td><td>13957</td><td>4359</td><td>1</td><td>10</td></tr>",
                            "<tr><td>141</td><td>Kereszt és félhold</td><td>történelem</td><td>7489</td><td>4302</td><td>1</td><td>10</td></tr>",
                            "<tr><td>2</td><td>A II. világháború története (1999)</td><td>történelem</td><td>7224</td><td>4244</td><td>1</td><td>10</td></tr>",
                            "<tr><td>304</td><td>Várak, kastélyok, legendák 1.</td><td>történelem</td><td>11170</td><td>4237</td><td>1</td><td>10</td></tr>",
                            "<tr><td>61</td><td>Életképek 1848 (1998)</td><td>történelem</td><td>3874</td><td>4211</td><td>1</td><td>10</td></tr>",
                            "<tr><td>177</td><td>A Magyar Koronázási Jelvények</td><td>történelem</td><td>4699</td><td>4122</td><td>1</td><td>10</td></tr>",
                            "<tr><td>310</td><td>A Vazul-ág (1038-1301) (1997)</td><td>történelem</td><td>1548</td><td>4060</td><td>1</td><td>10</td></tr>",
                            "<tr><td>139</td><td>Képes krónika (1996)</td><td>történelem</td><td>327</td><td>3931</td><td>1</td><td>10</td></tr>",
                            "<tr><td>1</td><td>NULL</td><td>történelem</td><td>12342</td><td>3859</td><td>1</td><td>10</td></tr>",
                            "<tr><td>287</td><td>Történelem (1998)</td><td>történelem</td><td>3909</td><td>3737</td><td>1</td><td>10</td></tr>",
                            "<tr><td>288</td><td>Történelem : 10-14 éveseknek (2002)</td><td>történelem</td><td>13500</td><td>3737</td><td>1</td><td>10</td></tr>",
                            "<tr><td>289</td><td>Történelem : középiskola 1. osztály (2002)</td><td>történelem</td><td>13722</td><td>3736</td><td>1</td><td>10</td></tr>",
                            "<tr><td>181</td><td>Magyarország, 1944-1956 (2001)</td><td>történelem</td><td>15134</td><td>3673</td><td>1</td><td>10</td></tr>",
                            "<tr><td>109</td><td>Haza és haladás</td><td>történelem</td><td>9599</td><td>3481</td><td>1</td><td>10</td></tr>",
                            "<tr><td>305</td><td>Várak, kastélyok, legendák 2. (2002)</td><td>történelem</td><td>13829</td><td>3313</td><td>1</td><td>10</td></tr>",
                            "<tr><td>110</td><td>A hét világcsoda (2001)</td><td>történelem</td><td>14028</td><td>3162</td><td>1</td><td>10</td></tr>",
                            "<tr><td>235</td><td>Ókori lexikon</td><td>történelem</td><td>11670</td><td>3122</td><td>1</td><td>10</td></tr>",
                            "<tr><td>148</td><td>Kispál és a borz (1998)</td><td>zene</td><td>4624</td><td>5730</td><td>1</td><td>10</td></tr>",
                            "<tr><td>217</td><td>Musique! (1997)</td><td>zene</td><td>4842</td><td>5336</td><td>2</td><td>10</td></tr>",
                            "<tr><td>268</td><td>A szabadságharc népzenei emlékei</td><td>zene</td><td>9603</td><td>5187</td><td>1</td><td>10</td></tr>",
                            "<tr><td>200</td><td>Manó Muzsika</td><td>zene</td><td>6143</td><td>4996</td><td>1</td><td>10</td></tr>",
                            "<tr><td>269</td><td>Szolfézs: Kezdőknek és haladóknak</td><td>zene</td><td>8237</td><td>4492</td><td>1</td><td>10</td></tr>",
                            "<tr><td>201</td><td>Manó Muzsika</td><td>zene</td><td>8164</td><td>3391</td><td>1</td><td>10</td></tr>",
                            "</table>"
                        ]
                    }
                }
            ],
            "execution_count": 15
        },
        {
            "cell_type": "markdown",
            "source": [
                "16. Listázzuk az órák azonosítóját, a sávok nevét és időpontját!"
            ],
            "metadata": {
                "azdata_cell_guid": "75592e3f-7262-480e-a137-038fe12d55c0"
            },
            "attachments": {}
        },
        {
            "cell_type": "code",
            "source": [
                "SELECT o.ora_id,\r\n",
                "        s.Sav,\r\n",
                "        s.Időpont\r\n",
                "from orak o JOIN savok s ON o.Sav=s.Sav_id"
            ],
            "metadata": {
                "azdata_cell_guid": "f23e6c07-debb-4d65-97f0-cc0bc5e88448",
                "language": "sql"
            },
            "outputs": [
                {
                    "output_type": "display_data",
                    "data": {
                        "text/html": "(67 rows affected)"
                    },
                    "metadata": {}
                },
                {
                    "output_type": "display_data",
                    "data": {
                        "text/html": "Total execution time: 00:00:00.019"
                    },
                    "metadata": {}
                },
                {
                    "output_type": "execute_result",
                    "metadata": {},
                    "execution_count": 17,
                    "data": {
                        "application/vnd.dataresource+json": {
                            "schema": {
                                "fields": [
                                    {
                                        "name": "ora_id"
                                    },
                                    {
                                        "name": "Sav"
                                    },
                                    {
                                        "name": "Időpont"
                                    }
                                ]
                            },
                            "data": [
                                {
                                    "ora_id": "159",
                                    "Sav": "1",
                                    "Időpont": "8.00"
                                },
                                {
                                    "ora_id": "160",
                                    "Sav": "5",
                                    "Időpont": "14.00"
                                },
                                {
                                    "ora_id": "161",
                                    "Sav": "2",
                                    "Időpont": "9.30"
                                },
                                {
                                    "ora_id": "162",
                                    "Sav": "4",
                                    "Időpont": "12.30"
                                },
                                {
                                    "ora_id": "163",
                                    "Sav": "2",
                                    "Időpont": "9.30"
                                },
                                {
                                    "ora_id": "164",
                                    "Sav": "3",
                                    "Időpont": "11.00"
                                },
                                {
                                    "ora_id": "165",
                                    "Sav": "3",
                                    "Időpont": "11.00"
                                },
                                {
                                    "ora_id": "166",
                                    "Sav": "4",
                                    "Időpont": "12.30"
                                },
                                {
                                    "ora_id": "167",
                                    "Sav": "4",
                                    "Időpont": "12.30"
                                },
                                {
                                    "ora_id": "168",
                                    "Sav": "3",
                                    "Időpont": "11.00"
                                },
                                {
                                    "ora_id": "169",
                                    "Sav": "2",
                                    "Időpont": "9.30"
                                },
                                {
                                    "ora_id": "170",
                                    "Sav": "2",
                                    "Időpont": "9.30"
                                },
                                {
                                    "ora_id": "171",
                                    "Sav": "2",
                                    "Időpont": "9.30"
                                },
                                {
                                    "ora_id": "172",
                                    "Sav": "2",
                                    "Időpont": "9.30"
                                },
                                {
                                    "ora_id": "173",
                                    "Sav": "3",
                                    "Időpont": "11.00"
                                },
                                {
                                    "ora_id": "174",
                                    "Sav": "3",
                                    "Időpont": "11.00"
                                },
                                {
                                    "ora_id": "175",
                                    "Sav": "4",
                                    "Időpont": "12.30"
                                },
                                {
                                    "ora_id": "176",
                                    "Sav": "4",
                                    "Időpont": "12.30"
                                },
                                {
                                    "ora_id": "177",
                                    "Sav": "5",
                                    "Időpont": "14.00"
                                },
                                {
                                    "ora_id": "178",
                                    "Sav": "5",
                                    "Időpont": "14.00"
                                },
                                {
                                    "ora_id": "179",
                                    "Sav": "6",
                                    "Időpont": "15.30"
                                },
                                {
                                    "ora_id": "180",
                                    "Sav": "6",
                                    "Időpont": "15.30"
                                },
                                {
                                    "ora_id": "181",
                                    "Sav": "1",
                                    "Időpont": "8.00"
                                },
                                {
                                    "ora_id": "182",
                                    "Sav": "1",
                                    "Időpont": "8.00"
                                },
                                {
                                    "ora_id": "183",
                                    "Sav": "2",
                                    "Időpont": "9.30"
                                },
                                {
                                    "ora_id": "184",
                                    "Sav": "2",
                                    "Időpont": "9.30"
                                },
                                {
                                    "ora_id": "185",
                                    "Sav": "3",
                                    "Időpont": "11.00"
                                },
                                {
                                    "ora_id": "186",
                                    "Sav": "4",
                                    "Időpont": "12.30"
                                },
                                {
                                    "ora_id": "187",
                                    "Sav": "2",
                                    "Időpont": "9.30"
                                },
                                {
                                    "ora_id": "188",
                                    "Sav": "6",
                                    "Időpont": "15.30"
                                },
                                {
                                    "ora_id": "189",
                                    "Sav": "2",
                                    "Időpont": "9.30"
                                },
                                {
                                    "ora_id": "190",
                                    "Sav": "3",
                                    "Időpont": "11.00"
                                },
                                {
                                    "ora_id": "191",
                                    "Sav": "5",
                                    "Időpont": "14.00"
                                },
                                {
                                    "ora_id": "192",
                                    "Sav": "6",
                                    "Időpont": "15.30"
                                },
                                {
                                    "ora_id": "193",
                                    "Sav": "5",
                                    "Időpont": "14.00"
                                },
                                {
                                    "ora_id": "194",
                                    "Sav": "6",
                                    "Időpont": "15.30"
                                },
                                {
                                    "ora_id": "195",
                                    "Sav": "5",
                                    "Időpont": "14.00"
                                },
                                {
                                    "ora_id": "196",
                                    "Sav": "6",
                                    "Időpont": "15.30"
                                },
                                {
                                    "ora_id": "197",
                                    "Sav": "1",
                                    "Időpont": "8.00"
                                },
                                {
                                    "ora_id": "198",
                                    "Sav": "2",
                                    "Időpont": "9.30"
                                },
                                {
                                    "ora_id": "199",
                                    "Sav": "1",
                                    "Időpont": "8.00"
                                },
                                {
                                    "ora_id": "200",
                                    "Sav": "2",
                                    "Időpont": "9.30"
                                },
                                {
                                    "ora_id": "201",
                                    "Sav": "4",
                                    "Időpont": "12.30"
                                },
                                {
                                    "ora_id": "202",
                                    "Sav": "5",
                                    "Időpont": "14.00"
                                },
                                {
                                    "ora_id": "203",
                                    "Sav": "4",
                                    "Időpont": "12.30"
                                },
                                {
                                    "ora_id": "204",
                                    "Sav": "5",
                                    "Időpont": "14.00"
                                },
                                {
                                    "ora_id": "205",
                                    "Sav": "4",
                                    "Időpont": "12.30"
                                },
                                {
                                    "ora_id": "206",
                                    "Sav": "1",
                                    "Időpont": "8.00"
                                },
                                {
                                    "ora_id": "207",
                                    "Sav": "4",
                                    "Időpont": "12.30"
                                },
                                {
                                    "ora_id": "208",
                                    "Sav": "1",
                                    "Időpont": "8.00"
                                },
                                {
                                    "ora_id": "209",
                                    "Sav": "2",
                                    "Időpont": "9.30"
                                },
                                {
                                    "ora_id": "210",
                                    "Sav": "6",
                                    "Időpont": "15.30"
                                },
                                {
                                    "ora_id": "211",
                                    "Sav": "7",
                                    "Időpont": "17.00"
                                },
                                {
                                    "ora_id": "212",
                                    "Sav": "8",
                                    "Időpont": "18.30"
                                },
                                {
                                    "ora_id": "213",
                                    "Sav": "8",
                                    "Időpont": "20.00"
                                },
                                {
                                    "ora_id": "214",
                                    "Sav": "3",
                                    "Időpont": "11.00"
                                },
                                {
                                    "ora_id": "215",
                                    "Sav": "4",
                                    "Időpont": "12.30"
                                },
                                {
                                    "ora_id": "216",
                                    "Sav": "3",
                                    "Időpont": "11.00"
                                },
                                {
                                    "ora_id": "217",
                                    "Sav": "4",
                                    "Időpont": "12.30"
                                },
                                {
                                    "ora_id": "218",
                                    "Sav": "6",
                                    "Időpont": "15.30"
                                },
                                {
                                    "ora_id": "219",
                                    "Sav": "7",
                                    "Időpont": "17.00"
                                },
                                {
                                    "ora_id": "220",
                                    "Sav": "3",
                                    "Időpont": "11.00"
                                },
                                {
                                    "ora_id": "221",
                                    "Sav": "3",
                                    "Időpont": "11.00"
                                },
                                {
                                    "ora_id": "222",
                                    "Sav": "5",
                                    "Időpont": "14.00"
                                },
                                {
                                    "ora_id": "223",
                                    "Sav": "1",
                                    "Időpont": "8.00"
                                },
                                {
                                    "ora_id": "226",
                                    "Sav": "3",
                                    "Időpont": "11.00"
                                },
                                {
                                    "ora_id": "227",
                                    "Sav": "5",
                                    "Időpont": "14.00"
                                }
                            ]
                        },
                        "text/html": [
                            "<table>",
                            "<tr><th>ora_id</th><th>Sav</th><th>Időpont</th></tr>",
                            "<tr><td>159</td><td>1</td><td>8.00</td></tr>",
                            "<tr><td>160</td><td>5</td><td>14.00</td></tr>",
                            "<tr><td>161</td><td>2</td><td>9.30</td></tr>",
                            "<tr><td>162</td><td>4</td><td>12.30</td></tr>",
                            "<tr><td>163</td><td>2</td><td>9.30</td></tr>",
                            "<tr><td>164</td><td>3</td><td>11.00</td></tr>",
                            "<tr><td>165</td><td>3</td><td>11.00</td></tr>",
                            "<tr><td>166</td><td>4</td><td>12.30</td></tr>",
                            "<tr><td>167</td><td>4</td><td>12.30</td></tr>",
                            "<tr><td>168</td><td>3</td><td>11.00</td></tr>",
                            "<tr><td>169</td><td>2</td><td>9.30</td></tr>",
                            "<tr><td>170</td><td>2</td><td>9.30</td></tr>",
                            "<tr><td>171</td><td>2</td><td>9.30</td></tr>",
                            "<tr><td>172</td><td>2</td><td>9.30</td></tr>",
                            "<tr><td>173</td><td>3</td><td>11.00</td></tr>",
                            "<tr><td>174</td><td>3</td><td>11.00</td></tr>",
                            "<tr><td>175</td><td>4</td><td>12.30</td></tr>",
                            "<tr><td>176</td><td>4</td><td>12.30</td></tr>",
                            "<tr><td>177</td><td>5</td><td>14.00</td></tr>",
                            "<tr><td>178</td><td>5</td><td>14.00</td></tr>",
                            "<tr><td>179</td><td>6</td><td>15.30</td></tr>",
                            "<tr><td>180</td><td>6</td><td>15.30</td></tr>",
                            "<tr><td>181</td><td>1</td><td>8.00</td></tr>",
                            "<tr><td>182</td><td>1</td><td>8.00</td></tr>",
                            "<tr><td>183</td><td>2</td><td>9.30</td></tr>",
                            "<tr><td>184</td><td>2</td><td>9.30</td></tr>",
                            "<tr><td>185</td><td>3</td><td>11.00</td></tr>",
                            "<tr><td>186</td><td>4</td><td>12.30</td></tr>",
                            "<tr><td>187</td><td>2</td><td>9.30</td></tr>",
                            "<tr><td>188</td><td>6</td><td>15.30</td></tr>",
                            "<tr><td>189</td><td>2</td><td>9.30</td></tr>",
                            "<tr><td>190</td><td>3</td><td>11.00</td></tr>",
                            "<tr><td>191</td><td>5</td><td>14.00</td></tr>",
                            "<tr><td>192</td><td>6</td><td>15.30</td></tr>",
                            "<tr><td>193</td><td>5</td><td>14.00</td></tr>",
                            "<tr><td>194</td><td>6</td><td>15.30</td></tr>",
                            "<tr><td>195</td><td>5</td><td>14.00</td></tr>",
                            "<tr><td>196</td><td>6</td><td>15.30</td></tr>",
                            "<tr><td>197</td><td>1</td><td>8.00</td></tr>",
                            "<tr><td>198</td><td>2</td><td>9.30</td></tr>",
                            "<tr><td>199</td><td>1</td><td>8.00</td></tr>",
                            "<tr><td>200</td><td>2</td><td>9.30</td></tr>",
                            "<tr><td>201</td><td>4</td><td>12.30</td></tr>",
                            "<tr><td>202</td><td>5</td><td>14.00</td></tr>",
                            "<tr><td>203</td><td>4</td><td>12.30</td></tr>",
                            "<tr><td>204</td><td>5</td><td>14.00</td></tr>",
                            "<tr><td>205</td><td>4</td><td>12.30</td></tr>",
                            "<tr><td>206</td><td>1</td><td>8.00</td></tr>",
                            "<tr><td>207</td><td>4</td><td>12.30</td></tr>",
                            "<tr><td>208</td><td>1</td><td>8.00</td></tr>",
                            "<tr><td>209</td><td>2</td><td>9.30</td></tr>",
                            "<tr><td>210</td><td>6</td><td>15.30</td></tr>",
                            "<tr><td>211</td><td>7</td><td>17.00</td></tr>",
                            "<tr><td>212</td><td>8</td><td>18.30</td></tr>",
                            "<tr><td>213</td><td>8</td><td>20.00</td></tr>",
                            "<tr><td>214</td><td>3</td><td>11.00</td></tr>",
                            "<tr><td>215</td><td>4</td><td>12.30</td></tr>",
                            "<tr><td>216</td><td>3</td><td>11.00</td></tr>",
                            "<tr><td>217</td><td>4</td><td>12.30</td></tr>",
                            "<tr><td>218</td><td>6</td><td>15.30</td></tr>",
                            "<tr><td>219</td><td>7</td><td>17.00</td></tr>",
                            "<tr><td>220</td><td>3</td><td>11.00</td></tr>",
                            "<tr><td>221</td><td>3</td><td>11.00</td></tr>",
                            "<tr><td>222</td><td>5</td><td>14.00</td></tr>",
                            "<tr><td>223</td><td>1</td><td>8.00</td></tr>",
                            "<tr><td>226</td><td>3</td><td>11.00</td></tr>",
                            "<tr><td>227</td><td>5</td><td>14.00</td></tr>",
                            "</table>"
                        ]
                    }
                }
            ],
            "execution_count": 17
        },
        {
            "cell_type": "markdown",
            "source": [
                "17. Készítsünk listát arról, hogy melyik órán ki a tanár! Adjuk meg az órák azonosítóját és a tanár nevét és titulusát!"
            ],
            "metadata": {
                "azdata_cell_guid": "6d6dc312-551c-4f4e-987c-83f837648a60"
            },
            "attachments": {}
        },
        {
            "cell_type": "code",
            "source": [
                "SELECT o.ora_id,\r\n",
                "        okt.nev,\r\n",
                "        okt.titulus\r\n",
                "from Orak o JOIN Oktatok okt ON o.tanar=okt.oktato_id"
            ],
            "metadata": {
                "azdata_cell_guid": "6fedbcec-6c20-4304-a9a4-03480cb71524",
                "language": "sql"
            },
            "outputs": [
                {
                    "output_type": "display_data",
                    "data": {
                        "text/html": "(67 rows affected)"
                    },
                    "metadata": {}
                },
                {
                    "output_type": "display_data",
                    "data": {
                        "text/html": "Total execution time: 00:00:00.018"
                    },
                    "metadata": {}
                },
                {
                    "output_type": "execute_result",
                    "metadata": {},
                    "execution_count": 18,
                    "data": {
                        "application/vnd.dataresource+json": {
                            "schema": {
                                "fields": [
                                    {
                                        "name": "ora_id"
                                    },
                                    {
                                        "name": "nev"
                                    },
                                    {
                                        "name": "titulus"
                                    }
                                ]
                            },
                            "data": [
                                {
                                    "ora_id": "159",
                                    "nev": "Ujfalussi István",
                                    "titulus": "Prof, tanszékvezető"
                                },
                                {
                                    "ora_id": "160",
                                    "nev": "Pelikán József",
                                    "titulus": "NULL"
                                },
                                {
                                    "ora_id": "161",
                                    "nev": "Pelikán József",
                                    "titulus": "NULL"
                                },
                                {
                                    "ora_id": "162",
                                    "nev": "Kovács András",
                                    "titulus": "NULL"
                                },
                                {
                                    "ora_id": "163",
                                    "nev": "Szerb László",
                                    "titulus": "NULL"
                                },
                                {
                                    "ora_id": "164",
                                    "nev": "Kiss János",
                                    "titulus": "NULL"
                                },
                                {
                                    "ora_id": "165",
                                    "nev": "Szerb László",
                                    "titulus": "NULL"
                                },
                                {
                                    "ora_id": "166",
                                    "nev": "Szerb László",
                                    "titulus": "NULL"
                                },
                                {
                                    "ora_id": "167",
                                    "nev": "Szentágotai Istvás",
                                    "titulus": "Dr."
                                },
                                {
                                    "ora_id": "168",
                                    "nev": "Ujfalussi István",
                                    "titulus": "Prof, tanszékvezető"
                                },
                                {
                                    "ora_id": "169",
                                    "nev": "Kovács András",
                                    "titulus": "NULL"
                                },
                                {
                                    "ora_id": "170",
                                    "nev": "Ludas Mátyás",
                                    "titulus": "NULL"
                                },
                                {
                                    "ora_id": "171",
                                    "nev": "Szénási ászló",
                                    "titulus": "NULL"
                                },
                                {
                                    "ora_id": "172",
                                    "nev": "Kiss János",
                                    "titulus": "NULL"
                                },
                                {
                                    "ora_id": "173",
                                    "nev": "Kovács András",
                                    "titulus": "NULL"
                                },
                                {
                                    "ora_id": "174",
                                    "nev": "Ludas Mátyás",
                                    "titulus": "NULL"
                                },
                                {
                                    "ora_id": "175",
                                    "nev": "Szénási ászló",
                                    "titulus": "NULL"
                                },
                                {
                                    "ora_id": "176",
                                    "nev": "Kovács András",
                                    "titulus": "NULL"
                                },
                                {
                                    "ora_id": "177",
                                    "nev": "Szentágotai Istvás",
                                    "titulus": "Dr."
                                },
                                {
                                    "ora_id": "178",
                                    "nev": "Vitéz János",
                                    "titulus": "NULL"
                                },
                                {
                                    "ora_id": "179",
                                    "nev": "Szentágotai Istvás",
                                    "titulus": "Dr."
                                },
                                {
                                    "ora_id": "180",
                                    "nev": "Vitéz János",
                                    "titulus": "NULL"
                                },
                                {
                                    "ora_id": "181",
                                    "nev": "Szentágotai Istvás",
                                    "titulus": "Dr."
                                },
                                {
                                    "ora_id": "182",
                                    "nev": "Vitéz János",
                                    "titulus": "NULL"
                                },
                                {
                                    "ora_id": "183",
                                    "nev": "Szentágotai Istvás",
                                    "titulus": "Dr."
                                },
                                {
                                    "ora_id": "184",
                                    "nev": "Vitéz János",
                                    "titulus": "NULL"
                                },
                                {
                                    "ora_id": "185",
                                    "nev": "Szentágotai Istvás",
                                    "titulus": "Dr."
                                },
                                {
                                    "ora_id": "186",
                                    "nev": "Nógrádi Kata",
                                    "titulus": "NULL"
                                },
                                {
                                    "ora_id": "187",
                                    "nev": "Balkán András",
                                    "titulus": "Dr."
                                },
                                {
                                    "ora_id": "188",
                                    "nev": "Farkasos Piroska",
                                    "titulus": "NULL"
                                },
                                {
                                    "ora_id": "189",
                                    "nev": "Farkasos Piroska",
                                    "titulus": "NULL"
                                },
                                {
                                    "ora_id": "190",
                                    "nev": "Farkasos Piroska",
                                    "titulus": "NULL"
                                },
                                {
                                    "ora_id": "191",
                                    "nev": "Varga Kata",
                                    "titulus": "Dr."
                                },
                                {
                                    "ora_id": "192",
                                    "nev": "Varga Kata",
                                    "titulus": "Dr."
                                },
                                {
                                    "ora_id": "193",
                                    "nev": "Farkasos Piroska",
                                    "titulus": "NULL"
                                },
                                {
                                    "ora_id": "194",
                                    "nev": "Farkasos Piroska",
                                    "titulus": "NULL"
                                },
                                {
                                    "ora_id": "195",
                                    "nev": "Balkán András",
                                    "titulus": "Dr."
                                },
                                {
                                    "ora_id": "196",
                                    "nev": "Balkán András",
                                    "titulus": "Dr."
                                },
                                {
                                    "ora_id": "197",
                                    "nev": "Farkasos Piroska",
                                    "titulus": "NULL"
                                },
                                {
                                    "ora_id": "198",
                                    "nev": "Farkasos Piroska",
                                    "titulus": "NULL"
                                },
                                {
                                    "ora_id": "199",
                                    "nev": "Szabó Andrera",
                                    "titulus": "NULL"
                                },
                                {
                                    "ora_id": "200",
                                    "nev": "Szabó Andrera",
                                    "titulus": "NULL"
                                },
                                {
                                    "ora_id": "201",
                                    "nev": "Juhász András",
                                    "titulus": "Dr."
                                },
                                {
                                    "ora_id": "202",
                                    "nev": "Juhász András",
                                    "titulus": "Dr."
                                },
                                {
                                    "ora_id": "203",
                                    "nev": "Aranyi Mária",
                                    "titulus": "NULL"
                                },
                                {
                                    "ora_id": "204",
                                    "nev": "Róbert Gida",
                                    "titulus": "NULL"
                                },
                                {
                                    "ora_id": "205",
                                    "nev": "Ujfalussi István",
                                    "titulus": "Prof, tanszékvezető"
                                },
                                {
                                    "ora_id": "206",
                                    "nev": "Varga Kata",
                                    "titulus": "Dr."
                                },
                                {
                                    "ora_id": "207",
                                    "nev": "Varga Kata",
                                    "titulus": "Dr."
                                },
                                {
                                    "ora_id": "208",
                                    "nev": "Jogrerős Pál",
                                    "titulus": "Prof."
                                },
                                {
                                    "ora_id": "209",
                                    "nev": "Jogrerős Pál",
                                    "titulus": "Prof."
                                },
                                {
                                    "ora_id": "210",
                                    "nev": "Szép llonka",
                                    "titulus": "Dr."
                                },
                                {
                                    "ora_id": "211",
                                    "nev": "Szép llonka",
                                    "titulus": "Dr."
                                },
                                {
                                    "ora_id": "212",
                                    "nev": "Kiss János",
                                    "titulus": "NULL"
                                },
                                {
                                    "ora_id": "213",
                                    "nev": "Kiss János",
                                    "titulus": "NULL"
                                },
                                {
                                    "ora_id": "214",
                                    "nev": "Pelikán József",
                                    "titulus": "NULL"
                                },
                                {
                                    "ora_id": "215",
                                    "nev": "Pelikán József",
                                    "titulus": "NULL"
                                },
                                {
                                    "ora_id": "216",
                                    "nev": "Szép llonka",
                                    "titulus": "Dr."
                                },
                                {
                                    "ora_id": "217",
                                    "nev": "Szép llonka",
                                    "titulus": "Dr."
                                },
                                {
                                    "ora_id": "218",
                                    "nev": "Pelikán József",
                                    "titulus": "NULL"
                                },
                                {
                                    "ora_id": "219",
                                    "nev": "Pelikán József",
                                    "titulus": "NULL"
                                },
                                {
                                    "ora_id": "220",
                                    "nev": "Kovács László",
                                    "titulus": "Dr."
                                },
                                {
                                    "ora_id": "221",
                                    "nev": "Kovács László",
                                    "titulus": "Dr."
                                },
                                {
                                    "ora_id": "222",
                                    "nev": "Kovács László",
                                    "titulus": "Dr."
                                },
                                {
                                    "ora_id": "223",
                                    "nev": "Kovács László",
                                    "titulus": "Dr."
                                },
                                {
                                    "ora_id": "226",
                                    "nev": "Szentágotai Istvás",
                                    "titulus": "Dr."
                                },
                                {
                                    "ora_id": "227",
                                    "nev": "Szentágotai Istvás",
                                    "titulus": "Dr."
                                }
                            ]
                        },
                        "text/html": [
                            "<table>",
                            "<tr><th>ora_id</th><th>nev</th><th>titulus</th></tr>",
                            "<tr><td>159</td><td>Ujfalussi István</td><td>Prof, tanszékvezető</td></tr>",
                            "<tr><td>160</td><td>Pelikán József</td><td>NULL</td></tr>",
                            "<tr><td>161</td><td>Pelikán József</td><td>NULL</td></tr>",
                            "<tr><td>162</td><td>Kovács András</td><td>NULL</td></tr>",
                            "<tr><td>163</td><td>Szerb László</td><td>NULL</td></tr>",
                            "<tr><td>164</td><td>Kiss János</td><td>NULL</td></tr>",
                            "<tr><td>165</td><td>Szerb László</td><td>NULL</td></tr>",
                            "<tr><td>166</td><td>Szerb László</td><td>NULL</td></tr>",
                            "<tr><td>167</td><td>Szentágotai Istvás</td><td>Dr.</td></tr>",
                            "<tr><td>168</td><td>Ujfalussi István</td><td>Prof, tanszékvezető</td></tr>",
                            "<tr><td>169</td><td>Kovács András</td><td>NULL</td></tr>",
                            "<tr><td>170</td><td>Ludas Mátyás</td><td>NULL</td></tr>",
                            "<tr><td>171</td><td>Szénási ászló</td><td>NULL</td></tr>",
                            "<tr><td>172</td><td>Kiss János</td><td>NULL</td></tr>",
                            "<tr><td>173</td><td>Kovács András</td><td>NULL</td></tr>",
                            "<tr><td>174</td><td>Ludas Mátyás</td><td>NULL</td></tr>",
                            "<tr><td>175</td><td>Szénási ászló</td><td>NULL</td></tr>",
                            "<tr><td>176</td><td>Kovács András</td><td>NULL</td></tr>",
                            "<tr><td>177</td><td>Szentágotai Istvás</td><td>Dr.</td></tr>",
                            "<tr><td>178</td><td>Vitéz János</td><td>NULL</td></tr>",
                            "<tr><td>179</td><td>Szentágotai Istvás</td><td>Dr.</td></tr>",
                            "<tr><td>180</td><td>Vitéz János</td><td>NULL</td></tr>",
                            "<tr><td>181</td><td>Szentágotai Istvás</td><td>Dr.</td></tr>",
                            "<tr><td>182</td><td>Vitéz János</td><td>NULL</td></tr>",
                            "<tr><td>183</td><td>Szentágotai Istvás</td><td>Dr.</td></tr>",
                            "<tr><td>184</td><td>Vitéz János</td><td>NULL</td></tr>",
                            "<tr><td>185</td><td>Szentágotai Istvás</td><td>Dr.</td></tr>",
                            "<tr><td>186</td><td>Nógrádi Kata</td><td>NULL</td></tr>",
                            "<tr><td>187</td><td>Balkán András</td><td>Dr.</td></tr>",
                            "<tr><td>188</td><td>Farkasos Piroska</td><td>NULL</td></tr>",
                            "<tr><td>189</td><td>Farkasos Piroska</td><td>NULL</td></tr>",
                            "<tr><td>190</td><td>Farkasos Piroska</td><td>NULL</td></tr>",
                            "<tr><td>191</td><td>Varga Kata</td><td>Dr.</td></tr>",
                            "<tr><td>192</td><td>Varga Kata</td><td>Dr.</td></tr>",
                            "<tr><td>193</td><td>Farkasos Piroska</td><td>NULL</td></tr>",
                            "<tr><td>194</td><td>Farkasos Piroska</td><td>NULL</td></tr>",
                            "<tr><td>195</td><td>Balkán András</td><td>Dr.</td></tr>",
                            "<tr><td>196</td><td>Balkán András</td><td>Dr.</td></tr>",
                            "<tr><td>197</td><td>Farkasos Piroska</td><td>NULL</td></tr>",
                            "<tr><td>198</td><td>Farkasos Piroska</td><td>NULL</td></tr>",
                            "<tr><td>199</td><td>Szabó Andrera</td><td>NULL</td></tr>",
                            "<tr><td>200</td><td>Szabó Andrera</td><td>NULL</td></tr>",
                            "<tr><td>201</td><td>Juhász András</td><td>Dr.</td></tr>",
                            "<tr><td>202</td><td>Juhász András</td><td>Dr.</td></tr>",
                            "<tr><td>203</td><td>Aranyi Mária</td><td>NULL</td></tr>",
                            "<tr><td>204</td><td>Róbert Gida</td><td>NULL</td></tr>",
                            "<tr><td>205</td><td>Ujfalussi István</td><td>Prof, tanszékvezető</td></tr>",
                            "<tr><td>206</td><td>Varga Kata</td><td>Dr.</td></tr>",
                            "<tr><td>207</td><td>Varga Kata</td><td>Dr.</td></tr>",
                            "<tr><td>208</td><td>Jogrerős Pál</td><td>Prof.</td></tr>",
                            "<tr><td>209</td><td>Jogrerős Pál</td><td>Prof.</td></tr>",
                            "<tr><td>210</td><td>Szép llonka</td><td>Dr.</td></tr>",
                            "<tr><td>211</td><td>Szép llonka</td><td>Dr.</td></tr>",
                            "<tr><td>212</td><td>Kiss János</td><td>NULL</td></tr>",
                            "<tr><td>213</td><td>Kiss János</td><td>NULL</td></tr>",
                            "<tr><td>214</td><td>Pelikán József</td><td>NULL</td></tr>",
                            "<tr><td>215</td><td>Pelikán József</td><td>NULL</td></tr>",
                            "<tr><td>216</td><td>Szép llonka</td><td>Dr.</td></tr>",
                            "<tr><td>217</td><td>Szép llonka</td><td>Dr.</td></tr>",
                            "<tr><td>218</td><td>Pelikán József</td><td>NULL</td></tr>",
                            "<tr><td>219</td><td>Pelikán József</td><td>NULL</td></tr>",
                            "<tr><td>220</td><td>Kovács László</td><td>Dr.</td></tr>",
                            "<tr><td>221</td><td>Kovács László</td><td>Dr.</td></tr>",
                            "<tr><td>222</td><td>Kovács László</td><td>Dr.</td></tr>",
                            "<tr><td>223</td><td>Kovács László</td><td>Dr.</td></tr>",
                            "<tr><td>226</td><td>Szentágotai Istvás</td><td>Dr.</td></tr>",
                            "<tr><td>227</td><td>Szentágotai Istvás</td><td>Dr.</td></tr>",
                            "</table>"
                        ]
                    }
                }
            ],
            "execution_count": 18
        },
        {
            "cell_type": "markdown",
            "source": [
                "18. . Készítsünk listát az egyes oktatók beosztásáról! A listában szerepeljenek azok a beosztások is, amelyekhez nem tartozik rekord az Oktatok táblában! Jelenítsük meg az oktatók nevét és a beosztásuk nevét!"
            ],
            "metadata": {
                "azdata_cell_guid": "202d98f0-7e1e-433c-b191-1ffcb8a2eccb"
            },
            "attachments": {}
        },
        {
            "cell_type": "code",
            "source": [
                "SELECT b.beosztasnev,\r\n",
                "        okt.nev\r\n",
                "from Oktatok okt JOIN Beosztasok b on okt.beosztás=b.beosztas_id"
            ],
            "metadata": {
                "azdata_cell_guid": "5c59fba5-0f67-459a-9dfe-c1996cd757de",
                "language": "sql"
            },
            "outputs": [
                {
                    "output_type": "display_data",
                    "data": {
                        "text/html": "(25 rows affected)"
                    },
                    "metadata": {}
                },
                {
                    "output_type": "display_data",
                    "data": {
                        "text/html": "Total execution time: 00:00:00.081"
                    },
                    "metadata": {}
                },
                {
                    "output_type": "execute_result",
                    "metadata": {},
                    "execution_count": 20,
                    "data": {
                        "application/vnd.dataresource+json": {
                            "schema": {
                                "fields": [
                                    {
                                        "name": "beosztasnev"
                                    },
                                    {
                                        "name": "nev"
                                    }
                                ]
                            },
                            "data": [
                                {
                                    "beosztasnev": "Egyetemi tanár",
                                    "nev": "Kovács László"
                                },
                                {
                                    "beosztasnev": "Adjunktus",
                                    "nev": "Szentágotai Istvás"
                                },
                                {
                                    "beosztasnev": "Docens",
                                    "nev": "Szerb László"
                                },
                                {
                                    "beosztasnev": "Egyetemi tanár",
                                    "nev": "Ujfalussi István"
                                },
                                {
                                    "beosztasnev": "Docens",
                                    "nev": "Balkán András"
                                },
                                {
                                    "beosztasnev": "Adjunktus",
                                    "nev": "Szép llonka"
                                },
                                {
                                    "beosztasnev": "Tanársegéd",
                                    "nev": "Kiss János"
                                },
                                {
                                    "beosztasnev": "Tanársegéd",
                                    "nev": "Pelikán József"
                                },
                                {
                                    "beosztasnev": "Tanársegéd",
                                    "nev": "Farkasos Piroska"
                                },
                                {
                                    "beosztasnev": "Egyetemi tanár",
                                    "nev": "Jogrerős Pál"
                                },
                                {
                                    "beosztasnev": "Docens",
                                    "nev": "Józsa Gábor"
                                },
                                {
                                    "beosztasnev": "Docens",
                                    "nev": "Varga Kata"
                                },
                                {
                                    "beosztasnev": "Adjunktus",
                                    "nev": "Szénási ászló"
                                },
                                {
                                    "beosztasnev": "Óraadó",
                                    "nev": "Nógrádi Kata"
                                },
                                {
                                    "beosztasnev": "Óraadó",
                                    "nev": "Rácz András"
                                },
                                {
                                    "beosztasnev": "Óraadó",
                                    "nev": "Kovács András"
                                },
                                {
                                    "beosztasnev": "Óraadó",
                                    "nev": "Ludas Mátyás"
                                },
                                {
                                    "beosztasnev": "Óraadó",
                                    "nev": "Kiss István"
                                },
                                {
                                    "beosztasnev": "Óraadó",
                                    "nev": "Mészáros Kriszta"
                                },
                                {
                                    "beosztasnev": "Tanársegéd",
                                    "nev": "Róbert Gida"
                                },
                                {
                                    "beosztasnev": "Tanársegéd",
                                    "nev": "Vitéz János"
                                },
                                {
                                    "beosztasnev": "Óraadó",
                                    "nev": "Aranyi Mária"
                                },
                                {
                                    "beosztasnev": "Óraadó",
                                    "nev": "Szabó Andrera"
                                },
                                {
                                    "beosztasnev": "Egyetemi tanár",
                                    "nev": "Juhász András"
                                },
                                {
                                    "beosztasnev": "Professzor",
                                    "nev": "Kovacs Istvan"
                                }
                            ]
                        },
                        "text/html": [
                            "<table>",
                            "<tr><th>beosztasnev</th><th>nev</th></tr>",
                            "<tr><td>Egyetemi tanár</td><td>Kovács László</td></tr>",
                            "<tr><td>Adjunktus</td><td>Szentágotai Istvás</td></tr>",
                            "<tr><td>Docens</td><td>Szerb László</td></tr>",
                            "<tr><td>Egyetemi tanár</td><td>Ujfalussi István</td></tr>",
                            "<tr><td>Docens</td><td>Balkán András</td></tr>",
                            "<tr><td>Adjunktus</td><td>Szép llonka</td></tr>",
                            "<tr><td>Tanársegéd</td><td>Kiss János</td></tr>",
                            "<tr><td>Tanársegéd</td><td>Pelikán József</td></tr>",
                            "<tr><td>Tanársegéd</td><td>Farkasos Piroska</td></tr>",
                            "<tr><td>Egyetemi tanár</td><td>Jogrerős Pál</td></tr>",
                            "<tr><td>Docens</td><td>Józsa Gábor</td></tr>",
                            "<tr><td>Docens</td><td>Varga Kata</td></tr>",
                            "<tr><td>Adjunktus</td><td>Szénási ászló</td></tr>",
                            "<tr><td>Óraadó</td><td>Nógrádi Kata</td></tr>",
                            "<tr><td>Óraadó</td><td>Rácz András</td></tr>",
                            "<tr><td>Óraadó</td><td>Kovács András</td></tr>",
                            "<tr><td>Óraadó</td><td>Ludas Mátyás</td></tr>",
                            "<tr><td>Óraadó</td><td>Kiss István</td></tr>",
                            "<tr><td>Óraadó</td><td>Mészáros Kriszta</td></tr>",
                            "<tr><td>Tanársegéd</td><td>Róbert Gida</td></tr>",
                            "<tr><td>Tanársegéd</td><td>Vitéz János</td></tr>",
                            "<tr><td>Óraadó</td><td>Aranyi Mária</td></tr>",
                            "<tr><td>Óraadó</td><td>Szabó Andrera</td></tr>",
                            "<tr><td>Egyetemi tanár</td><td>Juhász András</td></tr>",
                            "<tr><td>Professzor</td><td>Kovacs Istvan</td></tr>",
                            "</table>"
                        ]
                    }
                }
            ],
            "execution_count": 20
        },
        {
            "cell_type": "markdown",
            "source": [
                "19. Mely órák kezdődnek a 8.00-s sávban? Csak az órák azonosítóit jelenítsük meg!"
            ],
            "metadata": {
                "azdata_cell_guid": "fd28f228-dcb3-409b-8a81-20a5358822d5"
            },
            "attachments": {}
        },
        {
            "cell_type": "code",
            "source": [
                "SELECT o.ora_id\r\n",
                "from Orak o JOIN Savok s on o.Sav=s.Sav_id\r\n",
                "WHERE s.Időpont='8.00'"
            ],
            "metadata": {
                "azdata_cell_guid": "cfc85cc6-591c-47a6-986b-477200702613",
                "language": "sql"
            },
            "outputs": [
                {
                    "output_type": "display_data",
                    "data": {
                        "text/html": "(8 rows affected)"
                    },
                    "metadata": {}
                },
                {
                    "output_type": "display_data",
                    "data": {
                        "text/html": "Total execution time: 00:00:00.017"
                    },
                    "metadata": {}
                },
                {
                    "output_type": "execute_result",
                    "metadata": {},
                    "execution_count": 21,
                    "data": {
                        "application/vnd.dataresource+json": {
                            "schema": {
                                "fields": [
                                    {
                                        "name": "ora_id"
                                    }
                                ]
                            },
                            "data": [
                                {
                                    "ora_id": "159"
                                },
                                {
                                    "ora_id": "181"
                                },
                                {
                                    "ora_id": "182"
                                },
                                {
                                    "ora_id": "197"
                                },
                                {
                                    "ora_id": "199"
                                },
                                {
                                    "ora_id": "206"
                                },
                                {
                                    "ora_id": "208"
                                },
                                {
                                    "ora_id": "223"
                                }
                            ]
                        },
                        "text/html": [
                            "<table>",
                            "<tr><th>ora_id</th></tr>",
                            "<tr><td>159</td></tr>",
                            "<tr><td>181</td></tr>",
                            "<tr><td>182</td></tr>",
                            "<tr><td>197</td></tr>",
                            "<tr><td>199</td></tr>",
                            "<tr><td>206</td></tr>",
                            "<tr><td>208</td></tr>",
                            "<tr><td>223</td></tr>",
                            "</table>"
                        ]
                    }
                }
            ],
            "execution_count": 21
        },
        {
            "cell_type": "markdown",
            "source": [
                "20. . Listázzuk a tanórák azonosítóját, a tanár és a tantárgy, valamint a terem nevét is! Szűrjünk csak a keddi és szerdai napokra!"
            ],
            "metadata": {
                "azdata_cell_guid": "46647791-b06b-4e81-ad31-c2636968804e"
            },
            "attachments": {}
        },
        {
            "cell_type": "code",
            "source": [
                "SELECT o.ora_id,\r\n",
                "        okt.nev,\r\n",
                "        t.Tantárgynév,\r\n",
                "        tr.Terem\r\n",
                "from Orak o JOIN Oktatok okt on o.tanar=okt.oktato_id\r\n",
                "            JOIN Tantárgyak t on o.targy=t.Tkód\r\n",
                "            JOIN Termek tr on o.terem=tr.Tkód\r\n",
                "            JOIN Napok n on o.nap=n.nap_id\r\n",
                "where n.nap in ('Kedd','Szerda')"
            ],
            "metadata": {
                "azdata_cell_guid": "3a1859c5-38c6-452a-8c7e-25d079180304",
                "language": "sql"
            },
            "outputs": [
                {
                    "output_type": "display_data",
                    "data": {
                        "text/html": "(19 rows affected)"
                    },
                    "metadata": {}
                },
                {
                    "output_type": "display_data",
                    "data": {
                        "text/html": "Total execution time: 00:00:00.075"
                    },
                    "metadata": {}
                },
                {
                    "output_type": "execute_result",
                    "metadata": {},
                    "execution_count": 24,
                    "data": {
                        "application/vnd.dataresource+json": {
                            "schema": {
                                "fields": [
                                    {
                                        "name": "ora_id"
                                    },
                                    {
                                        "name": "nev"
                                    },
                                    {
                                        "name": "Tantárgynév"
                                    },
                                    {
                                        "name": "Terem"
                                    }
                                ]
                            },
                            "data": [
                                {
                                    "ora_id": "159",
                                    "nev": "Ujfalussi István",
                                    "Tantárgynév": "Az ürgeöntés alapjai",
                                    "Terem": "117"
                                },
                                {
                                    "ora_id": "160",
                                    "nev": "Pelikán József",
                                    "Tantárgynév": "Az ürgeöntés alapjai",
                                    "Terem": "118"
                                },
                                {
                                    "ora_id": "163",
                                    "nev": "Szerb László",
                                    "Tantárgynév": "Az ürgeöntés alapjai",
                                    "Terem": "120"
                                },
                                {
                                    "ora_id": "164",
                                    "nev": "Kiss János",
                                    "Tantárgynév": "Az ürgeöntés alapjai",
                                    "Terem": "119"
                                },
                                {
                                    "ora_id": "165",
                                    "nev": "Szerb László",
                                    "Tantárgynév": "Az ürgeöntés alapjai",
                                    "Terem": "119"
                                },
                                {
                                    "ora_id": "166",
                                    "nev": "Szerb László",
                                    "Tantárgynév": "Az ürgeöntés alapjai",
                                    "Terem": "119"
                                },
                                {
                                    "ora_id": "171",
                                    "nev": "Szénási ászló",
                                    "Tantárgynév": "Az ürgeöntés alapjai",
                                    "Terem": "220"
                                },
                                {
                                    "ora_id": "172",
                                    "nev": "Kiss János",
                                    "Tantárgynév": "Az ürgeöntés alapjai",
                                    "Terem": "119"
                                },
                                {
                                    "ora_id": "186",
                                    "nev": "Nógrádi Kata",
                                    "Tantárgynév": "ü-business",
                                    "Terem": "219"
                                },
                                {
                                    "ora_id": "187",
                                    "nev": "Balkán András",
                                    "Tantárgynév": "Bevezetés az ürgeöntésbe",
                                    "Terem": "217"
                                },
                                {
                                    "ora_id": "198",
                                    "nev": "Farkasos Piroska",
                                    "Tantárgynév": "Az ürgeöntés hydrológiai alapjai II.",
                                    "Terem": "119"
                                },
                                {
                                    "ora_id": "204",
                                    "nev": "Róbert Gida",
                                    "Tantárgynév": "Az ürgeöntés hydrológiai alapjai I.",
                                    "Terem": "120"
                                },
                                {
                                    "ora_id": "206",
                                    "nev": "Varga Kata",
                                    "Tantárgynév": "Az öntés elmélete",
                                    "Terem": "S.Asor.S3"
                                },
                                {
                                    "ora_id": "218",
                                    "nev": "Pelikán József",
                                    "Tantárgynév": "Az ürge anatómiája",
                                    "Terem": "118"
                                },
                                {
                                    "ora_id": "219",
                                    "nev": "Pelikán József",
                                    "Tantárgynév": "Az ürge anatómiája",
                                    "Terem": "219"
                                },
                                {
                                    "ora_id": "220",
                                    "nev": "Kovács László",
                                    "Tantárgynév": "Fejezetek az ürgék jogaiból",
                                    "Terem": "119"
                                },
                                {
                                    "ora_id": "221",
                                    "nev": "Kovács László",
                                    "Tantárgynév": "Fejezetek az ürgék jogaiból",
                                    "Terem": "VP 203."
                                },
                                {
                                    "ora_id": "226",
                                    "nev": "Szentágotai Istvás",
                                    "Tantárgynév": "ürgefőzés",
                                    "Terem": "117"
                                },
                                {
                                    "ora_id": "227",
                                    "nev": "Szentágotai Istvás",
                                    "Tantárgynév": "Az ürgeöntés hydrológiai alapjai I.",
                                    "Terem": "116"
                                }
                            ]
                        },
                        "text/html": [
                            "<table>",
                            "<tr><th>ora_id</th><th>nev</th><th>Tantárgynév</th><th>Terem</th></tr>",
                            "<tr><td>159</td><td>Ujfalussi István</td><td>Az ürgeöntés alapjai</td><td>117</td></tr>",
                            "<tr><td>160</td><td>Pelikán József</td><td>Az ürgeöntés alapjai</td><td>118</td></tr>",
                            "<tr><td>163</td><td>Szerb László</td><td>Az ürgeöntés alapjai</td><td>120</td></tr>",
                            "<tr><td>164</td><td>Kiss János</td><td>Az ürgeöntés alapjai</td><td>119</td></tr>",
                            "<tr><td>165</td><td>Szerb László</td><td>Az ürgeöntés alapjai</td><td>119</td></tr>",
                            "<tr><td>166</td><td>Szerb László</td><td>Az ürgeöntés alapjai</td><td>119</td></tr>",
                            "<tr><td>171</td><td>Szénási ászló</td><td>Az ürgeöntés alapjai</td><td>220</td></tr>",
                            "<tr><td>172</td><td>Kiss János</td><td>Az ürgeöntés alapjai</td><td>119</td></tr>",
                            "<tr><td>186</td><td>Nógrádi Kata</td><td>ü-business</td><td>219</td></tr>",
                            "<tr><td>187</td><td>Balkán András</td><td>Bevezetés az ürgeöntésbe</td><td>217</td></tr>",
                            "<tr><td>198</td><td>Farkasos Piroska</td><td>Az ürgeöntés hydrológiai alapjai II.</td><td>119</td></tr>",
                            "<tr><td>204</td><td>Róbert Gida</td><td>Az ürgeöntés hydrológiai alapjai I.</td><td>120</td></tr>",
                            "<tr><td>206</td><td>Varga Kata</td><td>Az öntés elmélete</td><td>S.Asor.S3</td></tr>",
                            "<tr><td>218</td><td>Pelikán József</td><td>Az ürge anatómiája</td><td>118</td></tr>",
                            "<tr><td>219</td><td>Pelikán József</td><td>Az ürge anatómiája</td><td>219</td></tr>",
                            "<tr><td>220</td><td>Kovács László</td><td>Fejezetek az ürgék jogaiból</td><td>119</td></tr>",
                            "<tr><td>221</td><td>Kovács László</td><td>Fejezetek az ürgék jogaiból</td><td>VP 203.</td></tr>",
                            "<tr><td>226</td><td>Szentágotai Istvás</td><td>ürgefőzés</td><td>117</td></tr>",
                            "<tr><td>227</td><td>Szentágotai Istvás</td><td>Az ürgeöntés hydrológiai alapjai I.</td><td>116</td></tr>",
                            "</table>"
                        ]
                    }
                }
            ],
            "execution_count": 24
        },
        {
            "cell_type": "markdown",
            "source": [
                "21. Készítsünk lekérdezést, amely megjeleníti azon tanár párosításokat, akiknek ugyanaz a státuszuk és beosztásuk! Jelenítsük meg a tanárok neveit, valamint a státusz és beosztás megnevezéseket!"
            ],
            "metadata": {
                "azdata_cell_guid": "ce38da87-22c1-4f3c-94fc-2ec5f6fed24f"
            },
            "attachments": {}
        },
        {
            "cell_type": "code",
            "source": [
                "SELECT o1.nev, o2.nev,\r\n",
                "        s.[Status],\r\n",
                "        b.beosztasnev\r\n",
                "FROM Oktatok o1 JOIN Oktatok o2 ON o1.oktato_id <> o2.oktato_id \r\n",
                "                AND o1.beosztás = o2.beosztás\r\n",
                "                AND o1.status = o2.status\r\n",
                "                JOIN Beosztasok b on o1.beosztás = b.beosztas_id \r\n",
                "                JOIN Statusok s on o1.status = s.skod"
            ],
            "metadata": {
                "azdata_cell_guid": "f3d70143-5941-432a-bf52-6417d3efa29a",
                "language": "sql"
            },
            "outputs": [
                {
                    "output_type": "display_data",
                    "data": {
                        "text/html": "(52 rows affected)"
                    },
                    "metadata": {}
                },
                {
                    "output_type": "display_data",
                    "data": {
                        "text/html": "Total execution time: 00:00:00.060"
                    },
                    "metadata": {}
                },
                {
                    "output_type": "execute_result",
                    "metadata": {},
                    "execution_count": 28,
                    "data": {
                        "application/vnd.dataresource+json": {
                            "schema": {
                                "fields": [
                                    {
                                        "name": "nev"
                                    },
                                    {
                                        "name": "nev"
                                    },
                                    {
                                        "name": "Status"
                                    },
                                    {
                                        "name": "beosztasnev"
                                    }
                                ]
                            },
                            "data": [
                                {
                                    "nev": "Ujfalussi István",
                                    "Status": "Félállású",
                                    "beosztasnev": "Egyetemi tanár"
                                },
                                {
                                    "nev": "Józsa Gábor",
                                    "Status": "Főállású",
                                    "beosztasnev": "Docens"
                                },
                                {
                                    "nev": "Varga Kata",
                                    "Status": "Főállású",
                                    "beosztasnev": "Docens"
                                },
                                {
                                    "nev": "Kovács László",
                                    "Status": "Félállású",
                                    "beosztasnev": "Egyetemi tanár"
                                },
                                {
                                    "nev": "Szénási ászló",
                                    "Status": "Főállású",
                                    "beosztasnev": "Adjunktus"
                                },
                                {
                                    "nev": "Róbert Gida",
                                    "Status": "Főállású",
                                    "beosztasnev": "Tanársegéd"
                                },
                                {
                                    "nev": "Vitéz János",
                                    "Status": "Főállású",
                                    "beosztasnev": "Tanársegéd"
                                },
                                {
                                    "nev": "Farkasos Piroska",
                                    "Status": "Óraadó",
                                    "beosztasnev": "Tanársegéd"
                                },
                                {
                                    "nev": "Pelikán József",
                                    "Status": "Óraadó",
                                    "beosztasnev": "Tanársegéd"
                                },
                                {
                                    "nev": "Juhász András",
                                    "Status": "Főállású",
                                    "beosztasnev": "Egyetemi tanár"
                                },
                                {
                                    "nev": "Szerb László",
                                    "Status": "Főállású",
                                    "beosztasnev": "Docens"
                                },
                                {
                                    "nev": "Varga Kata",
                                    "Status": "Főállású",
                                    "beosztasnev": "Docens"
                                },
                                {
                                    "nev": "Szerb László",
                                    "Status": "Főállású",
                                    "beosztasnev": "Docens"
                                },
                                {
                                    "nev": "Józsa Gábor",
                                    "Status": "Főállású",
                                    "beosztasnev": "Docens"
                                },
                                {
                                    "nev": "Szép llonka",
                                    "Status": "Főállású",
                                    "beosztasnev": "Adjunktus"
                                },
                                {
                                    "nev": "Rácz András",
                                    "Status": "Főállású",
                                    "beosztasnev": "Óraadó"
                                },
                                {
                                    "nev": "Kovács András",
                                    "Status": "Főállású",
                                    "beosztasnev": "Óraadó"
                                },
                                {
                                    "nev": "Ludas Mátyás",
                                    "Status": "Főállású",
                                    "beosztasnev": "Óraadó"
                                },
                                {
                                    "nev": "Aranyi Mária",
                                    "Status": "Főállású",
                                    "beosztasnev": "Óraadó"
                                },
                                {
                                    "nev": "Szabó Andrera",
                                    "Status": "Főállású",
                                    "beosztasnev": "Óraadó"
                                },
                                {
                                    "nev": "Nógrádi Kata",
                                    "Status": "Főállású",
                                    "beosztasnev": "Óraadó"
                                },
                                {
                                    "nev": "Kovács András",
                                    "Status": "Főállású",
                                    "beosztasnev": "Óraadó"
                                },
                                {
                                    "nev": "Ludas Mátyás",
                                    "Status": "Főállású",
                                    "beosztasnev": "Óraadó"
                                },
                                {
                                    "nev": "Aranyi Mária",
                                    "Status": "Főállású",
                                    "beosztasnev": "Óraadó"
                                },
                                {
                                    "nev": "Szabó Andrera",
                                    "Status": "Főállású",
                                    "beosztasnev": "Óraadó"
                                },
                                {
                                    "nev": "Nógrádi Kata",
                                    "Status": "Főállású",
                                    "beosztasnev": "Óraadó"
                                },
                                {
                                    "nev": "Rácz András",
                                    "Status": "Főállású",
                                    "beosztasnev": "Óraadó"
                                },
                                {
                                    "nev": "Ludas Mátyás",
                                    "Status": "Főállású",
                                    "beosztasnev": "Óraadó"
                                },
                                {
                                    "nev": "Aranyi Mária",
                                    "Status": "Főállású",
                                    "beosztasnev": "Óraadó"
                                },
                                {
                                    "nev": "Szabó Andrera",
                                    "Status": "Főállású",
                                    "beosztasnev": "Óraadó"
                                },
                                {
                                    "nev": "Nógrádi Kata",
                                    "Status": "Főállású",
                                    "beosztasnev": "Óraadó"
                                },
                                {
                                    "nev": "Rácz András",
                                    "Status": "Főállású",
                                    "beosztasnev": "Óraadó"
                                },
                                {
                                    "nev": "Kovács András",
                                    "Status": "Főállású",
                                    "beosztasnev": "Óraadó"
                                },
                                {
                                    "nev": "Aranyi Mária",
                                    "Status": "Főállású",
                                    "beosztasnev": "Óraadó"
                                },
                                {
                                    "nev": "Szabó Andrera",
                                    "Status": "Főállású",
                                    "beosztasnev": "Óraadó"
                                },
                                {
                                    "nev": "Mészáros Kriszta",
                                    "Status": "Félállású",
                                    "beosztasnev": "Óraadó"
                                },
                                {
                                    "nev": "Kiss István",
                                    "Status": "Félállású",
                                    "beosztasnev": "Óraadó"
                                },
                                {
                                    "nev": "Kiss János",
                                    "Status": "Főállású",
                                    "beosztasnev": "Tanársegéd"
                                },
                                {
                                    "nev": "Vitéz János",
                                    "Status": "Főállású",
                                    "beosztasnev": "Tanársegéd"
                                },
                                {
                                    "nev": "Kiss János",
                                    "Status": "Főállású",
                                    "beosztasnev": "Tanársegéd"
                                },
                                {
                                    "nev": "Róbert Gida",
                                    "Status": "Főállású",
                                    "beosztasnev": "Tanársegéd"
                                },
                                {
                                    "nev": "Nógrádi Kata",
                                    "Status": "Főállású",
                                    "beosztasnev": "Óraadó"
                                },
                                {
                                    "nev": "Rácz András",
                                    "Status": "Főállású",
                                    "beosztasnev": "Óraadó"
                                },
                                {
                                    "nev": "Kovács András",
                                    "Status": "Főállású",
                                    "beosztasnev": "Óraadó"
                                },
                                {
                                    "nev": "Ludas Mátyás",
                                    "Status": "Főállású",
                                    "beosztasnev": "Óraadó"
                                },
                                {
                                    "nev": "Szabó Andrera",
                                    "Status": "Főállású",
                                    "beosztasnev": "Óraadó"
                                },
                                {
                                    "nev": "Nógrádi Kata",
                                    "Status": "Főállású",
                                    "beosztasnev": "Óraadó"
                                },
                                {
                                    "nev": "Rácz András",
                                    "Status": "Főállású",
                                    "beosztasnev": "Óraadó"
                                },
                                {
                                    "nev": "Kovács András",
                                    "Status": "Főállású",
                                    "beosztasnev": "Óraadó"
                                },
                                {
                                    "nev": "Ludas Mátyás",
                                    "Status": "Főállású",
                                    "beosztasnev": "Óraadó"
                                },
                                {
                                    "nev": "Aranyi Mária",
                                    "Status": "Főállású",
                                    "beosztasnev": "Óraadó"
                                },
                                {
                                    "nev": "Jogrerős Pál",
                                    "Status": "Főállású",
                                    "beosztasnev": "Egyetemi tanár"
                                }
                            ]
                        },
                        "text/html": [
                            "<table>",
                            "<tr><th>nev</th><th>nev</th><th>Status</th><th>beosztasnev</th></tr>",
                            "<tr><td>Kovács László</td><td>Ujfalussi István</td><td>Félállású</td><td>Egyetemi tanár</td></tr>",
                            "<tr><td>Szerb László</td><td>Józsa Gábor</td><td>Főállású</td><td>Docens</td></tr>",
                            "<tr><td>Szerb László</td><td>Varga Kata</td><td>Főállású</td><td>Docens</td></tr>",
                            "<tr><td>Ujfalussi István</td><td>Kovács László</td><td>Félállású</td><td>Egyetemi tanár</td></tr>",
                            "<tr><td>Szép llonka</td><td>Szénási ászló</td><td>Főállású</td><td>Adjunktus</td></tr>",
                            "<tr><td>Kiss János</td><td>Róbert Gida</td><td>Főállású</td><td>Tanársegéd</td></tr>",
                            "<tr><td>Kiss János</td><td>Vitéz János</td><td>Főállású</td><td>Tanársegéd</td></tr>",
                            "<tr><td>Pelikán József</td><td>Farkasos Piroska</td><td>Óraadó</td><td>Tanársegéd</td></tr>",
                            "<tr><td>Farkasos Piroska</td><td>Pelikán József</td><td>Óraadó</td><td>Tanársegéd</td></tr>",
                            "<tr><td>Jogrerős Pál</td><td>Juhász András</td><td>Főállású</td><td>Egyetemi tanár</td></tr>",
                            "<tr><td>Józsa Gábor</td><td>Szerb László</td><td>Főállású</td><td>Docens</td></tr>",
                            "<tr><td>Józsa Gábor</td><td>Varga Kata</td><td>Főállású</td><td>Docens</td></tr>",
                            "<tr><td>Varga Kata</td><td>Szerb László</td><td>Főállású</td><td>Docens</td></tr>",
                            "<tr><td>Varga Kata</td><td>Józsa Gábor</td><td>Főállású</td><td>Docens</td></tr>",
                            "<tr><td>Szénási ászló</td><td>Szép llonka</td><td>Főállású</td><td>Adjunktus</td></tr>",
                            "<tr><td>Nógrádi Kata</td><td>Rácz András</td><td>Főállású</td><td>Óraadó</td></tr>",
                            "<tr><td>Nógrádi Kata</td><td>Kovács András</td><td>Főállású</td><td>Óraadó</td></tr>",
                            "<tr><td>Nógrádi Kata</td><td>Ludas Mátyás</td><td>Főállású</td><td>Óraadó</td></tr>",
                            "<tr><td>Nógrádi Kata</td><td>Aranyi Mária</td><td>Főállású</td><td>Óraadó</td></tr>",
                            "<tr><td>Nógrádi Kata</td><td>Szabó Andrera</td><td>Főállású</td><td>Óraadó</td></tr>",
                            "<tr><td>Rácz András</td><td>Nógrádi Kata</td><td>Főállású</td><td>Óraadó</td></tr>",
                            "<tr><td>Rácz András</td><td>Kovács András</td><td>Főállású</td><td>Óraadó</td></tr>",
                            "<tr><td>Rácz András</td><td>Ludas Mátyás</td><td>Főállású</td><td>Óraadó</td></tr>",
                            "<tr><td>Rácz András</td><td>Aranyi Mária</td><td>Főállású</td><td>Óraadó</td></tr>",
                            "<tr><td>Rácz András</td><td>Szabó Andrera</td><td>Főállású</td><td>Óraadó</td></tr>",
                            "<tr><td>Kovács András</td><td>Nógrádi Kata</td><td>Főállású</td><td>Óraadó</td></tr>",
                            "<tr><td>Kovács András</td><td>Rácz András</td><td>Főállású</td><td>Óraadó</td></tr>",
                            "<tr><td>Kovács András</td><td>Ludas Mátyás</td><td>Főállású</td><td>Óraadó</td></tr>",
                            "<tr><td>Kovács András</td><td>Aranyi Mária</td><td>Főállású</td><td>Óraadó</td></tr>",
                            "<tr><td>Kovács András</td><td>Szabó Andrera</td><td>Főállású</td><td>Óraadó</td></tr>",
                            "<tr><td>Ludas Mátyás</td><td>Nógrádi Kata</td><td>Főállású</td><td>Óraadó</td></tr>",
                            "<tr><td>Ludas Mátyás</td><td>Rácz András</td><td>Főállású</td><td>Óraadó</td></tr>",
                            "<tr><td>Ludas Mátyás</td><td>Kovács András</td><td>Főállású</td><td>Óraadó</td></tr>",
                            "<tr><td>Ludas Mátyás</td><td>Aranyi Mária</td><td>Főállású</td><td>Óraadó</td></tr>",
                            "<tr><td>Ludas Mátyás</td><td>Szabó Andrera</td><td>Főállású</td><td>Óraadó</td></tr>",
                            "<tr><td>Kiss István</td><td>Mészáros Kriszta</td><td>Félállású</td><td>Óraadó</td></tr>",
                            "<tr><td>Mészáros Kriszta</td><td>Kiss István</td><td>Félállású</td><td>Óraadó</td></tr>",
                            "<tr><td>Róbert Gida</td><td>Kiss János</td><td>Főállású</td><td>Tanársegéd</td></tr>",
                            "<tr><td>Róbert Gida</td><td>Vitéz János</td><td>Főállású</td><td>Tanársegéd</td></tr>",
                            "<tr><td>Vitéz János</td><td>Kiss János</td><td>Főállású</td><td>Tanársegéd</td></tr>",
                            "<tr><td>Vitéz János</td><td>Róbert Gida</td><td>Főállású</td><td>Tanársegéd</td></tr>",
                            "<tr><td>Aranyi Mária</td><td>Nógrádi Kata</td><td>Főállású</td><td>Óraadó</td></tr>",
                            "<tr><td>Aranyi Mária</td><td>Rácz András</td><td>Főállású</td><td>Óraadó</td></tr>",
                            "<tr><td>Aranyi Mária</td><td>Kovács András</td><td>Főállású</td><td>Óraadó</td></tr>",
                            "<tr><td>Aranyi Mária</td><td>Ludas Mátyás</td><td>Főállású</td><td>Óraadó</td></tr>",
                            "<tr><td>Aranyi Mária</td><td>Szabó Andrera</td><td>Főállású</td><td>Óraadó</td></tr>",
                            "<tr><td>Szabó Andrera</td><td>Nógrádi Kata</td><td>Főállású</td><td>Óraadó</td></tr>",
                            "<tr><td>Szabó Andrera</td><td>Rácz András</td><td>Főállású</td><td>Óraadó</td></tr>",
                            "<tr><td>Szabó Andrera</td><td>Kovács András</td><td>Főállású</td><td>Óraadó</td></tr>",
                            "<tr><td>Szabó Andrera</td><td>Ludas Mátyás</td><td>Főállású</td><td>Óraadó</td></tr>",
                            "<tr><td>Szabó Andrera</td><td>Aranyi Mária</td><td>Főállású</td><td>Óraadó</td></tr>",
                            "<tr><td>Juhász András</td><td>Jogrerős Pál</td><td>Főállású</td><td>Egyetemi tanár</td></tr>",
                            "</table>"
                        ]
                    }
                }
            ],
            "execution_count": 28
        },
        {
            "cell_type": "markdown",
            "source": [
                "22. <span style=\"color: rgb(36, 41, 47); font-family: -apple-system, BlinkMacSystemFont, &quot;Segoe UI&quot;, Helvetica, Arial, sans-serif, &quot;Apple Color Emoji&quot;, &quot;Segoe UI Emoji&quot;; font-size: 16px;\">Készítsünk lekérdezést, amely listázza, hogy mely napokon hány db kölcsönzés történt!</span>\n",
                "\n",
                "<span style=\"font-size: 16px;\">a.&nbsp;</span>  Az oszlopok neve legyen 'Dátum' és 'Kölcsönzések száma'  \n",
                "b. A listát rendezzük a kölcsönzés dátuma szerint csökkenő sorrendbe!"
            ],
            "metadata": {
                "azdata_cell_guid": "848c1c75-86c4-4f20-b791-483d1ea28128"
            },
            "attachments": {}
        },
        {
            "cell_type": "code",
            "source": [
                "SELECT ki_datum as 'Dátum',\r\n",
                "        COUNT(ki_datum) as 'db'\r\n",
                "from kolcsonzesek\r\n",
                "GROUP BY ki_datum\r\n",
                "ORDER by ki_datum DESC"
            ],
            "metadata": {
                "azdata_cell_guid": "9be7184e-bf98-4a68-8277-b8748a30c099",
                "language": "sql"
            },
            "outputs": [
                {
                    "output_type": "display_data",
                    "data": {
                        "text/html": "(3 rows affected)"
                    },
                    "metadata": {}
                },
                {
                    "output_type": "display_data",
                    "data": {
                        "text/html": "Total execution time: 00:00:00.020"
                    },
                    "metadata": {}
                },
                {
                    "output_type": "execute_result",
                    "metadata": {},
                    "execution_count": 31,
                    "data": {
                        "application/vnd.dataresource+json": {
                            "schema": {
                                "fields": [
                                    {
                                        "name": "Dátum"
                                    },
                                    {
                                        "name": "db"
                                    }
                                ]
                            },
                            "data": [
                                {
                                    "Dátum": "2006-10-02",
                                    "db": "1"
                                },
                                {
                                    "Dátum": "2006-10-01",
                                    "db": "1"
                                },
                                {
                                    "Dátum": "2003-12-11",
                                    "db": "3"
                                }
                            ]
                        },
                        "text/html": [
                            "<table>",
                            "<tr><th>Dátum</th><th>db</th></tr>",
                            "<tr><td>2006-10-02</td><td>1</td></tr>",
                            "<tr><td>2006-10-01</td><td>1</td></tr>",
                            "<tr><td>2003-12-11</td><td>3</td></tr>",
                            "</table>"
                        ]
                    }
                }
            ],
            "execution_count": 31
        },
        {
            "cell_type": "markdown",
            "source": [
                "23. <span style=\"color: rgb(36, 41, 47); font-family: -apple-system, BlinkMacSystemFont, &quot;Segoe UI&quot;, Helvetica, Arial, sans-serif, &quot;Apple Color Emoji&quot;, &quot;Segoe UI Emoji&quot;; font-size: 16px; font-weight: 600;\">Mennyi a dvd-k átlagos ára stílusonkénti bontásban?</span>\n",
                "\n",
                "1. Csak azokat a stílusokat vegyük figyelembe, ahol az átlagos ár 4500 Ft feletti!\n",
                "2. Az oszlopokat nevezzük el értelemszerűen!\n",
                "3. A listát rendezzük átlagos ár szerint csökkenő sorrendbe!"
            ],
            "metadata": {
                "azdata_cell_guid": "32289d52-1f55-458d-aac4-c14c03ffb47e"
            },
            "attachments": {}
        },
        {
            "cell_type": "code",
            "source": [
                "SELECT\r\n",
                "        stilus,\r\n",
                "        AVG(nettoar) as 'átlagár'\r\n",
                "from dvd\r\n",
                "GROUP BY stilus\r\n",
                "HAVING AVG(nettoar)>4500\r\n",
                "ORDER BY AVG(nettoar) DESC"
            ],
            "metadata": {
                "azdata_cell_guid": "38e0deca-131b-4685-b22b-49acb6268c53",
                "language": "sql"
            },
            "outputs": [
                {
                    "output_type": "display_data",
                    "data": {
                        "text/html": "(30 rows affected)"
                    },
                    "metadata": {}
                },
                {
                    "output_type": "display_data",
                    "data": {
                        "text/html": "Total execution time: 00:00:00.023"
                    },
                    "metadata": {}
                },
                {
                    "output_type": "execute_result",
                    "metadata": {},
                    "execution_count": 35,
                    "data": {
                        "application/vnd.dataresource+json": {
                            "schema": {
                                "fields": [
                                    {
                                        "name": "stilus"
                                    },
                                    {
                                        "name": "átlagár"
                                    }
                                ]
                            },
                            "data": [
                                {
                                    "stilus": "ásványtan",
                                    "átlagár": "5624"
                                },
                                {
                                    "stilus": "játék (rodeó)",
                                    "átlagár": "5591"
                                },
                                {
                                    "stilus": "humor",
                                    "átlagár": "5573"
                                },
                                {
                                    "stilus": "környezetvédelem",
                                    "átlagár": "5508"
                                },
                                {
                                    "stilus": "kresz",
                                    "átlagár": "5476"
                                },
                                {
                                    "stilus": "játék (jégkorong)",
                                    "átlagár": "5242"
                                },
                                {
                                    "stilus": "színház",
                                    "átlagár": "5158"
                                },
                                {
                                    "stilus": "múvészet",
                                    "átlagár": "5118"
                                },
                                {
                                    "stilus": "kémia",
                                    "átlagár": "5094"
                                },
                                {
                                    "stilus": "fordító program",
                                    "átlagár": "5036"
                                },
                                {
                                    "stilus": "kerttervező",
                                    "átlagár": "4951"
                                },
                                {
                                    "stilus": "művészet",
                                    "átlagár": "4939,25"
                                },
                                {
                                    "stilus": "festészet",
                                    "átlagár": "4901"
                                },
                                {
                                    "stilus": "zene",
                                    "átlagár": "4855,333333333333"
                                },
                                {
                                    "stilus": "játék",
                                    "átlagár": "4850,466666666666"
                                },
                                {
                                    "stilus": "játék (labdarúgás)",
                                    "átlagár": "4817,333333333333"
                                },
                                {
                                    "stilus": "állattan",
                                    "átlagár": "4783,666666666667"
                                },
                                {
                                    "stilus": "nyelvtan",
                                    "átlagár": "4770,666666666667"
                                },
                                {
                                    "stilus": "fizika",
                                    "átlagár": "4769"
                                },
                                {
                                    "stilus": "nyelvtanító",
                                    "átlagár": "4759,476190476191"
                                },
                                {
                                    "stilus": "csillagászat",
                                    "átlagár": "4733,571428571428"
                                },
                                {
                                    "stilus": "ismeretterjesztő",
                                    "átlagár": "4726,673913043478"
                                },
                                {
                                    "stilus": "irodalom, nyelv",
                                    "átlagár": "4704"
                                },
                                {
                                    "stilus": "gasztronómia",
                                    "átlagár": "4691"
                                },
                                {
                                    "stilus": "történelem",
                                    "átlagár": "4655,731707317073"
                                },
                                {
                                    "stilus": "szótár",
                                    "átlagár": "4624,428571428572"
                                },
                                {
                                    "stilus": "sport",
                                    "átlagár": "4607"
                                },
                                {
                                    "stilus": "földrajz",
                                    "átlagár": "4580,0625"
                                },
                                {
                                    "stilus": "matematika",
                                    "átlagár": "4520,777777777777"
                                },
                                {
                                    "stilus": "felvételi",
                                    "átlagár": "4501,333333333333"
                                }
                            ]
                        },
                        "text/html": [
                            "<table>",
                            "<tr><th>stilus</th><th>átlagár</th></tr>",
                            "<tr><td>ásványtan</td><td>5624</td></tr>",
                            "<tr><td>játék (rodeó)</td><td>5591</td></tr>",
                            "<tr><td>humor</td><td>5573</td></tr>",
                            "<tr><td>környezetvédelem</td><td>5508</td></tr>",
                            "<tr><td>kresz</td><td>5476</td></tr>",
                            "<tr><td>játék (jégkorong)</td><td>5242</td></tr>",
                            "<tr><td>színház</td><td>5158</td></tr>",
                            "<tr><td>múvészet</td><td>5118</td></tr>",
                            "<tr><td>kémia</td><td>5094</td></tr>",
                            "<tr><td>fordító program</td><td>5036</td></tr>",
                            "<tr><td>kerttervező</td><td>4951</td></tr>",
                            "<tr><td>művészet</td><td>4939,25</td></tr>",
                            "<tr><td>festészet</td><td>4901</td></tr>",
                            "<tr><td>zene</td><td>4855,333333333333</td></tr>",
                            "<tr><td>játék</td><td>4850,466666666666</td></tr>",
                            "<tr><td>játék (labdarúgás)</td><td>4817,333333333333</td></tr>",
                            "<tr><td>állattan</td><td>4783,666666666667</td></tr>",
                            "<tr><td>nyelvtan</td><td>4770,666666666667</td></tr>",
                            "<tr><td>fizika</td><td>4769</td></tr>",
                            "<tr><td>nyelvtanító</td><td>4759,476190476191</td></tr>",
                            "<tr><td>csillagászat</td><td>4733,571428571428</td></tr>",
                            "<tr><td>ismeretterjesztő</td><td>4726,673913043478</td></tr>",
                            "<tr><td>irodalom, nyelv</td><td>4704</td></tr>",
                            "<tr><td>gasztronómia</td><td>4691</td></tr>",
                            "<tr><td>történelem</td><td>4655,731707317073</td></tr>",
                            "<tr><td>szótár</td><td>4624,428571428572</td></tr>",
                            "<tr><td>sport</td><td>4607</td></tr>",
                            "<tr><td>földrajz</td><td>4580,0625</td></tr>",
                            "<tr><td>matematika</td><td>4520,777777777777</td></tr>",
                            "<tr><td>felvételi</td><td>4501,333333333333</td></tr>",
                            "</table>"
                        ]
                    }
                }
            ],
            "execution_count": 35
        },
        {
            "cell_type": "markdown",
            "source": [
                "24<span style=\"color: var(--vscode-foreground);\">.&nbsp;</span> <span style=\"color: rgb(36, 41, 47); font-family: -apple-system, BlinkMacSystemFont, &quot;Segoe UI&quot;, Helvetica, Arial, sans-serif, &quot;Apple Color Emoji&quot;, &quot;Segoe UI Emoji&quot;; font-size: 16px;\">Készítsünk listát, amely megjeleníti, hogy az Orak táblában lévő órák közül hányat tart Dr., illetve nem Dr. titulusú tanár!</span>\n",
                "\n",
                "1. Az oszlopokat nevezzük el értelemszerűen!"
            ],
            "metadata": {
                "azdata_cell_guid": "c285509d-3a3f-48c2-abe5-a4a57e7cae9d"
            },
            "attachments": {}
        },
        {
            "cell_type": "code",
            "source": [
                "\r\n",
                "SELECT iif(okt.titulus = 'Dr.', 'Doktor', 'Nem doktor'),\r\n",
                "        COUNT(o.ora_id)\r\n",
                "from orak o JOIN Oktatok okt ON o.tanar = okt.oktato_id\r\n",
                "GROUP BY iif(okt.titulus = 'Dr.', 'Doktor', 'Nem doktor')"
            ],
            "metadata": {
                "azdata_cell_guid": "9ba43d9b-c7a0-4f1c-ad5b-3bd78bcc13da",
                "language": "sql"
            },
            "outputs": [
                {
                    "output_type": "display_data",
                    "data": {
                        "text/html": "(2 rows affected)"
                    },
                    "metadata": {}
                },
                {
                    "output_type": "display_data",
                    "data": {
                        "text/html": "Total execution time: 00:00:00.550"
                    },
                    "metadata": {}
                },
                {
                    "output_type": "execute_result",
                    "metadata": {},
                    "execution_count": 38,
                    "data": {
                        "application/vnd.dataresource+json": {
                            "schema": {
                                "fields": [
                                    {
                                        "name": "(No column name)"
                                    },
                                    {
                                        "name": "(No column name)"
                                    }
                                ]
                            },
                            "data": [
                                {
                                    "(No column name)": "25"
                                },
                                {
                                    "(No column name)": "42"
                                }
                            ]
                        },
                        "text/html": [
                            "<table>",
                            "<tr><th>(No column name)</th><th>(No column name)</th></tr>",
                            "<tr><td>Doktor</td><td>25</td></tr>",
                            "<tr><td>Nem doktor</td><td>42</td></tr>",
                            "</table>"
                        ]
                    }
                }
            ],
            "execution_count": 38
        },
        {
            "cell_type": "markdown",
            "source": [
                "25. <span style=\"color: rgb(36, 41, 47); font-family: -apple-system, BlinkMacSystemFont, &quot;Segoe UI&quot;, Helvetica, Arial, sans-serif, &quot;Apple Color Emoji&quot;, &quot;Segoe UI Emoji&quot;; font-size: 16px;\">Készítsünk listát arról, hogy melyik teremben hány óra van!</span>\n",
                "\n",
                "1. Jelenítsük meg a termek azonosítóit és a teremben tartott órák számát!\n",
                "2. Az oszlopokat nevezzük el értelemszerűen!\n",
                "3. Szűrjünk azokra a termekre, ahol az órák száma legalább 3!"
            ],
            "metadata": {
                "azdata_cell_guid": "9fa33178-b3da-4f77-8ded-4fceafdef51d"
            },
            "attachments": {}
        },
        {
            "cell_type": "code",
            "source": [
                "SELECT t.Tkód,\r\n",
                "        COUNT(o.ora_id) as 'órák db'\r\n",
                "from Orak o JOIN Termek t on o.terem=t.Tkód\r\n",
                "GROUP BY t.Tkód\r\n",
                "HAVING COUNT(o.ora_id)>=3\r\n",
                "ORDER BY  COUNT(o.ora_id) DESC"
            ],
            "metadata": {
                "azdata_cell_guid": "1b77a967-80d4-4c62-9e01-000d29b5fda2",
                "language": "sql"
            },
            "outputs": [
                {
                    "output_type": "display_data",
                    "data": {
                        "text/html": "(11 rows affected)"
                    },
                    "metadata": {}
                },
                {
                    "output_type": "display_data",
                    "data": {
                        "text/html": "Total execution time: 00:00:00.024"
                    },
                    "metadata": {}
                },
                {
                    "output_type": "execute_result",
                    "metadata": {},
                    "execution_count": 45,
                    "data": {
                        "application/vnd.dataresource+json": {
                            "schema": {
                                "fields": [
                                    {
                                        "name": "Tkód"
                                    },
                                    {
                                        "name": "órák db"
                                    }
                                ]
                            },
                            "data": [
                                {
                                    "Tkód": "3",
                                    "órák db": "11"
                                },
                                {
                                    "Tkód": "4",
                                    "órák db": "8"
                                },
                                {
                                    "Tkód": "6",
                                    "órák db": "6"
                                },
                                {
                                    "Tkód": "7",
                                    "órák db": "6"
                                },
                                {
                                    "Tkód": "8",
                                    "órák db": "6"
                                },
                                {
                                    "Tkód": "5",
                                    "órák db": "5"
                                },
                                {
                                    "Tkód": "13",
                                    "órák db": "5"
                                },
                                {
                                    "Tkód": "2",
                                    "órák db": "5"
                                },
                                {
                                    "Tkód": "14",
                                    "órák db": "3"
                                },
                                {
                                    "Tkód": "10",
                                    "órák db": "3"
                                },
                                {
                                    "Tkód": "12",
                                    "órák db": "3"
                                }
                            ]
                        },
                        "text/html": [
                            "<table>",
                            "<tr><th>Tkód</th><th>órák db</th></tr>",
                            "<tr><td>3</td><td>11</td></tr>",
                            "<tr><td>4</td><td>8</td></tr>",
                            "<tr><td>6</td><td>6</td></tr>",
                            "<tr><td>7</td><td>6</td></tr>",
                            "<tr><td>8</td><td>6</td></tr>",
                            "<tr><td>5</td><td>5</td></tr>",
                            "<tr><td>13</td><td>5</td></tr>",
                            "<tr><td>2</td><td>5</td></tr>",
                            "<tr><td>14</td><td>3</td></tr>",
                            "<tr><td>10</td><td>3</td></tr>",
                            "<tr><td>12</td><td>3</td></tr>",
                            "</table>"
                        ]
                    }
                }
            ],
            "execution_count": 45
        },
        {
            "cell_type": "markdown",
            "source": [
                "26. <span style=\"font-weight: 600; color: rgb(36, 41, 47); font-family: -apple-system, BlinkMacSystemFont, &quot;Segoe UI&quot;, Helvetica, Arial, sans-serif, &quot;Apple Color Emoji&quot;, &quot;Segoe UI Emoji&quot;; font-size: 16px;\">Készítsünk lekérdezést, amely részletesen megjeleníti az egyes órák fontosabb adatait, azaz</span>\n",
                "\n",
                "1. Az órák azonosítóit, a tanár nevét, a tantárgy nevét, a terem nevét és a kezdési időpontot!\n",
                "2. Az oszlopokat nevezzük el értelemszerűen!"
            ],
            "metadata": {
                "azdata_cell_guid": "480a8f89-d4ae-40ec-be9f-923f29e69c5d"
            },
            "attachments": {}
        },
        {
            "cell_type": "code",
            "source": [
                "select o.ora_id,\r\n",
                "        okt.nev,\r\n",
                "        t.Tantárgynév,\r\n",
                "        tr.Terem,\r\n",
                "        s.Időpont\r\n",
                "from Orak o JOIN Oktatok okt on o.tanar=okt.oktato_id\r\n",
                "            JOIN Tantárgyak t on o.targy=t.Tkód\r\n",
                "            JOIN Termek tr on o.terem=tr.Tkód\r\n",
                "            JOIN Savok s on o.Sav=s.Sav_id"
            ],
            "metadata": {
                "azdata_cell_guid": "1458c213-8c5d-4dd0-aa97-fcb9ba99a571",
                "language": "sql"
            },
            "outputs": [
                {
                    "output_type": "display_data",
                    "data": {
                        "text/html": "(67 rows affected)"
                    },
                    "metadata": {}
                },
                {
                    "output_type": "display_data",
                    "data": {
                        "text/html": "Total execution time: 00:00:00.023"
                    },
                    "metadata": {}
                },
                {
                    "output_type": "execute_result",
                    "metadata": {},
                    "execution_count": 46,
                    "data": {
                        "application/vnd.dataresource+json": {
                            "schema": {
                                "fields": [
                                    {
                                        "name": "ora_id"
                                    },
                                    {
                                        "name": "nev"
                                    },
                                    {
                                        "name": "Tantárgynév"
                                    },
                                    {
                                        "name": "Terem"
                                    },
                                    {
                                        "name": "Időpont"
                                    }
                                ]
                            },
                            "data": [
                                {
                                    "ora_id": "159",
                                    "nev": "Ujfalussi István",
                                    "Tantárgynév": "Az ürgeöntés alapjai",
                                    "Terem": "117",
                                    "Időpont": "8.00"
                                },
                                {
                                    "ora_id": "160",
                                    "nev": "Pelikán József",
                                    "Tantárgynév": "Az ürgeöntés alapjai",
                                    "Terem": "118",
                                    "Időpont": "14.00"
                                },
                                {
                                    "ora_id": "161",
                                    "nev": "Pelikán József",
                                    "Tantárgynév": "Az ürgeöntés alapjai",
                                    "Terem": "118",
                                    "Időpont": "9.30"
                                },
                                {
                                    "ora_id": "162",
                                    "nev": "Kovács András",
                                    "Tantárgynév": "Az ürgeöntés alapjai",
                                    "Terem": "119",
                                    "Időpont": "12.30"
                                },
                                {
                                    "ora_id": "163",
                                    "nev": "Szerb László",
                                    "Tantárgynév": "Az ürgeöntés alapjai",
                                    "Terem": "120",
                                    "Időpont": "9.30"
                                },
                                {
                                    "ora_id": "164",
                                    "nev": "Kiss János",
                                    "Tantárgynév": "Az ürgeöntés alapjai",
                                    "Terem": "119",
                                    "Időpont": "11.00"
                                },
                                {
                                    "ora_id": "165",
                                    "nev": "Szerb László",
                                    "Tantárgynév": "Az ürgeöntés alapjai",
                                    "Terem": "119",
                                    "Időpont": "11.00"
                                },
                                {
                                    "ora_id": "166",
                                    "nev": "Szerb László",
                                    "Tantárgynév": "Az ürgeöntés alapjai",
                                    "Terem": "119",
                                    "Időpont": "12.30"
                                },
                                {
                                    "ora_id": "167",
                                    "nev": "Szentágotai Istvás",
                                    "Tantárgynév": "Az ürgeöntés alapjai",
                                    "Terem": "120",
                                    "Időpont": "12.30"
                                },
                                {
                                    "ora_id": "168",
                                    "nev": "Ujfalussi István",
                                    "Tantárgynév": "Az ürgeöntés alapjai",
                                    "Terem": "217",
                                    "Időpont": "11.00"
                                },
                                {
                                    "ora_id": "169",
                                    "nev": "Kovács András",
                                    "Tantárgynév": "Az ürgeöntés alapjai",
                                    "Terem": "218",
                                    "Időpont": "9.30"
                                },
                                {
                                    "ora_id": "170",
                                    "nev": "Ludas Mátyás",
                                    "Tantárgynév": "Az ürgeöntés alapjai",
                                    "Terem": "120",
                                    "Időpont": "9.30"
                                },
                                {
                                    "ora_id": "171",
                                    "nev": "Szénási ászló",
                                    "Tantárgynév": "Az ürgeöntés alapjai",
                                    "Terem": "220",
                                    "Időpont": "9.30"
                                },
                                {
                                    "ora_id": "172",
                                    "nev": "Kiss János",
                                    "Tantárgynév": "Az ürgeöntés alapjai",
                                    "Terem": "119",
                                    "Időpont": "9.30"
                                },
                                {
                                    "ora_id": "173",
                                    "nev": "Kovács András",
                                    "Tantárgynév": "Az ürgeöntés alapjai",
                                    "Terem": "119",
                                    "Időpont": "11.00"
                                },
                                {
                                    "ora_id": "174",
                                    "nev": "Ludas Mátyás",
                                    "Tantárgynév": "Az ürgeöntés alapjai",
                                    "Terem": "219",
                                    "Időpont": "11.00"
                                },
                                {
                                    "ora_id": "175",
                                    "nev": "Szénási ászló",
                                    "Tantárgynév": "Az ürgeöntés alapjai",
                                    "Terem": "120",
                                    "Időpont": "12.30"
                                },
                                {
                                    "ora_id": "176",
                                    "nev": "Kovács András",
                                    "Tantárgynév": "Az ürgeöntés alapjai",
                                    "Terem": "118",
                                    "Időpont": "12.30"
                                },
                                {
                                    "ora_id": "177",
                                    "nev": "Szentágotai Istvás",
                                    "Tantárgynév": "Az ürgeöntés alapjai",
                                    "Terem": "119",
                                    "Időpont": "14.00"
                                },
                                {
                                    "ora_id": "178",
                                    "nev": "Vitéz János",
                                    "Tantárgynév": "Az ürgeöntés alapjai",
                                    "Terem": "220",
                                    "Időpont": "14.00"
                                },
                                {
                                    "ora_id": "179",
                                    "nev": "Szentágotai Istvás",
                                    "Tantárgynév": "Az ürgeöntés alapjai",
                                    "Terem": "120",
                                    "Időpont": "15.30"
                                },
                                {
                                    "ora_id": "180",
                                    "nev": "Vitéz János",
                                    "Tantárgynév": "Az ürgeöntés alapjai",
                                    "Terem": "119",
                                    "Időpont": "15.30"
                                },
                                {
                                    "ora_id": "181",
                                    "nev": "Szentágotai Istvás",
                                    "Tantárgynév": "Az ürgeöntés alapjai",
                                    "Terem": "118",
                                    "Időpont": "8.00"
                                },
                                {
                                    "ora_id": "182",
                                    "nev": "Vitéz János",
                                    "Tantárgynév": "Az ürgeöntés alapjai",
                                    "Terem": "219",
                                    "Időpont": "8.00"
                                },
                                {
                                    "ora_id": "183",
                                    "nev": "Szentágotai Istvás",
                                    "Tantárgynév": "Az ürgeöntés alapjai",
                                    "Terem": "220",
                                    "Időpont": "9.30"
                                },
                                {
                                    "ora_id": "184",
                                    "nev": "Vitéz János",
                                    "Tantárgynév": "Az ürgeöntés alapjai",
                                    "Terem": "218",
                                    "Időpont": "9.30"
                                },
                                {
                                    "ora_id": "185",
                                    "nev": "Szentágotai Istvás",
                                    "Tantárgynév": "Az ürgeöntés alapjai",
                                    "Terem": "120",
                                    "Időpont": "11.00"
                                },
                                {
                                    "ora_id": "186",
                                    "nev": "Nógrádi Kata",
                                    "Tantárgynév": "ü-business",
                                    "Terem": "219",
                                    "Időpont": "12.30"
                                },
                                {
                                    "ora_id": "187",
                                    "nev": "Balkán András",
                                    "Tantárgynév": "Bevezetés az ürgeöntésbe",
                                    "Terem": "217",
                                    "Időpont": "9.30"
                                },
                                {
                                    "ora_id": "188",
                                    "nev": "Farkasos Piroska",
                                    "Tantárgynév": "Bevezetés az ürgeöntésbe",
                                    "Terem": "VP 203.",
                                    "Időpont": "15.30"
                                },
                                {
                                    "ora_id": "189",
                                    "nev": "Farkasos Piroska",
                                    "Tantárgynév": "Bevezetés az ürgeöntésbe",
                                    "Terem": "VP 203.",
                                    "Időpont": "9.30"
                                },
                                {
                                    "ora_id": "190",
                                    "nev": "Farkasos Piroska",
                                    "Tantárgynév": "Bevezetés az ürgeöntésbe",
                                    "Terem": "E.2.238",
                                    "Időpont": "11.00"
                                },
                                {
                                    "ora_id": "191",
                                    "nev": "Varga Kata",
                                    "Tantárgynév": "Az ürgeöntés hydrológiai alapjai II.",
                                    "Terem": "220",
                                    "Időpont": "14.00"
                                },
                                {
                                    "ora_id": "192",
                                    "nev": "Varga Kata",
                                    "Tantárgynév": "Az ürgeöntés hydrológiai alapjai II.",
                                    "Terem": "119",
                                    "Időpont": "15.30"
                                },
                                {
                                    "ora_id": "193",
                                    "nev": "Farkasos Piroska",
                                    "Tantárgynév": "Az ürgeöntés hydrológiai alapjai II.",
                                    "Terem": "217",
                                    "Időpont": "14.00"
                                },
                                {
                                    "ora_id": "194",
                                    "nev": "Farkasos Piroska",
                                    "Tantárgynév": "Az ürgeöntés hydrológiai alapjai II.",
                                    "Terem": "E.fsz.I",
                                    "Időpont": "15.30"
                                },
                                {
                                    "ora_id": "195",
                                    "nev": "Balkán András",
                                    "Tantárgynév": "Az ürgeöntés hydrológiai alapjai II.",
                                    "Terem": "116",
                                    "Időpont": "14.00"
                                },
                                {
                                    "ora_id": "196",
                                    "nev": "Balkán András",
                                    "Tantárgynév": "Az ürgeöntés hydrológiai alapjai II.",
                                    "Terem": "218",
                                    "Időpont": "15.30"
                                },
                                {
                                    "ora_id": "197",
                                    "nev": "Farkasos Piroska",
                                    "Tantárgynév": "Az ürgeöntés hydrológiai alapjai II.",
                                    "Terem": "116",
                                    "Időpont": "8.00"
                                },
                                {
                                    "ora_id": "198",
                                    "nev": "Farkasos Piroska",
                                    "Tantárgynév": "Az ürgeöntés hydrológiai alapjai II.",
                                    "Terem": "119",
                                    "Időpont": "9.30"
                                },
                                {
                                    "ora_id": "199",
                                    "nev": "Szabó Andrera",
                                    "Tantárgynév": "Az ürgeöntés hydrológiai alapjai II.",
                                    "Terem": "218",
                                    "Időpont": "8.00"
                                },
                                {
                                    "ora_id": "200",
                                    "nev": "Szabó Andrera",
                                    "Tantárgynév": "Az ürgeöntés hydrológiai alapjai II.",
                                    "Terem": "220",
                                    "Időpont": "9.30"
                                },
                                {
                                    "ora_id": "201",
                                    "nev": "Juhász András",
                                    "Tantárgynév": "Öntési gyakorlat",
                                    "Terem": "E.2.238",
                                    "Időpont": "12.30"
                                },
                                {
                                    "ora_id": "202",
                                    "nev": "Juhász András",
                                    "Tantárgynév": "Öntési gyakorlat",
                                    "Terem": "E.3.332",
                                    "Időpont": "14.00"
                                },
                                {
                                    "ora_id": "203",
                                    "nev": "Aranyi Mária",
                                    "Tantárgynév": "Az ürgeöntés hydrológiai alapjai I.",
                                    "Terem": "S.Asor.S3",
                                    "Időpont": "12.30"
                                },
                                {
                                    "ora_id": "204",
                                    "nev": "Róbert Gida",
                                    "Tantárgynév": "Az ürgeöntés hydrológiai alapjai I.",
                                    "Terem": "120",
                                    "Időpont": "14.00"
                                },
                                {
                                    "ora_id": "205",
                                    "nev": "Ujfalussi István",
                                    "Tantárgynév": "Az öntés elmélete",
                                    "Terem": "220",
                                    "Időpont": "12.30"
                                },
                                {
                                    "ora_id": "206",
                                    "nev": "Varga Kata",
                                    "Tantárgynév": "Az öntés elmélete",
                                    "Terem": "S.Asor.S3",
                                    "Időpont": "8.00"
                                },
                                {
                                    "ora_id": "207",
                                    "nev": "Varga Kata",
                                    "Tantárgynév": "Az öntés elmélete",
                                    "Terem": "219",
                                    "Időpont": "12.30"
                                },
                                {
                                    "ora_id": "208",
                                    "nev": "Jogrerős Pál",
                                    "Tantárgynév": "Ürgevitel",
                                    "Terem": "VP 203.",
                                    "Időpont": "8.00"
                                },
                                {
                                    "ora_id": "209",
                                    "nev": "Jogrerős Pál",
                                    "Tantárgynév": "Ürgevitel",
                                    "Terem": "VP 203.",
                                    "Időpont": "9.30"
                                },
                                {
                                    "ora_id": "210",
                                    "nev": "Szép llonka",
                                    "Tantárgynév": "Ürgeöntés az EU-ban",
                                    "Terem": "E.2.238",
                                    "Időpont": "15.30"
                                },
                                {
                                    "ora_id": "211",
                                    "nev": "Szép llonka",
                                    "Tantárgynév": "Ürgeöntés az EU-ban",
                                    "Terem": "217",
                                    "Időpont": "17.00"
                                },
                                {
                                    "ora_id": "212",
                                    "nev": "Kiss János",
                                    "Tantárgynév": "Ürgeöntés az EU-ban",
                                    "Terem": "120",
                                    "Időpont": "18.30"
                                },
                                {
                                    "ora_id": "213",
                                    "nev": "Kiss János",
                                    "Tantárgynév": "Ürgeöntés az EU-ban",
                                    "Terem": "218",
                                    "Időpont": "20.00"
                                },
                                {
                                    "ora_id": "214",
                                    "nev": "Pelikán József",
                                    "Tantárgynév": "Az ürge anatómiája",
                                    "Terem": "219",
                                    "Időpont": "11.00"
                                },
                                {
                                    "ora_id": "215",
                                    "nev": "Pelikán József",
                                    "Tantárgynév": "Az ürge anatómiája",
                                    "Terem": "E.fsz.IV.",
                                    "Időpont": "12.30"
                                },
                                {
                                    "ora_id": "216",
                                    "nev": "Szép llonka",
                                    "Tantárgynév": "Az ürge anatómiája",
                                    "Terem": "218",
                                    "Időpont": "11.00"
                                },
                                {
                                    "ora_id": "217",
                                    "nev": "Szép llonka",
                                    "Tantárgynév": "Az ürge anatómiája",
                                    "Terem": "217",
                                    "Időpont": "12.30"
                                },
                                {
                                    "ora_id": "218",
                                    "nev": "Pelikán József",
                                    "Tantárgynév": "Az ürge anatómiája",
                                    "Terem": "118",
                                    "Időpont": "15.30"
                                },
                                {
                                    "ora_id": "219",
                                    "nev": "Pelikán József",
                                    "Tantárgynév": "Az ürge anatómiája",
                                    "Terem": "219",
                                    "Időpont": "17.00"
                                },
                                {
                                    "ora_id": "220",
                                    "nev": "Kovács László",
                                    "Tantárgynév": "Fejezetek az ürgék jogaiból",
                                    "Terem": "119",
                                    "Időpont": "11.00"
                                },
                                {
                                    "ora_id": "221",
                                    "nev": "Kovács László",
                                    "Tantárgynév": "Fejezetek az ürgék jogaiból",
                                    "Terem": "VP 203.",
                                    "Időpont": "11.00"
                                },
                                {
                                    "ora_id": "222",
                                    "nev": "Kovács László",
                                    "Tantárgynév": "Fejezetek az ürgék jogaiból",
                                    "Terem": "116",
                                    "Időpont": "14.00"
                                },
                                {
                                    "ora_id": "223",
                                    "nev": "Kovács László",
                                    "Tantárgynév": "Fejezetek az ürgék jogaiból",
                                    "Terem": "S.Asor.S3",
                                    "Időpont": "8.00"
                                },
                                {
                                    "ora_id": "226",
                                    "nev": "Szentágotai Istvás",
                                    "Tantárgynév": "ürgefőzés",
                                    "Terem": "117",
                                    "Időpont": "11.00"
                                },
                                {
                                    "ora_id": "227",
                                    "nev": "Szentágotai Istvás",
                                    "Tantárgynév": "Az ürgeöntés hydrológiai alapjai I.",
                                    "Terem": "116",
                                    "Időpont": "14.00"
                                }
                            ]
                        },
                        "text/html": [
                            "<table>",
                            "<tr><th>ora_id</th><th>nev</th><th>Tantárgynév</th><th>Terem</th><th>Időpont</th></tr>",
                            "<tr><td>159</td><td>Ujfalussi István</td><td>Az ürgeöntés alapjai</td><td>117</td><td>8.00</td></tr>",
                            "<tr><td>160</td><td>Pelikán József</td><td>Az ürgeöntés alapjai</td><td>118</td><td>14.00</td></tr>",
                            "<tr><td>161</td><td>Pelikán József</td><td>Az ürgeöntés alapjai</td><td>118</td><td>9.30</td></tr>",
                            "<tr><td>162</td><td>Kovács András</td><td>Az ürgeöntés alapjai</td><td>119</td><td>12.30</td></tr>",
                            "<tr><td>163</td><td>Szerb László</td><td>Az ürgeöntés alapjai</td><td>120</td><td>9.30</td></tr>",
                            "<tr><td>164</td><td>Kiss János</td><td>Az ürgeöntés alapjai</td><td>119</td><td>11.00</td></tr>",
                            "<tr><td>165</td><td>Szerb László</td><td>Az ürgeöntés alapjai</td><td>119</td><td>11.00</td></tr>",
                            "<tr><td>166</td><td>Szerb László</td><td>Az ürgeöntés alapjai</td><td>119</td><td>12.30</td></tr>",
                            "<tr><td>167</td><td>Szentágotai Istvás</td><td>Az ürgeöntés alapjai</td><td>120</td><td>12.30</td></tr>",
                            "<tr><td>168</td><td>Ujfalussi István</td><td>Az ürgeöntés alapjai</td><td>217</td><td>11.00</td></tr>",
                            "<tr><td>169</td><td>Kovács András</td><td>Az ürgeöntés alapjai</td><td>218</td><td>9.30</td></tr>",
                            "<tr><td>170</td><td>Ludas Mátyás</td><td>Az ürgeöntés alapjai</td><td>120</td><td>9.30</td></tr>",
                            "<tr><td>171</td><td>Szénási ászló</td><td>Az ürgeöntés alapjai</td><td>220</td><td>9.30</td></tr>",
                            "<tr><td>172</td><td>Kiss János</td><td>Az ürgeöntés alapjai</td><td>119</td><td>9.30</td></tr>",
                            "<tr><td>173</td><td>Kovács András</td><td>Az ürgeöntés alapjai</td><td>119</td><td>11.00</td></tr>",
                            "<tr><td>174</td><td>Ludas Mátyás</td><td>Az ürgeöntés alapjai</td><td>219</td><td>11.00</td></tr>",
                            "<tr><td>175</td><td>Szénási ászló</td><td>Az ürgeöntés alapjai</td><td>120</td><td>12.30</td></tr>",
                            "<tr><td>176</td><td>Kovács András</td><td>Az ürgeöntés alapjai</td><td>118</td><td>12.30</td></tr>",
                            "<tr><td>177</td><td>Szentágotai Istvás</td><td>Az ürgeöntés alapjai</td><td>119</td><td>14.00</td></tr>",
                            "<tr><td>178</td><td>Vitéz János</td><td>Az ürgeöntés alapjai</td><td>220</td><td>14.00</td></tr>",
                            "<tr><td>179</td><td>Szentágotai Istvás</td><td>Az ürgeöntés alapjai</td><td>120</td><td>15.30</td></tr>",
                            "<tr><td>180</td><td>Vitéz János</td><td>Az ürgeöntés alapjai</td><td>119</td><td>15.30</td></tr>",
                            "<tr><td>181</td><td>Szentágotai Istvás</td><td>Az ürgeöntés alapjai</td><td>118</td><td>8.00</td></tr>",
                            "<tr><td>182</td><td>Vitéz János</td><td>Az ürgeöntés alapjai</td><td>219</td><td>8.00</td></tr>",
                            "<tr><td>183</td><td>Szentágotai Istvás</td><td>Az ürgeöntés alapjai</td><td>220</td><td>9.30</td></tr>",
                            "<tr><td>184</td><td>Vitéz János</td><td>Az ürgeöntés alapjai</td><td>218</td><td>9.30</td></tr>",
                            "<tr><td>185</td><td>Szentágotai Istvás</td><td>Az ürgeöntés alapjai</td><td>120</td><td>11.00</td></tr>",
                            "<tr><td>186</td><td>Nógrádi Kata</td><td>ü-business</td><td>219</td><td>12.30</td></tr>",
                            "<tr><td>187</td><td>Balkán András</td><td>Bevezetés az ürgeöntésbe</td><td>217</td><td>9.30</td></tr>",
                            "<tr><td>188</td><td>Farkasos Piroska</td><td>Bevezetés az ürgeöntésbe</td><td>VP 203.</td><td>15.30</td></tr>",
                            "<tr><td>189</td><td>Farkasos Piroska</td><td>Bevezetés az ürgeöntésbe</td><td>VP 203.</td><td>9.30</td></tr>",
                            "<tr><td>190</td><td>Farkasos Piroska</td><td>Bevezetés az ürgeöntésbe</td><td>E.2.238</td><td>11.00</td></tr>",
                            "<tr><td>191</td><td>Varga Kata</td><td>Az ürgeöntés hydrológiai alapjai II.</td><td>220</td><td>14.00</td></tr>",
                            "<tr><td>192</td><td>Varga Kata</td><td>Az ürgeöntés hydrológiai alapjai II.</td><td>119</td><td>15.30</td></tr>",
                            "<tr><td>193</td><td>Farkasos Piroska</td><td>Az ürgeöntés hydrológiai alapjai II.</td><td>217</td><td>14.00</td></tr>",
                            "<tr><td>194</td><td>Farkasos Piroska</td><td>Az ürgeöntés hydrológiai alapjai II.</td><td>E.fsz.I</td><td>15.30</td></tr>",
                            "<tr><td>195</td><td>Balkán András</td><td>Az ürgeöntés hydrológiai alapjai II.</td><td>116</td><td>14.00</td></tr>",
                            "<tr><td>196</td><td>Balkán András</td><td>Az ürgeöntés hydrológiai alapjai II.</td><td>218</td><td>15.30</td></tr>",
                            "<tr><td>197</td><td>Farkasos Piroska</td><td>Az ürgeöntés hydrológiai alapjai II.</td><td>116</td><td>8.00</td></tr>",
                            "<tr><td>198</td><td>Farkasos Piroska</td><td>Az ürgeöntés hydrológiai alapjai II.</td><td>119</td><td>9.30</td></tr>",
                            "<tr><td>199</td><td>Szabó Andrera</td><td>Az ürgeöntés hydrológiai alapjai II.</td><td>218</td><td>8.00</td></tr>",
                            "<tr><td>200</td><td>Szabó Andrera</td><td>Az ürgeöntés hydrológiai alapjai II.</td><td>220</td><td>9.30</td></tr>",
                            "<tr><td>201</td><td>Juhász András</td><td>Öntési gyakorlat</td><td>E.2.238</td><td>12.30</td></tr>",
                            "<tr><td>202</td><td>Juhász András</td><td>Öntési gyakorlat</td><td>E.3.332</td><td>14.00</td></tr>",
                            "<tr><td>203</td><td>Aranyi Mária</td><td>Az ürgeöntés hydrológiai alapjai I.</td><td>S.Asor.S3</td><td>12.30</td></tr>",
                            "<tr><td>204</td><td>Róbert Gida</td><td>Az ürgeöntés hydrológiai alapjai I.</td><td>120</td><td>14.00</td></tr>",
                            "<tr><td>205</td><td>Ujfalussi István</td><td>Az öntés elmélete</td><td>220</td><td>12.30</td></tr>",
                            "<tr><td>206</td><td>Varga Kata</td><td>Az öntés elmélete</td><td>S.Asor.S3</td><td>8.00</td></tr>",
                            "<tr><td>207</td><td>Varga Kata</td><td>Az öntés elmélete</td><td>219</td><td>12.30</td></tr>",
                            "<tr><td>208</td><td>Jogrerős Pál</td><td>Ürgevitel</td><td>VP 203.</td><td>8.00</td></tr>",
                            "<tr><td>209</td><td>Jogrerős Pál</td><td>Ürgevitel</td><td>VP 203.</td><td>9.30</td></tr>",
                            "<tr><td>210</td><td>Szép llonka</td><td>Ürgeöntés az EU-ban</td><td>E.2.238</td><td>15.30</td></tr>",
                            "<tr><td>211</td><td>Szép llonka</td><td>Ürgeöntés az EU-ban</td><td>217</td><td>17.00</td></tr>",
                            "<tr><td>212</td><td>Kiss János</td><td>Ürgeöntés az EU-ban</td><td>120</td><td>18.30</td></tr>",
                            "<tr><td>213</td><td>Kiss János</td><td>Ürgeöntés az EU-ban</td><td>218</td><td>20.00</td></tr>",
                            "<tr><td>214</td><td>Pelikán József</td><td>Az ürge anatómiája</td><td>219</td><td>11.00</td></tr>",
                            "<tr><td>215</td><td>Pelikán József</td><td>Az ürge anatómiája</td><td>E.fsz.IV.</td><td>12.30</td></tr>",
                            "<tr><td>216</td><td>Szép llonka</td><td>Az ürge anatómiája</td><td>218</td><td>11.00</td></tr>",
                            "<tr><td>217</td><td>Szép llonka</td><td>Az ürge anatómiája</td><td>217</td><td>12.30</td></tr>",
                            "<tr><td>218</td><td>Pelikán József</td><td>Az ürge anatómiája</td><td>118</td><td>15.30</td></tr>",
                            "<tr><td>219</td><td>Pelikán József</td><td>Az ürge anatómiája</td><td>219</td><td>17.00</td></tr>",
                            "<tr><td>220</td><td>Kovács László</td><td>Fejezetek az ürgék jogaiból</td><td>119</td><td>11.00</td></tr>",
                            "<tr><td>221</td><td>Kovács László</td><td>Fejezetek az ürgék jogaiból</td><td>VP 203.</td><td>11.00</td></tr>",
                            "<tr><td>222</td><td>Kovács László</td><td>Fejezetek az ürgék jogaiból</td><td>116</td><td>14.00</td></tr>",
                            "<tr><td>223</td><td>Kovács László</td><td>Fejezetek az ürgék jogaiból</td><td>S.Asor.S3</td><td>8.00</td></tr>",
                            "<tr><td>226</td><td>Szentágotai Istvás</td><td>ürgefőzés</td><td>117</td><td>11.00</td></tr>",
                            "<tr><td>227</td><td>Szentágotai Istvás</td><td>Az ürgeöntés hydrológiai alapjai I.</td><td>116</td><td>14.00</td></tr>",
                            "</table>"
                        ]
                    }
                }
            ],
            "execution_count": 46
        },
        {
            "cell_type": "markdown",
            "source": [
                "27."
            ],
            "metadata": {
                "azdata_cell_guid": "77fdc8ef-245c-4144-ae58-fdffddab5703"
            },
            "attachments": {}
        },
        {
            "cell_type": "code",
            "source": [
                ""
            ],
            "metadata": {
                "azdata_cell_guid": "f6ab35a9-f3d9-432f-bc9a-75988df23b9c",
                "language": "sql"
            },
            "outputs": [],
            "execution_count": null
        },
        {
            "cell_type": "markdown",
            "source": [
                "28."
            ],
            "metadata": {
                "azdata_cell_guid": "af29f844-8ddb-4952-9c69-0d78ff7adbf2"
            },
            "attachments": {}
        },
        {
            "cell_type": "code",
            "source": [
                ""
            ],
            "metadata": {
                "azdata_cell_guid": "7f8717e7-ffb4-4423-9b62-fe62b16359e1",
                "language": "sql"
            },
            "outputs": [],
            "execution_count": null
        },
        {
            "cell_type": "markdown",
            "source": [
                "29."
            ],
            "metadata": {
                "azdata_cell_guid": "40e97d21-7cdd-49ba-adde-7a7c2bd7d0f9"
            },
            "attachments": {}
        },
        {
            "cell_type": "code",
            "source": [
                ""
            ],
            "metadata": {
                "azdata_cell_guid": "efd3e33a-4985-435f-8e03-9082ac71b7bb",
                "language": "sql"
            },
            "outputs": [],
            "execution_count": null
        },
        {
            "cell_type": "markdown",
            "source": [
                "30."
            ],
            "metadata": {
                "azdata_cell_guid": "97714a41-1537-4ab2-ae70-36bcba629e81"
            },
            "attachments": {}
        },
        {
            "cell_type": "code",
            "source": [
                ""
            ],
            "metadata": {
                "azdata_cell_guid": "dd182ead-a5e8-46a2-a02e-5ea586e8e648",
                "language": "sql"
            },
            "outputs": [],
            "execution_count": null
        }
    ]
}